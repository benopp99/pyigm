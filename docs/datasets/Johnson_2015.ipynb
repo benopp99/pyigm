{
 "cells": [
  {
   "cell_type": "markdown",
   "metadata": {},
   "source": [
    "# Ingesting Johnson et al. 2015, MNRAS, 449, 3263"
   ]
  },
  {
   "cell_type": "code",
   "execution_count": 1,
   "metadata": {
    "collapsed": true
   },
   "outputs": [],
   "source": [
    "# imports\n",
    "import numpy as np\n",
    "\n",
    "from pkg_resources import resource_filename\n",
    "\n",
    "from astropy.table import Table\n",
    "\n",
    "from pyigm.cgm.cgmsurvey import CGMAbsSurvey"
   ]
  },
  {
   "cell_type": "markdown",
   "metadata": {},
   "source": [
    "## Load Table\n",
    "    http://vizier.cfa.harvard.edu/viz-bin/VizieR?-source=J/MNRAS/449/3263"
   ]
  },
  {
   "cell_type": "code",
   "execution_count": 2,
   "metadata": {
    "collapsed": true
   },
   "outputs": [],
   "source": [
    "j15_file = resource_filename('pyigm', '/data/CGM/z0/johnson2015_table1.fits')"
   ]
  },
  {
   "cell_type": "code",
   "execution_count": 3,
   "metadata": {
    "collapsed": false
   },
   "outputs": [
    {
     "data": {
      "text/html": [
       "&lt;Table length=3&gt;\n",
       "<table id=\"table140259675778016\" class=\"table-striped table-bordered table-condensed\">\n",
       "<thead><tr><th>Name</th><th>RAJ2000</th><th>DEJ2000</th><th>zgal</th><th>logM_</th><th>Class</th><th>Env</th><th>Survey</th><th>d</th><th>d_Rh</th><th>l_logNHI</th><th>logNHI</th><th>e_logNHI</th><th>logNHIu</th><th>l_logNHOVI</th><th>logNHOVI</th><th>e_logNHOVI</th></tr></thead>\n",
       "<thead><tr><th></th><th>deg</th><th>deg</th><th></th><th>[Msun]</th><th></th><th></th><th></th><th>kpc</th><th></th><th></th><th>[cm-2]</th><th>[cm-2]</th><th>[cm-2]</th><th></th><th>[cm-2]</th><th>[cm-2]</th></tr></thead>\n",
       "<thead><tr><th>str14</th><th>float64</th><th>float64</th><th>float32</th><th>float32</th><th>str5</th><th>str2</th><th>str9</th><th>int16</th><th>float32</th><th>str1</th><th>float32</th><th>float32</th><th>float32</th><th>str1</th><th>float32</th><th>float32</th></tr></thead>\n",
       "<tr><td>J0042-1037</td><td>10.5927916667</td><td>-10.6264444444</td><td>0.095</td><td>9.5</td><td>Late</td><td>I</td><td>COS-Halos</td><td>15</td><td>0.1</td><td></td><td>14.8</td><td>nan</td><td>18.5</td><td></td><td>14.7</td><td>0.22</td></tr>\n",
       "<tr><td>J0226+0015</td><td>36.5540833333</td><td>0.258083333333</td><td>0.2274</td><td>10.4</td><td>Early</td><td>I</td><td>COS-Halos</td><td>81</td><td>0.4</td><td></td><td>14.36</td><td>0.06</td><td>nan</td><td>&lt;</td><td>13.12</td><td>nan</td></tr>\n",
       "<tr><td>HE0226-4110</td><td>36.9427916667</td><td>-40.8875277778</td><td>0.112</td><td>10.4</td><td>Early</td><td>I</td><td>IMACS</td><td>826</td><td>4.1</td><td>&lt;</td><td>12.88</td><td>nan</td><td>nan</td><td>&lt;</td><td>12.9</td><td>nan</td></tr>\n",
       "</table>"
      ],
      "text/plain": [
       "<Table length=3>\n",
       "    Name       RAJ2000       DEJ2000     ... l_logNHOVI logNHOVI e_logNHOVI\n",
       "                 deg           deg       ...             [cm-2]    [cm-2]  \n",
       "   str14       float64       float64     ...    str1    float32   float32  \n",
       "----------- ------------- -------------- ... ---------- -------- ----------\n",
       " J0042-1037 10.5927916667 -10.6264444444 ...                14.7       0.22\n",
       " J0226+0015 36.5540833333 0.258083333333 ...          <    13.12        nan\n",
       "HE0226-4110 36.9427916667 -40.8875277778 ...          <     12.9        nan"
      ]
     },
     "execution_count": 3,
     "metadata": {},
     "output_type": "execute_result"
    }
   ],
   "source": [
    "j15 = Table.read(j15_file)\n",
    "j15[0:3]"
   ]
  },
  {
   "cell_type": "code",
   "execution_count": 4,
   "metadata": {
    "collapsed": false
   },
   "outputs": [
    {
     "data": {
      "text/plain": [
       "148"
      ]
     },
     "execution_count": 4,
     "metadata": {},
     "output_type": "execute_result"
    }
   ],
   "source": [
    "len(j15)"
   ]
  },
  {
   "cell_type": "markdown",
   "metadata": {},
   "source": [
    "## Quasar data\n",
    "    https://archive.stsci.edu/prepds/igm/"
   ]
  },
  {
   "cell_type": "code",
   "execution_count": 5,
   "metadata": {
    "collapsed": false
   },
   "outputs": [
    {
     "data": {
      "text/html": [
       "&lt;Column name=&apos;Survey&apos; dtype=&apos;str9&apos; length=3&gt;\n",
       "<table>\n",
       "<tr><td>COS-Halos</td></tr>\n",
       "<tr><td>IMACS</td></tr>\n",
       "<tr><td>SDSS</td></tr>\n",
       "</table>"
      ],
      "text/plain": [
       "<Column name='Survey' dtype='str9' length=3>\n",
       "COS-Halos\n",
       "    IMACS\n",
       "     SDSS"
      ]
     },
     "execution_count": 5,
     "metadata": {},
     "output_type": "execute_result"
    }
   ],
   "source": [
    "np.unique(j15['Survey'])"
   ]
  },
  {
   "cell_type": "code",
   "execution_count": 6,
   "metadata": {
    "collapsed": false
   },
   "outputs": [
    {
     "data": {
      "text/plain": [
       "106"
      ]
     },
     "execution_count": 6,
     "metadata": {},
     "output_type": "execute_result"
    }
   ],
   "source": [
    "keep = j15['Survey'] != 'COS-Halos'\n",
    "np.sum(keep)"
   ]
  },
  {
   "cell_type": "code",
   "execution_count": 7,
   "metadata": {
    "collapsed": false
   },
   "outputs": [
    {
     "data": {
      "text/html": [
       "&lt;Column name=&apos;Name&apos; dtype=&apos;str14&apos; length=11&gt;\n",
       "<table>\n",
       "<tr><td>1ES1028+511</td></tr>\n",
       "<tr><td>FBQS1010+3003</td></tr>\n",
       "<tr><td>HE0226-4110</td></tr>\n",
       "<tr><td>HS1102+3441</td></tr>\n",
       "<tr><td>LBQS1435-0134</td></tr>\n",
       "<tr><td>PG0832+251</td></tr>\n",
       "<tr><td>PG1522+101</td></tr>\n",
       "<tr><td>PKS0405-123</td></tr>\n",
       "<tr><td>SBS1108+560</td></tr>\n",
       "<tr><td>SBS1122+594</td></tr>\n",
       "<tr><td>Ton236</td></tr>\n",
       "</table>"
      ],
      "text/plain": [
       "<Column name='Name' dtype='str14' length=11>\n",
       "  1ES1028+511\n",
       "FBQS1010+3003\n",
       "  HE0226-4110\n",
       "  HS1102+3441\n",
       "LBQS1435-0134\n",
       "   PG0832+251\n",
       "   PG1522+101\n",
       "  PKS0405-123\n",
       "  SBS1108+560\n",
       "  SBS1122+594\n",
       "       Ton236"
      ]
     },
     "execution_count": 7,
     "metadata": {},
     "output_type": "execute_result"
    }
   ],
   "source": [
    "np.unique(j15['Name'][keep])"
   ]
  },
  {
   "cell_type": "markdown",
   "metadata": {
    "collapsed": true
   },
   "source": [
    "## Ingesting.."
   ]
  },
  {
   "cell_type": "code",
   "execution_count": 8,
   "metadata": {
    "collapsed": false
   },
   "outputs": [
    {
     "data": {
      "text/html": [
       "&lt;Column name=&apos;l_logNHI&apos; dtype=&apos;str1&apos; length=2&gt;\n",
       "<table>\n",
       "<tr><td></td></tr>\n",
       "<tr><td>&lt;</td></tr>\n",
       "</table>"
      ],
      "text/plain": [
       "<Column name='l_logNHI' dtype='str1' length=2>\n",
       " \n",
       "<"
      ]
     },
     "execution_count": 8,
     "metadata": {},
     "output_type": "execute_result"
    }
   ],
   "source": [
    "np.unique(j15['l_logNHI'])"
   ]
  },
  {
   "cell_type": "code",
   "execution_count": 9,
   "metadata": {
    "collapsed": false
   },
   "outputs": [
    {
     "data": {
      "text/plain": [
       "array([False, False, False, False, False, False, False, False, False,\n",
       "       False, False, False, False, False, False, False, False, False,\n",
       "       False, False, False,  True, False, False, False, False, False,\n",
       "       False, False, False, False, False, False, False, False, False,\n",
       "       False, False, False, False, False, False, False, False, False,\n",
       "       False, False, False, False, False, False, False, False, False,\n",
       "       False, False, False, False, False, False, False, False, False,\n",
       "       False, False, False, False, False, False, False, False, False,\n",
       "       False, False, False, False, False, False, False, False, False,\n",
       "       False, False, False, False, False, False, False, False, False,\n",
       "       False, False, False, False, False, False, False, False, False,\n",
       "       False, False, False, False, False, False, False, False, False,\n",
       "       False, False, False,  True, False, False, False, False, False,\n",
       "       False, False, False, False, False, False, False, False, False,\n",
       "       False, False, False, False, False, False, False, False, False,\n",
       "       False, False, False, False, False, False, False, False, False,\n",
       "       False, False, False, False], dtype=bool)"
      ]
     },
     "execution_count": 9,
     "metadata": {},
     "output_type": "execute_result"
    }
   ],
   "source": [
    "np.isnan(j15['logNHI'])"
   ]
  },
  {
   "cell_type": "code",
   "execution_count": 10,
   "metadata": {
    "collapsed": false
   },
   "outputs": [
    {
     "data": {
      "text/plain": [
       "array([False, False, False, False, False, False, False, False, False,\n",
       "       False,  True, False, False, False, False, False, False,  True,\n",
       "       False, False, False, False, False, False,  True, False, False,\n",
       "       False, False, False, False, False, False, False, False,  True,\n",
       "       False, False,  True,  True, False,  True, False, False, False,\n",
       "       False, False, False, False, False, False, False, False, False,\n",
       "       False, False,  True, False, False, False, False, False, False,\n",
       "       False, False, False, False, False,  True, False, False, False,\n",
       "       False, False, False, False, False, False, False, False, False,\n",
       "       False, False, False, False, False, False, False, False, False,\n",
       "       False, False, False, False, False, False, False, False, False,\n",
       "       False, False,  True, False, False, False, False, False, False,\n",
       "        True, False, False, False, False, False, False, False, False,\n",
       "        True, False, False, False,  True,  True, False, False, False,\n",
       "       False, False, False, False,  True,  True, False, False, False,\n",
       "       False,  True,  True, False, False, False, False, False, False,\n",
       "       False, False, False,  True], dtype=bool)"
      ]
     },
     "execution_count": 10,
     "metadata": {},
     "output_type": "execute_result"
    }
   ],
   "source": [
    "np.isnan(j15['logNHOVI'])"
   ]
  },
  {
   "cell_type": "markdown",
   "metadata": {},
   "source": [
    "## Testing"
   ]
  },
  {
   "cell_type": "code",
   "execution_count": 11,
   "metadata": {
    "collapsed": false
   },
   "outputs": [
    {
     "name": "stdout",
     "output_type": "stream",
     "text": [
      "read_sets: Using set file -- \n",
      "  /home/xavier/local/Python/linetools/linetools/lists/sets/llist_v1.2.ascii\n"
     ]
    },
    {
     "name": "stderr",
     "output_type": "stream",
     "text": [
      "/home/xavier/local/Python/linetools/linetools/lists/linelist.py:402: RuntimeWarning: divide by zero encountered in log10\n",
      "  self._extra_table['log(w*f)'] = np.log10(qm_strength)\n"
     ]
    },
    {
     "name": "stdout",
     "output_type": "stream",
     "text": [
      "Loading abundances from Asplund2009\n",
      "Abundances are relative by number on a logarithmic scale with H=12\n",
      "Skipping a likely folder: CGM_JSON\n"
     ]
    }
   ],
   "source": [
    "j15 = CGMAbsSurvey.load_J15()"
   ]
  },
  {
   "cell_type": "code",
   "execution_count": 12,
   "metadata": {
    "collapsed": false
   },
   "outputs": [
    {
     "data": {
      "text/plain": [
       "<CGM_Survey:  nsys=106, ref=>\n",
       "<IGMSystem: IGMSystem 02:28:15.2523 -40:57:14.6247, zabs=0.1645, Z/H=0, NHI=14.36>\n",
       "<IGMSystem: IGMSystem 02:28:15.2523 -40:57:14.6247, zabs=0.2678, Z/H=0, NHI=12.97>\n",
       "<IGMSystem: IGMSystem 14:37:48.2855 -01:47:10.7752, zabs=0.1202, Z/H=0, NHI=12.83>\n",
       "<IGMSystem: IGMSystem 15:24:24.5551 09:58:29.7837, zabs=0.1319, Z/H=0, NHI=13.65>\n",
       "<IGMSystem: IGMSystem 14:37:48.2855 -01:47:10.7752, zabs=0.2975, Z/H=0, NHI=12.36>\n",
       "<IGMSystem: IGMSystem 04:07:48.4389 -12:11:36.6753, zabs=0.2978, Z/H=0, NHI=14>\n",
       "<IGMSystem: IGMSystem 04:07:48.4389 -12:11:36.6753, zabs=0.3205, Z/H=0, NHI=13.48>\n",
       "<IGMSystem: IGMSystem 11:05:39.8196 34:25:34.6585, zabs=0.3424, Z/H=0, NHI=12.56>\n",
       "<IGMSystem: IGMSystem 14:37:48.2855 -01:47:10.7752, zabs=0.2515, Z/H=0, NHI=14.69>\n",
       "<IGMSystem: IGMSystem 14:37:48.2855 -01:47:10.7752, zabs=0.1467, Z/H=0, NHI=12.29>\n",
       "<IGMSystem: IGMSystem 04:07:48.4389 -12:11:36.6753, zabs=0.1341, Z/H=0, NHI=13.44>\n",
       "<IGMSystem: IGMSystem 02:28:15.2523 -40:57:14.6247, zabs=0.1003, Z/H=0, NHI=12.11>\n",
       "<IGMSystem: IGMSystem 15:24:24.5551 09:58:29.7837, zabs=0.2919, Z/H=0, NHI=13.38>\n",
       "<IGMSystem: IGMSystem 02:28:15.2523 -40:57:14.6247, zabs=0.2112, Z/H=0, NHI=13.48>\n",
       "<IGMSystem: IGMSystem 15:24:24.5551 09:58:29.7837, zabs=0.2217, Z/H=0, NHI=14.33>\n",
       "<IGMSystem: IGMSystem 04:07:48.4389 -12:11:36.6753, zabs=0.2032, Z/H=0, NHI=11.99>\n",
       "<IGMSystem: IGMSystem 02:28:15.2523 -40:57:14.6247, zabs=0.306, Z/H=0, NHI=12.34>\n",
       "<IGMSystem: IGMSystem 15:24:24.5551 09:58:29.7837, zabs=0.1615, Z/H=0, NHI=12.43>\n",
       "<IGMSystem: IGMSystem 14:37:48.2855 -01:47:10.7752, zabs=0.2099, Z/H=0, NHI=12.76>\n",
       "<IGMSystem: IGMSystem 15:24:24.5551 09:58:29.7837, zabs=0.3764, Z/H=0, NHI=14.38>\n",
       "<IGMSystem: IGMSystem 14:37:48.2855 -01:47:10.7752, zabs=0.1296, Z/H=0, NHI=12.31>\n",
       "<IGMSystem: IGMSystem 04:07:48.4389 -12:11:36.6753, zabs=0.1672, Z/H=0, NHI=16.49>\n",
       "<IGMSystem: IGMSystem 02:28:15.2523 -40:57:14.6247, zabs=0.2744, Z/H=0, NHI=0>\n",
       "<IGMSystem: IGMSystem 14:37:48.2855 -01:47:10.7752, zabs=0.1384, Z/H=0, NHI=14.8>\n",
       "<IGMSystem: IGMSystem 04:07:48.4389 -12:11:36.6753, zabs=0.3781, Z/H=0, NHI=12.18>\n",
       "<IGMSystem: IGMSystem 15:24:24.5551 09:58:29.7837, zabs=0.3286, Z/H=0, NHI=14.83>\n",
       "<IGMSystem: IGMSystem 04:07:48.4389 -12:11:36.6753, zabs=0.1619, Z/H=0, NHI=13.92>\n",
       "<IGMSystem: IGMSystem 14:37:48.2855 -01:47:10.7752, zabs=0.3923, Z/H=0, NHI=15.2>\n",
       "<IGMSystem: IGMSystem 14:37:48.2855 -01:47:10.7752, zabs=0.3216, Z/H=0, NHI=14.05>\n",
       "<IGMSystem: IGMSystem 10:31:18.5255 50:53:35.8034, zabs=0.1344, Z/H=0, NHI=12.42>\n",
       "<IGMSystem: IGMSystem 15:24:24.5551 09:58:29.7837, zabs=0.2829, Z/H=0, NHI=13.31>\n",
       "<IGMSystem: IGMSystem 15:24:24.5551 09:58:29.7837, zabs=0.3059, Z/H=0, NHI=13.28>\n",
       "<IGMSystem: IGMSystem 15:24:24.5551 09:58:29.7837, zabs=0.1202, Z/H=0, NHI=13.65>\n",
       "<IGMSystem: IGMSystem 02:28:15.2523 -40:57:14.6247, zabs=0.1772, Z/H=0, NHI=12.23>\n",
       "<IGMSystem: IGMSystem 02:28:15.2523 -40:57:14.6247, zabs=0.3184, Z/H=0, NHI=12.31>\n",
       "<IGMSystem: IGMSystem 02:28:15.2523 -40:57:14.6247, zabs=0.1992, Z/H=0, NHI=14.15>\n",
       "<IGMSystem: IGMSystem 02:28:15.2523 -40:57:14.6247, zabs=0.2804, Z/H=0, NHI=13.73>\n",
       "<IGMSystem: IGMSystem 14:37:48.2855 -01:47:10.7752, zabs=0.2141, Z/H=0, NHI=13.44>\n",
       "<IGMSystem: IGMSystem 02:28:15.2523 -40:57:14.6247, zabs=0.3971, Z/H=0, NHI=13.99>\n",
       "<IGMSystem: IGMSystem 14:37:48.2855 -01:47:10.7752, zabs=0.1839, Z/H=0, NHI=14.33>\n",
       "<IGMSystem: IGMSystem 15:24:24.5551 09:58:29.7837, zabs=0.3618, Z/H=0, NHI=12.57>\n",
       "<IGMSystem: IGMSystem 15:24:24.5551 09:58:29.7837, zabs=0.2022, Z/H=0, NHI=12.37>\n",
       "<IGMSystem: IGMSystem 14:37:48.2855 -01:47:10.7752, zabs=0.3338, Z/H=0, NHI=13.51>\n",
       "<IGMSystem: IGMSystem 15:24:24.5551 09:58:29.7837, zabs=0.2708, Z/H=0, NHI=13.57>\n",
       "<IGMSystem: IGMSystem 04:07:48.4389 -12:11:36.6753, zabs=0.3614, Z/H=0, NHI=15.2>\n",
       "<IGMSystem: IGMSystem 02:28:15.2523 -40:57:14.6247, zabs=0.2492, Z/H=0, NHI=13.38>\n",
       "<IGMSystem: IGMSystem 02:28:15.2523 -40:57:14.6247, zabs=0.2952, Z/H=0, NHI=13.36>\n",
       "<IGMSystem: IGMSystem 04:07:48.4389 -12:11:36.6753, zabs=0.3972, Z/H=0, NHI=12.49>\n",
       "<IGMSystem: IGMSystem 15:24:24.5551 09:58:29.7837, zabs=0.3003, Z/H=0, NHI=0>\n",
       "<IGMSystem: IGMSystem 04:07:48.4389 -12:11:36.6753, zabs=0.3401, Z/H=0, NHI=12.04>\n",
       "<IGMSystem: IGMSystem 04:07:48.4389 -12:11:36.6753, zabs=0.2669, Z/H=0, NHI=12.03>\n",
       "<IGMSystem: IGMSystem 08:35:35.8062 24:59:40.1248, zabs=0.2667, Z/H=0, NHI=12.66>\n",
       "<IGMSystem: IGMSystem 02:28:15.2523 -40:57:14.6247, zabs=0.3268, Z/H=0, NHI=12.35>\n",
       "<IGMSystem: IGMSystem 15:24:24.5551 09:58:29.7837, zabs=0.385, Z/H=0, NHI=14.45>\n",
       "<IGMSystem: IGMSystem 02:28:15.2523 -40:57:14.6247, zabs=0.1248, Z/H=0, NHI=12.88>\n",
       "<IGMSystem: IGMSystem 02:28:15.2523 -40:57:14.6247, zabs=0.112, Z/H=0, NHI=12.88>\n",
       "<IGMSystem: IGMSystem 04:07:48.4389 -12:11:36.6753, zabs=0.3254, Z/H=0, NHI=13.44>\n",
       "<IGMSystem: IGMSystem 04:07:48.4389 -12:11:36.6753, zabs=0.179, Z/H=0, NHI=13.61>\n",
       "<IGMSystem: IGMSystem 04:07:48.4389 -12:11:36.6753, zabs=0.3101, Z/H=0, NHI=12.23>\n",
       "<IGMSystem: IGMSystem 14:37:48.2855 -01:47:10.7752, zabs=0.2996, Z/H=0, NHI=15.28>\n",
       "<IGMSystem: IGMSystem 02:28:15.2523 -40:57:14.6247, zabs=0.2065, Z/H=0, NHI=15.27>\n",
       "<IGMSystem: IGMSystem 11:11:32.1998 55:47:25.9885, zabs=0.1401, Z/H=0, NHI=13.6>\n",
       "<IGMSystem: IGMSystem 15:24:24.5551 09:58:29.7837, zabs=0.17, Z/H=0, NHI=13.39>\n",
       "<IGMSystem: IGMSystem 04:07:48.4389 -12:11:36.6753, zabs=0.1363, Z/H=0, NHI=13.22>\n",
       "<IGMSystem: IGMSystem 15:24:24.5551 09:58:29.7837, zabs=0.353, Z/H=0, NHI=13.76>\n",
       "<IGMSystem: IGMSystem 10:10:00.701 30:03:21.9823, zabs=0.1155, Z/H=0, NHI=13.66>\n",
       "<IGMSystem: IGMSystem 15:24:24.5551 09:58:29.7837, zabs=0.1391, Z/H=0, NHI=13.08>\n",
       "<IGMSystem: IGMSystem 14:37:48.2855 -01:47:10.7752, zabs=0.1479, Z/H=0, NHI=12.33>\n",
       "<IGMSystem: IGMSystem 02:28:15.2523 -40:57:14.6247, zabs=0.3416, Z/H=0, NHI=13.47>\n",
       "<IGMSystem: IGMSystem 15:24:24.5551 09:58:29.7837, zabs=0.1512, Z/H=0, NHI=13.97>\n",
       "<IGMSystem: IGMSystem 15:24:24.5551 09:58:29.7837, zabs=0.3349, Z/H=0, NHI=12.67>\n",
       "<IGMSystem: IGMSystem 14:37:48.2855 -01:47:10.7752, zabs=0.1523, Z/H=0, NHI=12.33>\n",
       "<IGMSystem: IGMSystem 11:25:53.7895 59:10:21.5893, zabs=0.1503, Z/H=0, NHI=12.57>\n",
       "<IGMSystem: IGMSystem 04:07:48.4389 -12:11:36.6753, zabs=0.3422, Z/H=0, NHI=13.7>\n",
       "<IGMSystem: IGMSystem 08:35:35.8062 24:59:40.1248, zabs=0.2632, Z/H=0, NHI=12.63>\n",
       "<IGMSystem: IGMSystem 14:37:48.2855 -01:47:10.7752, zabs=0.3643, Z/H=0, NHI=13.76>\n",
       "<IGMSystem: IGMSystem 04:07:48.4389 -12:11:36.6753, zabs=0.1009, Z/H=0, NHI=11.77>\n",
       "<IGMSystem: IGMSystem 02:28:15.2523 -40:57:14.6247, zabs=0.2654, Z/H=0, NHI=13.16>\n",
       "<IGMSystem: IGMSystem 02:28:15.2523 -40:57:14.6247, zabs=0.3553, Z/H=0, NHI=13.84>\n",
       "<IGMSystem: IGMSystem 02:28:15.2523 -40:57:14.6247, zabs=0.3939, Z/H=0, NHI=12.36>\n",
       "<IGMSystem: IGMSystem 15:24:24.5551 09:58:29.7837, zabs=0.3115, Z/H=0, NHI=13.01>\n",
       "<IGMSystem: IGMSystem 15:24:24.5551 09:58:29.7837, zabs=0.1981, Z/H=0, NHI=13.27>\n",
       "<IGMSystem: IGMSystem 02:28:15.2523 -40:57:14.6247, zabs=0.2706, Z/H=0, NHI=13.99>\n",
       "<IGMSystem: IGMSystem 04:07:48.4389 -12:11:36.6753, zabs=0.2486, Z/H=0, NHI=12.05>\n",
       "<IGMSystem: IGMSystem 15:24:24.5551 09:58:29.7837, zabs=0.1253, Z/H=0, NHI=14.12>\n",
       "<IGMSystem: IGMSystem 14:37:48.2855 -01:47:10.7752, zabs=0.1806, Z/H=0, NHI=12.38>\n",
       "<IGMSystem: IGMSystem 15:24:24.5551 09:58:29.7837, zabs=0.2264, Z/H=0, NHI=14.1>\n",
       "<IGMSystem: IGMSystem 15:24:24.5551 09:58:29.7837, zabs=0.3732, Z/H=0, NHI=13.3>\n",
       "<IGMSystem: IGMSystem 04:07:48.4389 -12:11:36.6753, zabs=0.2925, Z/H=0, NHI=12.12>\n",
       "<IGMSystem: IGMSystem 14:37:48.2855 -01:47:10.7752, zabs=0.2171, Z/H=0, NHI=12.28>\n",
       "<IGMSystem: IGMSystem 14:37:48.2855 -01:47:10.7752, zabs=0.2715, Z/H=0, NHI=14.11>\n",
       "<IGMSystem: IGMSystem 02:28:15.2523 -40:57:14.6247, zabs=0.3863, Z/H=0, NHI=13.39>\n",
       "<IGMSystem: IGMSystem 11:05:39.8196 34:25:34.6585, zabs=0.2148, Z/H=0, NHI=13.74>\n",
       "<IGMSystem: IGMSystem 02:28:15.2523 -40:57:14.6247, zabs=0.3341, Z/H=0, NHI=12.36>\n",
       "<IGMSystem: IGMSystem 15:24:24.5551 09:58:29.7837, zabs=0.2154, Z/H=0, NHI=13.27>\n",
       "<IGMSystem: IGMSystem 04:07:48.4389 -12:11:36.6753, zabs=0.1534, Z/H=0, NHI=13.78>\n",
       "<IGMSystem: IGMSystem 15:24:24.5551 09:58:29.7837, zabs=0.3783, Z/H=0, NHI=12.6>\n",
       "<IGMSystem: IGMSystem 14:37:48.2855 -01:47:10.7752, zabs=0.1496, Z/H=0, NHI=12.33>\n",
       "<IGMSystem: IGMSystem 15:24:24.5551 09:58:29.7837, zabs=0.3198, Z/H=0, NHI=14.68>\n",
       "<IGMSystem: IGMSystem 04:07:48.4389 -12:11:36.6753, zabs=0.3506, Z/H=0, NHI=13.73>\n",
       "<IGMSystem: IGMSystem 15:24:24.5551 09:58:29.7837, zabs=0.2402, Z/H=0, NHI=13.84>\n",
       "<IGMSystem: IGMSystem 15:24:24.5551 09:58:29.7837, zabs=0.1238, Z/H=0, NHI=12.49>\n",
       "<IGMSystem: IGMSystem 15:28:40.6027 28:25:29.7509, zabs=0.1298, Z/H=0, NHI=12.42>\n",
       "<IGMSystem: IGMSystem 04:07:48.4389 -12:11:36.6753, zabs=0.2031, Z/H=0, NHI=11.98>\n",
       "<IGMSystem: IGMSystem 15:28:40.6027 28:25:29.7509, zabs=0.2194, Z/H=0, NHI=15.12>\n",
       "<IGMSystem: IGMSystem 15:28:40.6027 28:25:29.7509, zabs=0.2244, Z/H=0, NHI=12.27>"
      ]
     },
     "execution_count": 12,
     "metadata": {},
     "output_type": "execute_result"
    }
   ],
   "source": [
    "j15"
   ]
  },
  {
   "cell_type": "markdown",
   "metadata": {},
   "source": [
    "### Ly$\\alpha$"
   ]
  },
  {
   "cell_type": "code",
   "execution_count": 13,
   "metadata": {
    "collapsed": false
   },
   "outputs": [
    {
     "data": {
      "text/html": [
       "&lt;Table length=106&gt;\n",
       "<table id=\"table140258689504424\" class=\"table-striped table-bordered table-condensed\">\n",
       "<thead><tr><th>name</th><th>Z</th><th>ion</th><th>A</th><th>Ej</th><th>z</th><th>vmin</th><th>vmax</th><th>flag_N</th><th>logN</th><th>sig_logN</th><th>cgm_name</th><th>rho_impact</th></tr></thead>\n",
       "<thead><tr><th></th><th></th><th></th><th></th><th>1 / cm</th><th></th><th>km / s</th><th>km / s</th><th></th><th></th><th></th><th></th><th>kpc</th></tr></thead>\n",
       "<thead><tr><th>str32</th><th>int64</th><th>int64</th><th>int64</th><th>float64</th><th>float64</th><th>float64</th><th>float64</th><th>int64</th><th>float64</th><th>float64</th><th>str20</th><th>float64</th></tr></thead>\n",
       "<tr><td>J022815.252-405714.62_z0.164</td><td>1</td><td>1</td><td>0</td><td>0.0</td><td>0.164499998093</td><td>-400.0</td><td>400.0</td><td>1</td><td>14.3599996567</td><td>0.00999999977648</td><td>J0228-4057_111_317</td><td>924.241281059</td></tr>\n",
       "<tr><td>J022815.252-405714.62_z0.268</td><td>1</td><td>1</td><td>0</td><td>0.0</td><td>0.26780000329</td><td>-400.0</td><td>400.0</td><td>3</td><td>12.970000267</td><td>99.0</td><td>J0228-4057_137_17</td><td>73.0240108141</td></tr>\n",
       "<tr><td>J143748.2839-014710.7808_z0.120</td><td>1</td><td>1</td><td>0</td><td>0.0</td><td>0.120200000703</td><td>-400.0</td><td>400.0</td><td>3</td><td>12.8299999237</td><td>99.0</td><td>J1437-0147_114_326</td><td>729.678388619</td></tr>\n",
       "<tr><td>J152424.5538+095829.7739_z0.132</td><td>1</td><td>1</td><td>0</td><td>0.0</td><td>0.131899997592</td><td>-400.0</td><td>400.0</td><td>1</td><td>13.6499996185</td><td>0.019999999553</td><td>J1524+0958_350_163</td><td>393.90750642</td></tr>\n",
       "<tr><td>J143748.2839-014710.7808_z0.298</td><td>1</td><td>1</td><td>0</td><td>0.0</td><td>0.297500014305</td><td>-400.0</td><td>400.0</td><td>3</td><td>12.3599996567</td><td>99.0</td><td>J1437-0147_2_205</td><td>936.547819584</td></tr>\n",
       "<tr><td>J040748.4376-121136.662_z0.298</td><td>1</td><td>1</td><td>0</td><td>0.0</td><td>0.297800004482</td><td>-400.0</td><td>400.0</td><td>1</td><td>14.0</td><td>0.0599999986589</td><td>J0407-1211_147_57</td><td>259.289914894</td></tr>\n",
       "<tr><td>J040748.4376-121136.662_z0.320</td><td>1</td><td>1</td><td>0</td><td>0.0</td><td>0.32049998641</td><td>-400.0</td><td>400.0</td><td>1</td><td>13.4799995422</td><td>0.019999999553</td><td>J0407-1211_53_174</td><td>834.941310007</td></tr>\n",
       "<tr><td>J110539.8189+342534.672_z0.342</td><td>1</td><td>1</td><td>0</td><td>0.0</td><td>0.3424000144</td><td>-400.0</td><td>400.0</td><td>3</td><td>12.5600004196</td><td>99.0</td><td>J1105+3425_229_163</td><td>816.73562633</td></tr>\n",
       "<tr><td>J143748.2839-014710.7808_z0.252</td><td>1</td><td>1</td><td>0</td><td>0.0</td><td>0.25150001049</td><td>-400.0</td><td>400.0</td><td>1</td><td>14.6899995804</td><td>0.00999999977648</td><td>J1437-0147_239_19</td><td>77.657989622</td></tr>\n",
       "<tr><td>...</td><td>...</td><td>...</td><td>...</td><td>...</td><td>...</td><td>...</td><td>...</td><td>...</td><td>...</td><td>...</td><td>...</td><td>...</td></tr>\n",
       "<tr><td>J152424.5538+095829.7739_z0.378</td><td>1</td><td>1</td><td>0</td><td>0.0</td><td>0.378300011158</td><td>-400.0</td><td>400.0</td><td>3</td><td>12.6000003815</td><td>99.0</td><td>J1524+0958_116_95</td><td>506.762279492</td></tr>\n",
       "<tr><td>J143748.2839-014710.7808_z0.150</td><td>1</td><td>1</td><td>0</td><td>0.0</td><td>0.149599999189</td><td>-400.0</td><td>400.0</td><td>3</td><td>12.3299999237</td><td>99.0</td><td>J1437-0147_270_372</td><td>1001.47095205</td></tr>\n",
       "<tr><td>J152424.5538+095829.7739_z0.320</td><td>1</td><td>1</td><td>0</td><td>0.0</td><td>0.319799989462</td><td>-400.0</td><td>400.0</td><td>1</td><td>14.6800003052</td><td>0.00999999977648</td><td>J1524+0958_192_200</td><td>957.483921735</td></tr>\n",
       "<tr><td>J040748.4376-121136.662_z0.351</td><td>1</td><td>1</td><td>0</td><td>0.0</td><td>0.350600004196</td><td>-400.0</td><td>400.0</td><td>1</td><td>13.7299995422</td><td>0.019999999553</td><td>J0407-1211_213_48</td><td>242.793045149</td></tr>\n",
       "<tr><td>J152424.5538+095829.7739_z0.240</td><td>1</td><td>1</td><td>0</td><td>0.0</td><td>0.240199998021</td><td>-400.0</td><td>400.0</td><td>1</td><td>13.8400001526</td><td>0.019999999553</td><td>J1524+0958_328_44</td><td>172.885287383</td></tr>\n",
       "<tr><td>J152424.5538+095829.7739_z0.124</td><td>1</td><td>1</td><td>0</td><td>0.0</td><td>0.123800002038</td><td>-400.0</td><td>400.0</td><td>3</td><td>12.4899997711</td><td>99.0</td><td>J1524+0958_273_379</td><td>868.727643156</td></tr>\n",
       "<tr><td>J152840.6019+282529.7408_z0.130</td><td>1</td><td>1</td><td>0</td><td>0.0</td><td>0.129800006747</td><td>-400.0</td><td>400.0</td><td>3</td><td>12.4200000763</td><td>99.0</td><td>J1528+2825_333_393</td><td>939.394568294</td></tr>\n",
       "<tr><td>J040748.4376-121136.662_z0.203</td><td>1</td><td>1</td><td>0</td><td>0.0</td><td>0.203099995852</td><td>-400.0</td><td>400.0</td><td>3</td><td>11.9799995422</td><td>99.0</td><td>J0407-1211_244_161</td><td>553.943836862</td></tr>\n",
       "<tr><td>J152840.6019+282529.7408_z0.219</td><td>1</td><td>1</td><td>0</td><td>0.0</td><td>0.219400003552</td><td>-400.0</td><td>400.0</td><td>1</td><td>15.1199998856</td><td>0.070000000298</td><td>J1528+2825_359_263</td><td>963.122820305</td></tr>\n",
       "<tr><td>J152840.6019+282529.7408_z0.224</td><td>1</td><td>1</td><td>0</td><td>0.0</td><td>0.224399998784</td><td>-400.0</td><td>400.0</td><td>3</td><td>12.2700004578</td><td>99.0</td><td>J1528+2825_2_194</td><td>722.579889403</td></tr>\n",
       "</table>"
      ],
      "text/plain": [
       "<Table length=106>\n",
       "              name                Z    ion  ...      cgm_name        rho_impact \n",
       "                                            ...                         kpc     \n",
       "             str32              int64 int64 ...       str20           float64   \n",
       "------------------------------- ----- ----- ... ------------------ -------------\n",
       "   J022815.252-405714.62_z0.164     1     1 ... J0228-4057_111_317 924.241281059\n",
       "   J022815.252-405714.62_z0.268     1     1 ...  J0228-4057_137_17 73.0240108141\n",
       "J143748.2839-014710.7808_z0.120     1     1 ... J1437-0147_114_326 729.678388619\n",
       "J152424.5538+095829.7739_z0.132     1     1 ... J1524+0958_350_163  393.90750642\n",
       "J143748.2839-014710.7808_z0.298     1     1 ...   J1437-0147_2_205 936.547819584\n",
       " J040748.4376-121136.662_z0.298     1     1 ...  J0407-1211_147_57 259.289914894\n",
       " J040748.4376-121136.662_z0.320     1     1 ...  J0407-1211_53_174 834.941310007\n",
       " J110539.8189+342534.672_z0.342     1     1 ... J1105+3425_229_163  816.73562633\n",
       "J143748.2839-014710.7808_z0.252     1     1 ...  J1437-0147_239_19  77.657989622\n",
       "                            ...   ...   ... ...                ...           ...\n",
       "J152424.5538+095829.7739_z0.378     1     1 ...  J1524+0958_116_95 506.762279492\n",
       "J143748.2839-014710.7808_z0.150     1     1 ... J1437-0147_270_372 1001.47095205\n",
       "J152424.5538+095829.7739_z0.320     1     1 ... J1524+0958_192_200 957.483921735\n",
       " J040748.4376-121136.662_z0.351     1     1 ...  J0407-1211_213_48 242.793045149\n",
       "J152424.5538+095829.7739_z0.240     1     1 ...  J1524+0958_328_44 172.885287383\n",
       "J152424.5538+095829.7739_z0.124     1     1 ... J1524+0958_273_379 868.727643156\n",
       "J152840.6019+282529.7408_z0.130     1     1 ... J1528+2825_333_393 939.394568294\n",
       " J040748.4376-121136.662_z0.203     1     1 ... J0407-1211_244_161 553.943836862\n",
       "J152840.6019+282529.7408_z0.219     1     1 ... J1528+2825_359_263 963.122820305\n",
       "J152840.6019+282529.7408_z0.224     1     1 ...   J1528+2825_2_194 722.579889403"
      ]
     },
     "execution_count": 13,
     "metadata": {},
     "output_type": "execute_result"
    }
   ],
   "source": [
    "Lya_tbl = j15.ion_tbl((1,1))\n",
    "Lya_tbl"
   ]
  },
  {
   "cell_type": "markdown",
   "metadata": {},
   "source": [
    "### OVI"
   ]
  },
  {
   "cell_type": "code",
   "execution_count": 14,
   "metadata": {
    "collapsed": false
   },
   "outputs": [
    {
     "data": {
      "text/html": [
       "&lt;Table length=106&gt;\n",
       "<table id=\"table140258701069280\" class=\"table-striped table-bordered table-condensed\">\n",
       "<thead><tr><th>name</th><th>Z</th><th>ion</th><th>A</th><th>Ej</th><th>z</th><th>vmin</th><th>vmax</th><th>flag_N</th><th>logN</th><th>sig_logN</th><th>cgm_name</th><th>rho_impact</th></tr></thead>\n",
       "<thead><tr><th></th><th></th><th></th><th></th><th>1 / cm</th><th></th><th>km / s</th><th>km / s</th><th></th><th></th><th></th><th></th><th>kpc</th></tr></thead>\n",
       "<thead><tr><th>str32</th><th>int64</th><th>int64</th><th>int64</th><th>float64</th><th>float64</th><th>float64</th><th>float64</th><th>int64</th><th>float64</th><th>float64</th><th>str20</th><th>float64</th></tr></thead>\n",
       "<tr><td>J022815.252-405714.62_z0.164</td><td>0</td><td>0</td><td>0</td><td>0.0</td><td>0.0</td><td>0.0</td><td>0.0</td><td>0</td><td>0.0</td><td>0.0</td><td>J0228-4057_111_317</td><td>924.241281059</td></tr>\n",
       "<tr><td>J022815.252-405714.62_z0.268</td><td>8</td><td>6</td><td>0</td><td>0.0</td><td>0.26780000329</td><td>-400.0</td><td>400.0</td><td>3</td><td>12.8699998856</td><td>99.0</td><td>J0228-4057_137_17</td><td>73.0240108141</td></tr>\n",
       "<tr><td>J143748.2839-014710.7808_z0.120</td><td>8</td><td>6</td><td>0</td><td>0.0</td><td>0.120200000703</td><td>-400.0</td><td>400.0</td><td>3</td><td>13.3500003815</td><td>99.0</td><td>J1437-0147_114_326</td><td>729.678388619</td></tr>\n",
       "<tr><td>J152424.5538+095829.7739_z0.132</td><td>8</td><td>6</td><td>0</td><td>0.0</td><td>0.131899997592</td><td>-400.0</td><td>400.0</td><td>3</td><td>13.2899999619</td><td>99.0</td><td>J1524+0958_350_163</td><td>393.90750642</td></tr>\n",
       "<tr><td>J143748.2839-014710.7808_z0.298</td><td>8</td><td>6</td><td>0</td><td>0.0</td><td>0.297500014305</td><td>-400.0</td><td>400.0</td><td>3</td><td>13.220000267</td><td>99.0</td><td>J1437-0147_2_205</td><td>936.547819584</td></tr>\n",
       "<tr><td>J040748.4376-121136.662_z0.298</td><td>8</td><td>6</td><td>0</td><td>0.0</td><td>0.297800004482</td><td>-400.0</td><td>400.0</td><td>1</td><td>13.6099996567</td><td>0.019999999553</td><td>J0407-1211_147_57</td><td>259.289914894</td></tr>\n",
       "<tr><td>J040748.4376-121136.662_z0.320</td><td>8</td><td>6</td><td>0</td><td>0.0</td><td>0.32049998641</td><td>-400.0</td><td>400.0</td><td>3</td><td>12.3999996185</td><td>99.0</td><td>J0407-1211_53_174</td><td>834.941310007</td></tr>\n",
       "<tr><td>J110539.8189+342534.672_z0.342</td><td>8</td><td>6</td><td>0</td><td>0.0</td><td>0.3424000144</td><td>-400.0</td><td>400.0</td><td>3</td><td>13.1000003815</td><td>99.0</td><td>J1105+3425_229_163</td><td>816.73562633</td></tr>\n",
       "<tr><td>J143748.2839-014710.7808_z0.252</td><td>8</td><td>6</td><td>0</td><td>0.0</td><td>0.25150001049</td><td>-400.0</td><td>400.0</td><td>1</td><td>14.4200000763</td><td>0.0500000007451</td><td>J1437-0147_239_19</td><td>77.657989622</td></tr>\n",
       "<tr><td>...</td><td>...</td><td>...</td><td>...</td><td>...</td><td>...</td><td>...</td><td>...</td><td>...</td><td>...</td><td>...</td><td>...</td><td>...</td></tr>\n",
       "<tr><td>J152424.5538+095829.7739_z0.378</td><td>8</td><td>6</td><td>0</td><td>0.0</td><td>0.378300011158</td><td>-400.0</td><td>400.0</td><td>3</td><td>13.0100002289</td><td>99.0</td><td>J1524+0958_116_95</td><td>506.762279492</td></tr>\n",
       "<tr><td>J143748.2839-014710.7808_z0.150</td><td>8</td><td>6</td><td>0</td><td>0.0</td><td>0.149599999189</td><td>-400.0</td><td>400.0</td><td>3</td><td>13.0200004578</td><td>99.0</td><td>J1437-0147_270_372</td><td>1001.47095205</td></tr>\n",
       "<tr><td>J152424.5538+095829.7739_z0.320</td><td>0</td><td>0</td><td>0</td><td>0.0</td><td>0.0</td><td>0.0</td><td>0.0</td><td>0</td><td>0.0</td><td>0.0</td><td>J1524+0958_192_200</td><td>957.483921735</td></tr>\n",
       "<tr><td>J040748.4376-121136.662_z0.351</td><td>8</td><td>6</td><td>0</td><td>0.0</td><td>0.350600004196</td><td>-400.0</td><td>400.0</td><td>3</td><td>12.8500003815</td><td>99.0</td><td>J0407-1211_213_48</td><td>242.793045149</td></tr>\n",
       "<tr><td>J152424.5538+095829.7739_z0.240</td><td>8</td><td>6</td><td>0</td><td>0.0</td><td>0.240199998021</td><td>-400.0</td><td>400.0</td><td>3</td><td>13.3000001907</td><td>99.0</td><td>J1524+0958_328_44</td><td>172.885287383</td></tr>\n",
       "<tr><td>J152424.5538+095829.7739_z0.124</td><td>8</td><td>6</td><td>0</td><td>0.0</td><td>0.123800002038</td><td>-400.0</td><td>400.0</td><td>3</td><td>13.3100004196</td><td>99.0</td><td>J1524+0958_273_379</td><td>868.727643156</td></tr>\n",
       "<tr><td>J152840.6019+282529.7408_z0.130</td><td>8</td><td>6</td><td>0</td><td>0.0</td><td>0.129800006747</td><td>-400.0</td><td>400.0</td><td>3</td><td>13.1300001144</td><td>99.0</td><td>J1528+2825_333_393</td><td>939.394568294</td></tr>\n",
       "<tr><td>J040748.4376-121136.662_z0.203</td><td>8</td><td>6</td><td>0</td><td>0.0</td><td>0.203099995852</td><td>-400.0</td><td>400.0</td><td>3</td><td>12.6899995804</td><td>99.0</td><td>J0407-1211_244_161</td><td>553.943836862</td></tr>\n",
       "<tr><td>J152840.6019+282529.7408_z0.219</td><td>8</td><td>6</td><td>0</td><td>0.0</td><td>0.219400003552</td><td>-400.0</td><td>400.0</td><td>1</td><td>14.3000001907</td><td>0.0299999993294</td><td>J1528+2825_359_263</td><td>963.122820305</td></tr>\n",
       "<tr><td>J152840.6019+282529.7408_z0.224</td><td>8</td><td>6</td><td>0</td><td>0.0</td><td>0.224399998784</td><td>-400.0</td><td>400.0</td><td>3</td><td>13.029999733</td><td>99.0</td><td>J1528+2825_2_194</td><td>722.579889403</td></tr>\n",
       "</table>"
      ],
      "text/plain": [
       "<Table length=106>\n",
       "              name                Z    ion  ...      cgm_name        rho_impact \n",
       "                                            ...                         kpc     \n",
       "             str32              int64 int64 ...       str20           float64   \n",
       "------------------------------- ----- ----- ... ------------------ -------------\n",
       "   J022815.252-405714.62_z0.164     0     0 ... J0228-4057_111_317 924.241281059\n",
       "   J022815.252-405714.62_z0.268     8     6 ...  J0228-4057_137_17 73.0240108141\n",
       "J143748.2839-014710.7808_z0.120     8     6 ... J1437-0147_114_326 729.678388619\n",
       "J152424.5538+095829.7739_z0.132     8     6 ... J1524+0958_350_163  393.90750642\n",
       "J143748.2839-014710.7808_z0.298     8     6 ...   J1437-0147_2_205 936.547819584\n",
       " J040748.4376-121136.662_z0.298     8     6 ...  J0407-1211_147_57 259.289914894\n",
       " J040748.4376-121136.662_z0.320     8     6 ...  J0407-1211_53_174 834.941310007\n",
       " J110539.8189+342534.672_z0.342     8     6 ... J1105+3425_229_163  816.73562633\n",
       "J143748.2839-014710.7808_z0.252     8     6 ...  J1437-0147_239_19  77.657989622\n",
       "                            ...   ...   ... ...                ...           ...\n",
       "J152424.5538+095829.7739_z0.378     8     6 ...  J1524+0958_116_95 506.762279492\n",
       "J143748.2839-014710.7808_z0.150     8     6 ... J1437-0147_270_372 1001.47095205\n",
       "J152424.5538+095829.7739_z0.320     0     0 ... J1524+0958_192_200 957.483921735\n",
       " J040748.4376-121136.662_z0.351     8     6 ...  J0407-1211_213_48 242.793045149\n",
       "J152424.5538+095829.7739_z0.240     8     6 ...  J1524+0958_328_44 172.885287383\n",
       "J152424.5538+095829.7739_z0.124     8     6 ... J1524+0958_273_379 868.727643156\n",
       "J152840.6019+282529.7408_z0.130     8     6 ... J1528+2825_333_393 939.394568294\n",
       " J040748.4376-121136.662_z0.203     8     6 ... J0407-1211_244_161 553.943836862\n",
       "J152840.6019+282529.7408_z0.219     8     6 ... J1528+2825_359_263 963.122820305\n",
       "J152840.6019+282529.7408_z0.224     8     6 ...   J1528+2825_2_194 722.579889403"
      ]
     },
     "execution_count": 14,
     "metadata": {},
     "output_type": "execute_result"
    }
   ],
   "source": [
    "OVI_tbl = j15.ion_tbl((8,6))\n",
    "OVI_tbl"
   ]
  },
  {
   "cell_type": "code",
   "execution_count": null,
   "metadata": {
    "collapsed": true
   },
   "outputs": [],
   "source": []
  }
 ],
 "metadata": {
  "kernelspec": {
   "display_name": "Python [Root]",
   "language": "python",
   "name": "Python [Root]"
  },
  "language_info": {
   "codemirror_mode": {
    "name": "ipython",
    "version": 2
   },
   "file_extension": ".py",
   "mimetype": "text/x-python",
   "name": "python",
   "nbconvert_exporter": "python",
   "pygments_lexer": "ipython2",
   "version": "2.7.11"
  }
 },
 "nbformat": 4,
 "nbformat_minor": 2
}
