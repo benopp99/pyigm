{
 "cells": [
  {
   "cell_type": "markdown",
   "metadata": {},
   "source": [
    "# Blind CIV Survey by Burchett et al. [v1.1]"
   ]
  },
  {
   "cell_type": "code",
   "execution_count": 1,
   "metadata": {},
   "outputs": [],
   "source": [
    "# imports\n",
    "import pdb\n",
    "\n",
    "import pyigm\n",
    "from astropy import constants as const\n",
    "from astropy import units as u\n",
    "\n",
    "from linetools.isgm.abscomponent import AbsComponent\n",
    "from linetools.abund.ions import name_ion\n",
    "from linetools import utils as ltu\n",
    "\n",
    "from pyigm.igm.igmsightline import IGMSightline"
   ]
  },
  {
   "cell_type": "code",
   "execution_count": 2,
   "metadata": {},
   "outputs": [],
   "source": [
    "c_kms = const.c.to('km/s').value"
   ]
  },
  {
   "cell_type": "markdown",
   "metadata": {},
   "source": [
    "## Read Component Table"
   ]
  },
  {
   "cell_type": "code",
   "execution_count": 22,
   "metadata": {},
   "outputs": [
    {
     "data": {
      "text/html": [
       "&lt;Table length=5&gt;\n",
       "<table id=\"table4600200912\" class=\"table-striped table-bordered table-condensed\">\n",
       "<thead><tr><th>QSO</th><th>z_abs</th><th>ion</th><th>log_N</th><th>log_N_err</th><th>b_dop</th><th>b_dop_err</th><th>vel</th><th>vel_err</th><th>flag</th></tr></thead>\n",
       "<thead><tr><th>str13</th><th>float64</th><th>str6</th><th>float64</th><th>float64</th><th>int64</th><th>int64</th><th>int64</th><th>int64</th><th>int64</th></tr></thead>\n",
       "<tr><td>PG1522+101</td><td>0.07523</td><td>C IV</td><td>13.56</td><td>0.05</td><td>9</td><td>2</td><td>-6</td><td>1</td><td>0</td></tr>\n",
       "<tr><td>PG1522+101</td><td>0.07523</td><td>H I</td><td>13.87</td><td>0.02</td><td>26</td><td>1</td><td>-24</td><td>1</td><td>0</td></tr>\n",
       "<tr><td>PG1522+101</td><td>0.07523</td><td>N V</td><td>13.19</td><td>0.08</td><td>10</td><td>4</td><td>-4</td><td>2</td><td>0</td></tr>\n",
       "<tr><td>PG1407+265</td><td>0.07227</td><td>C IV</td><td>13.47</td><td>0.04</td><td>22</td><td>3</td><td>-17</td><td>2</td><td>0</td></tr>\n",
       "<tr><td>PG1407+265</td><td>0.07227</td><td>H I</td><td>0.0</td><td>0.0</td><td>9999</td><td>9999</td><td>0</td><td>0</td><td>9</td></tr>\n",
       "</table>"
      ]
     },
     "metadata": {},
     "output_type": "execute_result"
    }
   ],
   "source": [
    "blind_file = pyigm.__path__[0]+'/data/sightlines/Blind_CIV/BlindCIV_measurements.dat'\n",
    "blind_tbl = Table.read(blind_file, format='ascii')\n",
    "blind_tbl[-5:]"
   ]
  },
  {
   "cell_type": "code",
   "execution_count": 4,
   "metadata": {},
   "outputs": [],
   "source": [
    "flag_dict = {0:1, 1:2, 3:2, 9: 9999, -99: 3}"
   ]
  },
  {
   "cell_type": "markdown",
   "metadata": {},
   "source": [
    "## Read RA/DEC Table"
   ]
  },
  {
   "cell_type": "code",
   "execution_count": 20,
   "metadata": {},
   "outputs": [],
   "source": [
    "blindradec_file = pyigm.__path__[0]+'/data/sightlines/Blind_CIV/BlindCIV_QSOs_FullCoords.dat'"
   ]
  },
  {
   "cell_type": "code",
   "execution_count": 21,
   "metadata": {},
   "outputs": [
    {
     "data": {
      "text/html": [
       "&lt;Table length=3&gt;\n",
       "<table id=\"table4599611792\" class=\"table-striped table-bordered table-condensed\">\n",
       "<thead><tr><th>QSO</th><th>QSOlong</th><th>RA</th><th>DEC</th><th>zQSO</th><th>CoordString</th></tr></thead>\n",
       "<thead><tr><th>str13</th><th>str19</th><th>float64</th><th>float64</th><th>float64</th><th>str19</th></tr></thead>\n",
       "<tr><td>J0012-1022</td><td>001224.01-102226.5</td><td>3.1001</td><td>-10.374</td><td>0.228</td><td>001224.02-102226.40</td></tr>\n",
       "<tr><td>J0809+4619</td><td>080908.13+461925.6</td><td>122.2839</td><td>46.3238</td><td>0.657</td><td>080908.14+461925.68</td></tr>\n",
       "<tr><td>J0826+0742</td><td>082633.51+074248.3</td><td>126.6396</td><td>7.7134</td><td>0.311</td><td>082633.50+074248.24</td></tr>\n",
       "</table>"
      ]
     },
     "metadata": {},
     "output_type": "execute_result"
    }
   ],
   "source": [
    "blindciv_radec = Table.read(blindradec_file, format='ascii')\n",
    "blindciv_radec[0:3]"
   ]
  },
  {
   "cell_type": "markdown",
   "metadata": {},
   "source": [
    "## Ingest PG1407+265"
   ]
  },
  {
   "cell_type": "code",
   "execution_count": 7,
   "metadata": {},
   "outputs": [],
   "source": [
    "pg1407_idx = np.where(blind_tbl['QSO'] == 'PG1407+265')[0]\n",
    "radec = 'J140923.897+261821.043'\n",
    "coord = ltu.radec_to_coord(radec)"
   ]
  },
  {
   "cell_type": "markdown",
   "metadata": {},
   "source": [
    "### Generate components"
   ]
  },
  {
   "cell_type": "code",
   "execution_count": 8,
   "metadata": {},
   "outputs": [],
   "source": [
    "comps = []\n",
    "for row in blind_tbl[pg1407_idx]:\n",
    "    # Calculate redshift\n",
    "    zabs= row['z_abs'] + (1+row['z_abs'])*row['vel']/c_kms\n",
    "    # Generate\n",
    "    comp = AbsComponent(coord, name_ion(row['ion']), zabs, np.sqrt(2)*row['b_dop']*np.array([-1,1])*u.km/u.s,\n",
    "                       Ntup=(flag_dict[row['flag']], row['log_N'], row['log_N_err']))\n",
    "    # Parse b-values\n",
    "    comp.bval = row['b_dop']*u.km/u.s\n",
    "    comp.sig_bval = row['b_dop_err']*u.km/u.s\n",
    "    # Append\n",
    "    comps.append(comp)"
   ]
  },
  {
   "cell_type": "markdown",
   "metadata": {},
   "source": [
    "### Generate the sightline"
   ]
  },
  {
   "cell_type": "code",
   "execution_count": 9,
   "metadata": {},
   "outputs": [
    {
     "data": {
      "text/plain": [
       "<IGMSightline: 14:09:23.897 +26:18:21.043, zem=0.940000>"
      ]
     },
     "execution_count": 9,
     "metadata": {},
     "output_type": "execute_result"
    }
   ],
   "source": [
    "pg1407 = IGMSightline(coord, 0.94)\n",
    "pg1407"
   ]
  },
  {
   "cell_type": "code",
   "execution_count": 10,
   "metadata": {},
   "outputs": [],
   "source": [
    "pg1407._components = comps"
   ]
  },
  {
   "cell_type": "code",
   "execution_count": 11,
   "metadata": {},
   "outputs": [
    {
     "data": {
      "text/plain": [
       "[<AbsComponent: 14:09:23.897 +26:18:21.043, Name=CIV_z0.07221, Zion=(6,4), Ej=0 1 / cm, z=0.0722092, vlim=-31.1127 km / s,31.1127 km / s, logN=13.47, sig_N=0.04, flag_N=1>,\n",
       " <AbsComponent: 14:09:23.897 +26:18:21.043, Name=HI_z0.07227, Zion=(1,1), Ej=0 1 / cm, z=0.07227, vlim=-14140.7 km / s,14140.7 km / s, logN=0, sig_N=0, flag_N=3>]"
      ]
     },
     "execution_count": 11,
     "metadata": {},
     "output_type": "execute_result"
    }
   ],
   "source": [
    "pg1407._components"
   ]
  },
  {
   "cell_type": "markdown",
   "metadata": {},
   "source": [
    "### Write a sightline"
   ]
  },
  {
   "cell_type": "code",
   "execution_count": 12,
   "metadata": {},
   "outputs": [],
   "source": [
    "pg1407_dict = pg1407.to_dict()"
   ]
  },
  {
   "cell_type": "code",
   "execution_count": 13,
   "metadata": {},
   "outputs": [
    {
     "data": {
      "text/plain": [
       "{'CreationDate': '2016-Nov-17',\n",
       " 'DEC': 26.305845277777777,\n",
       " 'RA': 212.3495708333333,\n",
       " u'class': 'IGMSightline',\n",
       " u'components': {u'CIV_z0.07221': {'A': None,\n",
       "   'DEC': 26.305845277777777,\n",
       "   'Ej': 0.0,\n",
       "   'Name': u'CIV_z0.07221',\n",
       "   'RA': 212.3495708333333,\n",
       "   'Zion': (6, 4),\n",
       "   u'class': 'AbsComponent',\n",
       "   'comment': u'',\n",
       "   'flag_N': 1,\n",
       "   u'lines': {},\n",
       "   'logN': 13.47,\n",
       "   'sig_logN': 0.04,\n",
       "   'vlim': [-31.112698372208094, 31.112698372208094],\n",
       "   'zcomp': 0.07220919596869912},\n",
       "  u'HI_z0.07227': {'A': None,\n",
       "   'DEC': 26.305845277777777,\n",
       "   'Ej': 0.0,\n",
       "   'Name': u'HI_z0.07227',\n",
       "   'RA': 212.3495708333333,\n",
       "   'Zion': (1, 1),\n",
       "   u'class': 'AbsComponent',\n",
       "   'comment': u'',\n",
       "   'flag_N': 3,\n",
       "   u'lines': {},\n",
       "   'logN': 0.0,\n",
       "   'sig_logN': 0.0,\n",
       "   'vlim': [-14140.721410168579, 14140.721410168579],\n",
       "   'zcomp': 0.07227}},\n",
       " 'em_type': None,\n",
       " 'name': u'J140923.897+261821.043',\n",
       " 'sl_type': u'IGM',\n",
       " 'user': 'xavier',\n",
       " 'zem': 0.94}"
      ]
     },
     "execution_count": 13,
     "metadata": {},
     "output_type": "execute_result"
    }
   ],
   "source": [
    "pg1407_dict"
   ]
  },
  {
   "cell_type": "code",
   "execution_count": 14,
   "metadata": {},
   "outputs": [],
   "source": [
    "ltu.savejson('PG1407+265_sl.json', pg1407_dict, easy_to_read=True, overwrite=True)"
   ]
  },
  {
   "cell_type": "markdown",
   "metadata": {},
   "source": [
    "### Read the sightline"
   ]
  },
  {
   "cell_type": "code",
   "execution_count": 13,
   "metadata": {},
   "outputs": [],
   "source": [
    "pg1407_dict = ltu.loadjson('PG1407+265_sl.json')"
   ]
  },
  {
   "cell_type": "code",
   "execution_count": 15,
   "metadata": {},
   "outputs": [
    {
     "name": "stdout",
     "output_type": "stream",
     "text": [
      "> /Users/xavier/local/Python/pyigm/pyigm/igm/igmsightline.py(43)from_dict()\n",
      "-> \n",
      "(Pdb) c\n"
     ]
    },
    {
     "data": {
      "text/plain": [
       "<IGMSightline: 14:09:23.897 +26:18:21.043, zem=0.940000>"
      ]
     },
     "execution_count": 15,
     "metadata": {},
     "output_type": "execute_result"
    }
   ],
   "source": [
    "pg1407 = IGMSightline.from_dict(pg1407_dict)\n",
    "pg1407"
   ]
  },
  {
   "cell_type": "code",
   "execution_count": 16,
   "metadata": {},
   "outputs": [
    {
     "data": {
      "text/plain": [
       "[<AbsComponent: 14:09:23.897 +26:18:21.043, Name=HI_z0.07227, Zion=(1,1), Ej=0 1 / cm, z=0.07227, vlim=-14140.7 km / s,14140.7 km / s, logN=0, sig_N=0, flag_N=3>,\n",
       " <AbsComponent: 14:09:23.897 +26:18:21.043, Name=CIV_z0.07221, Zion=(6,4), Ej=0 1 / cm, z=0.0722092, vlim=-31.1127 km / s,31.1127 km / s, logN=13.47, sig_N=0.04, flag_N=1>]"
      ]
     },
     "execution_count": 16,
     "metadata": {},
     "output_type": "execute_result"
    }
   ],
   "source": [
    "pg1407._components"
   ]
  },
  {
   "cell_type": "markdown",
   "metadata": {},
   "source": [
    "## Full Sample"
   ]
  },
  {
   "cell_type": "code",
   "execution_count": 15,
   "metadata": {},
   "outputs": [],
   "source": [
    "out_path = pyigm.__path__[0]+'/data/sightlines/Blind_CIV/'"
   ]
  },
  {
   "cell_type": "code",
   "execution_count": 24,
   "metadata": {},
   "outputs": [
    {
     "name": "stdout",
     "output_type": "stream",
     "text": [
      "Wrote: /Users/xavier/local/Python/pyigm/pyigm/data/sightlines/Blind_CIV/J001224.02-102226.40.json\n",
      "Wrote: /Users/xavier/local/Python/pyigm/pyigm/data/sightlines/Blind_CIV/J080908.14+461925.68.json\n",
      "Wrote: /Users/xavier/local/Python/pyigm/pyigm/data/sightlines/Blind_CIV/J082633.50+074248.24.json\n",
      "Wrote: /Users/xavier/local/Python/pyigm/pyigm/data/sightlines/Blind_CIV/J084349.49+411741.64.json\n",
      "Wrote: /Users/xavier/local/Python/pyigm/pyigm/data/sightlines/Blind_CIV/J091235.42+295725.56.json\n",
      "Wrote: /Users/xavier/local/Python/pyigm/pyigm/data/sightlines/Blind_CIV/J092554.43+453544.52.json\n",
      "Wrote: /Users/xavier/local/Python/pyigm/pyigm/data/sightlines/Blind_CIV/J092909.79+464424.00.json\n",
      "Wrote: /Users/xavier/local/Python/pyigm/pyigm/data/sightlines/Blind_CIV/J094621.26+471131.20.json\n",
      "Wrote: /Users/xavier/local/Python/pyigm/pyigm/data/sightlines/Blind_CIV/J094733.22+100508.88.json\n",
      "Wrote: /Users/xavier/local/Python/pyigm/pyigm/data/sightlines/Blind_CIV/J094952.92+390203.84.json\n",
      "Wrote: /Users/xavier/local/Python/pyigm/pyigm/data/sightlines/Blind_CIV/J100102.54+594414.28.json\n",
      "Wrote: /Users/xavier/local/Python/pyigm/pyigm/data/sightlines/Blind_CIV/J105151.43-005117.64.json\n",
      "Wrote: /Users/xavier/local/Python/pyigm/pyigm/data/sightlines/Blind_CIV/J105945.24+144143.08.json\n",
      "Wrote: /Users/xavier/local/Python/pyigm/pyigm/data/sightlines/Blind_CIV/J105958.82+251708.88.json\n",
      "Wrote: /Users/xavier/local/Python/pyigm/pyigm/data/sightlines/Blind_CIV/J110312.94+414154.96.json\n",
      "Wrote: /Users/xavier/local/Python/pyigm/pyigm/data/sightlines/Blind_CIV/J110406.94+314111.40.json\n",
      "Wrote: /Users/xavier/local/Python/pyigm/pyigm/data/sightlines/Blind_CIV/J111754.31+263416.68.json\n",
      "Wrote: /Users/xavier/local/Python/pyigm/pyigm/data/sightlines/Blind_CIV/J112114.21+032546.92.json\n",
      "Wrote: /Users/xavier/local/Python/pyigm/pyigm/data/sightlines/Blind_CIV/J120442.10+275411.88.json\n",
      "Wrote: /Users/xavier/local/Python/pyigm/pyigm/data/sightlines/Blind_CIV/J120721.00+262429.16.json\n",
      "Wrote: /Users/xavier/local/Python/pyigm/pyigm/data/sightlines/Blind_CIV/J121114.57+365739.60.json\n",
      "Wrote: /Users/xavier/local/Python/pyigm/pyigm/data/sightlines/Blind_CIV/J132704.13+443504.92.json\n",
      "Wrote: /Users/xavier/local/Python/pyigm/pyigm/data/sightlines/Blind_CIV/J134206.58+050524.00.json\n",
      "Wrote: /Users/xavier/local/Python/pyigm/pyigm/data/sightlines/Blind_CIV/J134231.22+382903.48.json\n",
      "Wrote: /Users/xavier/local/Python/pyigm/pyigm/data/sightlines/Blind_CIV/J145108.76+270927.00.json\n",
      "Wrote: /Users/xavier/local/Python/pyigm/pyigm/data/sightlines/Blind_CIV/J152139.67+033729.28.json\n",
      "Wrote: /Users/xavier/local/Python/pyigm/pyigm/data/sightlines/Blind_CIV/J135625.56+251523.76.json\n",
      "Wrote: /Users/xavier/local/Python/pyigm/pyigm/data/sightlines/Blind_CIV/J154553.50+093620.52.json\n",
      "Wrote: /Users/xavier/local/Python/pyigm/pyigm/data/sightlines/Blind_CIV/J121037.56+315706.12.json\n",
      "Wrote: /Users/xavier/local/Python/pyigm/pyigm/data/sightlines/Blind_CIV/J015530.02-085703.96.json\n",
      "Wrote: /Users/xavier/local/Python/pyigm/pyigm/data/sightlines/Blind_CIV/J025937.46+003736.48.json\n",
      "Wrote: /Users/xavier/local/Python/pyigm/pyigm/data/sightlines/Blind_CIV/J095915.65+050355.08.json\n",
      "Wrote: /Users/xavier/local/Python/pyigm/pyigm/data/sightlines/Blind_CIV/J134246.90+184443.80.json\n",
      "Wrote: /Users/xavier/local/Python/pyigm/pyigm/data/sightlines/Blind_CIV/J031027.82-004950.88.json\n",
      "Wrote: /Users/xavier/local/Python/pyigm/pyigm/data/sightlines/Blind_CIV/J024250.86-075914.28.json\n",
      "Wrote: /Users/xavier/local/Python/pyigm/pyigm/data/sightlines/Blind_CIV/J135712.62+170444.04.json\n",
      "Wrote: /Users/xavier/local/Python/pyigm/pyigm/data/sightlines/Blind_CIV/J021218.34-073719.92.json\n",
      "Wrote: /Users/xavier/local/Python/pyigm/pyigm/data/sightlines/Blind_CIV/J112244.88+575542.96.json\n",
      "Wrote: /Users/xavier/local/Python/pyigm/pyigm/data/sightlines/Blind_CIV/J133053.28+311930.72.json\n",
      "Wrote: /Users/xavier/local/Python/pyigm/pyigm/data/sightlines/Blind_CIV/J113457.62+255527.84.json\n",
      "Wrote: /Users/xavier/local/Python/pyigm/pyigm/data/sightlines/Blind_CIV/J123604.03+264135.88.json\n",
      "Wrote: /Users/xavier/local/Python/pyigm/pyigm/data/sightlines/Blind_CIV/J004222.29-103743.79.json\n",
      "Wrote: /Users/xavier/local/Python/pyigm/pyigm/data/sightlines/Blind_CIV/J022614.47+001529.77.json\n",
      "Wrote: /Users/xavier/local/Python/pyigm/pyigm/data/sightlines/Blind_CIV/J040148.98-054056.57.json\n",
      "Wrote: /Users/xavier/local/Python/pyigm/pyigm/data/sightlines/Blind_CIV/J080359.23+433258.42.json\n",
      "Wrote: /Users/xavier/local/Python/pyigm/pyigm/data/sightlines/Blind_CIV/J082024.22+233450.48.json\n",
      "Wrote: /Users/xavier/local/Python/pyigm/pyigm/data/sightlines/Blind_CIV/J091029.76+101413.60.json\n",
      "Wrote: /Users/xavier/local/Python/pyigm/pyigm/data/sightlines/Blind_CIV/J091440.39+282330.62.json\n",
      "Wrote: /Users/xavier/local/Python/pyigm/pyigm/data/sightlines/Blind_CIV/J092554.71+400414.12.json\n",
      "Wrote: /Users/xavier/local/Python/pyigm/pyigm/data/sightlines/Blind_CIV/J092837.98+602521.00.json\n",
      "Wrote: /Users/xavier/local/Python/pyigm/pyigm/data/sightlines/Blind_CIV/J093518.19+020415.53.json\n",
      "Wrote: /Users/xavier/local/Python/pyigm/pyigm/data/sightlines/Blind_CIV/J094331.62+053131.48.json\n",
      "Wrote: /Users/xavier/local/Python/pyigm/pyigm/data/sightlines/Blind_CIV/J095000.74+483129.39.json\n",
      "Wrote: /Users/xavier/local/Python/pyigm/pyigm/data/sightlines/Blind_CIV/J100902.07+071343.86.json\n",
      "Wrote: /Users/xavier/local/Python/pyigm/pyigm/data/sightlines/Blind_CIV/J101622.60+470643.34.json\n",
      "Wrote: /Users/xavier/local/Python/pyigm/pyigm/data/sightlines/Blind_CIV/J102218.99+013218.82.json\n",
      "Wrote: /Users/xavier/local/Python/pyigm/pyigm/data/sightlines/Blind_CIV/J111239.11+353928.22.json\n",
      "Wrote: /Users/xavier/local/Python/pyigm/pyigm/data/sightlines/Blind_CIV/J113327.79+032719.19.json\n",
      "Wrote: /Users/xavier/local/Python/pyigm/pyigm/data/sightlines/Blind_CIV/J115758.73-002220.86.json\n",
      "Wrote: /Users/xavier/local/Python/pyigm/pyigm/data/sightlines/Blind_CIV/J122035.10+385316.44.json\n",
      "Wrote: /Users/xavier/local/Python/pyigm/pyigm/data/sightlines/Blind_CIV/J123335.08+475800.48.json\n",
      "Wrote: /Users/xavier/local/Python/pyigm/pyigm/data/sightlines/Blind_CIV/J123304.05-003134.18.json\n",
      "Wrote: /Users/xavier/local/Python/pyigm/pyigm/data/sightlines/Blind_CIV/J124154.02+572107.38.json\n",
      "Wrote: /Users/xavier/local/Python/pyigm/pyigm/data/sightlines/Blind_CIV/J124511.26+335610.14.json\n",
      "Wrote: /Users/xavier/local/Python/pyigm/pyigm/data/sightlines/Blind_CIV/J132222.68+464535.21.json\n",
      "Wrote: /Users/xavier/local/Python/pyigm/pyigm/data/sightlines/Blind_CIV/J133045.15+281321.50.json\n",
      "Wrote: /Users/xavier/local/Python/pyigm/pyigm/data/sightlines/Blind_CIV/J134251.61-005345.31.json\n",
      "Wrote: /Users/xavier/local/Python/pyigm/pyigm/data/sightlines/Blind_CIV/J141910.20+420746.92.json\n",
      "Wrote: /Users/xavier/local/Python/pyigm/pyigm/data/sightlines/Blind_CIV/J143511.53+360437.24.json\n",
      "Wrote: /Users/xavier/local/Python/pyigm/pyigm/data/sightlines/Blind_CIV/J143726.14+504555.84.json\n",
      "Wrote: /Users/xavier/local/Python/pyigm/pyigm/data/sightlines/Blind_CIV/J144511.28+342825.46.json\n",
      "Wrote: /Users/xavier/local/Python/pyigm/pyigm/data/sightlines/Blind_CIV/J151428.65+361957.97.json\n",
      "Wrote: /Users/xavier/local/Python/pyigm/pyigm/data/sightlines/Blind_CIV/J155048.30+400144.90.json\n",
      "Wrote: /Users/xavier/local/Python/pyigm/pyigm/data/sightlines/Blind_CIV/J155304.92+354828.62.json\n",
      "Wrote: /Users/xavier/local/Python/pyigm/pyigm/data/sightlines/Blind_CIV/J155504.40+362848.04.json\n",
      "Wrote: /Users/xavier/local/Python/pyigm/pyigm/data/sightlines/Blind_CIV/J161649.42+415416.38.json\n",
      "Wrote: /Users/xavier/local/Python/pyigm/pyigm/data/sightlines/Blind_CIV/J161711.42+063833.50.json\n",
      "Wrote: /Users/xavier/local/Python/pyigm/pyigm/data/sightlines/Blind_CIV/J161916.55+334238.41.json\n",
      "Wrote: /Users/xavier/local/Python/pyigm/pyigm/data/sightlines/Blind_CIV/J225738.20+134045.48.json\n",
      "Wrote: /Users/xavier/local/Python/pyigm/pyigm/data/sightlines/Blind_CIV/J234500.43-005936.06.json\n",
      "Wrote: /Users/xavier/local/Python/pyigm/pyigm/data/sightlines/Blind_CIV/J023507.38-040205.67.json\n",
      "Wrote: /Users/xavier/local/Python/pyigm/pyigm/data/sightlines/Blind_CIV/J075112.31+291938.36.json\n",
      "Wrote: /Users/xavier/local/Python/pyigm/pyigm/data/sightlines/Blind_CIV/J115120.46+543733.08.json\n",
      "Wrote: /Users/xavier/local/Python/pyigm/pyigm/data/sightlines/Blind_CIV/J120858.01+454035.47.json\n",
      "Wrote: /Users/xavier/local/Python/pyigm/pyigm/data/sightlines/Blind_CIV/J134100.78+412314.08.json\n",
      "Wrote: /Users/xavier/local/Python/pyigm/pyigm/data/sightlines/Blind_CIV/J140923.91+261821.10.json\n",
      "Wrote: /Users/xavier/local/Python/pyigm/pyigm/data/sightlines/Blind_CIV/J143748.28-014710.78.json\n",
      "Wrote: /Users/xavier/local/Python/pyigm/pyigm/data/sightlines/Blind_CIV/J152424.53+095829.12.json\n",
      "Wrote: /Users/xavier/local/Python/pyigm/pyigm/data/sightlines/Blind_CIV/J163201.12+373750.01.json\n"
     ]
    }
   ],
   "source": [
    "for qso in blindciv_radec:\n",
    "    # Match to component table\n",
    "    idx = np.where(blind_tbl['QSO'] == qso['QSO'])[0]\n",
    "    coord = ltu.radec_to_coord('J'+qso['CoordString'])\n",
    "    # \n",
    "    comps = []\n",
    "    for row in blind_tbl[idx]:\n",
    "        if row['flag'] == 9:  # junk (e.g. blend)\n",
    "            continue\n",
    "        # Calculate redshift\n",
    "        if row['flag'] in [3,-99]:\n",
    "            zabs= row['z_abs'] \n",
    "        else:\n",
    "            zabs= row['z_abs'] + (1+row['z_abs'])*row['vel']/c_kms\n",
    "        # vlim\n",
    "        if row['b_dop_err'] > 9000.:\n",
    "            vlim = np.array([-100.,100.])*u.km/u.s\n",
    "        else:\n",
    "            vlim = np.sqrt(2)*row['b_dop']*np.array([-1,1])*u.km/u.s\n",
    "        # Generate\n",
    "        comp = AbsComponent(coord, name_ion(row['ion']), zabs, vlim,\n",
    "                           Ntup=(flag_dict[row['flag']], row['log_N'], row['log_N_err']))\n",
    "        # Parse b-values\n",
    "        comp.bval = row['b_dop']*u.km/u.s\n",
    "        comp.sig_bval = row['b_dop_err']*u.km/u.s\n",
    "        # Append\n",
    "        comps.append(comp)\n",
    "    # Sightline\n",
    "    sl = IGMSightline(coord, qso['zQSO'])\n",
    "    sl._components = comps\n",
    "    # Write\n",
    "    sl_dict = sl.to_dict()\n",
    "    outfile = out_path+'J{:s}.json'.format(qso['CoordString'])\n",
    "    ltu.savejson(outfile, sl_dict, easy_to_read=True, overwrite=True)\n",
    "    print(\"Wrote: {:s}\".format(outfile))"
   ]
  },
  {
   "cell_type": "code",
   "execution_count": null,
   "metadata": {},
   "outputs": [],
   "source": [
    ""
   ]
  }
 ],
 "metadata": {
  "kernelspec": {
   "display_name": "Python 2",
   "language": "python",
   "name": "python2"
  },
  "language_info": {
   "codemirror_mode": {
    "name": "ipython",
    "version": 2
   },
   "file_extension": ".py",
   "mimetype": "text/x-python",
   "name": "python",
   "nbconvert_exporter": "python",
   "pygments_lexer": "ipython2",
   "version": "2.7.11"
  }
 },
 "nbformat": 4,
 "nbformat_minor": 0
}
