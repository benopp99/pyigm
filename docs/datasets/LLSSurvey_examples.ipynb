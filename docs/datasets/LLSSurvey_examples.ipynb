{
 "cells": [
  {
   "cell_type": "markdown",
   "metadata": {},
   "source": [
    "# Examples for LLSSurvey (v2)"
   ]
  },
  {
   "cell_type": "code",
   "execution_count": 1,
   "metadata": {},
   "outputs": [
    {
     "name": "stdout",
     "output_type": "stream",
     "text": [
      "read_sets: Using set file -- \n",
      "  /home/xavier/local/Python/linetools/linetools/lists/sets/llist_v1.2.ascii\n",
      "Loading abundances from Asplund2009\n",
      "Abundances are relative by number on a logarithmic scale with H=12\n"
     ]
    }
   ],
   "source": [
    "# imports\n",
    "import seaborn as sns; sns.set_style(\"white\")\n",
    "\n",
    "import imp\n",
    "import h5py\n",
    "\n",
    "from linetools import utils as ltu\n",
    "\n",
    "from pyigm.surveys.llssurvey import LLSSurvey\n",
    "from pyigm.surveys import llssurvey as llss\n",
    "from pyigm.abssys.igmsys import AbsSubSystem\n",
    "from pyigm.abssys.lls import LLSSystem\n",
    "from pyigm.abssys import lls as pylls\n",
    "from pyigm.surveys import lls_literature as llit"
   ]
  },
  {
   "cell_type": "markdown",
   "metadata": {},
   "source": [
    "## HD-LLS (Prochaska+15, ApJS, 221, 22)"
   ]
  },
  {
   "cell_type": "markdown",
   "metadata": {},
   "source": [
    "### Simple Init"
   ]
  },
  {
   "cell_type": "code",
   "execution_count": 2,
   "metadata": {},
   "outputs": [
    {
     "name": "stdout",
     "output_type": "stream",
     "text": [
      "HD-LLS: Loading summary file /home/xavier/local/Python/pyigm/pyigm/data/LLS/HD-LLS/HD-LLS_DR1.fits\n",
      "HD-LLS: Loading ions file /home/xavier/local/Python/pyigm/pyigm/data/LLS/HD-LLS/HD-LLS_ions.json\n",
      "HD-LLS: Loading metallicity file /home/xavier/local/Python/pyigm/pyigm/data/LLS/HD-LLS/HD-LLS_DR1_dustnhi.hdf5\n",
      "Loading abundances from Asplund2009\n",
      "Abundances are relative by number on a logarithmic scale with H=12\n",
      "Done!\n"
     ]
    },
    {
     "data": {
      "text/plain": [
       "<IGMSurvey: nsys=157, type=LLS, ref=HD-LLS>"
      ]
     },
     "execution_count": 2,
     "metadata": {},
     "output_type": "execute_result"
    }
   ],
   "source": [
    "# Includes metallicity PDFs from Fumagalli+16\n",
    "hdlls = llss.LLSSurvey.load_HDLLS(load_sys=False)\n",
    "hdlls"
   ]
  },
  {
   "cell_type": "markdown",
   "metadata": {},
   "source": [
    "### With Systems (takes ~30s)"
   ]
  },
  {
   "cell_type": "code",
   "execution_count": 3,
   "metadata": {},
   "outputs": [
    {
     "name": "stdout",
     "output_type": "stream",
     "text": [
      "HD-LLS: Loading summary file /home/xavier/local/Python/pyigm/pyigm/data/LLS/HD-LLS/HD-LLS_DR1.fits\n",
      "HD-LLS: Loading ions file /home/xavier/local/Python/pyigm/pyigm/data/LLS/HD-LLS/HD-LLS_ions.json\n",
      "HD-LLS: Loading metallicity file /home/xavier/local/Python/pyigm/pyigm/data/LLS/HD-LLS/HD-LLS_DR1_dustnhi.hdf5\n",
      "Loading systems from /home/xavier/local/Python/pyigm/pyigm/data/LLS/HD-LLS/HD-LLS_sys.tar.gz\n",
      "Skipping a likely folder: SYS\n",
      "Building the data Table from the internal dict\n",
      "Loading abundances from Asplund2009\n",
      "Abundances are relative by number on a logarithmic scale with H=12\n",
      "Starting the AbsSystem build for the _dict.  Be patient..\n"
     ]
    },
    {
     "name": "stderr",
     "output_type": "stream",
     "text": [
      "/home/xavier/local/Python/linetools/linetools/spectralline.py:119: UserWarning: Key Id not in your input dict\n",
      "  warnings.warn(\"Key {:s} not in your input dict\".format(key))\n",
      "/home/xavier/local/Python/linetools/linetools/spectralline.py:119: UserWarning: Key f not in your input dict\n",
      "  warnings.warn(\"Key {:s} not in your input dict\".format(key))\n",
      "/home/xavier/local/Python/linetools/linetools/isgm/utils.py:543: UserWarning: Use table_from_complist instead!!\n",
      "  warnings.warn(\"Use table_from_complist instead!!\")\n",
      "/home/xavier/local/Python/linetools/linetools/isgm/abscomponent.py:393: UserWarning: No stars provided.  Adding one because Ej > 0.\n",
      "  warnings.warn(\"No stars provided.  Adding one because Ej > 0.\")\n"
     ]
    },
    {
     "name": "stdout",
     "output_type": "stream",
     "text": [
      "Done!\n"
     ]
    },
    {
     "data": {
      "text/plain": [
       "<IGMSurvey: nsys=157, type=LLS, ref=HD-LLS>"
      ]
     },
     "execution_count": 3,
     "metadata": {},
     "output_type": "execute_result"
    }
   ],
   "source": [
    "hdlls = LLSSurvey.load_HDLLS()\n",
    "hdlls"
   ]
  },
  {
   "cell_type": "markdown",
   "metadata": {},
   "source": [
    "### Simple Attributes"
   ]
  },
  {
   "cell_type": "code",
   "execution_count": 4,
   "metadata": {},
   "outputs": [
    {
     "data": {
      "text/plain": [
       "157"
      ]
     },
     "execution_count": 4,
     "metadata": {},
     "output_type": "execute_result"
    }
   ],
   "source": [
    "hdlls.nsys"
   ]
  },
  {
   "cell_type": "code",
   "execution_count": 5,
   "metadata": {},
   "outputs": [
    {
     "data": {
      "text/plain": [
       "array([ 19.65,  20.05,  17.55,  19.1 ,  20.  ,  19.05,  19.1 ,  19.05,\n",
       "        19.25,  20.2 ])"
      ]
     },
     "execution_count": 5,
     "metadata": {},
     "output_type": "execute_result"
    }
   ],
   "source": [
    "hdlls.NHI[0:10]"
   ]
  },
  {
   "cell_type": "code",
   "execution_count": 6,
   "metadata": {},
   "outputs": [
    {
     "data": {
      "text/plain": [
       "array(['J000345-232346.5_z2.187', 'J003454.8+163920_z3.754',\n",
       "       'J004049.5-402514_z2.816', 'J010355.3-300946_z2.908',\n",
       "       'J010516.8-184642_z2.927'],\n",
       "      dtype='<U27')"
      ]
     },
     "execution_count": 6,
     "metadata": {},
     "output_type": "execute_result"
    }
   ],
   "source": [
    "hdlls.name[0:5]"
   ]
  },
  {
   "cell_type": "markdown",
   "metadata": {},
   "source": [
    "## Ion info"
   ]
  },
  {
   "cell_type": "code",
   "execution_count": 7,
   "metadata": {},
   "outputs": [
    {
     "data": {
      "text/html": [
       "&lt;Table length=11&gt;\n",
       "<table id=\"table140158692390392\" class=\"table-striped table-bordered table-condensed\">\n",
       "<thead><tr><th>RA</th><th>DEC</th><th>comp_name</th><th>z_comp</th><th>Z</th><th>ion</th><th>Ej</th><th>vmin</th><th>vmax</th><th>ion_name</th><th>flag_N</th><th>logN</th><th>sig_logN [2]</th><th>b</th><th>sig_b</th><th>vel</th><th>sig_vel</th><th>comment</th><th>reliability</th></tr></thead>\n",
       "<thead><tr><th>deg</th><th>deg</th><th></th><th></th><th></th><th></th><th>1 / cm</th><th>km / s</th><th>km / s</th><th></th><th></th><th></th><th></th><th>km / s</th><th>km / s</th><th>km / s</th><th>km / s</th><th></th><th></th></tr></thead>\n",
       "<thead><tr><th>float64</th><th>float64</th><th>str14</th><th>float64</th><th>int64</th><th>int64</th><th>float64</th><th>float64</th><th>float64</th><th>str5</th><th>int64</th><th>float64</th><th>float64</th><th>float64</th><th>float64</th><th>float64</th><th>float64</th><th>str1</th><th>str4</th></tr></thead>\n",
       "<tr><td>179.777</td><td>13.6271388889</td><td>AlIII_z3.72300</td><td>3.723</td><td>13</td><td>3</td><td>0.0</td><td>-153.0</td><td>223.0</td><td>AlIII</td><td>3</td><td>12.471</td><td>0.0 .. 0.0</td><td>0.0</td><td>0.0</td><td>0.0</td><td>0.0</td><td></td><td>none</td></tr>\n",
       "<tr><td>179.777</td><td>13.6271388889</td><td>AlII_z3.72300</td><td>3.723</td><td>13</td><td>2</td><td>0.0</td><td>-153.0</td><td>223.0</td><td>AlII</td><td>1</td><td>12.742</td><td>0.027 .. 0.027</td><td>0.0</td><td>0.0</td><td>0.0</td><td>0.0</td><td></td><td>none</td></tr>\n",
       "<tr><td>179.777</td><td>13.6271388889</td><td>CII*_z3.72300</td><td>3.723</td><td>6</td><td>2</td><td>63.42</td><td>-77.0</td><td>223.0</td><td>CII</td><td>0</td><td>0.0</td><td>0.0 .. 0.0</td><td>0.0</td><td>0.0</td><td>0.0</td><td>0.0</td><td></td><td>none</td></tr>\n",
       "<tr><td>179.777</td><td>13.6271388889</td><td>CII_z3.72300</td><td>3.723</td><td>6</td><td>2</td><td>0.0</td><td>-153.0</td><td>223.0</td><td>CII</td><td>2</td><td>14.68</td><td>0.01 .. 0.01</td><td>0.0</td><td>0.0</td><td>0.0</td><td>0.0</td><td></td><td>none</td></tr>\n",
       "<tr><td>179.777</td><td>13.6271388889</td><td>CIV_z3.72300</td><td>3.723</td><td>6</td><td>4</td><td>0.0</td><td>-153.0</td><td>223.0</td><td>CIV</td><td>1</td><td>13.906</td><td>0.021 .. 0.021</td><td>0.0</td><td>0.0</td><td>0.0</td><td>0.0</td><td></td><td>none</td></tr>\n",
       "<tr><td>179.777</td><td>13.6271388889</td><td>CI_z3.72300</td><td>3.723</td><td>6</td><td>1</td><td>0.0</td><td>-153.0</td><td>223.0</td><td>CI</td><td>3</td><td>13.061</td><td>0.0 .. 0.0</td><td>0.0</td><td>0.0</td><td>0.0</td><td>0.0</td><td></td><td>none</td></tr>\n",
       "<tr><td>179.777</td><td>13.6271388889</td><td>CrII_z3.72300</td><td>3.723</td><td>24</td><td>2</td><td>0.0</td><td>-153.0</td><td>223.0</td><td>CrII</td><td>3</td><td>13.42</td><td>0.0 .. 0.0</td><td>0.0</td><td>0.0</td><td>0.0</td><td>0.0</td><td></td><td>none</td></tr>\n",
       "<tr><td>179.777</td><td>13.6271388889</td><td>NiII_z3.72300</td><td>3.723</td><td>28</td><td>2</td><td>0.0</td><td>-153.0</td><td>223.0</td><td>NiII</td><td>3</td><td>13.472</td><td>0.0 .. 0.0</td><td>0.0</td><td>0.0</td><td>0.0</td><td>0.0</td><td></td><td>none</td></tr>\n",
       "<tr><td>179.777</td><td>13.6271388889</td><td>SiII_z3.72300</td><td>3.723</td><td>14</td><td>2</td><td>0.0</td><td>-153.0</td><td>223.0</td><td>SiII</td><td>1</td><td>14.031</td><td>0.02 .. 0.02</td><td>0.0</td><td>0.0</td><td>0.0</td><td>0.0</td><td></td><td>none</td></tr>\n",
       "<tr><td>179.777</td><td>13.6271388889</td><td>SiIV_z3.72300</td><td>3.723</td><td>14</td><td>4</td><td>0.0</td><td>-153.0</td><td>223.0</td><td>SiIV</td><td>1</td><td>13.568</td><td>0.018 .. 0.018</td><td>0.0</td><td>0.0</td><td>0.0</td><td>0.0</td><td></td><td>none</td></tr>\n",
       "<tr><td>179.777</td><td>13.6271388889</td><td>ZnII_z3.72300</td><td>3.723</td><td>30</td><td>2</td><td>0.0</td><td>-153.0</td><td>223.0</td><td>ZnII</td><td>3</td><td>12.971</td><td>0.0 .. 0.0</td><td>0.0</td><td>0.0</td><td>0.0</td><td>0.0</td><td></td><td>none</td></tr>\n",
       "</table>"
      ],
      "text/plain": [
       "<Table length=11>\n",
       "   RA        DEC        comp_name     z_comp ... sig_vel comment reliability\n",
       "  deg        deg                             ...  km / s                    \n",
       "float64    float64        str14      float64 ... float64   str1      str4   \n",
       "------- ------------- -------------- ------- ... ------- ------- -----------\n",
       "179.777 13.6271388889 AlIII_z3.72300   3.723 ...     0.0                none\n",
       "179.777 13.6271388889  AlII_z3.72300   3.723 ...     0.0                none\n",
       "179.777 13.6271388889  CII*_z3.72300   3.723 ...     0.0                none\n",
       "179.777 13.6271388889   CII_z3.72300   3.723 ...     0.0                none\n",
       "179.777 13.6271388889   CIV_z3.72300   3.723 ...     0.0                none\n",
       "179.777 13.6271388889    CI_z3.72300   3.723 ...     0.0                none\n",
       "179.777 13.6271388889  CrII_z3.72300   3.723 ...     0.0                none\n",
       "179.777 13.6271388889  NiII_z3.72300   3.723 ...     0.0                none\n",
       "179.777 13.6271388889  SiII_z3.72300   3.723 ...     0.0                none\n",
       "179.777 13.6271388889  SiIV_z3.72300   3.723 ...     0.0                none\n",
       "179.777 13.6271388889  ZnII_z3.72300   3.723 ...     0.0                none"
      ]
     },
     "execution_count": 7,
     "metadata": {},
     "output_type": "execute_result"
    }
   ],
   "source": [
    "hdlls._abs_sys[77]._ionN"
   ]
  },
  {
   "cell_type": "code",
   "execution_count": 8,
   "metadata": {},
   "outputs": [
    {
     "name": "stderr",
     "output_type": "stream",
     "text": [
      "/home/xavier/local/Python/pyigm/pyigm/surveys/igmsurvey.py:500: UserWarning: Two components for ion (6, 2) for system <LLSSystem: J113418.96+574204.7_z3.410 11:34:18.96 +57:42:04.7, zabs=3.41, logNHI=17.9743, tau_LL=5.97492, [Z/H]=0 dex>.  Taking the first one\n",
      "  warnings.warn(\"Two components for ion {} for system {}.  Taking the first one\".format(Zion, abs_sys))\n",
      "/home/xavier/local/Python/pyigm/pyigm/surveys/igmsurvey.py:500: UserWarning: Two components for ion (6, 2) for system <LLSSystem: J200324.1-325144_z3.188 20:03:24.1 -32:51:44, zabs=3.1879, logNHI=19.879, tau_LL=479.769, [Z/H]=0 dex>.  Taking the first one\n",
      "  warnings.warn(\"Two components for ion {} for system {}.  Taking the first one\".format(Zion, abs_sys))\n",
      "/home/xavier/local/Python/pyigm/pyigm/surveys/igmsurvey.py:500: UserWarning: Two components for ion (6, 2) for system <LLSSystem: J200324.1-325144_z3.548 20:03:24.1 -32:51:44, zabs=3.54791, logNHI=18.0281, tau_LL=6.76288, [Z/H]=0 dex>.  Taking the first one\n",
      "  warnings.warn(\"Two components for ion {} for system {}.  Taking the first one\".format(Zion, abs_sys))\n"
     ]
    }
   ],
   "source": [
    "CII_clms = hdlls.ions((6,2))\n",
    "#CII_clms[70:80]"
   ]
  },
  {
   "cell_type": "code",
   "execution_count": 9,
   "metadata": {},
   "outputs": [
    {
     "ename": "NameError",
     "evalue": "name 'np' is not defined",
     "output_type": "error",
     "traceback": [
      "\u001b[0;31m---------------------------------------------------------------------------\u001b[0m",
      "\u001b[0;31mNameError\u001b[0m                                 Traceback (most recent call last)",
      "\u001b[0;32m<ipython-input-9-32627d7abd92>\u001b[0m in \u001b[0;36m<module>\u001b[0;34m()\u001b[0m\n\u001b[1;32m      1\u001b[0m \u001b[0mgdCII\u001b[0m \u001b[0;34m=\u001b[0m \u001b[0mCII_clms\u001b[0m\u001b[0;34m[\u001b[0m\u001b[0;34m'flag_N'\u001b[0m\u001b[0;34m]\u001b[0m\u001b[0;34m>\u001b[0m\u001b[0;36m0\u001b[0m\u001b[0;34m\u001b[0m\u001b[0m\n\u001b[0;32m----> 2\u001b[0;31m \u001b[0mnp\u001b[0m\u001b[0;34m.\u001b[0m\u001b[0msum\u001b[0m\u001b[0;34m(\u001b[0m\u001b[0mgdCII\u001b[0m\u001b[0;34m)\u001b[0m\u001b[0;34m\u001b[0m\u001b[0m\n\u001b[0m",
      "\u001b[0;31mNameError\u001b[0m: name 'np' is not defined"
     ]
    }
   ],
   "source": [
    "gdCII = CII_clms['flag_N']>0\n",
    "np.sum(gdCII) "
   ]
  },
  {
   "cell_type": "markdown",
   "metadata": {},
   "source": [
    "### Simple Plot"
   ]
  },
  {
   "cell_type": "code",
   "execution_count": null,
   "metadata": {},
   "outputs": [],
   "source": [
    "# NHI\n",
    "p_NHI = figure(plot_width=400, plot_height=400, title='HD-LLS NHI')#,background_fill=\"#E8DDCB\")\n",
    "hist, edges = np.histogram(hdlls.NHI, range=(17.,20.4), density=True, bins=20)\n",
    "p_NHI.quad(top=hist, bottom=0, left=edges[:-1], right=edges[1:],fill_color='blue')\n",
    "p_NHI.xaxis.axis_label = 'N_HI'\n",
    "# z\n",
    "p_z = figure(plot_width=400, plot_height=400, title='HD-LLS z')#,background_fill=\"#E8DDCB\")\n",
    "hist, edges = np.histogram(hdlls.zabs, range=(2.4, 4.5), density=True, bins=20)\n",
    "p_z.quad(top=hist, bottom=0, left=edges[:-1], right=edges[1:],fill_color='red')\n",
    "p_z.xaxis.axis_label = 'z_LLS'\n",
    "# Show\n",
    "show(hplot(p_NHI,p_z))"
   ]
  },
  {
   "cell_type": "markdown",
   "metadata": {},
   "source": [
    "----"
   ]
  },
  {
   "cell_type": "markdown",
   "metadata": {},
   "source": [
    "### Metallicity PDFs (Fumagalli+16, MNRAS, 455, 4100)"
   ]
  },
  {
   "cell_type": "code",
   "execution_count": null,
   "metadata": {},
   "outputs": [],
   "source": [
    "print('Mean metallicity of {:s} is {:g}'.format(hdlls._abs_sys[0], hdlls._abs_sys[0].metallicity.meanZH))"
   ]
  },
  {
   "cell_type": "markdown",
   "metadata": {},
   "source": [
    "## SDSS LLS (Prochaska+10, ApJ, 718, 391)"
   ]
  },
  {
   "cell_type": "markdown",
   "metadata": {},
   "source": [
    "### All"
   ]
  },
  {
   "cell_type": "code",
   "execution_count": null,
   "metadata": {},
   "outputs": [],
   "source": [
    "sdss_dr7_all = LLSSurvey.load_SDSS_DR7(sample='all')\n",
    "sdss_dr7_all"
   ]
  },
  {
   "cell_type": "code",
   "execution_count": null,
   "metadata": {},
   "outputs": [],
   "source": [
    "sdss_dr7_all.sightlines[0:5]"
   ]
  },
  {
   "cell_type": "markdown",
   "metadata": {},
   "source": [
    "### Stat"
   ]
  },
  {
   "cell_type": "code",
   "execution_count": null,
   "metadata": {},
   "outputs": [],
   "source": [
    "sdss_dr7_stat = LLSSurvey.load_SDSS_DR7()"
   ]
  },
  {
   "cell_type": "code",
   "execution_count": null,
   "metadata": {},
   "outputs": [],
   "source": [
    "len(sdss_dr7_stat.NHI)"
   ]
  },
  {
   "cell_type": "markdown",
   "metadata": {},
   "source": [
    "### Sky Map"
   ]
  },
  {
   "cell_type": "code",
   "execution_count": null,
   "metadata": {},
   "outputs": [],
   "source": [
    "all_coord = sdss_dr7_all.coord\n",
    "stat_coord = sdss_dr7_stat.coord"
   ]
  },
  {
   "cell_type": "code",
   "execution_count": null,
   "metadata": {
    "collapsed": true
   },
   "outputs": [],
   "source": [
    "%matplotlib inline"
   ]
  },
  {
   "cell_type": "code",
   "execution_count": null,
   "metadata": {},
   "outputs": [],
   "source": [
    "plt.figure(figsize=(12, 7))\n",
    "plt.clf()\n",
    "# Setup\n",
    "ax = plt.axes(projection='mollweide')\n",
    "ax = plt.axes()\n",
    "ax.set_xlabel('RA')\n",
    "ax.set_ylabel('DEC')\n",
    "ax.set_xticklabels(np.arange(30,331,30))\n",
    "ax.grid(True)\n",
    "# All\n",
    "plt.scatter((all_coord.ra.value-180.)*np.pi/180., all_coord.dec.value*np.pi/180.,\n",
    "            marker='o', s=3., lw=0.5, edgecolors='gray', facecolors='none', \n",
    "            label='all')\n",
    "# Stat\n",
    "plt.scatter((stat_coord.ra.value-180.)*np.pi/180., stat_coord.dec.value*np.pi/180.,\n",
    "            marker='o', s=3., lw=0.5, edgecolors='blue', facecolors='blue', \n",
    "            label='stat')\n",
    "# Legend\n",
    "legend = plt.legend(loc='upper right', scatterpoints=1, borderpad=0.2,\n",
    "                        handletextpad=0.1, fontsize='large')\n",
    "plt.show()"
   ]
  },
  {
   "cell_type": "markdown",
   "metadata": {},
   "source": [
    "----"
   ]
  },
  {
   "cell_type": "markdown",
   "metadata": {},
   "source": [
    "## $z \\sim 2.5$ HST (O'Meara et al. 2013, ApJ, 765, 137)"
   ]
  },
  {
   "cell_type": "markdown",
   "metadata": {},
   "source": [
    "### ACS"
   ]
  },
  {
   "cell_type": "code",
   "execution_count": null,
   "metadata": {},
   "outputs": [],
   "source": [
    "acs = LLSSurvey.load_HST_ACS()\n",
    "acs"
   ]
  },
  {
   "cell_type": "markdown",
   "metadata": {},
   "source": [
    "### WFC3"
   ]
  },
  {
   "cell_type": "code",
   "execution_count": null,
   "metadata": {},
   "outputs": [],
   "source": [
    "wfc3 = LLSSurvey.load_HST_WFC3()\n",
    "wfc3"
   ]
  },
  {
   "cell_type": "markdown",
   "metadata": {},
   "source": [
    "### Combined"
   ]
  },
  {
   "cell_type": "code",
   "execution_count": null,
   "metadata": {},
   "outputs": [],
   "source": [
    "HST_LLS = wfc3 + acs\n",
    "HST_LLS"
   ]
  },
  {
   "cell_type": "markdown",
   "metadata": {},
   "source": [
    "----"
   ]
  },
  {
   "cell_type": "markdown",
   "metadata": {},
   "source": [
    "##  $z \\sim 3$  MagE  (Fumagalli et al. 2013, ApJ, 775, 78)"
   ]
  },
  {
   "cell_type": "markdown",
   "metadata": {},
   "source": [
    "### Load"
   ]
  },
  {
   "cell_type": "code",
   "execution_count": null,
   "metadata": {},
   "outputs": [],
   "source": [
    "z3mage = LLSSurvey.load_mage_z3()\n",
    "z3mage"
   ]
  },
  {
   "cell_type": "code",
   "execution_count": null,
   "metadata": {},
   "outputs": [],
   "source": [
    "z3mage_NC = LLSSurvey.load_mage_z3(sample='non-color')\n",
    "z3mage_NC"
   ]
  },
  {
   "cell_type": "markdown",
   "metadata": {},
   "source": [
    "### g(z) plot"
   ]
  },
  {
   "cell_type": "code",
   "execution_count": null,
   "metadata": {},
   "outputs": [],
   "source": [
    "zeval, gz = z3mage.calculate_gz()"
   ]
  },
  {
   "cell_type": "code",
   "execution_count": null,
   "metadata": {},
   "outputs": [],
   "source": [
    "zeval[4000], gz[4000]"
   ]
  },
  {
   "cell_type": "code",
   "execution_count": null,
   "metadata": {},
   "outputs": [],
   "source": [
    "plt.clf()\n",
    "plt.plot(zeval, gz)\n",
    "plt.xlabel('z')\n",
    "plt.ylabel('g(z)')\n",
    "plt.show()"
   ]
  },
  {
   "cell_type": "markdown",
   "metadata": {},
   "source": [
    "## Literature"
   ]
  },
  {
   "cell_type": "code",
   "execution_count": null,
   "metadata": {},
   "outputs": [],
   "source": [
    "from pyigm.surveys.lls_literature import log_sum"
   ]
  },
  {
   "cell_type": "code",
   "execution_count": null,
   "metadata": {},
   "outputs": [],
   "source": [
    "reload(llit)\n",
    "zonak04 = llit.zonak2004()\n",
    "print(zonak04)\n",
    "zonak04._ionN"
   ]
  },
  {
   "cell_type": "code",
   "execution_count": null,
   "metadata": {},
   "outputs": [],
   "source": [
    "reload(llit)\n",
    "jenkins05 = llit.jenkins2005()\n",
    "jenkins05._ionN"
   ]
  },
  {
   "cell_type": "code",
   "execution_count": null,
   "metadata": {},
   "outputs": [],
   "source": [
    "reload(llit)\n",
    "tripp05 = llit.tripp2005()\n",
    "tripp05._ionN"
   ]
  },
  {
   "cell_type": "code",
   "execution_count": null,
   "metadata": {},
   "outputs": [],
   "source": [
    "reload(llit)\n",
    "peroux06a = llit.peroux06a()\n",
    "print(peroux06a)\n",
    "peroux06a._ionN\n"
   ]
  },
  {
   "cell_type": "code",
   "execution_count": null,
   "metadata": {},
   "outputs": [],
   "source": [
    "reload(llit)\n",
    "peroux06b = llit.peroux06b()\n",
    "print(peroux06b)\n",
    "peroux06b._ionN"
   ]
  },
  {
   "cell_type": "code",
   "execution_count": null,
   "metadata": {},
   "outputs": [],
   "source": [
    "reload(llit)\n",
    "meiring06 = llit.meiring06()\n",
    "print(meiring06)\n",
    "meiring06._ionN"
   ]
  },
  {
   "cell_type": "code",
   "execution_count": null,
   "metadata": {},
   "outputs": [],
   "source": [
    "reload(llit)\n",
    "meiring07 = llit.meiring07()\n",
    "for imeiring07 in meiring07:\n",
    "    print(imeiring07)\n",
    "    print(imeiring07._ionN)"
   ]
  },
  {
   "cell_type": "code",
   "execution_count": null,
   "metadata": {},
   "outputs": [],
   "source": [
    "reload(llit)\n",
    "meiring08 = llit.meiring08()\n",
    "for imeiring08 in meiring08:\n",
    "    print(imeiring08)\n",
    "    print(imeiring08._ionN)"
   ]
  },
  {
   "cell_type": "code",
   "execution_count": null,
   "metadata": {},
   "outputs": [],
   "source": [
    "reload(llit)\n",
    "nestor08 = llit.nestor08()\n",
    "print(nestor08)\n",
    "nestor08._ionN"
   ]
  },
  {
   "cell_type": "code",
   "execution_count": null,
   "metadata": {},
   "outputs": [],
   "source": [
    "reload(llit)\n",
    "meiring09 = llit.meiring09()\n",
    "for imeiring09 in meiring09:\n",
    "    print(imeiring09)\n",
    "    print(imeiring09._ionN)"
   ]
  },
  {
   "cell_type": "code",
   "execution_count": null,
   "metadata": {},
   "outputs": [],
   "source": [
    "reload(llit)\n",
    "dessauges09 = llit.dessauges09()\n",
    "for ills in dessauges09:\n",
    "    print(ills)\n",
    "    print(ills._ionN)"
   ]
  },
  {
   "cell_type": "code",
   "execution_count": null,
   "metadata": {},
   "outputs": [],
   "source": [
    "reload(llit)\n",
    "tumlinson11 = llit.tumlinson11()\n",
    "print(tumlinson11)\n",
    "tumlinson11._ionN"
   ]
  },
  {
   "cell_type": "code",
   "execution_count": null,
   "metadata": {},
   "outputs": [],
   "source": [
    "reload(llit)\n",
    "kacprzak12 = llit.kacprzak12()\n",
    "print(kacprzak12)\n",
    "kacprzak12._ionN"
   ]
  },
  {
   "cell_type": "code",
   "execution_count": null,
   "metadata": {},
   "outputs": [],
   "source": [
    "reload(llit)\n",
    "battisti12 = llit.battisti12()\n",
    "for ills in battisti12:\n",
    "    print(ills)\n",
    "    print(ills._ionN)"
   ]
  },
  {
   "cell_type": "markdown",
   "metadata": {},
   "source": [
    "### Load them All"
   ]
  },
  {
   "cell_type": "code",
   "execution_count": null,
   "metadata": {},
   "outputs": [],
   "source": [
    "lls_lit = llit.load_lls_lit()\n",
    "lls_lit"
   ]
  },
  {
   "cell_type": "code",
   "execution_count": null,
   "metadata": {},
   "outputs": [],
   "source": [
    "lls_lit.ref"
   ]
  },
  {
   "cell_type": "markdown",
   "metadata": {},
   "source": [
    "### Plot"
   ]
  },
  {
   "cell_type": "code",
   "execution_count": null,
   "metadata": {},
   "outputs": [],
   "source": [
    "# NHI\n",
    "p_NHI = figure(plot_width=400, plot_height=400, title='Lit-LLS NHI')#,background_fill=\"#E8DDCB\")\n",
    "hist, edges = np.histogram(lls_lit.NHI, range=(17.,20.4), density=True, bins=20)\n",
    "p_NHI.quad(top=hist, bottom=0, left=edges[:-1], right=edges[1:],fill_color='blue')\n",
    "p_NHI.xaxis.axis_label = 'N_HI'\n",
    "# z\n",
    "p_z = figure(plot_width=400, plot_height=400, title='Lit-LLS z')#,background_fill=\"#E8DDCB\")\n",
    "hist, edges = np.histogram(lls_lit.zabs, range=(0., 4.5), bins=20)\n",
    "p_z.quad(top=hist, bottom=0, left=edges[:-1], right=edges[1:],fill_color='red')\n",
    "p_z.xaxis.axis_label = 'z_LLS'\n",
    "# Show\n",
    "show(hplot(p_NHI,p_z))"
   ]
  }
 ],
 "metadata": {
  "kernelspec": {
   "display_name": "Python 3",
   "language": "python",
   "name": "python3"
  },
  "language_info": {
   "codemirror_mode": {
    "name": "ipython",
    "version": 3
   },
   "file_extension": ".py",
   "mimetype": "text/x-python",
   "name": "python",
   "nbconvert_exporter": "python",
   "pygments_lexer": "ipython3",
   "version": "3.6.3"
  }
 },
 "nbformat": 4,
 "nbformat_minor": 1
}
