{
 "cells": [
  {
   "cell_type": "markdown",
   "metadata": {},
   "source": [
    "# Notebook to organize Ingestion of XQ100 datasets (v1.3)"
   ]
  },
  {
   "cell_type": "code",
   "execution_count": 1,
   "metadata": {
    "collapsed": true
   },
   "outputs": [],
   "source": [
    "# imports\n",
    "import warnings\n",
    "import pdb\n",
    "\n",
    "from astropy import units as u\n",
    "from astropy.table import Table\n",
    "from astropy.coordinates import SkyCoord\n",
    "\n",
    "from linetools.spectralline import AbsLine\n",
    "from linetools import utils as ltu\n",
    "from linetools.isgm.abscomponent import AbsComponent\n",
    "from linetools.isgm import utils as ltiu\n",
    "from linetools.analysis import absline as laa\n",
    "\n",
    "\n",
    "import pyigm\n",
    "from pyigm.surveys import dlasurvey as dlasvy\n",
    "from pyigm.surveys import utils as pyiu\n",
    "from pyigm.abssys.dla import DLASystem"
   ]
  },
  {
   "cell_type": "markdown",
   "metadata": {},
   "source": [
    "## Meta Table"
   ]
  },
  {
   "cell_type": "code",
   "execution_count": 2,
   "metadata": {
    "collapsed": true
   },
   "outputs": [],
   "source": [
    "ppath = pyigm.__path__[0]"
   ]
  },
  {
   "cell_type": "code",
   "execution_count": 3,
   "metadata": {
    "collapsed": false
   },
   "outputs": [
    {
     "name": "stderr",
     "output_type": "stream",
     "text": [
      "WARNING: UnitsWarning: '-' did not parse as fits unit: Invalid character at col 0 [astropy.units.core]\n",
      "WARNING: UnitsWarning: '[cm-2]' did not parse as fits unit: Invalid character at col 0 [astropy.units.core]\n"
     ]
    }
   ],
   "source": [
    "xqmeta_file = ppath+'/data/DLA/XQ-100/XQ100_v1_2.fits.gz'\n",
    "xq100_meta = Table.read(xqmeta_file)"
   ]
  },
  {
   "cell_type": "code",
   "execution_count": 4,
   "metadata": {
    "collapsed": false
   },
   "outputs": [
    {
     "data": {
      "text/html": [
       "&lt;Table masked=True length=5&gt;\n",
       "<table id=\"table4685295120\" class=\"table-striped table-bordered table-condensed\">\n",
       "<thead><tr><th>OBJ_NAME</th><th>RA</th><th>DEC</th><th>FILE_NAME</th><th>Z_QSO</th><th>ERR_ZQSO</th><th>N_OBS</th><th>MJD_OBS [3]</th><th>SEEING_START [3]</th><th>SEEING_END [3]</th><th>SNR_1700 [3]</th><th>SNR_3000 [3]</th><th>SNR_3600 [3]</th><th>CALIB_FLAG [3]</th><th>COMBINED_FLAG</th><th>COMBINED_SNR_17</th><th>COMBINED_SNR_30</th><th>COMBINED_SNR_36</th><th>HR_FLAG</th><th>JOHNSON_MAG [3]</th><th>SDSS_PSFMAG [5]</th><th>SDSS_ERR_PSFMAG [5]</th><th>DR7Q_MATCHED</th><th>PLATE_DR7Q</th><th>MJD_DR7Q</th><th>FIBER_DR7Q</th><th>DR12Q_MATCHED</th><th>N_DR12Q</th><th>PLATE_DR12Q [2]</th><th>MJD_DR12Q [2]</th><th>FIBER_DR12Q [2]</th><th>FIRST_MATCHED</th><th>FIRST_FLUX</th><th>FIRST_SNR</th><th>MATCHED_TMASS</th><th>TMASS_MAG [3]</th><th>TMASS_ERR_MAG [3]</th><th>TMASS_SNR [3]</th><th>RD_FLAG</th><th>MATCHED_WISE</th><th>WISE_MAG [4]</th><th>WISE_ERR_MAG [4]</th><th>WISE_SNR [4]</th><th>WISE_RCHI2 [4]</th><th>CC_FLAG</th><th>PH_QUAL</th><th>N_ABS</th><th>Z_ABS [4]</th><th>NHI_ABS [4]</th><th>ERR_NHI_ABS [4]</th></tr></thead>\n",
       "<thead><tr><th>-</th><th>deg</th><th>deg</th><th>-</th><th>-</th><th>-</th><th>-</th><th>-</th><th>arcsec</th><th>arcsec</th><th>-</th><th>-</th><th>-</th><th>-</th><th>-</th><th>-</th><th>-</th><th>-</th><th>-</th><th>-</th><th>-</th><th>-</th><th>-</th><th>-</th><th>-</th><th>-</th><th>-</th><th>-</th><th>-</th><th>-</th><th>-</th><th>-</th><th>mJy</th><th>-</th><th>-</th><th>-</th><th>-</th><th>-</th><th>-</th><th>-</th><th>-</th><th>-</th><th>-</th><th>-</th><th>-</th><th>-</th><th>-</th><th>-</th><th>[cm-2]</th><th>[cm-2]</th></tr></thead>\n",
       "<thead><tr><th>str24</th><th>float64</th><th>float64</th><th>str1</th><th>float32</th><th>float32</th><th>int32</th><th>float32</th><th>float32</th><th>float32</th><th>float64</th><th>float64</th><th>float64</th><th>float64</th><th>int16</th><th>float64</th><th>float64</th><th>float64</th><th>int16</th><th>float32</th><th>float64</th><th>float64</th><th>int16</th><th>int32</th><th>int32</th><th>int32</th><th>int16</th><th>int32</th><th>int32</th><th>int32</th><th>int32</th><th>int32</th><th>float64</th><th>float64</th><th>int16</th><th>float64</th><th>float64</th><th>float64</th><th>str3</th><th>int16</th><th>float64</th><th>float64</th><th>float64</th><th>float64</th><th>str4</th><th>str3</th><th>int16</th><th>float64</th><th>float64</th><th>float64</th></tr></thead>\n",
       "<tr><td>HB89 0000-263</td><td>0.844985</td><td>-26.0554</td><td>-</td><td>4.12544</td><td>0.0002136</td><td>1</td><td>56219.1 .. -1.0</td><td>0.98 .. -1.0</td><td>1.45 .. -1.0</td><td>78.5073013306 .. -1.0</td><td>99.202003479 .. -1.0</td><td>-1.0 .. -1.0</td><td>0.0 .. -1.0</td><td>0</td><td>-1.0</td><td>-1.0</td><td>-1.0</td><td>1</td><td>18.0 .. -1.0</td><td>-1.0 .. -1.0</td><td>-1.0 .. -1.0</td><td>0</td><td>-1</td><td>-1</td><td>-1</td><td>0</td><td>0</td><td>-1 .. -1</td><td>-1 .. -1</td><td>-1 .. -1</td><td>-1</td><td>0.0</td><td>0.0</td><td>1</td><td>16.2700004578 .. 14.7779998779</td><td>0.11400000006 .. 0.107000000775</td><td>9.80000019073 .. 9.69999980927</td><td>222</td><td>1</td><td>13.9270000458 .. 7.47700023651</td><td>0.0280000008643 .. 0.134000003338</td><td>39.0 .. 8.10000038147</td><td>1.01900005341 .. 1.01800000668</td><td>0000</td><td>BCB</td><td>2</td><td>3.054500103 .. -1.0</td><td>20.2000007629 .. -1.0</td><td>0.10000000149 .. -1.0</td></tr>\n",
       "<tr><td>BR J0006-6208</td><td>1.715033</td><td>-62.13355</td><td>-</td><td>4.43995</td><td>0.00089465</td><td>1</td><td>56209.2 .. -1.0</td><td>1.05 .. -1.0</td><td>1.43 .. -1.0</td><td>19.7355003357 .. -1.0</td><td>22.1355991364 .. -1.0</td><td>-1.0 .. -1.0</td><td>2.0 .. -1.0</td><td>0</td><td>-1.0</td><td>-1.0</td><td>-1.0</td><td>1</td><td>-1.0 .. -1.0</td><td>-1.0 .. -1.0</td><td>-1.0 .. -1.0</td><td>0</td><td>-1</td><td>-1</td><td>-1</td><td>0</td><td>0</td><td>-1 .. -1</td><td>-1 .. -1</td><td>-1 .. -1</td><td>-1</td><td>0.0</td><td>0.0</td><td>0</td><td>-1.0 .. -1.0</td><td>-1.0 .. -1.0</td><td>-1.0 .. -1.0</td><td>-</td><td>1</td><td>15.1999998093 .. 8.34200000763</td><td>0.0340000018477 .. 0.287999987602</td><td>32.2000007629 .. 3.79999995232</td><td>0.882799983025 .. 0.972999989986</td><td>0000</td><td>-</td><td>3</td><td>3.20300006866 .. -1.0</td><td>20.8999996185 .. -1.0</td><td>0.10000000149 .. -1.0</td></tr>\n",
       "<tr><td>BR J0030-5159</td><td>7.643627</td><td>-51.49546</td><td>-</td><td>4.17286</td><td>0.00014623</td><td>1</td><td>56211.2 .. -1.0</td><td>0.82 .. -1.0</td><td>-1.0 .. -1.0</td><td>17.7509002686 .. -1.0</td><td>21.5370006561 .. -1.0</td><td>-1.0 .. -1.0</td><td>0.0 .. -1.0</td><td>0</td><td>-1.0</td><td>-1.0</td><td>-1.0</td><td>1</td><td>-1.0 .. -1.0</td><td>-1.0 .. -1.0</td><td>-1.0 .. -1.0</td><td>0</td><td>-1</td><td>-1</td><td>-1</td><td>0</td><td>0</td><td>-1 .. -1</td><td>-1 .. -1</td><td>-1 .. -1</td><td>-1</td><td>0.0</td><td>0.0</td><td>0</td><td>-1.0 .. -1.0</td><td>-1.0 .. -1.0</td><td>-1.0 .. -1.0</td><td>-</td><td>1</td><td>15.468000412 .. 8.77700042725</td><td>0.0370000004768 .. 0.0</td><td>29.7000007629 .. 0.0</td><td>0.965099990368 .. 0.0</td><td></td><td>-</td><td>0</td><td>-1.0 .. -1.0</td><td>-1.0 .. -1.0</td><td>-1.0 .. -1.0</td></tr>\n",
       "<tr><td>PSS J0034+1639</td><td>8.727975</td><td>16.65506</td><td>-</td><td>4.29243</td><td>0.00019559</td><td>1</td><td>56219.1 .. -1.0</td><td>1.05 .. -1.0</td><td>1.34 .. -1.0</td><td>28.351600647 .. -1.0</td><td>30.108499527 .. -1.0</td><td>-1.0 .. -1.0</td><td>0.0 .. -1.0</td><td>0</td><td>-1.0</td><td>-1.0</td><td>-1.0</td><td>0</td><td>-1.0 .. -1.0</td><td>-1.0 .. -1.0</td><td>-1.0 .. -1.0</td><td>0</td><td>-1</td><td>-1</td><td>-1</td><td>0</td><td>0</td><td>-1 .. -1</td><td>-1 .. -1</td><td>-1 .. -1</td><td>-1</td><td>0.0</td><td>0.0</td><td>0</td><td>-1.0 .. -1.0</td><td>-1.0 .. -1.0</td><td>-1.0 .. -1.0</td><td>-</td><td>1</td><td>14.7530002594 .. 8.12699985504</td><td>0.0329999998212 .. 0.0</td><td>33.0 .. 0.0</td><td>0.85949999094 .. 0.0</td><td></td><td>-</td><td>3</td><td>3.75500011444 .. -1.0</td><td>20.3999996185 .. -1.0</td><td>0.15000000596 .. -1.0</td></tr>\n",
       "<tr><td>SDSS J004219.74-102009.4</td><td>10.582215</td><td>-10.33674</td><td>-</td><td>3.86293</td><td>0.00027549</td><td>1</td><td>56210.1 .. -1.0</td><td>0.58 .. -1.0</td><td>0.6 .. -1.0</td><td>51.7294006348 .. -1.0</td><td>48.0922012329 .. -1.0</td><td>57.8768005371 .. -1.0</td><td>0.0 .. -1.0</td><td>0</td><td>-1.0</td><td>-1.0</td><td>-1.0</td><td>1</td><td>20.57 .. -1.0</td><td>-1.0 .. -1.0</td><td>-1.0 .. -1.0</td><td>0</td><td>-1</td><td>-1</td><td>-1</td><td>0</td><td>0</td><td>-1 .. -1</td><td>-1 .. -1</td><td>-1 .. -1</td><td>0</td><td>0.0</td><td>0.0</td><td>0</td><td>-1.0 .. -1.0</td><td>-1.0 .. -1.0</td><td>-1.0 .. -1.0</td><td>-</td><td>1</td><td>15.0579996109 .. 8.19699954987</td><td>0.0370000004768 .. 0.261000007391</td><td>29.2999992371 .. 4.19999980927</td><td>0.927299976349 .. 0.788500010967</td><td>0000</td><td>-</td><td>1</td><td>2.7555000782 .. -1.0</td><td>20.0 .. -1.0</td><td>0.10000000149 .. -1.0</td></tr>\n",
       "</table>"
      ],
      "text/plain": [
       "<Table masked=True length=5>\n",
       "        OBJ_NAME             RA    ...    ERR_NHI_ABS [4]   \n",
       "           -                deg    ...         [cm-2]       \n",
       "         str24            float64  ...        float64       \n",
       "------------------------ --------- ... ---------------------\n",
       "           HB89 0000-263  0.844985 ... 0.10000000149 .. -1.0\n",
       "           BR J0006-6208  1.715033 ... 0.10000000149 .. -1.0\n",
       "           BR J0030-5159  7.643627 ...          -1.0 .. -1.0\n",
       "          PSS J0034+1639  8.727975 ... 0.15000000596 .. -1.0\n",
       "SDSS J004219.74-102009.4 10.582215 ... 0.10000000149 .. -1.0"
      ]
     },
     "execution_count": 4,
     "metadata": {},
     "output_type": "execute_result"
    }
   ],
   "source": [
    "xq100_meta[0:5]"
   ]
  },
  {
   "cell_type": "code",
   "execution_count": 5,
   "metadata": {
    "collapsed": true
   },
   "outputs": [],
   "source": [
    "xq100_coords = SkyCoord(ra=xq100_meta['RA'], dec=xq100_meta['DEC'], unit='deg')"
   ]
  },
  {
   "cell_type": "markdown",
   "metadata": {},
   "source": [
    "## DLAs"
   ]
  },
  {
   "cell_type": "markdown",
   "metadata": {},
   "source": [
    "### $N_{\\rm HI}$ -- (Sanchez-Ramirez et al. 2016, MNRAS, 456, 4488)"
   ]
  },
  {
   "cell_type": "code",
   "execution_count": 6,
   "metadata": {
    "collapsed": false
   },
   "outputs": [
    {
     "data": {
      "text/html": [
       "&lt;Table length=3&gt;\n",
       "<table id=\"table4495460368\" class=\"table-striped table-bordered table-condensed\">\n",
       "<thead><tr><th>id</th><th>RA</th><th>Dec</th><th>zabs</th><th>logN</th><th>elogN</th><th>Orders</th></tr></thead>\n",
       "<thead><tr><th></th><th>deg</th><th>deg</th><th></th><th></th><th></th><th></th></tr></thead>\n",
       "<thead><tr><th>str30</th><th>float64</th><th>float64</th><th>float64</th><th>float64</th><th>float64</th><th>str30</th></tr></thead>\n",
       "<tr><td>0000-263</td><td>0.84546</td><td>-26.05467</td><td>3.39</td><td>21.4</td><td>0.1</td><td>\\Lya, \\Lyb, \\Lyg, \\Lyd, \\Lye</td></tr>\n",
       "<tr><td>0000-263</td><td>0.84546</td><td>-26.05467</td><td>3.0545</td><td>20.2</td><td>0.1</td><td>\\Lya, \\Lyb</td></tr>\n",
       "<tr><td>0000-263</td><td>0.84546</td><td>-26.05467</td><td>2.6295</td><td>19.1</td><td>0.1</td><td>\\Lya</td></tr>\n",
       "</table>"
      ],
      "text/plain": [
       "<Table length=3>\n",
       "   id       RA      Dec      zabs    logN   elogN             Orders           \n",
       "           deg      deg                                                        \n",
       " str30   float64  float64  float64 float64 float64            str30            \n",
       "-------- ------- --------- ------- ------- ------- ----------------------------\n",
       "0000-263 0.84546 -26.05467    3.39    21.4     0.1 \\Lya, \\Lyb, \\Lyg, \\Lyd, \\Lye\n",
       "0000-263 0.84546 -26.05467  3.0545    20.2     0.1                   \\Lya, \\Lyb\n",
       "0000-263 0.84546 -26.05467  2.6295    19.1     0.1                         \\Lya"
      ]
     },
     "execution_count": 6,
     "metadata": {},
     "output_type": "execute_result"
    }
   ],
   "source": [
    "abstab = Table.read(ppath+'/data/DLA/XQ-100/XQ100_abs.fit')\n",
    "abstab[0:3]"
   ]
  },
  {
   "cell_type": "markdown",
   "metadata": {},
   "source": [
    "### pyigm"
   ]
  },
  {
   "cell_type": "code",
   "execution_count": 7,
   "metadata": {
    "collapsed": false
   },
   "outputs": [
    {
     "name": "stdout",
     "output_type": "stream",
     "text": [
      "Loading QSOs file /Users/xavier/local/Python/pyigm/pyigm/data/DLA/XQ-100/XQ100_zpath.fit\n"
     ]
    },
    {
     "data": {
      "text/plain": [
       "<IGMSurvey: nsys=41, type=DLA, ref=XQ-100, nsightlines=100>"
      ]
     },
     "execution_count": 7,
     "metadata": {},
     "output_type": "execute_result"
    }
   ],
   "source": [
    "xq100_dla = dlasvy.DLASurvey.load_XQ100(sample='all')\n",
    "xq100_dla"
   ]
  },
  {
   "cell_type": "code",
   "execution_count": 8,
   "metadata": {
    "collapsed": false
   },
   "outputs": [
    {
     "data": {
      "text/plain": [
       "[<DLASystem: 00:03:22.9104 -26:03:16.812, 3.39, NHI=21.4, Z/H=0>,\n",
       " <DLASystem: 00:06:51.6096 -62:08:03.696, 3.203, NHI=20.9, Z/H=0>,\n",
       " <DLASystem: 00:06:51.6096 -62:08:03.696, 3.775, NHI=21, Z/H=0>,\n",
       " <DLASystem: 00:34:54.8208 16:39:19.512, 3.755, NHI=20.4, Z/H=0>,\n",
       " <DLASystem: 01:13:44.3712 -28:03:17.208, 3.106, NHI=21.2, Z/H=0>]"
      ]
     },
     "execution_count": 8,
     "metadata": {},
     "output_type": "execute_result"
    }
   ],
   "source": [
    "xq100_dla._abs_sys[0:5]"
   ]
  },
  {
   "cell_type": "code",
   "execution_count": 9,
   "metadata": {
    "collapsed": false
   },
   "outputs": [
    {
     "data": {
      "text/plain": [
       "<SkyCoord (ICRS): (ra, dec) in deg\n",
       "    [(   0.84546, -26.05467), (   1.71504, -62.13436),\n",
       "     (   1.71504, -62.13436), (   8.72842,  16.65542),\n",
       "     (  18.43488, -28.05478), (  21.01571,   0.74244),\n",
       "     (  23.04104,  13.69431), (  23.418  ,   4.01662),\n",
       "     (  23.418  ,   4.01662), (  38.72975, -18.10236),\n",
       "     (  43.82741,   0.81318), (  43.82741,   0.81318),\n",
       "     (  46.84533, -49.76333), (  46.84533, -49.76333),\n",
       "     (  63.81321, -43.96469), (  66.54304, -22.03814),\n",
       "     (  82.33671, -35.87614), ( 116.79647,  27.65093),\n",
       "     ( 116.79647,  27.65093), ( 124.73242,   9.98001),\n",
       "     ( 140.17401,   7.42892), ( 148.75039,  -1.50181),\n",
       "     ( 155.16926,   9.38174), ( 156.2359 ,  18.31911),\n",
       "     ( 164.2724 ,  19.17857), ( 164.74326,  12.76526),\n",
       "     ( 167.23113,  12.16482), ( 167.23113,  12.16482),\n",
       "     ( 198.17863,   8.68475), ( 215.28232,  -6.73232),\n",
       "     ( 229.4841 ,   5.18433), ( 238.22935,  10.09399),\n",
       "     ( 248.3318 ,  14.19501), ( 260.84667,  22.73278),\n",
       "     ( 339.97333,  -5.87194), ( 356.01333,   3.70722),\n",
       "     (   8.72842,  16.65542), (   8.72842,  16.65542),\n",
       "     ( 120.2095 ,  19.3497 ), ( 128.79551,   6.848  ),\n",
       "     ( 238.22935,  10.09399)]>"
      ]
     },
     "execution_count": 9,
     "metadata": {},
     "output_type": "execute_result"
    }
   ],
   "source": [
    "xq100_dla_coords = xq100_dla.coord\n",
    "xq100_dla_coords"
   ]
  },
  {
   "cell_type": "code",
   "execution_count": 10,
   "metadata": {
    "collapsed": false
   },
   "outputs": [
    {
     "data": {
      "text/plain": [
       "array([ 3.39  ,  3.203 ,  3.775 ,  3.755 ,  3.106 ,  2.261 ,  3.936 ,\n",
       "        3.692 ,  3.7725,  3.693 ,  3.9145,  3.2555,  4.4665,  3.591 ,\n",
       "        3.808 ,  2.9825,  3.684 ,  3.4235,  3.901 ,  3.306 ,  2.238 ,\n",
       "        4.0245,  2.592 ,  2.298 ,  3.3735,  3.4315,  3.546 ,  3.3965,\n",
       "        2.66  ,  3.449 ,  2.6885,  3.601 ,  2.882 ,  3.698 ,  4.0805,\n",
       "        3.22  ,  4.2835,  4.2523,  3.9465,  3.9555,  3.6665])"
      ]
     },
     "execution_count": 10,
     "metadata": {},
     "output_type": "execute_result"
    }
   ],
   "source": [
    "xq100_dla_zabs = xq100_dla.zabs\n",
    "xq100_dla_zabs"
   ]
  },
  {
   "cell_type": "markdown",
   "metadata": {},
   "source": [
    "#### Table 7"
   ]
  },
  {
   "cell_type": "code",
   "execution_count": 11,
   "metadata": {
    "collapsed": false
   },
   "outputs": [
    {
     "data": {
      "text/html": [
       "&lt;Table length=5&gt;\n",
       "<table id=\"table4688147408\" class=\"table-striped table-bordered table-condensed\">\n",
       "<thead><tr><th>z</th><th>Dz</th><th>sumDX</th><th>nabs</th><th>lx</th><th>bmlxlci_68.3</th><th>bmlxhci_68.3</th><th>bmlxlci_95.0</th><th>bmlxhci_95.0</th><th>Omega</th><th>bmOlci_68.3</th><th>bmOhci_68.3</th><th>bmOlci_95.0</th><th>bmOhci_95.0</th></tr></thead>\n",
       "<thead><tr><th>float64</th><th>float64</th><th>int64</th><th>int64</th><th>float64</th><th>float64</th><th>float64</th><th>float64</th><th>float64</th><th>float64</th><th>float64</th><th>float64</th><th>float64</th><th>float64</th></tr></thead>\n",
       "<tr><td>2.15</td><td>0.831</td><td>965</td><td>62</td><td>0.064</td><td>0.056</td><td>0.072</td><td>0.049</td><td>0.081</td><td>0.543</td><td>0.506</td><td>0.753</td><td>0.432</td><td>0.983</td></tr>\n",
       "<tr><td>2.16</td><td>0.831</td><td>997</td><td>64</td><td>0.064</td><td>0.056</td><td>0.072</td><td>0.049</td><td>0.081</td><td>0.53</td><td>0.494</td><td>0.729</td><td>0.422</td><td>0.948</td></tr>\n",
       "<tr><td>2.17</td><td>0.83</td><td>1023</td><td>66</td><td>0.064</td><td>0.057</td><td>0.072</td><td>0.05</td><td>0.081</td><td>0.527</td><td>0.489</td><td>0.727</td><td>0.422</td><td>0.94</td></tr>\n",
       "<tr><td>2.18</td><td>0.827</td><td>1094</td><td>68</td><td>0.062</td><td>0.055</td><td>0.07</td><td>0.048</td><td>0.078</td><td>0.532</td><td>0.495</td><td>0.721</td><td>0.425</td><td>0.917</td></tr>\n",
       "<tr><td>2.19</td><td>0.826</td><td>1140</td><td>68</td><td>0.06</td><td>0.052</td><td>0.067</td><td>0.046</td><td>0.075</td><td>0.511</td><td>0.476</td><td>0.695</td><td>0.407</td><td>0.885</td></tr>\n",
       "</table>"
      ],
      "text/plain": [
       "<Table length=5>\n",
       "   z       Dz   sumDX  nabs ... bmOlci_68.3 bmOhci_68.3 bmOlci_95.0 bmOhci_95.0\n",
       "float64 float64 int64 int64 ...   float64     float64     float64     float64  \n",
       "------- ------- ----- ----- ... ----------- ----------- ----------- -----------\n",
       "   2.15   0.831   965    62 ...       0.506       0.753       0.432       0.983\n",
       "   2.16   0.831   997    64 ...       0.494       0.729       0.422       0.948\n",
       "   2.17    0.83  1023    66 ...       0.489       0.727       0.422        0.94\n",
       "   2.18   0.827  1094    68 ...       0.495       0.721       0.425       0.917\n",
       "   2.19   0.826  1140    68 ...       0.476       0.695       0.407       0.885"
      ]
     },
     "execution_count": 11,
     "metadata": {},
     "output_type": "execute_result"
    }
   ],
   "source": [
    "tab7_fil = pyigm.__path__[0]+'/data/DLA/XQ-100/sramirez16_table7.dat'\n",
    "tab7 = Table.read(tab7_fil, format='ascii')\n",
    "tab7[0:5]"
   ]
  },
  {
   "cell_type": "markdown",
   "metadata": {},
   "source": [
    "### Read Berg table"
   ]
  },
  {
   "cell_type": "code",
   "execution_count": 12,
   "metadata": {
    "collapsed": false
   },
   "outputs": [
    {
     "data": {
      "text/html": [
       "&lt;Table length=5&gt;\n",
       "<table id=\"table4603435344\" class=\"table-striped table-bordered table-condensed\">\n",
       "<thead><tr><th>qso</th><th>ion</th><th>wl</th><th>zab</th><th>zem</th><th>ra</th><th>dec</th><th>vmin</th><th>vmax</th><th>filename</th><th>N</th><th>Nerr</th><th>flg</th><th>flg_analy</th><th>lambda</th><th>f</th></tr></thead>\n",
       "<thead><tr><th>str10</th><th>str4</th><th>int64</th><th>float64</th><th>float64</th><th>str11</th><th>str11</th><th>int64</th><th>int64</th><th>str38</th><th>float64</th><th>float64</th><th>int64</th><th>int64</th><th>float64</th><th>float64</th></tr></thead>\n",
       "<tr><td>J0003-2603</td><td>OI</td><td>1302</td><td>3.39</td><td>4.125</td><td>00:03:22.79</td><td>-26:03:19.4</td><td>-60</td><td>70</td><td>J0003-2603/tb_J0003-2603_vis_cont.fits</td><td>15.1</td><td>0.02</td><td>3</td><td>-1</td><td>1302.168</td><td>0.04887</td></tr>\n",
       "<tr><td>J0003-2603</td><td>MgI</td><td>2852</td><td>3.39</td><td>4.125</td><td>00:03:22.79</td><td>-26:03:19.4</td><td>-140</td><td>70</td><td>J0003-2603/tb_J0003-2603_nir_cont.fits</td><td>11.85</td><td>0.03</td><td>1</td><td>0</td><td>2852.964</td><td>1.81</td></tr>\n",
       "<tr><td>J0003-2603</td><td>MgII</td><td>2796</td><td>3.39</td><td>4.125</td><td>00:03:22.79</td><td>-26:03:19.4</td><td>-220</td><td>200</td><td>J0003-2603/tb_J0003-2603_nir_cont.fits</td><td>13.91</td><td>0.02</td><td>2</td><td>0</td><td>2796.352</td><td>0.6123</td></tr>\n",
       "<tr><td>J0003-2603</td><td>MgII</td><td>2803</td><td>3.39</td><td>4.125</td><td>00:03:22.79</td><td>-26:03:19.4</td><td>-200</td><td>170</td><td>J0003-2603/tb_J0003-2603_nir_cont.fits</td><td>14.04</td><td>0.01</td><td>2</td><td>0</td><td>2803.531</td><td>0.3054</td></tr>\n",
       "<tr><td>J0003-2603</td><td>CaII</td><td>3934</td><td>3.39</td><td>4.125</td><td>00:03:22.79</td><td>-26:03:19.4</td><td>-20</td><td>50</td><td>J0003-2603/tb_J0003-2603_nir_cont.fits</td><td>11.81</td><td>0.0</td><td>3</td><td>0</td><td>3934.777</td><td>0.65</td></tr>\n",
       "</table>"
      ],
      "text/plain": [
       "<Table length=5>\n",
       "   qso     ion    wl    zab     zem   ...  flg  flg_analy  lambda     f   \n",
       "  str10    str4 int64 float64 float64 ... int64   int64   float64  float64\n",
       "---------- ---- ----- ------- ------- ... ----- --------- -------- -------\n",
       "J0003-2603   OI  1302    3.39   4.125 ...     3        -1 1302.168 0.04887\n",
       "J0003-2603  MgI  2852    3.39   4.125 ...     1         0 2852.964    1.81\n",
       "J0003-2603 MgII  2796    3.39   4.125 ...     2         0 2796.352  0.6123\n",
       "J0003-2603 MgII  2803    3.39   4.125 ...     2         0 2803.531  0.3054\n",
       "J0003-2603 CaII  3934    3.39   4.125 ...     3         0 3934.777    0.65"
      ]
     },
     "execution_count": 12,
     "metadata": {},
     "output_type": "execute_result"
    }
   ],
   "source": [
    "fil = pyigm.__path__[0]+'/data/DLA/XQ-100/tb_XQ100_metals_to_json.dat'\n",
    "berg_tbl = Table.read(fil,format='ascii')\n",
    "berg_tbl[0:5]"
   ]
  },
  {
   "cell_type": "markdown",
   "metadata": {},
   "source": [
    "#### Systems"
   ]
  },
  {
   "cell_type": "code",
   "execution_count": 13,
   "metadata": {
    "collapsed": false
   },
   "outputs": [
    {
     "data": {
      "text/plain": [
       "array(['J0003-2603_z3.390', 'J0006-6208_z3.203', 'J0006-6208_z3.775',\n",
       "       'J0034+1639_z3.755', 'J0034+1639_z4.252', 'J0034+1639_z4.284',\n",
       "       'J0113-2803_z3.106', 'J0124+0044_z2.261', 'J0132+1341_z3.936',\n",
       "       'J0134+0400_z3.692', 'J0134+0400_z3.772', 'J0234-1806_z3.693',\n",
       "       'J0255+0048_z3.256', 'J0255+0048_z3.914', 'J0307-4945_z3.591',\n",
       "       'J0307-4945_z4.466', 'J0415-4357_z3.808', 'J0424-2209_z2.982',\n",
       "       'J0529-3552_z3.684', 'J0747+2739_z3.424', 'J0747+2739_z3.901',\n",
       "       'J0800+1920_z3.946', 'J0818+0958_z3.306', 'J0835+0650_z3.955',\n",
       "       'J0920+0725_z2.238', 'J0955-0130_z4.024', 'J1020+0922_z2.592',\n",
       "       'J1024+1819_z2.298', 'J1057+1910_z3.373', 'J1058+1245_z3.432',\n",
       "       'J1108+1209_z3.397', 'J1108+1209_z3.546', 'J1312+0841_z2.660',\n",
       "       'J1421-0643_z3.449', 'J1517+0511_z2.688', 'J1552+1005_z3.601',\n",
       "       'J1552+1005_z3.667', 'J1633+1411_z2.882', 'J1723+2243_z3.698',\n",
       "       'J2239-0552_z4.080', 'J2344+0342_z3.220'], \n",
       "      dtype='|S17')"
      ]
     },
     "execution_count": 13,
     "metadata": {},
     "output_type": "execute_result"
    }
   ],
   "source": [
    "dlas = np.array(['{:s}_z{:0.3f}'.format(row['qso'],row['zab']) for row in berg_tbl])\n",
    "unique_dlas = np.unique(dlas)\n",
    "unique_dlas"
   ]
  },
  {
   "cell_type": "markdown",
   "metadata": {},
   "source": [
    "### Loop on DLAs and generate"
   ]
  },
  {
   "cell_type": "markdown",
   "metadata": {},
   "source": [
    "#### TiII kludge"
   ]
  },
  {
   "cell_type": "code",
   "execution_count": 14,
   "metadata": {
    "collapsed": false
   },
   "outputs": [
    {
     "name": "stderr",
     "output_type": "stream",
     "text": [
      "WARNING: UnitsWarning: The unit 'Angstrom' has been deprecated in the FITS standard. Suggested: 10**-1 nm. [astropy.units.format.utils]\n",
      "/Users/xavier/local/Python/linetools/linetools/lists/linelist.py:407: RuntimeWarning: divide by zero encountered in log10\n",
      "  self._data['log(w*f)'] = np.log10(qm_strength)\n"
     ]
    },
    {
     "name": "stdout",
     "output_type": "stream",
     "text": [
      "Loading abundances from Asplund2009\n",
      "Abundances are relative by number on a logarithmic scale with H=12\n"
     ]
    },
    {
     "name": "stderr",
     "output_type": "stream",
     "text": [
      "/Users/xavier/local/Python/linetools/linetools/analysis/linelimits.py:165: UserWarning: Redshift=0.  If this is unexpected, set _z and reset limits\n",
      "  warnings.warn(\"Redshift=0.  If this is unexpected, set _z and reset limits\")\n"
     ]
    }
   ],
   "source": [
    "TiII = AbsLine('TiII 1910a')"
   ]
  },
  {
   "cell_type": "code",
   "execution_count": 15,
   "metadata": {
    "collapsed": false
   },
   "outputs": [],
   "source": [
    "TiII.data['wrest'] = 1910.75*u.AA\n",
    "TiII.data['f'] = 0.202\n",
    "TiII.data['name'] = 'TiII 1910c'\n",
    "TiII.name = 'TiII 1910c'\n",
    "TiII.wrest = 1910.75*u.AA"
   ]
  },
  {
   "cell_type": "code",
   "execution_count": 16,
   "metadata": {
    "collapsed": false
   },
   "outputs": [],
   "source": [
    "tmp = TiII.copy()\n",
    "TiIIa = AbsLine('TiII 1910a')"
   ]
  },
  {
   "cell_type": "code",
   "execution_count": 17,
   "metadata": {
    "collapsed": false
   },
   "outputs": [
    {
     "name": "stderr",
     "output_type": "stream",
     "text": [
      "/Users/xavier/anaconda/lib/python2.7/site-packages/ipykernel/__main__.py:20: UserWarning: DLA J0003-2603_z3.390 has a large coordinate offset = [ 3.06824416] arcsec\n"
     ]
    },
    {
     "name": "stdout",
     "output_type": "stream",
     "text": [
      "Working on DLA <DLASystem: 00:03:22.7964 -26:03:19.44, 3.39, NHI=21.4, Z/H=0>\n"
     ]
    },
    {
     "name": "stderr",
     "output_type": "stream",
     "text": [
      "/Users/xavier/local/Python/linetools/linetools/abund/ions.py:40: UserWarning: This method will be DEPRECATED.  Use ion_to_name\n",
      "  warnings.warn(\"This method will be DEPRECATED.  Use ion_to_name\")\n",
      "/Users/xavier/local/Python/linetools/linetools/isgm/abssystem.py:290: UserWarning: Input AbsComponent with Zion=(8, 1) does not match AbsSystem rules. Not appending\n",
      "  warnings.warn('Input AbsComponent with Zion={} does not match AbsSystem rules. Not appending'.format(abscomp.Zion))\n",
      "/Users/xavier/local/Python/linetools/linetools/isgm/abssystem.py:296: UserWarning: Failed velocity overlap\n",
      "  warnings.warn('Failed velocity overlap')\n",
      "/Users/xavier/local/Python/linetools/linetools/isgm/abssystem.py:290: UserWarning: Input AbsComponent with Zion=(12, 1) does not match AbsSystem rules. Not appending\n",
      "  warnings.warn('Input AbsComponent with Zion={} does not match AbsSystem rules. Not appending'.format(abscomp.Zion))\n",
      "/Users/xavier/local/Python/linetools/linetools/isgm/abssystem.py:290: UserWarning: Input AbsComponent with Zion=(12, 2) does not match AbsSystem rules. Not appending\n",
      "  warnings.warn('Input AbsComponent with Zion={} does not match AbsSystem rules. Not appending'.format(abscomp.Zion))\n",
      "/Users/xavier/local/Python/linetools/linetools/isgm/abscomponent.py:524: UserWarning: Absline <AbsLine: SiII 1304, z=0.0000 wrest=1304.3702 Angstrom, f=0.0863> has flag=0.  Hopefully you expected that\n",
      "  warnings.warn(\"Absline {} has flag=0.  Hopefully you expected that\".format(str(aline)))\n",
      "/Users/xavier/local/Python/linetools/linetools/isgm/abssystem.py:290: UserWarning: Input AbsComponent with Zion=(14, 2) does not match AbsSystem rules. Not appending\n",
      "  warnings.warn('Input AbsComponent with Zion={} does not match AbsSystem rules. Not appending'.format(abscomp.Zion))\n",
      "/Users/xavier/local/Python/linetools/linetools/isgm/abssystem.py:290: UserWarning: Input AbsComponent with Zion=(15, 2) does not match AbsSystem rules. Not appending\n",
      "  warnings.warn('Input AbsComponent with Zion={} does not match AbsSystem rules. Not appending'.format(abscomp.Zion))\n",
      "/Users/xavier/local/Python/linetools/linetools/isgm/abssystem.py:290: UserWarning: Input AbsComponent with Zion=(20, 2) does not match AbsSystem rules. Not appending\n",
      "  warnings.warn('Input AbsComponent with Zion={} does not match AbsSystem rules. Not appending'.format(abscomp.Zion))\n",
      "/Users/xavier/local/Python/linetools/linetools/isgm/abssystem.py:290: UserWarning: Input AbsComponent with Zion=(22, 2) does not match AbsSystem rules. Not appending\n",
      "  warnings.warn('Input AbsComponent with Zion={} does not match AbsSystem rules. Not appending'.format(abscomp.Zion))\n",
      "/Users/xavier/local/Python/linetools/linetools/isgm/abssystem.py:290: UserWarning: Input AbsComponent with Zion=(24, 2) does not match AbsSystem rules. Not appending\n",
      "  warnings.warn('Input AbsComponent with Zion={} does not match AbsSystem rules. Not appending'.format(abscomp.Zion))\n",
      "/Users/xavier/local/Python/linetools/linetools/isgm/abssystem.py:290: UserWarning: Input AbsComponent with Zion=(25, 2) does not match AbsSystem rules. Not appending\n",
      "  warnings.warn('Input AbsComponent with Zion={} does not match AbsSystem rules. Not appending'.format(abscomp.Zion))\n",
      "/Users/xavier/local/Python/linetools/linetools/isgm/abssystem.py:290: UserWarning: Input AbsComponent with Zion=(26, 2) does not match AbsSystem rules. Not appending\n",
      "  warnings.warn('Input AbsComponent with Zion={} does not match AbsSystem rules. Not appending'.format(abscomp.Zion))\n",
      "/Users/xavier/local/Python/linetools/linetools/isgm/abssystem.py:290: UserWarning: Input AbsComponent with Zion=(28, 2) does not match AbsSystem rules. Not appending\n",
      "  warnings.warn('Input AbsComponent with Zion={} does not match AbsSystem rules. Not appending'.format(abscomp.Zion))\n",
      "/Users/xavier/local/Python/linetools/linetools/isgm/abssystem.py:290: UserWarning: Input AbsComponent with Zion=(30, 2) does not match AbsSystem rules. Not appending\n",
      "  warnings.warn('Input AbsComponent with Zion={} does not match AbsSystem rules. Not appending'.format(abscomp.Zion))\n",
      "/Users/xavier/anaconda/lib/python2.7/site-packages/ipykernel/__main__.py:20: UserWarning: DLA J0006-6208_z3.203 has a large coordinate offset = [ 2.90812249] arcsec\n"
     ]
    },
    {
     "name": "stdout",
     "output_type": "stream",
     "text": [
      "Working on DLA <DLASystem: 00:06:51.6079 -62:08:00.78, 3.203, NHI=20.9, Z/H=0>\n"
     ]
    },
    {
     "name": "stderr",
     "output_type": "stream",
     "text": [
      "/Users/xavier/local/Python/linetools/linetools/isgm/abssystem.py:290: UserWarning: Input AbsComponent with Zion=(16, 2) does not match AbsSystem rules. Not appending\n",
      "  warnings.warn('Input AbsComponent with Zion={} does not match AbsSystem rules. Not appending'.format(abscomp.Zion))\n",
      "/Users/xavier/anaconda/lib/python2.7/site-packages/astropy/units/quantity.py:968: RuntimeWarning: divide by zero encountered in true_divide\n",
      "  return super(Quantity, self).__rtruediv__(other)\n",
      "/Users/xavier/anaconda/lib/python2.7/site-packages/astropy/units/quantity.py:951: RuntimeWarning: divide by zero encountered in true_divide\n",
      "  return super(Quantity, self).__truediv__(other)\n",
      "/Users/xavier/anaconda/lib/python2.7/site-packages/astropy/units/quantity.py:951: RuntimeWarning: invalid value encountered in true_divide\n",
      "  return super(Quantity, self).__truediv__(other)\n",
      "/Users/xavier/anaconda/lib/python2.7/site-packages/ipykernel/__main__.py:20: UserWarning: DLA J0006-6208_z3.775 has a large coordinate offset = [ 2.90812249] arcsec\n"
     ]
    },
    {
     "name": "stdout",
     "output_type": "stream",
     "text": [
      "Working on DLA <DLASystem: 00:06:51.6079 -62:08:00.78, 3.775, NHI=21, Z/H=0>\n"
     ]
    },
    {
     "name": "stderr",
     "output_type": "stream",
     "text": [
      "/Users/xavier/local/Python/linetools/linetools/isgm/abssystem.py:290: UserWarning: Input AbsComponent with Zion=(6, 2) does not match AbsSystem rules. Not appending\n",
      "  warnings.warn('Input AbsComponent with Zion={} does not match AbsSystem rules. Not appending'.format(abscomp.Zion))\n",
      "/Users/xavier/anaconda/lib/python2.7/site-packages/ipykernel/__main__.py:20: UserWarning: DLA J0034+1639_z3.755 has a large coordinate offset = [ 2.08860131] arcsec\n"
     ]
    },
    {
     "name": "stdout",
     "output_type": "stream",
     "text": [
      "Working on DLA <DLASystem: 00:34:54.714 16:39:18.216, 3.755, NHI=20.4, Z/H=0>\n"
     ]
    },
    {
     "name": "stderr",
     "output_type": "stream",
     "text": [
      "/Users/xavier/anaconda/lib/python2.7/site-packages/ipykernel/__main__.py:20: UserWarning: DLA J0034+1639_z4.252 has a large coordinate offset = [ 2.08860131] arcsec\n"
     ]
    },
    {
     "name": "stdout",
     "output_type": "stream",
     "text": [
      "Working on DLA <DLASystem: 00:34:54.714 16:39:18.216, 4.2523, NHI=20.6, Z/H=0>\n"
     ]
    },
    {
     "name": "stderr",
     "output_type": "stream",
     "text": [
      "/Users/xavier/anaconda/lib/python2.7/site-packages/ipykernel/__main__.py:20: UserWarning: DLA J0034+1639_z4.284 has a large coordinate offset = [ 2.08860131] arcsec\n"
     ]
    },
    {
     "name": "stdout",
     "output_type": "stream",
     "text": [
      "Working on DLA <DLASystem: 00:34:54.714 16:39:18.216, 4.2835, NHI=21, Z/H=0>\n"
     ]
    },
    {
     "name": "stderr",
     "output_type": "stream",
     "text": [
      "/Users/xavier/anaconda/lib/python2.7/site-packages/ipykernel/__main__.py:20: UserWarning: DLA J0113-2803_z3.106 has a large coordinate offset = [ 2.76205212] arcsec\n"
     ]
    },
    {
     "name": "stdout",
     "output_type": "stream",
     "text": [
      "Working on DLA <DLASystem: 01:13:44.179 -28:03:17.964, 3.106, NHI=21.2, Z/H=0>\n"
     ]
    },
    {
     "name": "stderr",
     "output_type": "stream",
     "text": [
      "/Users/xavier/local/Python/linetools/linetools/isgm/abscomponent.py:524: UserWarning: Absline <AbsLine: MnII 2576, z=0.0000 wrest=2576.8770 Angstrom, f=0.361> has flag=0.  Hopefully you expected that\n",
      "  warnings.warn(\"Absline {} has flag=0.  Hopefully you expected that\".format(str(aline)))\n",
      "/Users/xavier/local/Python/linetools/linetools/isgm/abscomponent.py:524: UserWarning: Absline <AbsLine: MnII 2606, z=0.0000 wrest=2606.4620 Angstrom, f=0.198> has flag=0.  Hopefully you expected that\n",
      "  warnings.warn(\"Absline {} has flag=0.  Hopefully you expected that\".format(str(aline)))\n",
      "/Users/xavier/local/Python/linetools/linetools/isgm/abscomponent.py:524: UserWarning: Absline <AbsLine: ZnII 2062, z=0.0000 wrest=2062.6640 Angstrom, f=0.253> has flag=0.  Hopefully you expected that\n",
      "  warnings.warn(\"Absline {} has flag=0.  Hopefully you expected that\".format(str(aline)))\n",
      "/Users/xavier/anaconda/lib/python2.7/site-packages/ipykernel/__main__.py:20: UserWarning: DLA J0124+0044_z2.261 has a large coordinate offset = [ 3.27772626] arcsec\n"
     ]
    },
    {
     "name": "stdout",
     "output_type": "stream",
     "text": [
      "Working on DLA <DLASystem: 01:24:03.977 00:44:31.488, 2.261, NHI=20.7, Z/H=0>\n"
     ]
    },
    {
     "name": "stderr",
     "output_type": "stream",
     "text": [
      "/Users/xavier/anaconda/lib/python2.7/site-packages/ipykernel/__main__.py:20: UserWarning: DLA J0132+1341_z3.936 has a large coordinate offset = [ 4.07280197] arcsec\n"
     ]
    },
    {
     "name": "stdout",
     "output_type": "stream",
     "text": [
      "Working on DLA <DLASystem: 01:32:09.9847 13:41:35.988, 3.936, NHI=20.4, Z/H=0>\n"
     ]
    },
    {
     "name": "stderr",
     "output_type": "stream",
     "text": [
      "/Users/xavier/anaconda/lib/python2.7/site-packages/ipykernel/__main__.py:20: UserWarning: DLA J0134+0400_z3.692 has a large coordinate offset = [ 2.58925366] arcsec\n"
     ]
    },
    {
     "name": "stdout",
     "output_type": "stream",
     "text": [
      "Working on DLA <DLASystem: 01:33:40.4786 04:00:58.5, 3.692, NHI=20.7, Z/H=0>\n"
     ]
    },
    {
     "name": "stderr",
     "output_type": "stream",
     "text": [
      "/Users/xavier/anaconda/lib/python2.7/site-packages/ipykernel/__main__.py:20: UserWarning: DLA J0134+0400_z3.772 has a large coordinate offset = [ 2.58925366] arcsec\n"
     ]
    },
    {
     "name": "stdout",
     "output_type": "stream",
     "text": [
      "Working on DLA <DLASystem: 01:33:40.4786 04:00:58.5, 3.7725, NHI=20.7, Z/H=0>\n"
     ]
    },
    {
     "name": "stderr",
     "output_type": "stream",
     "text": [
      "/Users/xavier/local/Python/linetools/linetools/isgm/abscomponent.py:524: UserWarning: Absline <AbsLine: NiII 1709, z=0.0000 wrest=1709.6042 Angstrom, f=0.0324> has flag=0.  Hopefully you expected that\n",
      "  warnings.warn(\"Absline {} has flag=0.  Hopefully you expected that\".format(str(aline)))\n",
      "/Users/xavier/anaconda/lib/python2.7/site-packages/ipykernel/__main__.py:20: UserWarning: DLA J0234-1806_z3.693 has a large coordinate offset = [ 3.21557254] arcsec\n"
     ]
    },
    {
     "name": "stdout",
     "output_type": "stream",
     "text": [
      "Working on DLA <DLASystem: 02:34:55.0363 -18:06:11.376, 3.693, NHI=20.4, Z/H=0>\n"
     ]
    },
    {
     "name": "stderr",
     "output_type": "stream",
     "text": [
      "/Users/xavier/local/Python/linetools/linetools/isgm/abscomponent.py:524: UserWarning: Absline <AbsLine: FeII 1611, z=0.0000 wrest=1611.2005 Angstrom, f=0.00138> has flag=0.  Hopefully you expected that\n",
      "  warnings.warn(\"Absline {} has flag=0.  Hopefully you expected that\".format(str(aline)))\n",
      "/Users/xavier/local/Python/linetools/linetools/isgm/abscomponent.py:524: UserWarning: Absline <AbsLine: FeII 2249, z=0.0000 wrest=2249.8768 Angstrom, f=0.00182> has flag=0.  Hopefully you expected that\n",
      "  warnings.warn(\"Absline {} has flag=0.  Hopefully you expected that\".format(str(aline)))\n",
      "/Users/xavier/anaconda/lib/python2.7/site-packages/ipykernel/__main__.py:20: UserWarning: DLA J0255+0048_z3.256 has a large coordinate offset = [ 2.03158253] arcsec\n"
     ]
    },
    {
     "name": "stdout",
     "output_type": "stream",
     "text": [
      "Working on DLA <DLASystem: 02:55:18.7073 00:48:46.548, 3.2555, NHI=20.9, Z/H=0>\n"
     ]
    },
    {
     "name": "stderr",
     "output_type": "stream",
     "text": [
      "/Users/xavier/anaconda/lib/python2.7/site-packages/ipykernel/__main__.py:20: UserWarning: DLA J0255+0048_z3.914 has a large coordinate offset = [ 2.03158253] arcsec\n"
     ]
    },
    {
     "name": "stdout",
     "output_type": "stream",
     "text": [
      "Working on DLA <DLASystem: 02:55:18.7073 00:48:46.548, 3.9145, NHI=21.5, Z/H=0>\n"
     ]
    },
    {
     "name": "stderr",
     "output_type": "stream",
     "text": [
      "/Users/xavier/anaconda/lib/python2.7/site-packages/ipykernel/__main__.py:20: UserWarning: DLA J0307-4945_z3.591 has a large coordinate offset = [ 3.83585273] arcsec\n"
     ]
    },
    {
     "name": "stdout",
     "output_type": "stream",
     "text": [
      "Working on DLA <DLASystem: 03:07:22.5708 -49:45:45.648, 3.591, NHI=20.5, Z/H=0>\n"
     ]
    },
    {
     "name": "stderr",
     "output_type": "stream",
     "text": [
      "/Users/xavier/local/Python/linetools/linetools/isgm/abscomponent.py:524: UserWarning: Absline <AbsLine: CrII 2062, z=0.0000 wrest=2062.2340 Angstrom, f=0.105> has flag=0.  Hopefully you expected that\n",
      "  warnings.warn(\"Absline {} has flag=0.  Hopefully you expected that\".format(str(aline)))\n",
      "/Users/xavier/anaconda/lib/python2.7/site-packages/ipykernel/__main__.py:20: UserWarning: DLA J0307-4945_z4.466 has a large coordinate offset = [ 3.83585273] arcsec\n"
     ]
    },
    {
     "name": "stdout",
     "output_type": "stream",
     "text": [
      "Working on DLA <DLASystem: 03:07:22.5708 -49:45:45.648, 4.4665, NHI=20.6, Z/H=0>\n"
     ]
    },
    {
     "name": "stderr",
     "output_type": "stream",
     "text": [
      "/Users/xavier/anaconda/lib/python2.7/site-packages/ipykernel/__main__.py:20: UserWarning: DLA J0415-4357_z3.808 has a large coordinate offset = [ 2.20006705] arcsec\n"
     ]
    },
    {
     "name": "stdout",
     "output_type": "stream",
     "text": [
      "Working on DLA <DLASystem: 04:15:15.1848 -43:57:50.796, 3.808, NHI=20.5, Z/H=0>\n"
     ]
    },
    {
     "name": "stderr",
     "output_type": "stream",
     "text": [
      "/Users/xavier/anaconda/lib/python2.7/site-packages/ipykernel/__main__.py:20: UserWarning: DLA J0424-2209_z2.982 has a large coordinate offset = [ 1.94547348] arcsec\n"
     ]
    },
    {
     "name": "stdout",
     "output_type": "stream",
     "text": [
      "Working on DLA <DLASystem: 04:26:10.4758 -22:02:17.592, 2.9825, NHI=21.4, Z/H=0>\n"
     ]
    },
    {
     "name": "stderr",
     "output_type": "stream",
     "text": [
      "/Users/xavier/anaconda/lib/python2.7/site-packages/ipykernel/__main__.py:20: UserWarning: DLA J0529-3552_z3.684 has a large coordinate offset = [ 2.79973884] arcsec\n"
     ]
    },
    {
     "name": "stdout",
     "output_type": "stream",
     "text": [
      "Working on DLA <DLASystem: 05:29:20.94 -35:52:31.836, 3.684, NHI=20.4, Z/H=0>\n"
     ]
    },
    {
     "name": "stderr",
     "output_type": "stream",
     "text": [
      "/Users/xavier/local/Python/linetools/linetools/isgm/abscomponent.py:524: UserWarning: Absline <AbsLine: OI 1302, z=0.0000 wrest=1302.1685 Angstrom, f=0.048> has flag=0.  Hopefully you expected that\n",
      "  warnings.warn(\"Absline {} has flag=0.  Hopefully you expected that\".format(str(aline)))\n",
      "/Users/xavier/local/Python/linetools/linetools/isgm/abssystem.py:290: UserWarning: Input AbsComponent with Zion=(13, 2) does not match AbsSystem rules. Not appending\n",
      "  warnings.warn('Input AbsComponent with Zion={} does not match AbsSystem rules. Not appending'.format(abscomp.Zion))\n",
      "/Users/xavier/local/Python/linetools/linetools/isgm/abscomponent.py:524: UserWarning: Absline <AbsLine: SiII 1260, z=0.0000 wrest=1260.4221 Angstrom, f=1.18> has flag=0.  Hopefully you expected that\n",
      "  warnings.warn(\"Absline {} has flag=0.  Hopefully you expected that\".format(str(aline)))\n",
      "/Users/xavier/anaconda/lib/python2.7/site-packages/ipykernel/__main__.py:20: UserWarning: DLA J0747+2739_z3.424 has a large coordinate offset = [ 2.53473625] arcsec\n"
     ]
    },
    {
     "name": "stdout",
     "output_type": "stream",
     "text": [
      "Working on DLA <DLASystem: 07:47:11.1792 27:39:00.828, 3.4235, NHI=20.9, Z/H=0>\n"
     ]
    },
    {
     "name": "stderr",
     "output_type": "stream",
     "text": [
      "/Users/xavier/anaconda/lib/python2.7/site-packages/ipykernel/__main__.py:20: UserWarning: DLA J0747+2739_z3.901 has a large coordinate offset = [ 2.53473625] arcsec\n"
     ]
    },
    {
     "name": "stdout",
     "output_type": "stream",
     "text": [
      "Working on DLA <DLASystem: 07:47:11.1792 27:39:00.828, 3.901, NHI=20.6, Z/H=0>\n"
     ]
    },
    {
     "name": "stderr",
     "output_type": "stream",
     "text": [
      "/Users/xavier/local/Python/linetools/linetools/isgm/abscomponent.py:524: UserWarning: Absline <AbsLine: SiII 1808, z=0.0000 wrest=1808.0129 Angstrom, f=0.00208> has flag=0.  Hopefully you expected that\n",
      "  warnings.warn(\"Absline {} has flag=0.  Hopefully you expected that\".format(str(aline)))\n",
      "/Users/xavier/anaconda/lib/python2.7/site-packages/ipykernel/__main__.py:20: UserWarning: DLA J0800+1920_z3.946 has a large coordinate offset = [ 2.61594192] arcsec\n"
     ]
    },
    {
     "name": "stdout",
     "output_type": "stream",
     "text": [
      "Working on DLA <DLASystem: 08:00:50.2673 19:20:56.328, 3.9465, NHI=20.4, Z/H=0>\n"
     ]
    },
    {
     "name": "stderr",
     "output_type": "stream",
     "text": [
      "/Users/xavier/anaconda/lib/python2.7/site-packages/ipykernel/__main__.py:20: UserWarning: DLA J0818+0958_z3.306 has a large coordinate offset = [ 3.15076119] arcsec\n"
     ]
    },
    {
     "name": "stdout",
     "output_type": "stream",
     "text": [
      "Working on DLA <DLASystem: 08:18:55.7534 09:58:44.976, 3.306, NHI=21, Z/H=0>\n"
     ]
    },
    {
     "name": "stderr",
     "output_type": "stream",
     "text": [
      "/Users/xavier/anaconda/lib/python2.7/site-packages/ipykernel/__main__.py:20: UserWarning: DLA J0835+0650_z3.955 has a large coordinate offset = [ 1.79076588] arcsec\n"
     ]
    },
    {
     "name": "stdout",
     "output_type": "stream",
     "text": [
      "Working on DLA <DLASystem: 08:35:10.9193 06:50:51.072, 3.9555, NHI=20.4, Z/H=0>\n"
     ]
    },
    {
     "name": "stderr",
     "output_type": "stream",
     "text": [
      "/Users/xavier/anaconda/lib/python2.7/site-packages/ipykernel/__main__.py:20: UserWarning: DLA J0920+0725_z2.238 has a large coordinate offset = [ 2.96487767] arcsec\n"
     ]
    },
    {
     "name": "stdout",
     "output_type": "stream",
     "text": [
      "Working on DLA <DLASystem: 09:20:41.7274 07:25:41.268, 2.238, NHI=20.9, Z/H=0>\n"
     ]
    },
    {
     "name": "stderr",
     "output_type": "stream",
     "text": [
      "/Users/xavier/anaconda/lib/python2.7/site-packages/ipykernel/__main__.py:20: UserWarning: DLA J0955-0130_z4.024 has a large coordinate offset = [ 2.26091722] arcsec\n"
     ]
    },
    {
     "name": "stdout",
     "output_type": "stream",
     "text": [
      "Working on DLA <DLASystem: 09:55:00.0182 -01:30:08.496, 4.0245, NHI=20.7, Z/H=0>\n"
     ]
    },
    {
     "name": "stderr",
     "output_type": "stream",
     "text": [
      "/Users/xavier/anaconda/lib/python2.7/site-packages/ipykernel/__main__.py:20: UserWarning: DLA J1020+0922_z2.592 has a large coordinate offset = [ 2.06769183] arcsec\n"
     ]
    },
    {
     "name": "stdout",
     "output_type": "stream",
     "text": [
      "Working on DLA <DLASystem: 10:20:40.7482 09:22:53.184, 2.592, NHI=21.5, Z/H=0>\n"
     ]
    },
    {
     "name": "stderr",
     "output_type": "stream",
     "text": [
      "/Users/xavier/local/Python/linetools/linetools/isgm/abscomponent.py:524: UserWarning: Absline <AbsLine: TiII 3073, z=0.0000 wrest=3073.8770 Angstrom, f=0.109> has flag=0.  Hopefully you expected that\n",
      "  warnings.warn(\"Absline {} has flag=0.  Hopefully you expected that\".format(str(aline)))\n",
      "/Users/xavier/local/Python/linetools/linetools/isgm/abscomponent.py:524: UserWarning: Absline <AbsLine: TiII 3384, z=0.0000 wrest=3384.7400 Angstrom, f=0.34> has flag=0.  Hopefully you expected that\n",
      "  warnings.warn(\"Absline {} has flag=0.  Hopefully you expected that\".format(str(aline)))\n",
      "/Users/xavier/anaconda/lib/python2.7/site-packages/ipykernel/__main__.py:20: UserWarning: DLA J1024+1819_z2.298 has a large coordinate offset = [ 2.86271181] arcsec\n"
     ]
    },
    {
     "name": "stdout",
     "output_type": "stream",
     "text": [
      "Working on DLA <DLASystem: 10:24:56.784 18:19:07.176, 2.298, NHI=21.3, Z/H=0>\n"
     ]
    },
    {
     "name": "stderr",
     "output_type": "stream",
     "text": [
      "/Users/xavier/anaconda/lib/python2.7/site-packages/ipykernel/__main__.py:20: UserWarning: DLA J1057+1910_z3.373 has a large coordinate offset = [ 2.33094994] arcsec\n"
     ]
    },
    {
     "name": "stdout",
     "output_type": "stream",
     "text": [
      "Working on DLA <DLASystem: 10:57:05.531 19:10:43.788, 3.3735, NHI=20.3, Z/H=0>\n"
     ]
    },
    {
     "name": "stderr",
     "output_type": "stream",
     "text": [
      "/Users/xavier/anaconda/lib/python2.7/site-packages/ipykernel/__main__.py:20: UserWarning: DLA J1058+1245_z3.432 has a large coordinate offset = [ 2.16199477] arcsec\n"
     ]
    },
    {
     "name": "stdout",
     "output_type": "stream",
     "text": [
      "Working on DLA <DLASystem: 10:58:58.511 12:45:53.82, 3.4315, NHI=20.6, Z/H=0>\n"
     ]
    },
    {
     "name": "stderr",
     "output_type": "stream",
     "text": [
      "/Users/xavier/anaconda/lib/python2.7/site-packages/ipykernel/__main__.py:20: UserWarning: DLA J1108+1209_z3.397 has a large coordinate offset = [ 2.08145828] arcsec\n"
     ]
    },
    {
     "name": "stdout",
     "output_type": "stream",
     "text": [
      "Working on DLA <DLASystem: 11:08:55.5653 12:09:51.768, 3.3965, NHI=20.7, Z/H=0>\n"
     ]
    },
    {
     "name": "stderr",
     "output_type": "stream",
     "text": [
      "/Users/xavier/local/Python/linetools/linetools/isgm/abscomponent.py:524: UserWarning: Absline <AbsLine: NI 1199, z=0.0000 wrest=1199.5496 Angstrom, f=0.132> has flag=0.  Hopefully you expected that\n",
      "  warnings.warn(\"Absline {} has flag=0.  Hopefully you expected that\".format(str(aline)))\n",
      "/Users/xavier/local/Python/linetools/linetools/isgm/abssystem.py:290: UserWarning: Input AbsComponent with Zion=(7, 1) does not match AbsSystem rules. Not appending\n",
      "  warnings.warn('Input AbsComponent with Zion={} does not match AbsSystem rules. Not appending'.format(abscomp.Zion))\n",
      "/Users/xavier/anaconda/lib/python2.7/site-packages/ipykernel/__main__.py:20: UserWarning: DLA J1108+1209_z3.546 has a large coordinate offset = [ 2.08145828] arcsec\n"
     ]
    },
    {
     "name": "stdout",
     "output_type": "stream",
     "text": [
      "Working on DLA <DLASystem: 11:08:55.5653 12:09:51.768, 3.546, NHI=20.8, Z/H=0>\n"
     ]
    },
    {
     "name": "stderr",
     "output_type": "stream",
     "text": [
      "/Users/xavier/anaconda/lib/python2.7/site-packages/ipykernel/__main__.py:20: UserWarning: DLA J1312+0841_z2.660 has a large coordinate offset = [ 2.50607721] arcsec\n"
     ]
    },
    {
     "name": "stdout",
     "output_type": "stream",
     "text": [
      "Working on DLA <DLASystem: 13:12:42.9413 08:41:02.868, 2.66, NHI=20.5, Z/H=0>\n"
     ]
    },
    {
     "name": "stderr",
     "output_type": "stream",
     "text": [
      "/Users/xavier/anaconda/lib/python2.7/site-packages/ipykernel/__main__.py:20: UserWarning: DLA J1421-0643_z3.449 has a large coordinate offset = [ 2.8451338] arcsec\n"
     ]
    },
    {
     "name": "stdout",
     "output_type": "stream",
     "text": [
      "Working on DLA <DLASystem: 14:21:07.9315 -06:43:57.684, 3.449, NHI=20.3, Z/H=0>\n"
     ]
    },
    {
     "name": "stderr",
     "output_type": "stream",
     "text": [
      "/Users/xavier/anaconda/lib/python2.7/site-packages/ipykernel/__main__.py:20: UserWarning: DLA J1517+0511_z2.688 has a large coordinate offset = [ 2.90540708] arcsec\n"
     ]
    },
    {
     "name": "stdout",
     "output_type": "stream",
     "text": [
      "Working on DLA <DLASystem: 15:17:56.2025 05:11:00.708, 2.6885, NHI=21.4, Z/H=0>\n"
     ]
    },
    {
     "name": "stderr",
     "output_type": "stream",
     "text": [
      "/Users/xavier/anaconda/lib/python2.7/site-packages/ipykernel/__main__.py:20: UserWarning: DLA J1552+1005_z3.601 has a large coordinate offset = [ 2.92387019] arcsec\n"
     ]
    },
    {
     "name": "stdout",
     "output_type": "stream",
     "text": [
      "Working on DLA <DLASystem: 15:52:55.2204 10:05:37.068, 3.601, NHI=21.1, Z/H=0>\n"
     ]
    },
    {
     "name": "stderr",
     "output_type": "stream",
     "text": [
      "/Users/xavier/anaconda/lib/python2.7/site-packages/ipykernel/__main__.py:20: UserWarning: DLA J1552+1005_z3.667 has a large coordinate offset = [ 2.92387019] arcsec\n"
     ]
    },
    {
     "name": "stdout",
     "output_type": "stream",
     "text": [
      "Working on DLA <DLASystem: 15:52:55.2204 10:05:37.068, 3.6665, NHI=20.7, Z/H=0>\n"
     ]
    },
    {
     "name": "stderr",
     "output_type": "stream",
     "text": [
      "/Users/xavier/local/Python/linetools/linetools/isgm/abscomponent.py:524: UserWarning: Absline <AbsLine: FeII 1144, z=0.0000 wrest=1144.9379 Angstrom, f=0.083> has flag=0.  Hopefully you expected that\n",
      "  warnings.warn(\"Absline {} has flag=0.  Hopefully you expected that\".format(str(aline)))\n",
      "/Users/xavier/local/Python/linetools/linetools/isgm/abscomponent.py:524: UserWarning: Absline <AbsLine: FeII 2374, z=0.0000 wrest=2374.4612 Angstrom, f=0.0313> has flag=0.  Hopefully you expected that\n",
      "  warnings.warn(\"Absline {} has flag=0.  Hopefully you expected that\".format(str(aline)))\n",
      "/Users/xavier/anaconda/lib/python2.7/site-packages/ipykernel/__main__.py:20: UserWarning: DLA J1633+1411_z2.882 has a large coordinate offset = [ 2.49171431] arcsec\n"
     ]
    },
    {
     "name": "stdout",
     "output_type": "stream",
     "text": [
      "Working on DLA <DLASystem: 16:33:19.6906 14:11:39.768, 2.882, NHI=20.3, Z/H=0>\n"
     ]
    },
    {
     "name": "stderr",
     "output_type": "stream",
     "text": [
      "/Users/xavier/anaconda/lib/python2.7/site-packages/ipykernel/__main__.py:20: UserWarning: DLA J1723+2243_z3.698 has a large coordinate offset = [ 3.47209974] arcsec\n"
     ]
    },
    {
     "name": "stdout",
     "output_type": "stream",
     "text": [
      "Working on DLA <DLASystem: 17:23:23.1353 22:43:54.732, 3.698, NHI=20.5, Z/H=0>\n"
     ]
    },
    {
     "name": "stderr",
     "output_type": "stream",
     "text": [
      "/Users/xavier/anaconda/lib/python2.7/site-packages/ipykernel/__main__.py:20: UserWarning: DLA J2239-0552_z4.080 has a large coordinate offset = [ 2.3492306] arcsec\n"
     ]
    },
    {
     "name": "stdout",
     "output_type": "stream",
     "text": [
      "Working on DLA <DLASystem: 22:39:53.6266 -05:52:21.36, 4.0805, NHI=20.6, Z/H=0>\n"
     ]
    },
    {
     "name": "stderr",
     "output_type": "stream",
     "text": [
      "/Users/xavier/local/Python/linetools/linetools/isgm/abscomponent.py:524: UserWarning: Absline <AbsLine: FeII 2600, z=0.0000 wrest=2600.1729 Angstrom, f=0.239> has flag=0.  Hopefully you expected that\n",
      "  warnings.warn(\"Absline {} has flag=0.  Hopefully you expected that\".format(str(aline)))\n",
      "/Users/xavier/anaconda/lib/python2.7/site-packages/ipykernel/__main__.py:20: UserWarning: DLA J2344+0342_z3.220 has a large coordinate offset = [ 2.82741675] arcsec\n"
     ]
    },
    {
     "name": "stdout",
     "output_type": "stream",
     "text": [
      "Working on DLA <DLASystem: 23:44:03.0545 03:42:24.336, 3.22, NHI=21.3, Z/H=0>\n"
     ]
    },
    {
     "name": "stderr",
     "output_type": "stream",
     "text": [
      "/Users/xavier/local/Python/linetools/linetools/isgm/abscomponent.py:524: UserWarning: Absline <AbsLine: ZnII 2026, z=0.0000 wrest=2026.1370 Angstrom, f=0.501> has flag=0.  Hopefully you expected that\n",
      "  warnings.warn(\"Absline {} has flag=0.  Hopefully you expected that\".format(str(aline)))\n"
     ]
    }
   ],
   "source": [
    "for cdla in unique_dlas:\n",
    "    # Rows matching this DLA\n",
    "    mti = np.where(dlas == cdla)[0]\n",
    "    # Generate abslines\n",
    "    abslines = []\n",
    "    for jj,ii in enumerate(mti):\n",
    "        row = berg_tbl[ii]\n",
    "        if jj == 0:\n",
    "            #if row['qso'] == 'J1517+0511':\n",
    "            #    coord = ltu.radec_to_coord('J151756.2+051109.7')\n",
    "            #else:\n",
    "            coord = ltu.radec_to_coord((row['ra'],row['dec']))\n",
    "            # Match to DLA in XQ-100 survey\n",
    "            sep = coord.separation(xq100_dla_coords)\n",
    "            imin = np.argmin(sep)\n",
    "            mt = np.where((sep < 10*u.arcsec) & (np.abs(row['zab']-xq100_dla_zabs) < 1e-2))[0]\n",
    "            if len(mt) != 1:\n",
    "                pdb.set_trace()\n",
    "            if sep[mt[0]] > 1*u.arcsec:\n",
    "                warnings.warn(\"DLA {} has a large coordinate offset = {}\".format(cdla,sep[mt].to('arcsec')))\n",
    "            dla = xq100_dla._abs_sys[mt[0]]\n",
    "            # Reset DLA\n",
    "            dla.zabs = row['zab']\n",
    "            dla._components= []\n",
    "            # Correct coordinates now\n",
    "            sep2 = coord.separation(xq100_coords)\n",
    "            imin2 = np.argmin(sep2)\n",
    "            if sep2[imin2] > 0.2*u.arcsec:\n",
    "                pdb.set_trace()\n",
    "            dla.coord = xq100_coords[imin2]\n",
    "            #\n",
    "            print(\"Working on DLA {}\".format(dla))\n",
    "        #\n",
    "        trans = '{:s} {:d}'.format(row['ion'],row['wl'])\n",
    "        if trans == 'TiII 1910':\n",
    "            flg_TiII = True\n",
    "            aline = TiIIa.copy()\n",
    "        else:\n",
    "            flg_TiII = False\n",
    "            aline = AbsLine(trans)\n",
    "        # Coord matched to the meta table\n",
    "        aline.attrib['coord'] = dla.coord\n",
    "        # zem, etc. attrib\n",
    "        aline.attrib['z'] = row['zab']\n",
    "        # Scaled N\n",
    "        if flg_TiII:\n",
    "            Nscl = 1.\n",
    "        else:\n",
    "            Nscl = row['f'] / aline.data['f']\n",
    "#        pdb.set_trace()\n",
    "        aline.attrib['logN'] = row['N'] + np.log10(Nscl)\n",
    "        aline.attrib['sig_logN'] = row['Nerr']\n",
    "        aline.attrib['flag_N'] = row['flg']\n",
    "        laa.linear_clm(aline.attrib)\n",
    "        # Analysis\n",
    "        aline.analy['vlim'] = [row['vmin'], row['vmax']]*u.km/u.s\n",
    "        aline.analy['do_analysis'] = row['flg_analy']+1\n",
    "        aline.analy['spec'] = row['filename']\n",
    "        # Checks\n",
    "        np.testing.assert_allclose(aline.wrest.value, row['lambda'], rtol=1e-4)\n",
    "        try:\n",
    "            np.testing.assert_allclose(aline.data['f'], row['f'], rtol=1e-4)\n",
    "        except AssertionError:\n",
    "            pass\n",
    "            #print(\"f-values do not closely match for trans={:s}\".format(trans))\n",
    "            #print(\"f_lt={:g}, f_Berg={:g}\".format(aline.data['f'], row['f']))\n",
    "        # Add\n",
    "        abslines.append(aline)\n",
    "    # Generate components and add them in\n",
    "    comps = ltiu.build_components_from_abslines(abslines, chk_vel=False)\n",
    "    for comp in comps:\n",
    "        comp.synthesize_colm(overwrite=True)\n",
    "        dla.add_component(comp)\n",
    "    #pdb.set_trace()"
   ]
  },
  {
   "cell_type": "markdown",
   "metadata": {},
   "source": [
    "### Check"
   ]
  },
  {
   "cell_type": "code",
   "execution_count": 18,
   "metadata": {
    "collapsed": false
   },
   "outputs": [],
   "source": [
    "ii=5\n",
    "xq100_dla._abs_sys[ii].fill_ionN()\n",
    "#dla.fill_ionN()\n",
    "#dla._ionN\n",
    "xq100_dla._abs_sys[ii]._ionN"
   ]
  },
  {
   "cell_type": "markdown",
   "metadata": {
    "collapsed": true
   },
   "source": [
    "### Write"
   ]
  },
  {
   "cell_type": "code",
   "execution_count": 19,
   "metadata": {
    "collapsed": false
   },
   "outputs": [
    {
     "name": "stdout",
     "output_type": "stream",
     "text": [
      "Wrote: /Users/xavier/local/Python/pyigm/pyigm/data/DLA/XQ-100/XQ100_dla_v1.0.tar.gz\n"
     ]
    }
   ],
   "source": [
    "dfile = '/Users/xavier/local/Python/pyigm/pyigm/data/DLA/XQ-100/XQ100_dla_v1.0.tar.gz'\n",
    "xq100_dla.write_survey(dfile)"
   ]
  },
  {
   "cell_type": "markdown",
   "metadata": {},
   "source": [
    "### Read"
   ]
  },
  {
   "cell_type": "code",
   "execution_count": 20,
   "metadata": {
    "collapsed": false
   },
   "outputs": [
    {
     "name": "stdout",
     "output_type": "stream",
     "text": [
      "Loading systems from /Users/xavier/local/Python/pyigm/pyigm/data/DLA/XQ-100/XQ100_dla_v1.0.tar.gz\n",
      "Skipping a likely folder: IGM_JSON\n"
     ]
    }
   ],
   "source": [
    "import warnings\n",
    "warnings.filterwarnings('ignore')\n",
    "reload(pyiu)\n",
    "xq100_dla = pyiu.load_sys_files(dfile, 'DLA', chk_vel=False, chk_data=False, use_coord=True)"
   ]
  },
  {
   "cell_type": "markdown",
   "metadata": {},
   "source": [
    "## Kinematics -- For JXP only"
   ]
  },
  {
   "cell_type": "code",
   "execution_count": 21,
   "metadata": {
    "collapsed": false
   },
   "outputs": [
    {
     "ename": "ImportError",
     "evalue": "No module named PyQt4",
     "output_type": "error",
     "traceback": [
      "\u001b[0;31m---------------------------------------------------------------------------\u001b[0m",
      "\u001b[0;31mImportError\u001b[0m                               Traceback (most recent call last)",
      "\u001b[0;32m<ipython-input-21-92ab277462d1>\u001b[0m in \u001b[0;36m<module>\u001b[0;34m()\u001b[0m\n\u001b[1;32m      1\u001b[0m \u001b[0msys\u001b[0m\u001b[0;34m.\u001b[0m\u001b[0mpath\u001b[0m\u001b[0;34m.\u001b[0m\u001b[0mappend\u001b[0m\u001b[0;34m(\u001b[0m\u001b[0mos\u001b[0m\u001b[0;34m.\u001b[0m\u001b[0mpath\u001b[0m\u001b[0;34m.\u001b[0m\u001b[0mabspath\u001b[0m\u001b[0;34m(\u001b[0m\u001b[0;34m'/Users/xavier/paper/XQ100/DLA_II/Analysis/py'\u001b[0m\u001b[0;34m)\u001b[0m\u001b[0;34m)\u001b[0m\u001b[0;34m\u001b[0m\u001b[0m\n\u001b[0;32m----> 2\u001b[0;31m \u001b[0;32mimport\u001b[0m \u001b[0mxq100_dla_kin\u001b[0m \u001b[0;32mas\u001b[0m \u001b[0mxqkin\u001b[0m\u001b[0;34m\u001b[0m\u001b[0m\n\u001b[0m\u001b[1;32m      3\u001b[0m \u001b[0mkinfile\u001b[0m \u001b[0;34m=\u001b[0m \u001b[0;34m'/Users/xavier/paper/XQ100/DLA_II/Analysis/xq100_dla_kin_trans.dat'\u001b[0m\u001b[0;34m\u001b[0m\u001b[0m\n",
      "\u001b[0;32m/Users/xavier/paper/XQ100/DLA_II/Analysis/py/xq100_dla_kin.py\u001b[0m in \u001b[0;36m<module>\u001b[0;34m()\u001b[0m\n\u001b[1;32m     31\u001b[0m \u001b[0;32mfrom\u001b[0m \u001b[0mpyigm\u001b[0m\u001b[0;34m.\u001b[0m\u001b[0mabssys\u001b[0m\u001b[0;34m.\u001b[0m\u001b[0mdla\u001b[0m \u001b[0;32mimport\u001b[0m \u001b[0mDLASystem\u001b[0m\u001b[0;34m\u001b[0m\u001b[0m\n\u001b[1;32m     32\u001b[0m \u001b[0;34m\u001b[0m\u001b[0m\n\u001b[0;32m---> 33\u001b[0;31m \u001b[0;32mfrom\u001b[0m \u001b[0mxastropy\u001b[0m\u001b[0;34m.\u001b[0m\u001b[0mxguis\u001b[0m\u001b[0;34m.\u001b[0m\u001b[0mabskingui\u001b[0m \u001b[0;32mimport\u001b[0m \u001b[0mAbsKinGui\u001b[0m\u001b[0;34m\u001b[0m\u001b[0m\n\u001b[0m\u001b[1;32m     34\u001b[0m \u001b[0;32mfrom\u001b[0m \u001b[0mxastropy\u001b[0m\u001b[0;34m.\u001b[0m\u001b[0mxutils\u001b[0m \u001b[0;32mimport\u001b[0m \u001b[0mxdebug\u001b[0m \u001b[0;32mas\u001b[0m \u001b[0mxdb\u001b[0m\u001b[0;34m\u001b[0m\u001b[0m\n\u001b[1;32m     35\u001b[0m \u001b[0;34m\u001b[0m\u001b[0m\n",
      "\u001b[0;32m/Users/xavier/local/Python/xastropy/xastropy/xguis/__init__.py\u001b[0m in \u001b[0;36m<module>\u001b[0;34m()\u001b[0m\n\u001b[1;32m      1\u001b[0m \u001b[0;31m#import img_widgets\u001b[0m\u001b[0;34m\u001b[0m\u001b[0;34m\u001b[0m\u001b[0m\n\u001b[0;32m----> 2\u001b[0;31m \u001b[0;32mimport\u001b[0m \u001b[0mutils\u001b[0m\u001b[0;34m\u001b[0m\u001b[0m\n\u001b[0m\u001b[1;32m      3\u001b[0m \u001b[0;32mimport\u001b[0m \u001b[0mspec_widgets\u001b[0m\u001b[0;34m\u001b[0m\u001b[0m\n\u001b[1;32m      4\u001b[0m \u001b[0;32mimport\u001b[0m \u001b[0mspec_guis\u001b[0m\u001b[0;34m\u001b[0m\u001b[0m\n",
      "\u001b[0;32m/Users/xavier/local/Python/xastropy/xastropy/xguis/utils.py\u001b[0m in \u001b[0;36m<module>\u001b[0;34m()\u001b[0m\n\u001b[1;32m     19\u001b[0m \u001b[0;32mimport\u001b[0m \u001b[0mglob\u001b[0m\u001b[0;34m\u001b[0m\u001b[0m\n\u001b[1;32m     20\u001b[0m \u001b[0;34m\u001b[0m\u001b[0m\n\u001b[0;32m---> 21\u001b[0;31m \u001b[0;32mfrom\u001b[0m \u001b[0mPyQt4\u001b[0m \u001b[0;32mimport\u001b[0m \u001b[0mQtGui\u001b[0m\u001b[0;34m\u001b[0m\u001b[0m\n\u001b[0m\u001b[1;32m     22\u001b[0m \u001b[0;32mfrom\u001b[0m \u001b[0mPyQt4\u001b[0m \u001b[0;32mimport\u001b[0m \u001b[0mQtCore\u001b[0m\u001b[0;34m\u001b[0m\u001b[0m\n\u001b[1;32m     23\u001b[0m \u001b[0;34m\u001b[0m\u001b[0m\n",
      "\u001b[0;31mImportError\u001b[0m: No module named PyQt4"
     ]
    }
   ],
   "source": [
    "sys.path.append(os.path.abspath('/Users/xavier/paper/XQ100/DLA_II/Analysis/py'))\n",
    "import xq100_dla_kin as xqkin\n",
    "kinfile = '/Users/xavier/paper/XQ100/DLA_II/Analysis/xq100_dla_kin_trans.dat'"
   ]
  },
  {
   "cell_type": "markdown",
   "metadata": {},
   "source": [
    "### Analyze"
   ]
  },
  {
   "cell_type": "code",
   "execution_count": null,
   "metadata": {
    "collapsed": false
   },
   "outputs": [],
   "source": [
    "reload(xqkin)\n",
    "xqkin.analyze_kin(xq100_dla, kinfile)"
   ]
  },
  {
   "cell_type": "markdown",
   "metadata": {},
   "source": [
    "### Table"
   ]
  },
  {
   "cell_type": "code",
   "execution_count": null,
   "metadata": {
    "collapsed": false
   },
   "outputs": [],
   "source": [
    "sys.path.append(os.path.abspath('/Users/xavier/paper/XQ100/DLA_II/Tables/py'))\n",
    "import xq100_dlaII_tables as xqtab"
   ]
  },
  {
   "cell_type": "code",
   "execution_count": null,
   "metadata": {
    "collapsed": false
   },
   "outputs": [],
   "source": [
    "# Load\n",
    "xqfile = pyigm.__path__[0]+'/data/DLA/XQ-100/XQ100_dla_v1.1.tar.gz'\n",
    "xq100_dla = pyiu.load_sys_files(xqfile, 'DLA', chk_vel=False, chk_data=False, use_coord=True)"
   ]
  },
  {
   "cell_type": "code",
   "execution_count": null,
   "metadata": {
    "collapsed": false
   },
   "outputs": [],
   "source": [
    "xqtab.mktab_kin(xq100_dla, outfil='/Users/xavier/paper/XQ100/DLA_II/Tables/tab_kin.tex')"
   ]
  },
  {
   "cell_type": "code",
   "execution_count": null,
   "metadata": {
    "collapsed": true
   },
   "outputs": [],
   "source": []
  }
 ],
 "metadata": {
  "kernelspec": {
   "display_name": "Python 2",
   "language": "python",
   "name": "python2"
  },
  "language_info": {
   "codemirror_mode": {
    "name": "ipython",
    "version": 2
   },
   "file_extension": ".py",
   "mimetype": "text/x-python",
   "name": "python",
   "nbconvert_exporter": "python",
   "pygments_lexer": "ipython2",
   "version": "2.7.13"
  }
 },
 "nbformat": 4,
 "nbformat_minor": 0
}
