{
 "cells": [
  {
   "cell_type": "markdown",
   "metadata": {},
   "source": [
    "# Data from Burchett et al. 2016 (ApJ, 832, 124)"
   ]
  },
  {
   "cell_type": "code",
   "execution_count": 1,
   "metadata": {
    "collapsed": true
   },
   "outputs": [],
   "source": [
    "# imports\n",
    "from pkg_resources import resource_filename\n",
    "\n",
    "from astropy.table import Table\n",
    "\n",
    "from pyigm.cgm.cgmsurvey import CGMAbsSurvey"
   ]
  },
  {
   "cell_type": "markdown",
   "metadata": {},
   "source": [
    "## Load"
   ]
  },
  {
   "cell_type": "code",
   "execution_count": 2,
   "metadata": {
    "collapsed": true
   },
   "outputs": [],
   "source": [
    "b16_vir_file = resource_filename('pyigm', 'data/CGM/z0/Burchett2016_CIV_HI_virselect.fits')"
   ]
  },
  {
   "cell_type": "code",
   "execution_count": 3,
   "metadata": {},
   "outputs": [
    {
     "data": {
      "text/html": [
       "&lt;Table length=3&gt;\n",
       "<table id=\"table140523249110432\" class=\"table-striped table-bordered table-condensed\">\n",
       "<thead><tr><th>field</th><th>ra_gal</th><th>dec_gal</th><th>zgal</th><th>NSAidx</th><th>mstars</th><th>rrvir</th><th>rhokpc</th><th>col_c4</th><th>colsig_c4</th><th>EW_c4</th><th>EWsig_c4</th><th>flag_c4</th><th>flag_h1</th><th>EW_h1</th><th>EWsig_h1</th><th>col_h1</th><th>colsig_h1</th><th>ra_qso</th><th>dec_qso</th><th>SFR</th><th>SFR_err</th></tr></thead>\n",
       "<thead><tr><th>str10</th><th>float64</th><th>float64</th><th>float64</th><th>int64</th><th>float64</th><th>float64</th><th>float64</th><th>float64</th><th>float64</th><th>float64</th><th>float64</th><th>int64</th><th>int64</th><th>float64</th><th>float64</th><th>float64</th><th>float64</th><th>float64</th><th>float64</th><th>float64</th><th>float64</th></tr></thead>\n",
       "<tr><td>J0809+4619</td><td>122.787524394</td><td>46.468633855</td><td>0.00751854619011</td><td>120856</td><td>10.8100976944</td><td>0.649301290512</td><td>211.62828064</td><td>13.1480093002</td><td>-99.0</td><td>0.0583479627967</td><td>-99.0</td><td>3</td><td>1</td><td>0.111001105322</td><td>0.0216465849607</td><td>13.4755275554</td><td>0.061702456142</td><td>122.2839</td><td>46.3238</td><td>6.41061792382e-07</td><td>0.0</td></tr>\n",
       "<tr><td>J0809+4619</td><td>123.496047313</td><td>45.7442846399</td><td>0.00180124887265</td><td>120870</td><td>8.85513877869</td><td>0.988569498062</td><td>138.611984253</td><td>13.0261411667</td><td>-99.0</td><td>0.0382551550865</td><td>-99.0</td><td>3</td><td>0</td><td>0.0</td><td>0.0</td><td>0.0</td><td>0.0</td><td>122.2839</td><td>46.3238</td><td>0.149770689464</td><td>0.0</td></tr>\n",
       "<tr><td>J0843+4117</td><td>131.066261948</td><td>41.7188011603</td><td>0.00598414894193</td><td>121356</td><td>8.06238174438</td><td>1.8094625473</td><td>193.648269653</td><td>13.2731494904</td><td>-99.0</td><td>0.077730961144</td><td>-99.0</td><td>3</td><td>1</td><td>0.171908</td><td>0.04826</td><td>13.669</td><td>0.128</td><td>130.9562</td><td>41.2949</td><td>0.332524715786</td><td>0.0</td></tr>\n",
       "</table>"
      ],
      "text/plain": [
       "<Table length=3>\n",
       "  field        ra_gal       dec_gal    ... dec_qso        SFR        SFR_err\n",
       "  str10       float64       float64    ... float64      float64      float64\n",
       "---------- ------------- ------------- ... ------- ----------------- -------\n",
       "J0809+4619 122.787524394  46.468633855 ... 46.3238 6.41061792382e-07     0.0\n",
       "J0809+4619 123.496047313 45.7442846399 ... 46.3238    0.149770689464     0.0\n",
       "J0843+4117 131.066261948 41.7188011603 ... 41.2949    0.332524715786     0.0"
      ]
     },
     "execution_count": 3,
     "metadata": {},
     "output_type": "execute_result"
    }
   ],
   "source": [
    "b16_vir = Table.read(b16_vir_file)\n",
    "b16_vir[0:3]"
   ]
  },
  {
   "cell_type": "code",
   "execution_count": 4,
   "metadata": {},
   "outputs": [
    {
     "data": {
      "text/plain": [
       "array([  6.17024561e-02,   0.00000000e+00,   1.28000000e-01,\n",
       "         9.90000000e+01,   9.90000000e+01,   9.51553675e-02,\n",
       "        -9.90000000e+01,   9.90000000e+01,  -9.90000000e+01,\n",
       "         0.00000000e+00,   0.00000000e+00,   0.00000000e+00,\n",
       "         8.89397365e-02,   9.90000000e+01,  -9.90000000e+01,\n",
       "         9.90000000e+01,   9.90000000e+01,  -9.90000000e+01,\n",
       "         9.90000000e+01,   9.90000000e+01,   9.90000000e+01,\n",
       "         9.90000000e+01,  -9.90000000e+01,  -9.90000000e+01,\n",
       "         9.90000000e+01,   9.90000000e+01,  -9.90000000e+01,\n",
       "         7.74471846e-02,   9.90000000e+01,   9.90000000e+01,\n",
       "         0.00000000e+00,   9.90000000e+01,  -9.90000000e+01,\n",
       "        -9.90000000e+01,   5.00000000e-02,   9.90000000e+01,\n",
       "         0.00000000e+00,   0.00000000e+00,   9.90000000e+01,\n",
       "         9.90000000e+01,   1.27000000e-01,   9.90000000e+01,\n",
       "         0.00000000e+00,  -9.90000000e+01,   0.00000000e+00,\n",
       "         0.00000000e+00,   9.90000000e+01,  -9.90000000e+01,\n",
       "         0.00000000e+00,   0.00000000e+00,   1.07748241e-01,\n",
       "         9.90000000e+01,   9.90000000e+01,   0.00000000e+00,\n",
       "         9.90000000e+01])"
      ]
     },
     "execution_count": 4,
     "metadata": {},
     "output_type": "execute_result"
    }
   ],
   "source": [
    "b16_vir['colsig_h1'].data"
   ]
  },
  {
   "cell_type": "markdown",
   "metadata": {},
   "source": [
    "## Load survey"
   ]
  },
  {
   "cell_type": "markdown",
   "metadata": {},
   "source": [
    "### Default: Vir selection"
   ]
  },
  {
   "cell_type": "code",
   "execution_count": 5,
   "metadata": {},
   "outputs": [
    {
     "name": "stdout",
     "output_type": "stream",
     "text": [
      "Loading Burchett+16 using rvir selection method\n",
      "read_sets: Using set file -- \n",
      "  /home/xavier/local/Python/linetools/linetools/lists/sets/llist_v1.2.ascii\n"
     ]
    },
    {
     "name": "stderr",
     "output_type": "stream",
     "text": [
      "/home/xavier/local/Python/linetools/linetools/lists/linelist.py:402: RuntimeWarning: divide by zero encountered in log10\n",
      "  self._extra_table['log(w*f)'] = np.log10(qm_strength)\n",
      "/home/xavier/local/Python/linetools/linetools/spectralline.py:214: UserWarning: Redshift not input.  Setting to 0 for zLimits\n",
      "  warnings.warn(\"Redshift not input.  Setting to 0 for zLimits\")\n"
     ]
    },
    {
     "name": "stdout",
     "output_type": "stream",
     "text": [
      "Loading abundances from Asplund2009\n",
      "Abundances are relative by number on a logarithmic scale with H=12\n",
      "Skipping a likely folder: CGM_JSON\n"
     ]
    }
   ],
   "source": [
    "b16 = CGMAbsSurvey.load_B16()"
   ]
  },
  {
   "cell_type": "code",
   "execution_count": 6,
   "metadata": {},
   "outputs": [
    {
     "data": {
      "text/plain": [
       "<CGM_Survey:  nsys=55, ref=>\n",
       "<IGMSystem: IGMSystem 02:12:18.3373 -07:37:19.9232, zabs=0.0128656, Z/H=0, NHI=12.6254>\n",
       "<IGMSystem: IGMSystem 13:42:51.6087 -00:53:45.3116, zabs=0.0053804, Z/H=0, NHI=12.6628>\n",
       "<IGMSystem: IGMSystem 09:28:37.9827 60:25:20.9806, zabs=0.0135472, Z/H=0, NHI=14.1887>\n",
       "<IGMSystem: IGMSystem 00:42:22.2925 -10:37:43.7827, zabs=0.0131189, Z/H=0, NHI=12.7425>\n",
       "<IGMSystem: IGMSystem 10:59:45.2412 14:41:43.066, zabs=0.0023016, Z/H=0, NHI=14.1486>\n",
       "<IGMSystem: IGMSystem 09:25:54.7066 40:04:14.1045, zabs=0.0121094, Z/H=0, NHI=0>\n",
       "<IGMSystem: IGMSystem 12:33:04.0527 -00:31:34.1821, zabs=0.00376261, Z/H=0, NHI=14.1818>\n",
       "<IGMSystem: IGMSystem 09:50:00.7398 48:31:29.3696, zabs=0.00621528, Z/H=0, NHI=13.805>\n",
       "<IGMSystem: IGMSystem 14:45:11.283 34:28:25.4703, zabs=0.00555848, Z/H=0, NHI=0>\n",
       "<IGMSystem: IGMSystem 12:07:21.0009 26:24:29.1515, zabs=0.0018333, Z/H=0, NHI=0>\n",
       "<IGMSystem: IGMSystem 12:07:21.0009 26:24:29.1515, zabs=0.00722756, Z/H=0, NHI=13.3815>\n",
       "<IGMSystem: IGMSystem 14:35:11.5325 36:04:37.2414, zabs=0.0136542, Z/H=0, NHI=0>\n",
       "<IGMSystem: IGMSystem 12:45:11.2614 33:56:10.135, zabs=0.00189594, Z/H=0, NHI=14.185>\n",
       "<IGMSystem: IGMSystem 12:20:35.1052 38:53:16.4327, zabs=0.00348663, Z/H=0, NHI=0>\n",
       "<IGMSystem: IGMSystem 11:17:54.3129 26:34:16.6674, zabs=0.00504788, Z/H=0, NHI=13.2528>\n",
       "<IGMSystem: IGMSystem 11:22:44.8796 57:55:42.9478, zabs=0.00518026, Z/H=0, NHI=14.0306>\n",
       "<IGMSystem: IGMSystem 14:35:11.5325 36:04:37.2414, zabs=0.0101101, Z/H=0, NHI=14.0628>\n",
       "<IGMSystem: IGMSystem 02:26:14.4687 00:15:29.7675, zabs=0.00446977, Z/H=0, NHI=13.325>\n",
       "<IGMSystem: IGMSystem 08:43:49.4892 41:17:41.619, zabs=0.00598415, Z/H=0, NHI=13.669>\n",
       "<IGMSystem: IGMSystem 08:09:08.1373 46:19:25.6583, zabs=0.00180125, Z/H=0, NHI=0>\n",
       "<IGMSystem: IGMSystem 09:49:52.9209 39:02:03.8216, zabs=0.00528493, Z/H=0, NHI=14.1784>\n",
       "<IGMSystem: IGMSystem 02:42:50.8573 -07:59:14.2861, zabs=0.00503683, Z/H=0, NHI=14.4171>\n",
       "<IGMSystem: IGMSystem 12:11:14.5685 36:57:39.5919, zabs=0.00350576, Z/H=0, NHI=14.152>\n",
       "<IGMSystem: IGMSystem 09:43:31.6167 05:31:31.4573, zabs=0.00655788, Z/H=0, NHI=13.1279>\n",
       "<IGMSystem: IGMSystem 11:51:20.4609 54:37:33.0682, zabs=0.00316532, Z/H=0, NHI=14.1671>\n",
       "<IGMSystem: IGMSystem 11:21:14.2095 03:25:46.9077, zabs=0.00866204, Z/H=0, NHI=13.3351>\n",
       "<IGMSystem: IGMSystem 10:16:22.6037 47:06:43.3271, zabs=0.0022264, Z/H=0, NHI=14.592>\n",
       "<IGMSystem: IGMSystem 09:59:15.6495 05:03:55.0621, zabs=0.0133866, Z/H=0, NHI=13.743>\n",
       "<IGMSystem: IGMSystem 13:57:12.6251 17:04:44.0418, zabs=0.00317848, Z/H=0, NHI=12.0356>\n",
       "<IGMSystem: IGMSystem 01:55:30.0253 -08:57:03.9616, zabs=0.00546712, Z/H=0, NHI=14.347>\n",
       "<IGMSystem: IGMSystem 09:10:29.759 10:14:13.5759, zabs=0.00705489, Z/H=0, NHI=13.8059>\n",
       "<IGMSystem: IGMSystem 15:55:04.3998 36:28:48.0483, zabs=0.00844161, Z/H=0, NHI=0>\n",
       "<IGMSystem: IGMSystem 13:27:04.1281 44:35:04.9189, zabs=0.0015444, Z/H=0, NHI=11.6613>\n",
       "<IGMSystem: IGMSystem 12:36:04.0328 26:41:35.8741, zabs=0.00410284, Z/H=0, NHI=14.332>\n",
       "<IGMSystem: IGMSystem 13:41:00.7834 41:23:14.0787, zabs=0.00850258, Z/H=0, NHI=14.27>\n",
       "<IGMSystem: IGMSystem 12:33:04.0527 -00:31:34.1821, zabs=0.0109376, Z/H=0, NHI=13.129>\n",
       "<IGMSystem: IGMSystem 09:25:54.7066 40:04:14.1045, zabs=0.00544711, Z/H=0, NHI=14.1348>\n",
       "<IGMSystem: IGMSystem 22:57:38.205 13:40:45.4941, zabs=0.00856594, Z/H=0, NHI=13.9797>\n",
       "<IGMSystem: IGMSystem 11:17:54.3129 26:34:16.6674, zabs=0.00938348, Z/H=0, NHI=12.6929>\n",
       "<IGMSystem: IGMSystem 12:33:35.0784 47:58:00.4739, zabs=0.00254176, Z/H=0, NHI=13.849>\n",
       "<IGMSystem: IGMSystem 14:19:10.2026 42:07:46.9239, zabs=0.00221153, Z/H=0, NHI=0>\n",
       "<IGMSystem: IGMSystem 08:09:08.1373 46:19:25.6583, zabs=0.00751855, Z/H=0, NHI=13.4755>\n",
       "<IGMSystem: IGMSystem 12:04:42.0968 27:54:11.8713, zabs=0.0018333, Z/H=0, NHI=0>\n",
       "<IGMSystem: IGMSystem 08:20:24.2198 23:34:50.4625, zabs=0.0138696, Z/H=0, NHI=13.853>\n",
       "<IGMSystem: IGMSystem 23:45:00.4335 -00:59:36.0496, zabs=0.00693147, Z/H=0, NHI=14.21>\n",
       "<IGMSystem: IGMSystem 12:10:37.5607 31:57:06.1118, zabs=0.00253757, Z/H=0, NHI=13.959>\n",
       "<IGMSystem: IGMSystem 11:57:58.7319 -00:22:20.8653, zabs=0.00488672, Z/H=0, NHI=0>\n",
       "<IGMSystem: IGMSystem 14:37:26.1406 50:45:55.8416, zabs=0.00734989, Z/H=0, NHI=13.3719>\n",
       "<IGMSystem: IGMSystem 13:42:31.2244 38:29:03.4804, zabs=0.00458666, Z/H=0, NHI=13.8533>\n",
       "<IGMSystem: IGMSystem 12:04:42.0968 27:54:11.8713, zabs=0.0118222, Z/H=0, NHI=0>\n",
       "<IGMSystem: IGMSystem 13:22:22.68 46:45:35.2065, zabs=0.0015444, Z/H=0, NHI=0>\n",
       "<IGMSystem: IGMSystem 11:21:14.2095 03:25:46.9077, zabs=0.00495343, Z/H=0, NHI=13.6668>\n",
       "<IGMSystem: IGMSystem 12:08:58.0115 45:40:35.4637, zabs=0.00168784, Z/H=0, NHI=0>\n",
       "<IGMSystem: IGMSystem 15:21:39.6734 03:37:29.2895, zabs=0.00493676, Z/H=0, NHI=12.9576>\n",
       "<IGMSystem: IGMSystem 13:42:31.2244 38:29:03.4804, zabs=0.00221159, Z/H=0, NHI=13.8533>"
      ]
     },
     "execution_count": 6,
     "metadata": {},
     "output_type": "execute_result"
    }
   ],
   "source": [
    "b16"
   ]
  },
  {
   "cell_type": "markdown",
   "metadata": {},
   "source": [
    "### Ly$\\alpha$"
   ]
  },
  {
   "cell_type": "code",
   "execution_count": 7,
   "metadata": {
    "collapsed": true
   },
   "outputs": [],
   "source": [
    "Lya_tbl = b16.ion_tbl((1,1))"
   ]
  },
  {
   "cell_type": "code",
   "execution_count": 8,
   "metadata": {
    "scrolled": true
   },
   "outputs": [
    {
     "data": {
      "text/html": [
       "&lt;Table length=55&gt;\n",
       "<table id=\"table140522265849640\" class=\"table-striped table-bordered table-condensed\">\n",
       "<thead><tr><th>name</th><th>Z</th><th>ion</th><th>A</th><th>Ej</th><th>z</th><th>vmin</th><th>vmax</th><th>flag_N</th><th>logN</th><th>sig_logN</th><th>cgm_name</th><th>rho_impact</th></tr></thead>\n",
       "<thead><tr><th></th><th></th><th></th><th></th><th>1 / cm</th><th></th><th>km / s</th><th>km / s</th><th></th><th></th><th></th><th></th><th>kpc</th></tr></thead>\n",
       "<thead><tr><th>str32</th><th>int64</th><th>int64</th><th>int64</th><th>float64</th><th>float64</th><th>float64</th><th>float64</th><th>int64</th><th>float64</th><th>float64</th><th>str19</th><th>float64</th></tr></thead>\n",
       "<tr><td>J021218.336-073719.92_z0.013</td><td>1</td><td>1</td><td>0</td><td>0.0</td><td>0.0128655871376</td><td>-400.0</td><td>400.0</td><td>3</td><td>12.6254099475</td><td>-99.0</td><td>J0212-0737_257_2251</td><td>597.269337873</td></tr>\n",
       "<tr><td>J134251.6072-005345.312_z0.005</td><td>1</td><td>1</td><td>0</td><td>0.0</td><td>0.00538039719686</td><td>-400.0</td><td>400.0</td><td>3</td><td>12.6628383206</td><td>-99.0</td><td>J1342-0053_360_2255</td><td>310.220429405</td></tr>\n",
       "<tr><td>J092837.9824+602521_z0.014</td><td>1</td><td>1</td><td>0</td><td>0.0</td><td>0.0135472072288</td><td>-400.0</td><td>400.0</td><td>3</td><td>14.188721</td><td>-99.0</td><td>J0928+6025_76_694</td><td>214.078556353</td></tr>\n",
       "<tr><td>J004222.2912-103743.788_z0.013</td><td>1</td><td>1</td><td>0</td><td>0.0</td><td>0.0131189003587</td><td>-400.0</td><td>400.0</td><td>3</td><td>12.7425322296</td><td>-99.0</td><td>J0042-1037_342_2300</td><td>626.684529829</td></tr>\n",
       "<tr><td>J105945.24+144143.08_z0.002</td><td>1</td><td>1</td><td>0</td><td>0.0</td><td>0.00230159587227</td><td>-400.0</td><td>400.0</td><td>2</td><td>14.1485757899</td><td>99.0</td><td>J1059+1441_170_2900</td><td>109.336602667</td></tr>\n",
       "<tr><td>J092554.7056+400414.124_z0.012</td><td>0</td><td>0</td><td>0</td><td>0.0</td><td>0.0</td><td>0.0</td><td>0.0</td><td>0</td><td>0.0</td><td>0.0</td><td>J0925+4004_120_336</td><td>94.4950557968</td></tr>\n",
       "<tr><td>J123304.0512-003134.176_z0.004</td><td>1</td><td>1</td><td>0</td><td>0.0</td><td>0.00376260862686</td><td>-400.0</td><td>400.0</td><td>2</td><td>14.1818198593</td><td>99.0</td><td>J1233-0031_352_2337</td><td>211.036506616</td></tr>\n",
       "<tr><td>J095000.7392+483129.388_z0.006</td><td>1</td><td>1</td><td>0</td><td>0.0</td><td>0.00621527526528</td><td>-400.0</td><td>400.0</td><td>1</td><td>13.805</td><td>0.05</td><td>J0950+4831_289_444</td><td>71.655729213</td></tr>\n",
       "<tr><td>J144511.2824+342825.464_z0.006</td><td>0</td><td>0</td><td>0</td><td>0.0</td><td>0.0</td><td>0.0</td><td>0.0</td><td>0</td><td>0.0</td><td>0.0</td><td>J1445+3428_168_529</td><td>82.0661276028</td></tr>\n",
       "<tr><td>...</td><td>...</td><td>...</td><td>...</td><td>...</td><td>...</td><td>...</td><td>...</td><td>...</td><td>...</td><td>...</td><td>...</td><td>...</td></tr>\n",
       "<tr><td>J121037.56+315706.12_z0.003</td><td>1</td><td>1</td><td>0</td><td>0.0</td><td>0.00253756972961</td><td>-400.0</td><td>400.0</td><td>2</td><td>13.959</td><td>99.0</td><td>J1210+3157_268_5017</td><td>275.304257053</td></tr>\n",
       "<tr><td>J115758.7304-002220.856_z0.005</td><td>0</td><td>0</td><td>0</td><td>0.0</td><td>0.0</td><td>0.0</td><td>0.0</td><td>0</td><td>0.0</td><td>0.0</td><td>J1157-0022_140_3404</td><td>451.996871865</td></tr>\n",
       "<tr><td>J143726.1408+504555.836_z0.007</td><td>1</td><td>1</td><td>0</td><td>0.0</td><td>0.00734989158809</td><td>-400.0</td><td>400.0</td><td>3</td><td>13.3719168021</td><td>-99.0</td><td>J1437+5045_103_791</td><td>151.940402632</td></tr>\n",
       "<tr><td>J134231.224+382903.48_z0.005</td><td>1</td><td>1</td><td>0</td><td>0.0</td><td>0.00458666309714</td><td>-400.0</td><td>400.0</td><td>2</td><td>13.8533314097</td><td>99.0</td><td>J1342+3829_275_575</td><td>78.3030715278</td></tr>\n",
       "<tr><td>J120442.096+275411.88_z0.012</td><td>0</td><td>0</td><td>0</td><td>0.0</td><td>0.0</td><td>0.0</td><td>0.0</td><td>0</td><td>0.0</td><td>0.0</td><td>J1204+2754_21_1245</td><td>356.244633081</td></tr>\n",
       "<tr><td>J132222.68+464535.208_z0.002</td><td>0</td><td>0</td><td>0</td><td>0.0</td><td>0.0</td><td>0.0</td><td>0.0</td><td>0</td><td>0.0</td><td>0.0</td><td>J1322+4645_71_4865</td><td>222.397752328</td></tr>\n",
       "<tr><td>J112114.208+032546.92_z0.005</td><td>1</td><td>1</td><td>0</td><td>0.0</td><td>0.00495343422517</td><td>-400.0</td><td>400.0</td><td>2</td><td>13.6668498276</td><td>99.0</td><td>J1121+0325_207_1882</td><td>249.395415644</td></tr>\n",
       "<tr><td>J120858.0114+454035.472_z0.002</td><td>0</td><td>0</td><td>0</td><td>0.0</td><td>0.0</td><td>0.0</td><td>0.0</td><td>0</td><td>0.0</td><td>0.0</td><td>J1208+4540_91_5374</td><td>244.367973122</td></tr>\n",
       "<tr><td>J152139.672+033729.28_z0.005</td><td>1</td><td>1</td><td>0</td><td>0.0</td><td>0.00493675610051</td><td>-400.0</td><td>400.0</td><td>3</td><td>12.9575610502</td><td>-99.0</td><td>J1521+0337_3_5211</td><td>674.002519938</td></tr>\n",
       "<tr><td>J134231.224+382903.48_z0.002</td><td>1</td><td>1</td><td>0</td><td>0.0</td><td>0.0022115916945</td><td>-400.0</td><td>400.0</td><td>2</td><td>13.8533314097</td><td>99.0</td><td>J1342+3829_0_4227</td><td>263.011060397</td></tr>\n",
       "</table>"
      ],
      "text/plain": [
       "<Table length=55>\n",
       "             name                Z    ion  ...       cgm_name        rho_impact \n",
       "                                           ...                          kpc     \n",
       "            str32              int64 int64 ...        str19           float64   \n",
       "------------------------------ ----- ----- ... ------------------- -------------\n",
       "  J021218.336-073719.92_z0.013     1     1 ... J0212-0737_257_2251 597.269337873\n",
       "J134251.6072-005345.312_z0.005     1     1 ... J1342-0053_360_2255 310.220429405\n",
       "    J092837.9824+602521_z0.014     1     1 ...   J0928+6025_76_694 214.078556353\n",
       "J004222.2912-103743.788_z0.013     1     1 ... J0042-1037_342_2300 626.684529829\n",
       "   J105945.24+144143.08_z0.002     1     1 ... J1059+1441_170_2900 109.336602667\n",
       "J092554.7056+400414.124_z0.012     0     0 ...  J0925+4004_120_336 94.4950557968\n",
       "J123304.0512-003134.176_z0.004     1     1 ... J1233-0031_352_2337 211.036506616\n",
       "J095000.7392+483129.388_z0.006     1     1 ...  J0950+4831_289_444  71.655729213\n",
       "J144511.2824+342825.464_z0.006     0     0 ...  J1445+3428_168_529 82.0661276028\n",
       "                           ...   ...   ... ...                 ...           ...\n",
       "   J121037.56+315706.12_z0.003     1     1 ... J1210+3157_268_5017 275.304257053\n",
       "J115758.7304-002220.856_z0.005     0     0 ... J1157-0022_140_3404 451.996871865\n",
       "J143726.1408+504555.836_z0.007     1     1 ...  J1437+5045_103_791 151.940402632\n",
       "  J134231.224+382903.48_z0.005     1     1 ...  J1342+3829_275_575 78.3030715278\n",
       "  J120442.096+275411.88_z0.012     0     0 ...  J1204+2754_21_1245 356.244633081\n",
       "  J132222.68+464535.208_z0.002     0     0 ...  J1322+4645_71_4865 222.397752328\n",
       "  J112114.208+032546.92_z0.005     1     1 ... J1121+0325_207_1882 249.395415644\n",
       "J120858.0114+454035.472_z0.002     0     0 ...  J1208+4540_91_5374 244.367973122\n",
       "  J152139.672+033729.28_z0.005     1     1 ...   J1521+0337_3_5211 674.002519938\n",
       "  J134231.224+382903.48_z0.002     1     1 ...   J1342+3829_0_4227 263.011060397"
      ]
     },
     "execution_count": 8,
     "metadata": {},
     "output_type": "execute_result"
    }
   ],
   "source": [
    "Lya_tbl"
   ]
  },
  {
   "cell_type": "markdown",
   "metadata": {},
   "source": [
    "### CIV"
   ]
  },
  {
   "cell_type": "code",
   "execution_count": 9,
   "metadata": {
    "collapsed": true
   },
   "outputs": [],
   "source": [
    "CIV_tbl = b16.ion_tbl((6,4))"
   ]
  },
  {
   "cell_type": "code",
   "execution_count": 10,
   "metadata": {},
   "outputs": [
    {
     "data": {
      "text/html": [
       "&lt;Table length=55&gt;\n",
       "<table id=\"table140522273300208\" class=\"table-striped table-bordered table-condensed\">\n",
       "<thead><tr><th>name</th><th>Z</th><th>ion</th><th>A</th><th>Ej</th><th>z</th><th>vmin</th><th>vmax</th><th>flag_N</th><th>logN</th><th>sig_logN</th><th>cgm_name</th><th>rho_impact</th></tr></thead>\n",
       "<thead><tr><th></th><th></th><th></th><th></th><th>1 / cm</th><th></th><th>km / s</th><th>km / s</th><th></th><th></th><th></th><th></th><th>kpc</th></tr></thead>\n",
       "<thead><tr><th>str32</th><th>int64</th><th>int64</th><th>int64</th><th>float64</th><th>float64</th><th>float64</th><th>float64</th><th>int64</th><th>float64</th><th>float64</th><th>str19</th><th>float64</th></tr></thead>\n",
       "<tr><td>J021218.336-073719.92_z0.013</td><td>6</td><td>4</td><td>0</td><td>0.0</td><td>0.0128655871376</td><td>-400.0</td><td>400.0</td><td>3</td><td>13.2780885696</td><td>-99.0</td><td>J0212-0737_257_2251</td><td>597.269337873</td></tr>\n",
       "<tr><td>J134251.6072-005345.312_z0.005</td><td>6</td><td>4</td><td>0</td><td>0.0</td><td>0.00538039719686</td><td>-400.0</td><td>400.0</td><td>3</td><td>13.1684904099</td><td>-99.0</td><td>J1342-0053_360_2255</td><td>310.220429405</td></tr>\n",
       "<tr><td>J092837.9824+602521_z0.014</td><td>6</td><td>4</td><td>0</td><td>0.0</td><td>0.0135472072288</td><td>-400.0</td><td>400.0</td><td>1</td><td>13.7664871216</td><td>0.0306372772902</td><td>J0928+6025_76_694</td><td>214.078556353</td></tr>\n",
       "<tr><td>J004222.2912-103743.788_z0.013</td><td>6</td><td>4</td><td>0</td><td>0.0</td><td>0.0131189003587</td><td>-400.0</td><td>400.0</td><td>3</td><td>13.7296819687</td><td>-99.0</td><td>J0042-1037_342_2300</td><td>626.684529829</td></tr>\n",
       "<tr><td>J105945.24+144143.08_z0.002</td><td>6</td><td>4</td><td>0</td><td>0.0</td><td>0.00230159587227</td><td>-400.0</td><td>400.0</td><td>1</td><td>14.0595283508</td><td>0.0390505157411</td><td>J1059+1441_170_2900</td><td>109.336602667</td></tr>\n",
       "<tr><td>J092554.7056+400414.124_z0.012</td><td>6</td><td>4</td><td>0</td><td>0.0</td><td>0.0121094156057</td><td>-400.0</td><td>400.0</td><td>3</td><td>13.7319498062</td><td>-99.0</td><td>J0925+4004_120_336</td><td>94.4950557968</td></tr>\n",
       "<tr><td>J123304.0512-003134.176_z0.004</td><td>6</td><td>4</td><td>0</td><td>0.0</td><td>0.00376260862686</td><td>-400.0</td><td>400.0</td><td>1</td><td>13.593539238</td><td>0.0908880531788</td><td>J1233-0031_352_2337</td><td>211.036506616</td></tr>\n",
       "<tr><td>J095000.7392+483129.388_z0.006</td><td>6</td><td>4</td><td>0</td><td>0.0</td><td>0.00621527526528</td><td>-400.0</td><td>400.0</td><td>3</td><td>13.2769737244</td><td>-99.0</td><td>J0950+4831_289_444</td><td>71.655729213</td></tr>\n",
       "<tr><td>J144511.2824+342825.464_z0.006</td><td>6</td><td>4</td><td>0</td><td>0.0</td><td>0.00555848469958</td><td>-400.0</td><td>400.0</td><td>1</td><td>14.1474084854</td><td>0.128349989653</td><td>J1445+3428_168_529</td><td>82.0661276028</td></tr>\n",
       "<tr><td>...</td><td>...</td><td>...</td><td>...</td><td>...</td><td>...</td><td>...</td><td>...</td><td>...</td><td>...</td><td>...</td><td>...</td><td>...</td></tr>\n",
       "<tr><td>J121037.56+315706.12_z0.003</td><td>6</td><td>4</td><td>0</td><td>0.0</td><td>0.00253756972961</td><td>-400.0</td><td>400.0</td><td>3</td><td>13.2935361862</td><td>-99.0</td><td>J1210+3157_268_5017</td><td>275.304257053</td></tr>\n",
       "<tr><td>J115758.7304-002220.856_z0.005</td><td>6</td><td>4</td><td>0</td><td>0.0</td><td>0.00488672126085</td><td>-400.0</td><td>400.0</td><td>3</td><td>13.1630821228</td><td>-99.0</td><td>J1157-0022_140_3404</td><td>451.996871865</td></tr>\n",
       "<tr><td>J143726.1408+504555.836_z0.007</td><td>6</td><td>4</td><td>0</td><td>0.0</td><td>0.00734989158809</td><td>-400.0</td><td>400.0</td><td>3</td><td>13.6518602371</td><td>-99.0</td><td>J1437+5045_103_791</td><td>151.940402632</td></tr>\n",
       "<tr><td>J134231.224+382903.48_z0.005</td><td>6</td><td>4</td><td>0</td><td>0.0</td><td>0.00458666309714</td><td>-400.0</td><td>400.0</td><td>3</td><td>13.1577968597</td><td>-99.0</td><td>J1342+3829_275_575</td><td>78.3030715278</td></tr>\n",
       "<tr><td>J120442.096+275411.88_z0.012</td><td>6</td><td>4</td><td>0</td><td>0.0</td><td>0.0118221594021</td><td>-400.0</td><td>400.0</td><td>3</td><td>13.7415266037</td><td>-99.0</td><td>J1204+2754_21_1245</td><td>356.244633081</td></tr>\n",
       "<tr><td>J132222.68+464535.208_z0.002</td><td>6</td><td>4</td><td>0</td><td>0.0</td><td>0.00154440407641</td><td>-400.0</td><td>400.0</td><td>3</td><td>13.5956382751</td><td>-99.0</td><td>J1322+4645_71_4865</td><td>222.397752328</td></tr>\n",
       "<tr><td>J112114.208+032546.92_z0.005</td><td>6</td><td>4</td><td>0</td><td>0.0</td><td>0.00495343422517</td><td>-400.0</td><td>400.0</td><td>3</td><td>13.5445823669</td><td>-99.0</td><td>J1121+0325_207_1882</td><td>249.395415644</td></tr>\n",
       "<tr><td>J120858.0114+454035.472_z0.002</td><td>6</td><td>4</td><td>0</td><td>0.0</td><td>0.00168783694971</td><td>-400.0</td><td>400.0</td><td>3</td><td>12.8933124542</td><td>-99.0</td><td>J1208+4540_91_5374</td><td>244.367973122</td></tr>\n",
       "<tr><td>J152139.672+033729.28_z0.005</td><td>6</td><td>4</td><td>0</td><td>0.0</td><td>0.00493675610051</td><td>-400.0</td><td>400.0</td><td>3</td><td>13.6070508957</td><td>-99.0</td><td>J1521+0337_3_5211</td><td>674.002519938</td></tr>\n",
       "<tr><td>J134231.224+382903.48_z0.002</td><td>6</td><td>4</td><td>0</td><td>0.0</td><td>0.0022115916945</td><td>-400.0</td><td>400.0</td><td>3</td><td>13.1665716171</td><td>-99.0</td><td>J1342+3829_0_4227</td><td>263.011060397</td></tr>\n",
       "</table>"
      ],
      "text/plain": [
       "<Table length=55>\n",
       "             name                Z    ion  ...       cgm_name        rho_impact \n",
       "                                           ...                          kpc     \n",
       "            str32              int64 int64 ...        str19           float64   \n",
       "------------------------------ ----- ----- ... ------------------- -------------\n",
       "  J021218.336-073719.92_z0.013     6     4 ... J0212-0737_257_2251 597.269337873\n",
       "J134251.6072-005345.312_z0.005     6     4 ... J1342-0053_360_2255 310.220429405\n",
       "    J092837.9824+602521_z0.014     6     4 ...   J0928+6025_76_694 214.078556353\n",
       "J004222.2912-103743.788_z0.013     6     4 ... J0042-1037_342_2300 626.684529829\n",
       "   J105945.24+144143.08_z0.002     6     4 ... J1059+1441_170_2900 109.336602667\n",
       "J092554.7056+400414.124_z0.012     6     4 ...  J0925+4004_120_336 94.4950557968\n",
       "J123304.0512-003134.176_z0.004     6     4 ... J1233-0031_352_2337 211.036506616\n",
       "J095000.7392+483129.388_z0.006     6     4 ...  J0950+4831_289_444  71.655729213\n",
       "J144511.2824+342825.464_z0.006     6     4 ...  J1445+3428_168_529 82.0661276028\n",
       "                           ...   ...   ... ...                 ...           ...\n",
       "   J121037.56+315706.12_z0.003     6     4 ... J1210+3157_268_5017 275.304257053\n",
       "J115758.7304-002220.856_z0.005     6     4 ... J1157-0022_140_3404 451.996871865\n",
       "J143726.1408+504555.836_z0.007     6     4 ...  J1437+5045_103_791 151.940402632\n",
       "  J134231.224+382903.48_z0.005     6     4 ...  J1342+3829_275_575 78.3030715278\n",
       "  J120442.096+275411.88_z0.012     6     4 ...  J1204+2754_21_1245 356.244633081\n",
       "  J132222.68+464535.208_z0.002     6     4 ...  J1322+4645_71_4865 222.397752328\n",
       "  J112114.208+032546.92_z0.005     6     4 ... J1121+0325_207_1882 249.395415644\n",
       "J120858.0114+454035.472_z0.002     6     4 ...  J1208+4540_91_5374 244.367973122\n",
       "  J152139.672+033729.28_z0.005     6     4 ...   J1521+0337_3_5211 674.002519938\n",
       "  J134231.224+382903.48_z0.002     6     4 ...   J1342+3829_0_4227 263.011060397"
      ]
     },
     "execution_count": 10,
     "metadata": {},
     "output_type": "execute_result"
    }
   ],
   "source": [
    "CIV_tbl"
   ]
  },
  {
   "cell_type": "markdown",
   "metadata": {},
   "source": [
    "## kpc"
   ]
  },
  {
   "cell_type": "code",
   "execution_count": 11,
   "metadata": {},
   "outputs": [
    {
     "name": "stdout",
     "output_type": "stream",
     "text": [
      "Loading Burchett+16 using kpc selection method\n"
     ]
    },
    {
     "name": "stderr",
     "output_type": "stream",
     "text": [
      "/home/xavier/local/Python/linetools/linetools/lists/linelist.py:402: RuntimeWarning: divide by zero encountered in log10\n",
      "  self._extra_table['log(w*f)'] = np.log10(qm_strength)\n",
      "/home/xavier/local/Python/linetools/linetools/spectralline.py:214: UserWarning: Redshift not input.  Setting to 0 for zLimits\n",
      "  warnings.warn(\"Redshift not input.  Setting to 0 for zLimits\")\n"
     ]
    },
    {
     "name": "stdout",
     "output_type": "stream",
     "text": [
      "Loading abundances from Asplund2009\n",
      "Abundances are relative by number on a logarithmic scale with H=12\n",
      "Skipping a likely folder: CGM_JSON\n"
     ]
    }
   ],
   "source": [
    "b16_kpc = CGMAbsSurvey.load_B16(select_method='kpc')"
   ]
  },
  {
   "cell_type": "code",
   "execution_count": 12,
   "metadata": {},
   "outputs": [
    {
     "data": {
      "text/plain": [
       "<CGM_Survey:  nsys=55, ref=>\n",
       "<IGMSystem: IGMSystem 02:12:18.3373 -07:37:19.9232, zabs=0.0128656, Z/H=0, NHI=0>\n",
       "<IGMSystem: IGMSystem 13:42:51.6087 -00:53:45.3116, zabs=0.0053804, Z/H=0, NHI=12.6628>\n",
       "<IGMSystem: IGMSystem 09:25:54.7066 40:04:14.1045, zabs=0.00594798, Z/H=0, NHI=14.1348>\n",
       "<IGMSystem: IGMSystem 09:28:37.9827 60:25:20.9806, zabs=0.0136588, Z/H=0, NHI=14.1887>\n",
       "<IGMSystem: IGMSystem 00:42:22.2925 -10:37:43.7827, zabs=0.0131189, Z/H=0, NHI=0>\n",
       "<IGMSystem: IGMSystem 09:25:54.7066 40:04:14.1045, zabs=0.0121094, Z/H=0, NHI=0>\n",
       "<IGMSystem: IGMSystem 09:50:00.7398 48:31:29.3696, zabs=0.00621528, Z/H=0, NHI=13.805>\n",
       "<IGMSystem: IGMSystem 14:45:11.283 34:28:25.4703, zabs=0.00555848, Z/H=0, NHI=0>\n",
       "<IGMSystem: IGMSystem 14:37:26.1406 50:45:55.8416, zabs=0.00734741, Z/H=0, NHI=13.4293>\n",
       "<IGMSystem: IGMSystem 12:07:21.0009 26:24:29.1515, zabs=0.0018333, Z/H=0, NHI=0>\n",
       "<IGMSystem: IGMSystem 12:07:21.0009 26:24:29.1515, zabs=0.00722756, Z/H=0, NHI=13.3815>\n",
       "<IGMSystem: IGMSystem 12:36:04.0328 26:41:35.8741, zabs=0.00461987, Z/H=0, NHI=14.332>\n",
       "<IGMSystem: IGMSystem 12:20:35.1052 38:53:16.4327, zabs=0.00348663, Z/H=0, NHI=0>\n",
       "<IGMSystem: IGMSystem 10:59:45.2412 14:41:43.066, zabs=0.00478999, Z/H=0, NHI=14.1486>\n",
       "<IGMSystem: IGMSystem 11:17:54.3129 26:34:16.6674, zabs=0.00504788, Z/H=0, NHI=13.2528>\n",
       "<IGMSystem: IGMSystem 14:35:11.5325 36:04:37.2414, zabs=0.0138887, Z/H=0, NHI=14.688>\n",
       "<IGMSystem: IGMSystem 14:35:11.5325 36:04:37.2414, zabs=0.0101101, Z/H=0, NHI=12.8042>\n",
       "<IGMSystem: IGMSystem 02:26:14.4687 00:15:29.7675, zabs=0.00446977, Z/H=0, NHI=13.325>\n",
       "<IGMSystem: IGMSystem 08:43:49.4892 41:17:41.619, zabs=0.00598415, Z/H=0, NHI=13.669>\n",
       "<IGMSystem: IGMSystem 08:09:08.1373 46:19:25.6583, zabs=0.00180125, Z/H=0, NHI=0>\n",
       "<IGMSystem: IGMSystem 09:49:52.9209 39:02:03.8216, zabs=0.00528493, Z/H=0, NHI=14.1784>\n",
       "<IGMSystem: IGMSystem 09:43:31.6167 05:31:31.4573, zabs=0.00655788, Z/H=0, NHI=12.8911>\n",
       "<IGMSystem: IGMSystem 11:51:20.4609 54:37:33.0682, zabs=0.00316532, Z/H=0, NHI=14.1671>\n",
       "<IGMSystem: IGMSystem 11:21:14.2095 03:25:46.9077, zabs=0.00866204, Z/H=0, NHI=13.2503>\n",
       "<IGMSystem: IGMSystem 09:59:15.6495 05:03:55.0621, zabs=0.0133866, Z/H=0, NHI=13.743>\n",
       "<IGMSystem: IGMSystem 13:57:12.6251 17:04:44.0418, zabs=0.00317848, Z/H=0, NHI=12.7765>\n",
       "<IGMSystem: IGMSystem 01:55:30.0253 -08:57:03.9616, zabs=0.00546712, Z/H=0, NHI=14.347>\n",
       "<IGMSystem: IGMSystem 09:10:29.759 10:14:13.5759, zabs=0.00705489, Z/H=0, NHI=13.8059>\n",
       "<IGMSystem: IGMSystem 15:55:04.3998 36:28:48.0483, zabs=0.00844161, Z/H=0, NHI=0>\n",
       "<IGMSystem: IGMSystem 12:11:14.5685 36:57:39.5919, zabs=0.00356771, Z/H=0, NHI=14.2371>\n",
       "<IGMSystem: IGMSystem 12:33:04.0527 -00:31:34.1821, zabs=0.00505075, Z/H=0, NHI=0>\n",
       "<IGMSystem: IGMSystem 13:41:00.7834 41:23:14.0787, zabs=0.00850258, Z/H=0, NHI=0>\n",
       "<IGMSystem: IGMSystem 12:33:04.0527 -00:31:34.1821, zabs=0.0109376, Z/H=0, NHI=13.129>\n",
       "<IGMSystem: IGMSystem 12:08:58.0115 45:40:35.4637, zabs=0.00161445, Z/H=0, NHI=0>\n",
       "<IGMSystem: IGMSystem 11:17:54.3129 26:34:16.6674, zabs=0.00938348, Z/H=0, NHI=12.6985>\n",
       "<IGMSystem: IGMSystem 12:33:35.0784 47:58:00.4739, zabs=0.00254176, Z/H=0, NHI=0>\n",
       "<IGMSystem: IGMSystem 14:19:10.2026 42:07:46.9239, zabs=0.00221153, Z/H=0, NHI=0>\n",
       "<IGMSystem: IGMSystem 08:09:08.1373 46:19:25.6583, zabs=0.00751855, Z/H=0, NHI=13.4755>\n",
       "<IGMSystem: IGMSystem 12:04:42.0968 27:54:11.8713, zabs=0.0018333, Z/H=0, NHI=0>\n",
       "<IGMSystem: IGMSystem 08:20:24.2198 23:34:50.4625, zabs=0.0138696, Z/H=0, NHI=0>\n",
       "<IGMSystem: IGMSystem 23:45:00.4335 -00:59:36.0496, zabs=0.00693147, Z/H=0, NHI=14.21>\n",
       "<IGMSystem: IGMSystem 12:10:37.5607 31:57:06.1118, zabs=0.00253757, Z/H=0, NHI=0>\n",
       "<IGMSystem: IGMSystem 11:57:58.7319 -00:22:20.8653, zabs=0.00488672, Z/H=0, NHI=0>\n",
       "<IGMSystem: IGMSystem 13:42:31.2244 38:29:03.4804, zabs=0.00458666, Z/H=0, NHI=13.8533>\n",
       "<IGMSystem: IGMSystem 11:22:44.8796 57:55:42.9478, zabs=0.00647115, Z/H=0, NHI=14.0306>\n",
       "<IGMSystem: IGMSystem 12:04:42.0968 27:54:11.8713, zabs=0.0118222, Z/H=0, NHI=13.493>\n",
       "<IGMSystem: IGMSystem 22:57:38.205 13:40:45.4941, zabs=0.00856594, Z/H=0, NHI=13.9797>\n",
       "<IGMSystem: IGMSystem 12:45:11.2614 33:56:10.135, zabs=0.0020214, Z/H=0, NHI=0>\n",
       "<IGMSystem: IGMSystem 13:22:22.68 46:45:35.2065, zabs=0.00154774, Z/H=0, NHI=0>\n",
       "<IGMSystem: IGMSystem 11:21:14.2095 03:25:46.9077, zabs=0.00540421, Z/H=0, NHI=13.6668>\n",
       "<IGMSystem: IGMSystem 15:21:39.6734 03:37:29.2895, zabs=0.00493676, Z/H=0, NHI=0>\n",
       "<IGMSystem: IGMSystem 02:42:50.8573 -07:59:14.2861, zabs=0.00516174, Z/H=0, NHI=14.4171>\n",
       "<IGMSystem: IGMSystem 10:16:22.6037 47:06:43.3271, zabs=0.00210641, Z/H=0, NHI=14.592>\n",
       "<IGMSystem: IGMSystem 13:42:31.2244 38:29:03.4804, zabs=0.00221159, Z/H=0, NHI=13.8533>\n",
       "<IGMSystem: IGMSystem 13:27:04.1281 44:35:04.9189, zabs=0.00154774, Z/H=0, NHI=13.348>"
      ]
     },
     "execution_count": 12,
     "metadata": {},
     "output_type": "execute_result"
    }
   ],
   "source": [
    "b16_kpc"
   ]
  },
  {
   "cell_type": "code",
   "execution_count": null,
   "metadata": {
    "collapsed": true
   },
   "outputs": [],
   "source": []
  }
 ],
 "metadata": {
  "kernelspec": {
   "display_name": "Python 3",
   "language": "python",
   "name": "python3"
  },
  "language_info": {
   "codemirror_mode": {
    "name": "ipython",
    "version": 3
   },
   "file_extension": ".py",
   "mimetype": "text/x-python",
   "name": "python",
   "nbconvert_exporter": "python",
   "pygments_lexer": "ipython3",
   "version": "3.6.1"
  }
 },
 "nbformat": 4,
 "nbformat_minor": 2
}
