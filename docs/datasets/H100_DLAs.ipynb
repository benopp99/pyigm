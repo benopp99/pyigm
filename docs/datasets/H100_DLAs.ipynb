{
 "cells": [
  {
   "cell_type": "markdown",
   "metadata": {},
   "source": [
    "# H100 Sample of DLAs [v1.0]\n",
    "    v1.0 -- Updating CII* flag"
   ]
  },
  {
   "cell_type": "code",
   "execution_count": 1,
   "metadata": {},
   "outputs": [
    {
     "name": "stdout",
     "output_type": "stream",
     "text": [
      "read_sets: Using set file -- \n",
      "  /home/xavier/local/Python/linetools/linetools/lists/sets/llist_v1.2.ascii\n",
      "Loading abundances from Asplund2009\n",
      "Abundances are relative by number on a logarithmic scale with H=12\n"
     ]
    },
    {
     "name": "stderr",
     "output_type": "stream",
     "text": [
      "/home/xavier/local/Python/linetools/linetools/lists/linelist.py:402: RuntimeWarning: divide by zero encountered in log10\n",
      "  self._extra_table['log(w*f)'] = np.log10(qm_strength)\n"
     ]
    }
   ],
   "source": [
    "# imports\n",
    "import pdb\n",
    "\n",
    "from astropy import units as u\n",
    "\n",
    "from pyigm.surveys.dlasurvey import DLASurvey\n",
    "from pyigm.surveys import utils as pyisu"
   ]
  },
  {
   "cell_type": "markdown",
   "metadata": {},
   "source": [
    "## Update CII* flag"
   ]
  },
  {
   "cell_type": "code",
   "execution_count": 2,
   "metadata": {},
   "outputs": [
    {
     "name": "stdout",
     "output_type": "stream",
     "text": [
      "H100: Loading summary file /home/xavier/local/Python/pyigm/pyigm/data/DLA/H100/H100_DLA.fits\n",
      "H100: Loading ions file /home/xavier/local/Python/pyigm/pyigm/data/DLA/H100/H100_DLA_ions.json\n",
      "H100: Loading systems.  This takes ~90s\n",
      "Loading systems from /home/xavier/local/Python/pyigm/pyigm/data/DLA/H100/H100_DLA_sys.tar.gz\n",
      "Skipping a likely folder: SYS\n"
     ]
    },
    {
     "name": "stderr",
     "output_type": "stream",
     "text": [
      "/home/xavier/local/Python/linetools/linetools/spectralline.py:200: UserWarning: Redshift not input.  Setting to 0 for zLimits\n",
      "  warnings.warn(\"Redshift not input.  Setting to 0 for zLimits\")\n",
      "/home/xavier/local/Python/linetools/linetools/spectralline.py:117: UserWarning: Key mol not in your input dict\n",
      "  warnings.warn(\"Key {:s} not in your input dict\".format(key))\n",
      "/home/xavier/local/Python/linetools/linetools/isgm/abscomponent.py:237: UserWarning: No stars provided.  Adding one because Ej > 0.\n",
      "  warnings.warn(\"No stars provided.  Adding one because Ej > 0.\")\n"
     ]
    }
   ],
   "source": [
    "h100 = DLASurvey.load_H100()"
   ]
  },
  {
   "cell_type": "markdown",
   "metadata": {},
   "source": [
    "### Loop me"
   ]
  },
  {
   "cell_type": "code",
   "execution_count": 3,
   "metadata": {},
   "outputs": [
    {
     "data": {
      "text/plain": [
       "[<AbsComponent: 10:51:22.46 +31:07:49.3, Name=AlII_z4.13920, Zion=(13,2), Ej=0 1 / cm, z=4.1392, vlim=-120 km / s,200 km / s, logN=12.646, sig_logN=0.024, flag_N=2>,\n",
       " <AbsComponent: 10:51:22.46 +31:07:49.3, Name=CII*_z4.13920, Zion=(6,2), Ej=63.42 1 / cm, z=4.1392, vlim=-100 km / s,170 km / s, logN=13.0142, sig_logN=0.1448, flag_N=3>,\n",
       " <AbsComponent: 10:51:22.46 +31:07:49.3, Name=CII_z4.13920, Zion=(6,2), Ej=0 1 / cm, z=4.1392, vlim=-140 km / s,170 km / s, logN=14.767, sig_logN=0.076, flag_N=2>,\n",
       " <AbsComponent: 10:51:22.46 +31:07:49.3, Name=CIV_z4.13920, Zion=(6,4), Ej=0 1 / cm, z=4.1392, vlim=-200 km / s,200 km / s, logN=13.976, sig_logN=0.012, flag_N=1>,\n",
       " <AbsComponent: 10:51:22.46 +31:07:49.3, Name=CI_z4.13920, Zion=(6,1), Ej=0 1 / cm, z=4.1392, vlim=-140 km / s,170 km / s, logN=12.875, sig_logN=0.0, flag_N=3>,\n",
       " <AbsComponent: 10:51:22.46 +31:07:49.3, Name=FeII_z4.13920, Zion=(26,2), Ej=0 1 / cm, z=4.1392, vlim=-140 km / s,170 km / s, logN=13.949, sig_logN=0.033, flag_N=1>,\n",
       " <AbsComponent: 10:51:22.46 +31:07:49.3, Name=OI_z4.13920, Zion=(8,1), Ej=0 1 / cm, z=4.1392, vlim=-140 km / s,170 km / s, logN=15.044, sig_logN=0.282, flag_N=2>,\n",
       " <AbsComponent: 10:51:22.46 +31:07:49.3, Name=SII_z4.13920, Zion=(16,2), Ej=0 1 / cm, z=4.1392, vlim=-140 km / s,100 km / s, logN=13.858, sig_logN=0.077, flag_N=1>,\n",
       " <AbsComponent: 10:51:22.46 +31:07:49.3, Name=SiII*_z4.13920, Zion=(14,2), Ej=287.24 1 / cm, z=4.1392, vlim=-20 km / s,20 km / s>,\n",
       " <AbsComponent: 10:51:22.46 +31:07:49.3, Name=SiII_z4.13920, Zion=(14,2), Ej=0 1 / cm, z=4.1392, vlim=-140 km / s,170 km / s, logN=14.206, sig_logN=0.016, flag_N=1>,\n",
       " <AbsComponent: 10:51:22.46 +31:07:49.3, Name=SiIV_z4.13920, Zion=(14,4), Ej=0 1 / cm, z=4.1392, vlim=-200 km / s,200 km / s, logN=13.742, sig_logN=0.009, flag_N=1>]"
      ]
     },
     "execution_count": 3,
     "metadata": {},
     "output_type": "execute_result"
    }
   ],
   "source": [
    "h100._abs_sys[0]._components"
   ]
  },
  {
   "cell_type": "code",
   "execution_count": 4,
   "metadata": {},
   "outputs": [
    {
     "name": "stdout",
     "output_type": "stream",
     "text": [
      "J1051+3107_z4.139: flag=4 logN=13.014200, sigN=0.144800\n",
      "J0929+2825_z3.263: flag=0 logN=13.189600, sigN=0.026200\n",
      "Q0201+11_z3.387: flag=8 logN=14.117000, sigN=0.100900\n",
      "J0255+00_z3.915: flag=0 logN=13.409500, sigN=0.038000\n",
      "J1200+4015_z3.220: flag=0 logN=13.683200, sigN=0.026900\n",
      "BR2237-0607_z4.080: flag=12 logN=12.530000, sigN=0.153000\n",
      "J1202+3235_z5.065: flag=4 logN=12.635000, sigN=0.144800\n",
      "J1131+6044_z2.876: flag=4 logN=12.730700, sigN=0.144800\n",
      "J0814+5029_z3.708: flag=0 logN=13.092400, sigN=0.042300\n",
      "J1014+4300_z2.959: flag=0 logN=12.635600, sigN=0.064800\n",
      "J2343+1410_z2.677: flag=4 logN=13.055800, sigN=0.144800\n",
      "J0817+1351_z4.258: flag=2 logN=14.407000, sigN=0.821500\n",
      "Q2231-002_z2.066: flag=0 logN=13.703500, sigN=0.036000\n",
      "J1410+5111_z2.934: flag=0 logN=13.392900, sigN=0.040500\n",
      "Q1157+014_z1.944: flag=10 logN=14.755400, sigN=0.041500\n",
      "J2315+1456_z3.273: flag=4 logN=12.886900, sigN=0.144800\n",
      "BR0951-04_z4.203: flag=4 logN=13.358400, sigN=0.086300\n",
      "J1200+4618_z4.476: flag=4 logN=13.735900, sigN=0.144800\n",
      "BRI1346-03_z3.736: flag=0 logN=12.555400, sigN=0.123600\n",
      "J0747+4434_z4.020: flag=0 logN=13.283200, sigN=0.060900\n",
      "Q0458-02_z2.040: flag=10 logN=14.889000, sigN=0.046100\n",
      "Q0836+11_z2.465: flag=4 logN=13.132200, sigN=0.144800\n",
      "J1438+4314_z4.399: flag=0 logN=13.530900, sigN=0.030400\n",
      "BR1202-07_z4.383: flag=0 logN=13.483600, sigN=0.048400\n",
      "Q1104-18_z1.661: flag=8 logN=13.440000, sigN=0.050100\n",
      "PSS0209+05_z3.864: flag=4 logN=12.512600, sigN=0.100200\n",
      "J1202+3235_z4.795: flag=0 logN=13.294000, sigN=0.021900\n",
      "BRI0952-01_z4.024: flag=0 logN=13.551500, sigN=0.024200\n",
      "J1100+1122_z4.395: flag=0 logN=14.158200, sigN=0.028700\n",
      "J1051+3545_z4.821: flag=4 logN=12.839300, sigN=0.144800\n",
      "HS1132+2243_z2.783: flag=4 logN=12.691300, sigN=0.144800\n",
      "J1201+2117_z4.158: flag=6 logN=13.416300, sigN=0.034800\n",
      "J1353+5328_z2.835: flag=0 logN=13.203100, sigN=0.058300\n",
      "J0040-0915_z4.739: flag=6 logN=13.879600, sigN=0.035900\n",
      "BRI1108-07_z3.608: flag=4 logN=12.362400, sigN=0.144800\n",
      "Q0450-13_z2.067: flag=4 logN=12.629200, sigN=0.144800\n",
      "Q1021+30_z2.949: flag=4 logN=12.763600, sigN=0.144800\n",
      "Q2359-02_z2.154: flag=4 logN=14.475700, sigN=0.020000\n",
      "J1304+1202_z2.913: flag=4 logN=12.819200, sigN=0.144800\n",
      "J0826+3148_z2.912: flag=4 logN=12.617800, sigN=0.144800\n",
      "Q2344+12_z2.538: flag=4 logN=12.848700, sigN=0.144800\n",
      "PH957_z2.309: flag=8 logN=13.590000, sigN=0.050100\n",
      "PKS1354-17_z2.780: flag=0 logN=12.757400, sigN=0.061400\n",
      "J1240+1455_z3.024: flag=4 logN=13.319200, sigN=0.144800\n",
      "J0825+3544_z3.207: flag=0 logN=13.809200, sigN=0.040100\n",
      "Q0336-01_z3.062: flag=0 logN=14.008800, sigN=0.014000\n",
      "Q0913+072_z2.618: flag=4 logN=12.777200, sigN=0.144800\n",
      "Q2343+125_z2.431: flag=0 logN=12.686100, sigN=0.114500\n",
      "J1035+5440_z2.684: flag=2 logN=13.213100, sigN=0.033600\n",
      "BR0019-15_z3.439: flag=0 logN=13.842600, sigN=0.018400\n",
      "Q1337+11_z2.796: flag=4 logN=13.109800, sigN=0.097900\n",
      "J1304+1202_z2.929: flag=4 logN=12.773900, sigN=0.144800\n",
      "Q2348-14_z2.279: flag=4 logN=13.198100, sigN=0.072300\n",
      "Q0347-38_z3.025: flag=0 logN=13.474800, sigN=0.032900\n",
      "J1410+5111_z2.964: flag=4 logN=13.014300, sigN=0.108200\n",
      "Q1425+6039_z2.827: flag=4 logN=13.522300, sigN=0.008200\n",
      "J2036-0553_z2.280: flag=0 logN=13.415100, sigN=0.030500\n",
      "HS0741+4741_z3.017: flag=4 logN=12.516500, sigN=0.144800\n",
      "PSS1443+27_z4.224: flag=2 logN=14.607700, sigN=0.174000\n",
      "J1435+5359_z2.343: flag=0 logN=12.886300, sigN=0.034900\n",
      "J0900+4215_z3.246: flag=0 logN=13.071100, sigN=0.033500\n",
      "J2340-0053_z2.055: flag=0 logN=13.723100, sigN=0.012400\n",
      "Q1223+17_z2.466: flag=4 logN=14.010800, sigN=0.027200\n",
      "Q2206-19_z2.076: flag=4 logN=13.205200, sigN=0.051700\n",
      "PSS1506+522_z3.224: flag=4 logN=12.907600, sigN=0.144800\n",
      "Q0930+28_z3.235: flag=4 logN=12.576500, sigN=0.144800\n",
      "Q1759+75_z2.625: flag=0 logN=13.143300, sigN=0.033100\n",
      "Q2359-02_z2.095: flag=0 logN=13.697000, sigN=0.062900\n",
      "Q0149+33_z2.141: flag=4 logN=12.790800, sigN=0.144800\n",
      "Q1215+33_z1.999: flag=4 logN=13.182000, sigN=0.144800\n",
      "J1541+3153_z2.443: flag=0 logN=13.075500, sigN=0.092300\n",
      "J1607+1604_z4.474: flag=0 logN=13.107000, sigN=0.096400\n",
      "Q1331+17_z1.776: flag=8 logN=14.050000, sigN=0.050100\n"
     ]
    }
   ],
   "source": [
    "for abssys in h100._abs_sys:\n",
    "    for comp in abssys._components:\n",
    "        if (comp.Zion == (6,2)) & (comp.Ej == 63.42/u.cm):\n",
    "            print('{:s}: flag={:d} logN={:f}, sigN={:f}'.format(abssys.name, comp._abslines[0].attrib['flag_N'],\n",
    "                                                               comp._abslines[0].attrib['logN'], \n",
    "                                                                comp._abslines[0].attrib['sig_logN']))\n",
    "            #pdb.set_trace()"
   ]
  },
  {
   "cell_type": "code",
   "execution_count": 5,
   "metadata": {
    "collapsed": true
   },
   "outputs": [],
   "source": [
    "# Mapping line flags to component flag\n",
    "fdict = {}\n",
    "fdict[0] = 1\n",
    "fdict[2] = 2\n",
    "fdict[4] = 3\n",
    "fdict[6] = 0\n",
    "fdict[8] = 1\n",
    "fdict[12] = 3\n",
    "fdict[10] = 2"
   ]
  },
  {
   "cell_type": "code",
   "execution_count": 6,
   "metadata": {},
   "outputs": [],
   "source": [
    "# Resetting\n",
    "for abssys in h100._abs_sys:\n",
    "    for comp in abssys._components:\n",
    "        if (comp.Zion == (6,2)) & (comp.Ej == 63.42/u.cm):\n",
    "            if len(comp._abslines) != 1:\n",
    "                pdb.set_trace()\n",
    "            #\n",
    "            aline = comp._abslines[0]\n",
    "            comp.flag_N = fdict[aline.attrib['flag_N']]\n",
    "            comp.logN = aline.attrib['logN']\n",
    "            comp.sig_logN = aline.attrib['sig_logN']"
   ]
  },
  {
   "cell_type": "markdown",
   "metadata": {},
   "source": [
    "### Test"
   ]
  },
  {
   "cell_type": "code",
   "execution_count": 7,
   "metadata": {},
   "outputs": [
    {
     "name": "stderr",
     "output_type": "stream",
     "text": [
      "/home/xavier/local/Python/linetools/linetools/isgm/abscomponent.py:237: UserWarning: No stars provided.  Adding one because Ej > 0.\n",
      "  warnings.warn(\"No stars provided.  Adding one because Ej > 0.\")\n"
     ]
    }
   ],
   "source": [
    "h100.fill_ions(use_components=True)"
   ]
  },
  {
   "cell_type": "code",
   "execution_count": 8,
   "metadata": {
    "collapsed": true
   },
   "outputs": [],
   "source": [
    "CIIs = h100.ions((6,2), Ej=63.42/u.cm)"
   ]
  },
  {
   "cell_type": "code",
   "execution_count": 9,
   "metadata": {},
   "outputs": [
    {
     "data": {
      "text/html": [
       "&lt;Table length=11&gt;\n",
       "<table id=\"table140016340159736\" class=\"table-striped table-bordered table-condensed\">\n",
       "<thead><tr><th>Z</th><th>ion</th><th>A</th><th>Ej</th><th>z</th><th>vmin</th><th>vmax</th><th>flag_N</th><th>logN</th><th>sig_logN</th></tr></thead>\n",
       "<thead><tr><th></th><th></th><th></th><th>1 / cm</th><th></th><th>km / s</th><th>km / s</th><th></th><th></th><th></th></tr></thead>\n",
       "<thead><tr><th>int64</th><th>int64</th><th>int64</th><th>float64</th><th>float64</th><th>float64</th><th>float64</th><th>int64</th><th>float64</th><th>float64</th></tr></thead>\n",
       "<tr><td>6</td><td>1</td><td>0</td><td>0.0</td><td>4.1392</td><td>-140.0</td><td>170.0</td><td>3</td><td>12.875</td><td>0.0</td></tr>\n",
       "<tr><td>6</td><td>2</td><td>0</td><td>0.0</td><td>4.1392</td><td>-140.0</td><td>170.0</td><td>2</td><td>14.767</td><td>0.076</td></tr>\n",
       "<tr><td>6</td><td>2</td><td>0</td><td>63.42</td><td>4.1392</td><td>-100.0</td><td>170.0</td><td>3</td><td>13.0142</td><td>0.1448</td></tr>\n",
       "<tr><td>6</td><td>4</td><td>0</td><td>0.0</td><td>4.1392</td><td>-200.0</td><td>200.0</td><td>1</td><td>13.976</td><td>0.012</td></tr>\n",
       "<tr><td>8</td><td>1</td><td>0</td><td>0.0</td><td>4.1392</td><td>-140.0</td><td>170.0</td><td>2</td><td>15.044</td><td>0.282</td></tr>\n",
       "<tr><td>13</td><td>2</td><td>0</td><td>0.0</td><td>4.1392</td><td>-120.0</td><td>200.0</td><td>2</td><td>12.646</td><td>0.024</td></tr>\n",
       "<tr><td>14</td><td>2</td><td>0</td><td>0.0</td><td>4.1392</td><td>-140.0</td><td>170.0</td><td>1</td><td>14.206</td><td>0.016</td></tr>\n",
       "<tr><td>14</td><td>2</td><td>0</td><td>287.24</td><td>4.1392</td><td>-20.0</td><td>20.0000000001</td><td>0</td><td>0.0</td><td>0.0</td></tr>\n",
       "<tr><td>14</td><td>4</td><td>0</td><td>0.0</td><td>4.1392</td><td>-200.0</td><td>200.0</td><td>1</td><td>13.742</td><td>0.009</td></tr>\n",
       "<tr><td>16</td><td>2</td><td>0</td><td>0.0</td><td>4.1392</td><td>-140.0</td><td>100.0</td><td>1</td><td>13.858</td><td>0.077</td></tr>\n",
       "<tr><td>26</td><td>2</td><td>0</td><td>0.0</td><td>4.1392</td><td>-140.0</td><td>170.0</td><td>1</td><td>13.949</td><td>0.033</td></tr>\n",
       "</table>"
      ],
      "text/plain": [
       "<Table length=11>\n",
       "  Z    ion    A      Ej      z      vmin       vmax     flag_N   logN  sig_logN\n",
       "                   1 / cm          km / s     km / s                           \n",
       "int64 int64 int64 float64 float64 float64    float64    int64  float64 float64 \n",
       "----- ----- ----- ------- ------- ------- ------------- ------ ------- --------\n",
       "    6     1     0     0.0  4.1392  -140.0         170.0      3  12.875      0.0\n",
       "    6     2     0     0.0  4.1392  -140.0         170.0      2  14.767    0.076\n",
       "    6     2     0   63.42  4.1392  -100.0         170.0      3 13.0142   0.1448\n",
       "    6     4     0     0.0  4.1392  -200.0         200.0      1  13.976    0.012\n",
       "    8     1     0     0.0  4.1392  -140.0         170.0      2  15.044    0.282\n",
       "   13     2     0     0.0  4.1392  -120.0         200.0      2  12.646    0.024\n",
       "   14     2     0     0.0  4.1392  -140.0         170.0      1  14.206    0.016\n",
       "   14     2     0  287.24  4.1392   -20.0 20.0000000001      0     0.0      0.0\n",
       "   14     4     0     0.0  4.1392  -200.0         200.0      1  13.742    0.009\n",
       "   16     2     0     0.0  4.1392  -140.0         100.0      1  13.858    0.077\n",
       "   26     2     0     0.0  4.1392  -140.0         170.0      1  13.949    0.033"
      ]
     },
     "execution_count": 9,
     "metadata": {},
     "output_type": "execute_result"
    }
   ],
   "source": [
    "h100._abs_sys[0]._ionN"
   ]
  },
  {
   "cell_type": "code",
   "execution_count": 10,
   "metadata": {},
   "outputs": [
    {
     "data": {
      "text/html": [
       "&lt;Table length=100&gt;\n",
       "<table id=\"table140016338514272\" class=\"table-striped table-bordered table-condensed\">\n",
       "<thead><tr><th>name</th><th>Z</th><th>ion</th><th>A</th><th>Ej</th><th>z</th><th>vmin</th><th>vmax</th><th>flag_N</th><th>logN</th><th>sig_logN</th></tr></thead>\n",
       "<thead><tr><th></th><th></th><th></th><th></th><th>1 / cm</th><th></th><th>km / s</th><th>km / s</th><th></th><th></th><th></th></tr></thead>\n",
       "<thead><tr><th>str32</th><th>int64</th><th>int64</th><th>int64</th><th>float64</th><th>float64</th><th>float64</th><th>float64</th><th>int64</th><th>float64</th><th>float64</th></tr></thead>\n",
       "<tr><td>J1051+3107_z4.139</td><td>6</td><td>2</td><td>0</td><td>63.42</td><td>4.1392</td><td>-100.0</td><td>170.0</td><td>3</td><td>13.0142</td><td>0.1448</td></tr>\n",
       "<tr><td>J0929+2825_z3.263</td><td>6</td><td>2</td><td>0</td><td>63.42</td><td>3.2627</td><td>-60.0</td><td>110.0</td><td>1</td><td>13.1896</td><td>0.0262</td></tr>\n",
       "<tr><td>Q0201+11_z3.387</td><td>6</td><td>2</td><td>0</td><td>63.42</td><td>3.38686</td><td>0.0</td><td>0.0</td><td>1</td><td>14.117</td><td>0.1009</td></tr>\n",
       "<tr><td>Q0000-2619_z3.390</td><td>0</td><td>0</td><td>0</td><td>0.0</td><td>0.0</td><td>0.0</td><td>0.0</td><td>0</td><td>0.0</td><td>0.0</td></tr>\n",
       "<tr><td>J0255+00_z3.915</td><td>6</td><td>2</td><td>0</td><td>63.42</td><td>3.91462</td><td>-35.0</td><td>35.0</td><td>1</td><td>13.4095</td><td>0.038</td></tr>\n",
       "<tr><td>Q0201+36_z2.463</td><td>0</td><td>0</td><td>0</td><td>0.0</td><td>0.0</td><td>0.0</td><td>0.0</td><td>0</td><td>0.0</td><td>0.0</td></tr>\n",
       "<tr><td>J1200+4015_z3.220</td><td>6</td><td>2</td><td>0</td><td>63.42</td><td>3.22</td><td>-150.0</td><td>69.9999999999</td><td>1</td><td>13.6832</td><td>0.0269</td></tr>\n",
       "<tr><td>BR2237-0607_z4.080</td><td>6</td><td>2</td><td>0</td><td>63.42</td><td>4.0803</td><td>0.0</td><td>0.0</td><td>3</td><td>12.53</td><td>0.153</td></tr>\n",
       "<tr><td>J1202+3235_z5.065</td><td>6</td><td>2</td><td>0</td><td>63.42</td><td>5.0647</td><td>-30.0</td><td>20.0000000001</td><td>3</td><td>12.635</td><td>0.1448</td></tr>\n",
       "<tr><td>...</td><td>...</td><td>...</td><td>...</td><td>...</td><td>...</td><td>...</td><td>...</td><td>...</td><td>...</td><td>...</td></tr>\n",
       "<tr><td>Q1759+75_z2.625</td><td>6</td><td>2</td><td>0</td><td>63.42</td><td>2.6253</td><td>-60.0</td><td>60.0</td><td>1</td><td>13.1433</td><td>0.0331</td></tr>\n",
       "<tr><td>Q2359-02_z2.095</td><td>6</td><td>2</td><td>0</td><td>63.42</td><td>2.09507</td><td>-20.2905838557</td><td>39.7094161443</td><td>1</td><td>13.697</td><td>0.0629</td></tr>\n",
       "<tr><td>Q0216+08_z2.293</td><td>0</td><td>0</td><td>0</td><td>0.0</td><td>0.0</td><td>0.0</td><td>0.0</td><td>0</td><td>0.0</td><td>0.0</td></tr>\n",
       "<tr><td>Q0149+33_z2.141</td><td>6</td><td>2</td><td>0</td><td>63.42</td><td>2.14076</td><td>-60.47726101</td><td>49.5227389898</td><td>3</td><td>12.7908</td><td>0.1448</td></tr>\n",
       "<tr><td>PSS0957+33_z3.280</td><td>0</td><td>0</td><td>0</td><td>0.0</td><td>0.0</td><td>0.0</td><td>0.0</td><td>0</td><td>0.0</td><td>0.0</td></tr>\n",
       "<tr><td>J0255+00_z3.253</td><td>0</td><td>0</td><td>0</td><td>0.0</td><td>0.0</td><td>0.0</td><td>0.0</td><td>0</td><td>0.0</td><td>0.0</td></tr>\n",
       "<tr><td>Q1215+33_z1.999</td><td>6</td><td>2</td><td>0</td><td>63.42</td><td>1.9991</td><td>-70.0</td><td>30.0</td><td>3</td><td>13.182</td><td>0.1448</td></tr>\n",
       "<tr><td>J1541+3153_z2.443</td><td>6</td><td>2</td><td>0</td><td>63.42</td><td>2.4435</td><td>-50.0</td><td>70.0</td><td>1</td><td>13.0755</td><td>0.0923</td></tr>\n",
       "<tr><td>J1607+1604_z4.474</td><td>6</td><td>2</td><td>0</td><td>63.42</td><td>4.4741</td><td>-55.0</td><td>45.0</td><td>1</td><td>13.107</td><td>0.0964</td></tr>\n",
       "<tr><td>Q1331+17_z1.776</td><td>6</td><td>2</td><td>0</td><td>63.42</td><td>1.77636</td><td>0.0</td><td>0.0</td><td>1</td><td>14.05</td><td>0.0501</td></tr>\n",
       "</table>"
      ],
      "text/plain": [
       "<Table length=100>\n",
       "       name          Z    ion    A   ...      vmax     flag_N   logN  sig_logN\n",
       "                                     ...     km / s                           \n",
       "      str32        int64 int64 int64 ...    float64    int64  float64 float64 \n",
       "------------------ ----- ----- ----- ... ------------- ------ ------- --------\n",
       " J1051+3107_z4.139     6     2     0 ...         170.0      3 13.0142   0.1448\n",
       " J0929+2825_z3.263     6     2     0 ...         110.0      1 13.1896   0.0262\n",
       "   Q0201+11_z3.387     6     2     0 ...           0.0      1  14.117   0.1009\n",
       " Q0000-2619_z3.390     0     0     0 ...           0.0      0     0.0      0.0\n",
       "   J0255+00_z3.915     6     2     0 ...          35.0      1 13.4095    0.038\n",
       "   Q0201+36_z2.463     0     0     0 ...           0.0      0     0.0      0.0\n",
       " J1200+4015_z3.220     6     2     0 ... 69.9999999999      1 13.6832   0.0269\n",
       "BR2237-0607_z4.080     6     2     0 ...           0.0      3   12.53    0.153\n",
       " J1202+3235_z5.065     6     2     0 ... 20.0000000001      3  12.635   0.1448\n",
       "               ...   ...   ...   ... ...           ...    ...     ...      ...\n",
       "   Q1759+75_z2.625     6     2     0 ...          60.0      1 13.1433   0.0331\n",
       "   Q2359-02_z2.095     6     2     0 ... 39.7094161443      1  13.697   0.0629\n",
       "   Q0216+08_z2.293     0     0     0 ...           0.0      0     0.0      0.0\n",
       "   Q0149+33_z2.141     6     2     0 ... 49.5227389898      3 12.7908   0.1448\n",
       " PSS0957+33_z3.280     0     0     0 ...           0.0      0     0.0      0.0\n",
       "   J0255+00_z3.253     0     0     0 ...           0.0      0     0.0      0.0\n",
       "   Q1215+33_z1.999     6     2     0 ...          30.0      3  13.182   0.1448\n",
       " J1541+3153_z2.443     6     2     0 ...          70.0      1 13.0755   0.0923\n",
       " J1607+1604_z4.474     6     2     0 ...          45.0      1  13.107   0.0964\n",
       "   Q1331+17_z1.776     6     2     0 ...           0.0      1   14.05   0.0501"
      ]
     },
     "execution_count": 10,
     "metadata": {},
     "output_type": "execute_result"
    }
   ],
   "source": [
    "CIIs"
   ]
  },
  {
   "cell_type": "markdown",
   "metadata": {},
   "source": [
    "### Write"
   ]
  },
  {
   "cell_type": "code",
   "execution_count": 11,
   "metadata": {},
   "outputs": [
    {
     "name": "stdout",
     "output_type": "stream",
     "text": [
      "Wrote: h100_DLA_sys_v2.tar.gz\n"
     ]
    }
   ],
   "source": [
    "h100.write_survey(outfile='h100_DLA_sys_v2.tar.gz', tmpdir='SYS/')"
   ]
  },
  {
   "cell_type": "markdown",
   "metadata": {},
   "source": [
    "### Another test"
   ]
  },
  {
   "cell_type": "code",
   "execution_count": 12,
   "metadata": {},
   "outputs": [
    {
     "name": "stdout",
     "output_type": "stream",
     "text": [
      "Loading systems from h100_DLA_sys_v2.tar.gz\n",
      "Skipping a likely folder: SYS\n"
     ]
    },
    {
     "name": "stderr",
     "output_type": "stream",
     "text": [
      "/home/xavier/local/Python/linetools/linetools/spectralline.py:200: UserWarning: Redshift not input.  Setting to 0 for zLimits\n",
      "  warnings.warn(\"Redshift not input.  Setting to 0 for zLimits\")\n",
      "/home/xavier/local/Python/linetools/linetools/spectralline.py:117: UserWarning: Key mol not in your input dict\n",
      "  warnings.warn(\"Key {:s} not in your input dict\".format(key))\n"
     ]
    }
   ],
   "source": [
    "dla_survey = pyisu.load_sys_files('h100_DLA_sys_v2.tar.gz', 'DLA', use_coord=True)"
   ]
  },
  {
   "cell_type": "code",
   "execution_count": 13,
   "metadata": {},
   "outputs": [
    {
     "name": "stderr",
     "output_type": "stream",
     "text": [
      "/home/xavier/local/Python/linetools/linetools/isgm/abscomponent.py:237: UserWarning: No stars provided.  Adding one because Ej > 0.\n",
      "  warnings.warn(\"No stars provided.  Adding one because Ej > 0.\")\n"
     ]
    }
   ],
   "source": [
    "dla_survey.fill_ions(use_components=True)"
   ]
  },
  {
   "cell_type": "code",
   "execution_count": 14,
   "metadata": {},
   "outputs": [],
   "source": [
    "CIIs2 = dla_survey.ions((6,2),Ej=63.42/u.cm)"
   ]
  },
  {
   "cell_type": "code",
   "execution_count": 15,
   "metadata": {},
   "outputs": [
    {
     "data": {
      "text/html": [
       "&lt;Table length=100&gt;\n",
       "<table id=\"table140016295317456\" class=\"table-striped table-bordered table-condensed\">\n",
       "<thead><tr><th>name</th><th>Z</th><th>ion</th><th>A</th><th>Ej</th><th>z</th><th>vmin</th><th>vmax</th><th>flag_N</th><th>logN</th><th>sig_logN</th></tr></thead>\n",
       "<thead><tr><th></th><th></th><th></th><th></th><th>1 / cm</th><th></th><th>km / s</th><th>km / s</th><th></th><th></th><th></th></tr></thead>\n",
       "<thead><tr><th>str32</th><th>int64</th><th>int64</th><th>int64</th><th>float64</th><th>float64</th><th>float64</th><th>float64</th><th>int64</th><th>float64</th><th>float64</th></tr></thead>\n",
       "<tr><td>J1051+3107_z4.139</td><td>6</td><td>2</td><td>0</td><td>63.42</td><td>4.1392</td><td>-100.0</td><td>170.0</td><td>3</td><td>13.0142</td><td>0.1448</td></tr>\n",
       "<tr><td>J0929+2825_z3.263</td><td>6</td><td>2</td><td>0</td><td>63.42</td><td>3.2627</td><td>-60.0</td><td>110.0</td><td>1</td><td>13.1896</td><td>0.0262</td></tr>\n",
       "<tr><td>Q0201+11_z3.387</td><td>6</td><td>2</td><td>0</td><td>63.42</td><td>3.38686</td><td>0.0</td><td>0.0</td><td>1</td><td>14.117</td><td>0.1009</td></tr>\n",
       "<tr><td>Q0000-2619_z3.390</td><td>0</td><td>0</td><td>0</td><td>0.0</td><td>0.0</td><td>0.0</td><td>0.0</td><td>0</td><td>0.0</td><td>0.0</td></tr>\n",
       "<tr><td>J0255+00_z3.915</td><td>6</td><td>2</td><td>0</td><td>63.42</td><td>3.91462</td><td>-35.0</td><td>35.0</td><td>1</td><td>13.4095</td><td>0.038</td></tr>\n",
       "<tr><td>Q0201+36_z2.463</td><td>0</td><td>0</td><td>0</td><td>0.0</td><td>0.0</td><td>0.0</td><td>0.0</td><td>0</td><td>0.0</td><td>0.0</td></tr>\n",
       "<tr><td>J1200+4015_z3.220</td><td>6</td><td>2</td><td>0</td><td>63.42</td><td>3.22</td><td>-150.0</td><td>69.9999999999</td><td>1</td><td>13.6832</td><td>0.0269</td></tr>\n",
       "<tr><td>BR2237-0607_z4.080</td><td>6</td><td>2</td><td>0</td><td>63.42</td><td>4.0803</td><td>0.0</td><td>0.0</td><td>3</td><td>12.53</td><td>0.153</td></tr>\n",
       "<tr><td>J1202+3235_z5.065</td><td>6</td><td>2</td><td>0</td><td>63.42</td><td>5.0647</td><td>-30.0</td><td>20.0000000001</td><td>3</td><td>12.635</td><td>0.1448</td></tr>\n",
       "<tr><td>...</td><td>...</td><td>...</td><td>...</td><td>...</td><td>...</td><td>...</td><td>...</td><td>...</td><td>...</td><td>...</td></tr>\n",
       "<tr><td>Q1759+75_z2.625</td><td>6</td><td>2</td><td>0</td><td>63.42</td><td>2.6253</td><td>-60.0</td><td>60.0</td><td>1</td><td>13.1433</td><td>0.0331</td></tr>\n",
       "<tr><td>Q2359-02_z2.095</td><td>6</td><td>2</td><td>0</td><td>63.42</td><td>2.09507</td><td>-20.2905838557</td><td>39.7094161443</td><td>1</td><td>13.697</td><td>0.0629</td></tr>\n",
       "<tr><td>Q0216+08_z2.293</td><td>0</td><td>0</td><td>0</td><td>0.0</td><td>0.0</td><td>0.0</td><td>0.0</td><td>0</td><td>0.0</td><td>0.0</td></tr>\n",
       "<tr><td>Q0149+33_z2.141</td><td>6</td><td>2</td><td>0</td><td>63.42</td><td>2.14076</td><td>-60.47726101</td><td>49.5227389898</td><td>3</td><td>12.7908</td><td>0.1448</td></tr>\n",
       "<tr><td>PSS0957+33_z3.280</td><td>0</td><td>0</td><td>0</td><td>0.0</td><td>0.0</td><td>0.0</td><td>0.0</td><td>0</td><td>0.0</td><td>0.0</td></tr>\n",
       "<tr><td>J0255+00_z3.253</td><td>0</td><td>0</td><td>0</td><td>0.0</td><td>0.0</td><td>0.0</td><td>0.0</td><td>0</td><td>0.0</td><td>0.0</td></tr>\n",
       "<tr><td>Q1215+33_z1.999</td><td>6</td><td>2</td><td>0</td><td>63.42</td><td>1.9991</td><td>-70.0</td><td>30.0</td><td>3</td><td>13.182</td><td>0.1448</td></tr>\n",
       "<tr><td>J1541+3153_z2.443</td><td>6</td><td>2</td><td>0</td><td>63.42</td><td>2.4435</td><td>-50.0</td><td>70.0</td><td>1</td><td>13.0755</td><td>0.0923</td></tr>\n",
       "<tr><td>J1607+1604_z4.474</td><td>6</td><td>2</td><td>0</td><td>63.42</td><td>4.4741</td><td>-55.0</td><td>45.0</td><td>1</td><td>13.107</td><td>0.0964</td></tr>\n",
       "<tr><td>Q1331+17_z1.776</td><td>6</td><td>2</td><td>0</td><td>63.42</td><td>1.77636</td><td>0.0</td><td>0.0</td><td>1</td><td>14.05</td><td>0.0501</td></tr>\n",
       "</table>"
      ],
      "text/plain": [
       "<Table length=100>\n",
       "       name          Z    ion    A   ...      vmax     flag_N   logN  sig_logN\n",
       "                                     ...     km / s                           \n",
       "      str32        int64 int64 int64 ...    float64    int64  float64 float64 \n",
       "------------------ ----- ----- ----- ... ------------- ------ ------- --------\n",
       " J1051+3107_z4.139     6     2     0 ...         170.0      3 13.0142   0.1448\n",
       " J0929+2825_z3.263     6     2     0 ...         110.0      1 13.1896   0.0262\n",
       "   Q0201+11_z3.387     6     2     0 ...           0.0      1  14.117   0.1009\n",
       " Q0000-2619_z3.390     0     0     0 ...           0.0      0     0.0      0.0\n",
       "   J0255+00_z3.915     6     2     0 ...          35.0      1 13.4095    0.038\n",
       "   Q0201+36_z2.463     0     0     0 ...           0.0      0     0.0      0.0\n",
       " J1200+4015_z3.220     6     2     0 ... 69.9999999999      1 13.6832   0.0269\n",
       "BR2237-0607_z4.080     6     2     0 ...           0.0      3   12.53    0.153\n",
       " J1202+3235_z5.065     6     2     0 ... 20.0000000001      3  12.635   0.1448\n",
       "               ...   ...   ...   ... ...           ...    ...     ...      ...\n",
       "   Q1759+75_z2.625     6     2     0 ...          60.0      1 13.1433   0.0331\n",
       "   Q2359-02_z2.095     6     2     0 ... 39.7094161443      1  13.697   0.0629\n",
       "   Q0216+08_z2.293     0     0     0 ...           0.0      0     0.0      0.0\n",
       "   Q0149+33_z2.141     6     2     0 ... 49.5227389898      3 12.7908   0.1448\n",
       " PSS0957+33_z3.280     0     0     0 ...           0.0      0     0.0      0.0\n",
       "   J0255+00_z3.253     0     0     0 ...           0.0      0     0.0      0.0\n",
       "   Q1215+33_z1.999     6     2     0 ...          30.0      3  13.182   0.1448\n",
       " J1541+3153_z2.443     6     2     0 ...          70.0      1 13.0755   0.0923\n",
       " J1607+1604_z4.474     6     2     0 ...          45.0      1  13.107   0.0964\n",
       "   Q1331+17_z1.776     6     2     0 ...           0.0      1   14.05   0.0501"
      ]
     },
     "execution_count": 15,
     "metadata": {},
     "output_type": "execute_result"
    }
   ],
   "source": [
    "CIIs2"
   ]
  },
  {
   "cell_type": "code",
   "execution_count": null,
   "metadata": {
    "collapsed": true
   },
   "outputs": [],
   "source": []
  }
 ],
 "metadata": {
  "kernelspec": {
   "display_name": "Python 3",
   "language": "python",
   "name": "python3"
  },
  "language_info": {
   "codemirror_mode": {
    "name": "ipython",
    "version": 3
   },
   "file_extension": ".py",
   "mimetype": "text/x-python",
   "name": "python",
   "nbconvert_exporter": "python",
   "pygments_lexer": "ipython3",
   "version": "3.6.1"
  }
 },
 "nbformat": 4,
 "nbformat_minor": 2
}
