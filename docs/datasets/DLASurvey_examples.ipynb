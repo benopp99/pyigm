{
 "cells": [
  {
   "cell_type": "markdown",
   "metadata": {},
   "source": [
    "# Examples for the DLA Survey Class (v1.4.2)"
   ]
  },
  {
   "cell_type": "code",
   "execution_count": 1,
   "metadata": {
    "collapsed": true
   },
   "outputs": [],
   "source": [
    "%matplotlib inline"
   ]
  },
  {
   "cell_type": "code",
   "execution_count": 2,
   "metadata": {},
   "outputs": [
    {
     "data": {
      "text/html": [
       "\n",
       "    <div class=\"bk-root\">\n",
       "        <a href=\"http://bokeh.pydata.org\" target=\"_blank\" class=\"bk-logo bk-logo-small bk-logo-notebook\"></a>\n",
       "        <span id=\"33b481e8-e5cd-4545-bd25-19aa0acf5644\">Loading BokehJS ...</span>\n",
       "    </div>"
      ]
     },
     "metadata": {},
     "output_type": "display_data"
    },
    {
     "data": {
      "application/javascript": [
       "\n",
       "(function(global) {\n",
       "  function now() {\n",
       "    return new Date();\n",
       "  }\n",
       "\n",
       "  var force = true;\n",
       "\n",
       "  if (typeof (window._bokeh_onload_callbacks) === \"undefined\" || force === true) {\n",
       "    window._bokeh_onload_callbacks = [];\n",
       "    window._bokeh_is_loading = undefined;\n",
       "  }\n",
       "\n",
       "\n",
       "  \n",
       "  if (typeof (window._bokeh_timeout) === \"undefined\" || force === true) {\n",
       "    window._bokeh_timeout = Date.now() + 5000;\n",
       "    window._bokeh_failed_load = false;\n",
       "  }\n",
       "\n",
       "  var NB_LOAD_WARNING = {'data': {'text/html':\n",
       "     \"<div style='background-color: #fdd'>\\n\"+\n",
       "     \"<p>\\n\"+\n",
       "     \"BokehJS does not appear to have successfully loaded. If loading BokehJS from CDN, this \\n\"+\n",
       "     \"may be due to a slow or bad network connection. Possible fixes:\\n\"+\n",
       "     \"</p>\\n\"+\n",
       "     \"<ul>\\n\"+\n",
       "     \"<li>re-rerun `output_notebook()` to attempt to load from CDN again, or</li>\\n\"+\n",
       "     \"<li>use INLINE resources instead, as so:</li>\\n\"+\n",
       "     \"</ul>\\n\"+\n",
       "     \"<code>\\n\"+\n",
       "     \"from bokeh.resources import INLINE\\n\"+\n",
       "     \"output_notebook(resources=INLINE)\\n\"+\n",
       "     \"</code>\\n\"+\n",
       "     \"</div>\"}};\n",
       "\n",
       "  function display_loaded() {\n",
       "    if (window.Bokeh !== undefined) {\n",
       "      var el = document.getElementById(\"33b481e8-e5cd-4545-bd25-19aa0acf5644\");\n",
       "      el.textContent = \"BokehJS \" + Bokeh.version + \" successfully loaded.\";\n",
       "    } else if (Date.now() < window._bokeh_timeout) {\n",
       "      setTimeout(display_loaded, 100)\n",
       "    }\n",
       "  }\n",
       "\n",
       "  function run_callbacks() {\n",
       "    window._bokeh_onload_callbacks.forEach(function(callback) { callback() });\n",
       "    delete window._bokeh_onload_callbacks\n",
       "    console.info(\"Bokeh: all callbacks have finished\");\n",
       "  }\n",
       "\n",
       "  function load_libs(js_urls, callback) {\n",
       "    window._bokeh_onload_callbacks.push(callback);\n",
       "    if (window._bokeh_is_loading > 0) {\n",
       "      console.log(\"Bokeh: BokehJS is being loaded, scheduling callback at\", now());\n",
       "      return null;\n",
       "    }\n",
       "    if (js_urls == null || js_urls.length === 0) {\n",
       "      run_callbacks();\n",
       "      return null;\n",
       "    }\n",
       "    console.log(\"Bokeh: BokehJS not loaded, scheduling load and callback at\", now());\n",
       "    window._bokeh_is_loading = js_urls.length;\n",
       "    for (var i = 0; i < js_urls.length; i++) {\n",
       "      var url = js_urls[i];\n",
       "      var s = document.createElement('script');\n",
       "      s.src = url;\n",
       "      s.async = false;\n",
       "      s.onreadystatechange = s.onload = function() {\n",
       "        window._bokeh_is_loading--;\n",
       "        if (window._bokeh_is_loading === 0) {\n",
       "          console.log(\"Bokeh: all BokehJS libraries loaded\");\n",
       "          run_callbacks()\n",
       "        }\n",
       "      };\n",
       "      s.onerror = function() {\n",
       "        console.warn(\"failed to load library \" + url);\n",
       "      };\n",
       "      console.log(\"Bokeh: injecting script tag for BokehJS library: \", url);\n",
       "      document.getElementsByTagName(\"head\")[0].appendChild(s);\n",
       "    }\n",
       "  };var element = document.getElementById(\"33b481e8-e5cd-4545-bd25-19aa0acf5644\");\n",
       "  if (element == null) {\n",
       "    console.log(\"Bokeh: ERROR: autoload.js configured with elementid '33b481e8-e5cd-4545-bd25-19aa0acf5644' but no matching script tag was found. \")\n",
       "    return false;\n",
       "  }\n",
       "\n",
       "  var js_urls = [\"https://cdn.pydata.org/bokeh/release/bokeh-0.12.5.min.js\", \"https://cdn.pydata.org/bokeh/release/bokeh-widgets-0.12.5.min.js\"];\n",
       "\n",
       "  var inline_js = [\n",
       "    function(Bokeh) {\n",
       "      Bokeh.set_log_level(\"info\");\n",
       "    },\n",
       "    \n",
       "    function(Bokeh) {\n",
       "      \n",
       "    },\n",
       "    \n",
       "    function(Bokeh) {\n",
       "      \n",
       "      document.getElementById(\"33b481e8-e5cd-4545-bd25-19aa0acf5644\").textContent = \"BokehJS is loading...\";\n",
       "    },\n",
       "    function(Bokeh) {\n",
       "      console.log(\"Bokeh: injecting CSS: https://cdn.pydata.org/bokeh/release/bokeh-0.12.5.min.css\");\n",
       "      Bokeh.embed.inject_css(\"https://cdn.pydata.org/bokeh/release/bokeh-0.12.5.min.css\");\n",
       "      console.log(\"Bokeh: injecting CSS: https://cdn.pydata.org/bokeh/release/bokeh-widgets-0.12.5.min.css\");\n",
       "      Bokeh.embed.inject_css(\"https://cdn.pydata.org/bokeh/release/bokeh-widgets-0.12.5.min.css\");\n",
       "    }\n",
       "  ];\n",
       "\n",
       "  function run_inline_js() {\n",
       "    \n",
       "    if ((window.Bokeh !== undefined) || (force === true)) {\n",
       "      for (var i = 0; i < inline_js.length; i++) {\n",
       "        inline_js[i](window.Bokeh);\n",
       "      }if (force === true) {\n",
       "        display_loaded();\n",
       "      }} else if (Date.now() < window._bokeh_timeout) {\n",
       "      setTimeout(run_inline_js, 100);\n",
       "    } else if (!window._bokeh_failed_load) {\n",
       "      console.log(\"Bokeh: BokehJS failed to load within specified timeout.\");\n",
       "      window._bokeh_failed_load = true;\n",
       "    } else if (force !== true) {\n",
       "      var cell = $(document.getElementById(\"33b481e8-e5cd-4545-bd25-19aa0acf5644\")).parents('.cell').data().cell;\n",
       "      cell.output_area.append_execute_result(NB_LOAD_WARNING)\n",
       "    }\n",
       "\n",
       "  }\n",
       "\n",
       "  if (window._bokeh_is_loading === 0) {\n",
       "    console.log(\"Bokeh: BokehJS loaded, going straight to plotting\");\n",
       "    run_inline_js();\n",
       "  } else {\n",
       "    load_libs(js_urls, function() {\n",
       "      console.log(\"Bokeh: BokehJS plotting callback run at\", now());\n",
       "      run_inline_js();\n",
       "    });\n",
       "  }\n",
       "}(this));"
      ]
     },
     "metadata": {},
     "output_type": "display_data"
    },
    {
     "name": "stdout",
     "output_type": "stream",
     "text": [
      "read_sets: Using set file -- \n",
      "  /home/xavier/local/Python/linetools/linetools/lists/sets/llist_v1.2.ascii\n",
      "Loading abundances from Asplund2009\n",
      "Abundances are relative by number on a logarithmic scale with H=12\n"
     ]
    },
    {
     "name": "stderr",
     "output_type": "stream",
     "text": [
      "/home/xavier/local/Python/linetools/linetools/lists/linelist.py:402: RuntimeWarning: divide by zero encountered in log10\n",
      "  self._extra_table['log(w*f)'] = np.log10(qm_strength)\n"
     ]
    }
   ],
   "source": [
    "# imports\n",
    "import seaborn as sns; sns.set_style(\"white\")\n",
    "\n",
    "import imp, os\n",
    "from imp import reload\n",
    "import numpy as np\n",
    "\n",
    "import datetime\n",
    "\n",
    "from pkg_resources import resource_filename\n",
    "\n",
    "from matplotlib import pyplot as plt\n",
    "\n",
    "from bokeh.io import output_notebook, show, output_file\n",
    "from bokeh.plotting import figure\n",
    "from bokeh.models import Range1d\n",
    "from bokeh.layouts import row\n",
    "\n",
    "output_notebook()\n",
    "\n",
    "from astropy.table import Table\n",
    "\n",
    "from pyigm.surveys.dlasurvey import DLASurvey\n",
    "from pyigm.surveys import dlasurvey as dlasrv\n",
    "from pyigm.abssys.igmsys import AbsSubSystem"
   ]
  },
  {
   "cell_type": "markdown",
   "metadata": {},
   "source": [
    "## Instantiate"
   ]
  },
  {
   "cell_type": "code",
   "execution_count": 3,
   "metadata": {
    "collapsed": true
   },
   "outputs": [],
   "source": [
    "dlas = DLASurvey(ref='null')"
   ]
  },
  {
   "cell_type": "markdown",
   "metadata": {},
   "source": [
    "### H100  (Neeleman, M. et al. 2013, ApJ, 769, 54)"
   ]
  },
  {
   "cell_type": "code",
   "execution_count": 4,
   "metadata": {
    "scrolled": true
   },
   "outputs": [
    {
     "name": "stdout",
     "output_type": "stream",
     "text": [
      "2017-09-28 06:49:35.522459\n",
      "H100: Loading summary file /home/xavier/local/Python/pyigm/pyigm/data/DLA/H100/H100_DLA.fits\n",
      "H100: Loading ions file /home/xavier/local/Python/pyigm/pyigm/data/DLA/H100/H100_DLA_ions.json\n",
      "H100: Loading systems.  This takes ~90s\n",
      "Loading systems from /home/xavier/local/Python/pyigm/pyigm/data/DLA/H100/H100_DLA_sys.tar.gz\n",
      "Skipping a likely folder: SYS\n"
     ]
    },
    {
     "name": "stderr",
     "output_type": "stream",
     "text": [
      "/home/xavier/local/Python/linetools/linetools/spectralline.py:200: UserWarning: Redshift not input.  Setting to 0 for zLimits\n",
      "  warnings.warn(\"Redshift not input.  Setting to 0 for zLimits\")\n",
      "/home/xavier/local/Python/linetools/linetools/spectralline.py:117: UserWarning: Key mol not in your input dict\n",
      "  warnings.warn(\"Key {:s} not in your input dict\".format(key))\n",
      "/home/xavier/local/Python/linetools/linetools/isgm/abscomponent.py:237: UserWarning: No stars provided.  Adding one because Ej > 0.\n",
      "  warnings.warn(\"No stars provided.  Adding one because Ej > 0.\")\n"
     ]
    },
    {
     "name": "stdout",
     "output_type": "stream",
     "text": [
      "2017-09-28 06:49:56.120680\n"
     ]
    },
    {
     "data": {
      "text/plain": [
       "<IGMSurvey: nsys=100, type=DLA, ref=Neeleman+13>"
      ]
     },
     "execution_count": 4,
     "metadata": {},
     "output_type": "execute_result"
    }
   ],
   "source": [
    "reload(dlasrv)\n",
    "print(datetime.datetime.now())\n",
    "h100 = dlasrv.DLASurvey.load_H100()\n",
    "print(datetime.datetime.now())\n",
    "h100"
   ]
  },
  {
   "cell_type": "markdown",
   "metadata": {},
   "source": [
    "#### Grab spectra (be patient; may require Internet access)"
   ]
  },
  {
   "cell_type": "code",
   "execution_count": 5,
   "metadata": {},
   "outputs": [
    {
     "name": "stdout",
     "output_type": "stream",
     "text": [
      "H100: Loading summary file /home/xavier/local/Python/pyigm/pyigm/data/DLA/H100/H100_DLA.fits\n",
      "H100: Loading ions file /home/xavier/local/Python/pyigm/pyigm/data/DLA/H100/H100_DLA_ions.json\n",
      "H100: Loading systems.  This takes ~90s\n",
      "Loading systems from /home/xavier/local/Python/pyigm/pyigm/data/DLA/H100/H100_DLA_sys.tar.gz\n",
      "Skipping a likely folder: SYS\n"
     ]
    },
    {
     "name": "stderr",
     "output_type": "stream",
     "text": [
      "/home/xavier/local/Python/linetools/linetools/spectralline.py:200: UserWarning: Redshift not input.  Setting to 0 for zLimits\n",
      "  warnings.warn(\"Redshift not input.  Setting to 0 for zLimits\")\n",
      "/home/xavier/local/Python/linetools/linetools/spectralline.py:117: UserWarning: Key mol not in your input dict\n",
      "  warnings.warn(\"Key {:s} not in your input dict\".format(key))\n",
      "/home/xavier/local/Python/linetools/linetools/isgm/abscomponent.py:237: UserWarning: No stars provided.  Adding one because Ej > 0.\n",
      "  warnings.warn(\"No stars provided.  Adding one because Ej > 0.\")\n"
     ]
    },
    {
     "name": "stdout",
     "output_type": "stream",
     "text": [
      "H100: Using files in /home/xavier/local/Python/pyigm/pyigm/data/DLA/H100/Spectra/\n"
     ]
    },
    {
     "name": "stderr",
     "output_type": "stream",
     "text": [
      "/home/xavier/local/Python/pyigm/pyigm/surveys/dlasurvey.py:223: UserWarning: All of these spectra are in igmspec at https://github.com/specdb/specdb\n",
      "  warnings.warn(\"All of these spectra are in igmspec at https://github.com/specdb/specdb\")\n"
     ]
    }
   ],
   "source": [
    "h100 = DLASurvey.load_H100(grab_spectra=True)"
   ]
  },
  {
   "cell_type": "markdown",
   "metadata": {},
   "source": [
    "#### Metallicity"
   ]
  },
  {
   "cell_type": "code",
   "execution_count": 6,
   "metadata": {},
   "outputs": [
    {
     "data": {
      "text/plain": [
       "array([-1.99, -1.56, -1.2 , -1.68, -1.72, -0.24, -0.64, -1.82, -2.66,\n",
       "       -1.6 , -1.8 , -2.07, -0.83, -1.96, -1.15, -0.61, -0.89, -0.67,\n",
       "       -1.25, -1.68, -1.33, -0.79, -0.38, -1.27, -2.56, -1.88, -1.38,\n",
       "       -2.27, -2.28, -1.11, -1.11, -1.31, -1.75, -0.99, -0.71, -2.54,\n",
       "       -1.83, -2.35, -1.51, -1.68, -2.27, -1.  , -1.9 , -2.38, -1.37,\n",
       "       -1.39, -1.74, -1.39, -1.97, -1.53, -1.65, -1.5 , -1.69, -1.41,\n",
       "       -1.31, -1.83, -1.39, -1.68, -1.49, -0.64, -2.52, -0.47, -0.94,\n",
       "       -1.01, -1.75, -1.54, -0.82, -2.01, -1.08, -1.46, -1.94, -0.75,\n",
       "       -0.27, -1.81, -1.64, -1.54, -0.94, -1.42, -1.65, -1.6 , -2.17,\n",
       "       -0.82, -0.55, -1.54, -0.74, -1.45, -2.25, -1.92, -2.24, -1.69,\n",
       "       -0.7 , -0.72, -0.61, -1.43, -1.08, -0.88, -1.43, -1.49, -1.7 , -1.34])"
      ]
     },
     "execution_count": 6,
     "metadata": {},
     "output_type": "execute_result"
    }
   ],
   "source": [
    "h100.ZH"
   ]
  },
  {
   "cell_type": "markdown",
   "metadata": {},
   "source": [
    "## Simple Attributes"
   ]
  },
  {
   "cell_type": "code",
   "execution_count": 7,
   "metadata": {},
   "outputs": [
    {
     "data": {
      "text/plain": [
       "100"
      ]
     },
     "execution_count": 7,
     "metadata": {},
     "output_type": "execute_result"
    }
   ],
   "source": [
    "h100.nsys"
   ]
  },
  {
   "cell_type": "code",
   "execution_count": 8,
   "metadata": {},
   "outputs": [
    {
     "data": {
      "text/plain": [
       "array([ 20.7 ,  21.1 ,  21.26,  21.41,  21.3 ,  20.38,  20.85,  20.52,\n",
       "        20.3 ,  20.35])"
      ]
     },
     "execution_count": 8,
     "metadata": {},
     "output_type": "execute_result"
    }
   ],
   "source": [
    "h100.NHI[0:10]"
   ]
  },
  {
   "cell_type": "code",
   "execution_count": 9,
   "metadata": {},
   "outputs": [
    {
     "data": {
      "text/plain": [
       "array(['J1051+3107_z4.139', 'J0929+2825_z3.263', 'Q0201+11_z3.387',\n",
       "       'Q0000-2619_z3.390', 'J0255+00_z3.915'], \n",
       "      dtype='<U18')"
      ]
     },
     "execution_count": 9,
     "metadata": {},
     "output_type": "execute_result"
    }
   ],
   "source": [
    "h100.name[0:5]"
   ]
  },
  {
   "cell_type": "markdown",
   "metadata": {},
   "source": [
    "## Column Densities"
   ]
  },
  {
   "cell_type": "code",
   "execution_count": 10,
   "metadata": {},
   "outputs": [
    {
     "data": {
      "text/html": [
       "&lt;Table length=5&gt;\n",
       "<table id=\"table140493520710512\" class=\"table-striped table-bordered table-condensed\">\n",
       "<thead><tr><th>name</th><th>Z</th><th>ion</th><th>A</th><th>Ej</th><th>z</th><th>vmin</th><th>vmax</th><th>flag_N</th><th>logN</th><th>sig_logN</th></tr></thead>\n",
       "<thead><tr><th></th><th></th><th></th><th></th><th>1 / cm</th><th></th><th>km / s</th><th>km / s</th><th></th><th></th><th></th></tr></thead>\n",
       "<thead><tr><th>str32</th><th>int64</th><th>int64</th><th>int64</th><th>float64</th><th>float64</th><th>float64</th><th>float64</th><th>int64</th><th>float64</th><th>float64</th></tr></thead>\n",
       "<tr><td>J1051+3107_z4.139</td><td>14</td><td>2</td><td>0</td><td>0.0</td><td>4.1392</td><td>-140.0</td><td>170.0</td><td>1</td><td>14.206</td><td>0.016</td></tr>\n",
       "<tr><td>J0929+2825_z3.263</td><td>14</td><td>2</td><td>0</td><td>0.0</td><td>3.2627</td><td>-60.0</td><td>110.0</td><td>1</td><td>15.04</td><td>0.015</td></tr>\n",
       "<tr><td>Q0201+11_z3.387</td><td>14</td><td>2</td><td>0</td><td>0.0</td><td>3.38686</td><td>-110.0</td><td>200.0</td><td>2</td><td>14.87</td><td>0.511</td></tr>\n",
       "<tr><td>Q0000-2619_z3.390</td><td>14</td><td>2</td><td>0</td><td>0.0</td><td>3.3901</td><td>-70.0000000001</td><td>100.0</td><td>1</td><td>15.088</td><td>0.012</td></tr>\n",
       "<tr><td>J0255+00_z3.915</td><td>14</td><td>2</td><td>0</td><td>0.0</td><td>3.91462</td><td>-35.0</td><td>30.0</td><td>2</td><td>14.049</td><td>0.188</td></tr>\n",
       "</table>"
      ],
      "text/plain": [
       "<Table length=5>\n",
       "       name         Z    ion    A      Ej   ...   vmax  flag_N   logN  sig_logN\n",
       "                                     1 / cm ...  km / s                        \n",
       "      str32       int64 int64 int64 float64 ... float64 int64  float64 float64 \n",
       "----------------- ----- ----- ----- ------- ... ------- ------ ------- --------\n",
       "J1051+3107_z4.139    14     2     0     0.0 ...   170.0      1  14.206    0.016\n",
       "J0929+2825_z3.263    14     2     0     0.0 ...   110.0      1   15.04    0.015\n",
       "  Q0201+11_z3.387    14     2     0     0.0 ...   200.0      2   14.87    0.511\n",
       "Q0000-2619_z3.390    14     2     0     0.0 ...   100.0      1  15.088    0.012\n",
       "  J0255+00_z3.915    14     2     0     0.0 ...    30.0      2  14.049    0.188"
      ]
     },
     "execution_count": 10,
     "metadata": {},
     "output_type": "execute_result"
    }
   ],
   "source": [
    "SiII_clms = h100.ions((14,2))\n",
    "SiII_clms[0:5]"
   ]
  },
  {
   "cell_type": "code",
   "execution_count": 11,
   "metadata": {},
   "outputs": [
    {
     "data": {
      "text/plain": [
       "98"
      ]
     },
     "execution_count": 11,
     "metadata": {},
     "output_type": "execute_result"
    }
   ],
   "source": [
    "gdSiII = SiII_clms['flag_N']>0\n",
    "np.sum(gdSiII)"
   ]
  },
  {
   "cell_type": "code",
   "execution_count": 12,
   "metadata": {},
   "outputs": [
    {
     "data": {
      "text/plain": [
       "array(['BRI0952-01_z4.024', 'Q1055+46_z3.317'], \n",
       "      dtype='<U18')"
      ]
     },
     "execution_count": 12,
     "metadata": {},
     "output_type": "execute_result"
    }
   ],
   "source": [
    "h100.name[~gdSiII]"
   ]
  },
  {
   "cell_type": "markdown",
   "metadata": {},
   "source": [
    "## Simple Plots"
   ]
  },
  {
   "cell_type": "code",
   "execution_count": 13,
   "metadata": {},
   "outputs": [
    {
     "data": {
      "text/html": [
       "\n",
       "\n",
       "    <div class=\"bk-root\">\n",
       "        <div class=\"bk-plotdiv\" id=\"90d6391a-9384-41c0-b859-d46be3997a2a\"></div>\n",
       "    </div>\n",
       "<script type=\"text/javascript\">\n",
       "  \n",
       "  (function(global) {\n",
       "    function now() {\n",
       "      return new Date();\n",
       "    }\n",
       "  \n",
       "    var force = false;\n",
       "  \n",
       "    if (typeof (window._bokeh_onload_callbacks) === \"undefined\" || force === true) {\n",
       "      window._bokeh_onload_callbacks = [];\n",
       "      window._bokeh_is_loading = undefined;\n",
       "    }\n",
       "  \n",
       "  \n",
       "    \n",
       "    if (typeof (window._bokeh_timeout) === \"undefined\" || force === true) {\n",
       "      window._bokeh_timeout = Date.now() + 0;\n",
       "      window._bokeh_failed_load = false;\n",
       "    }\n",
       "  \n",
       "    var NB_LOAD_WARNING = {'data': {'text/html':\n",
       "       \"<div style='background-color: #fdd'>\\n\"+\n",
       "       \"<p>\\n\"+\n",
       "       \"BokehJS does not appear to have successfully loaded. If loading BokehJS from CDN, this \\n\"+\n",
       "       \"may be due to a slow or bad network connection. Possible fixes:\\n\"+\n",
       "       \"</p>\\n\"+\n",
       "       \"<ul>\\n\"+\n",
       "       \"<li>re-rerun `output_notebook()` to attempt to load from CDN again, or</li>\\n\"+\n",
       "       \"<li>use INLINE resources instead, as so:</li>\\n\"+\n",
       "       \"</ul>\\n\"+\n",
       "       \"<code>\\n\"+\n",
       "       \"from bokeh.resources import INLINE\\n\"+\n",
       "       \"output_notebook(resources=INLINE)\\n\"+\n",
       "       \"</code>\\n\"+\n",
       "       \"</div>\"}};\n",
       "  \n",
       "    function display_loaded() {\n",
       "      if (window.Bokeh !== undefined) {\n",
       "        var el = document.getElementById(\"90d6391a-9384-41c0-b859-d46be3997a2a\");\n",
       "        el.textContent = \"BokehJS \" + Bokeh.version + \" successfully loaded.\";\n",
       "      } else if (Date.now() < window._bokeh_timeout) {\n",
       "        setTimeout(display_loaded, 100)\n",
       "      }\n",
       "    }\n",
       "  \n",
       "    function run_callbacks() {\n",
       "      window._bokeh_onload_callbacks.forEach(function(callback) { callback() });\n",
       "      delete window._bokeh_onload_callbacks\n",
       "      console.info(\"Bokeh: all callbacks have finished\");\n",
       "    }\n",
       "  \n",
       "    function load_libs(js_urls, callback) {\n",
       "      window._bokeh_onload_callbacks.push(callback);\n",
       "      if (window._bokeh_is_loading > 0) {\n",
       "        console.log(\"Bokeh: BokehJS is being loaded, scheduling callback at\", now());\n",
       "        return null;\n",
       "      }\n",
       "      if (js_urls == null || js_urls.length === 0) {\n",
       "        run_callbacks();\n",
       "        return null;\n",
       "      }\n",
       "      console.log(\"Bokeh: BokehJS not loaded, scheduling load and callback at\", now());\n",
       "      window._bokeh_is_loading = js_urls.length;\n",
       "      for (var i = 0; i < js_urls.length; i++) {\n",
       "        var url = js_urls[i];\n",
       "        var s = document.createElement('script');\n",
       "        s.src = url;\n",
       "        s.async = false;\n",
       "        s.onreadystatechange = s.onload = function() {\n",
       "          window._bokeh_is_loading--;\n",
       "          if (window._bokeh_is_loading === 0) {\n",
       "            console.log(\"Bokeh: all BokehJS libraries loaded\");\n",
       "            run_callbacks()\n",
       "          }\n",
       "        };\n",
       "        s.onerror = function() {\n",
       "          console.warn(\"failed to load library \" + url);\n",
       "        };\n",
       "        console.log(\"Bokeh: injecting script tag for BokehJS library: \", url);\n",
       "        document.getElementsByTagName(\"head\")[0].appendChild(s);\n",
       "      }\n",
       "    };var element = document.getElementById(\"90d6391a-9384-41c0-b859-d46be3997a2a\");\n",
       "    if (element == null) {\n",
       "      console.log(\"Bokeh: ERROR: autoload.js configured with elementid '90d6391a-9384-41c0-b859-d46be3997a2a' but no matching script tag was found. \")\n",
       "      return false;\n",
       "    }\n",
       "  \n",
       "    var js_urls = [];\n",
       "  \n",
       "    var inline_js = [\n",
       "      function(Bokeh) {\n",
       "        (function() {\n",
       "          var fn = function() {\n",
       "            var docs_json = {\"7c3f50dd-81c1-4bcb-8a6e-0a7997ae6215\":{\"roots\":{\"references\":[{\"attributes\":{\"axis_label\":\"N_HI\",\"formatter\":{\"id\":\"eb482d15-3d11-4dac-8474-e0d9a8976810\",\"type\":\"BasicTickFormatter\"},\"plot\":{\"id\":\"8f0b9e1f-67d9-4298-9d98-c66b109d2c47\",\"subtype\":\"Figure\",\"type\":\"Plot\"},\"ticker\":{\"id\":\"afd1e18e-2688-4dbd-9f68-9ef3a6a38766\",\"type\":\"BasicTicker\"}},\"id\":\"c9e35d25-144f-40f4-9add-fa38141802cf\",\"type\":\"LinearAxis\"},{\"attributes\":{},\"id\":\"176e7f7d-785f-439b-a68c-d8487c205d66\",\"type\":\"BasicTickFormatter\"},{\"attributes\":{\"overlay\":{\"id\":\"96fd1f83-fed7-42e8-9f07-62e4f4291788\",\"type\":\"BoxAnnotation\"},\"plot\":{\"id\":\"903c5d78-9b8e-4d86-b164-3f6d6f980bce\",\"subtype\":\"Figure\",\"type\":\"Plot\"}},\"id\":\"b3583f2c-17e7-4282-8a02-5c6b06f73b75\",\"type\":\"BoxZoomTool\"},{\"attributes\":{\"plot\":{\"id\":\"903c5d78-9b8e-4d86-b164-3f6d6f980bce\",\"subtype\":\"Figure\",\"type\":\"Plot\"}},\"id\":\"27fdfaec-73af-4996-8ce4-0a5e898e0f61\",\"type\":\"WheelZoomTool\"},{\"attributes\":{\"bottom\":{\"value\":0},\"fill_color\":{\"value\":\"blue\"},\"left\":{\"field\":\"left\"},\"line_color\":{\"value\":\"#1f77b4\"},\"right\":{\"field\":\"right\"},\"top\":{\"field\":\"top\"}},\"id\":\"136182dd-e39e-4f7b-9cbd-9d37b16cb03f\",\"type\":\"Quad\"},{\"attributes\":{\"children\":[{\"id\":\"8f0b9e1f-67d9-4298-9d98-c66b109d2c47\",\"subtype\":\"Figure\",\"type\":\"Plot\"},{\"id\":\"903c5d78-9b8e-4d86-b164-3f6d6f980bce\",\"subtype\":\"Figure\",\"type\":\"Plot\"}]},\"id\":\"39e5c530-2517-4014-9d34-b88e209f5431\",\"type\":\"Row\"},{\"attributes\":{},\"id\":\"eb482d15-3d11-4dac-8474-e0d9a8976810\",\"type\":\"BasicTickFormatter\"},{\"attributes\":{\"plot\":{\"id\":\"903c5d78-9b8e-4d86-b164-3f6d6f980bce\",\"subtype\":\"Figure\",\"type\":\"Plot\"}},\"id\":\"418e4f24-78ba-49d4-917b-83b4fee9ff0e\",\"type\":\"HelpTool\"},{\"attributes\":{\"callback\":null},\"id\":\"bc261bc0-65ca-4d4b-af2b-49da3f51eedb\",\"type\":\"DataRange1d\"},{\"attributes\":{\"plot\":{\"id\":\"8f0b9e1f-67d9-4298-9d98-c66b109d2c47\",\"subtype\":\"Figure\",\"type\":\"Plot\"}},\"id\":\"5dc84917-42b9-4fbc-8147-4dbb28abadc6\",\"type\":\"SaveTool\"},{\"attributes\":{\"plot\":{\"id\":\"903c5d78-9b8e-4d86-b164-3f6d6f980bce\",\"subtype\":\"Figure\",\"type\":\"Plot\"}},\"id\":\"956fb623-7958-44d4-a3e7-f53224972e9e\",\"type\":\"ResetTool\"},{\"attributes\":{\"plot\":{\"id\":\"903c5d78-9b8e-4d86-b164-3f6d6f980bce\",\"subtype\":\"Figure\",\"type\":\"Plot\"}},\"id\":\"6e435642-8650-455f-8263-6f6641721b1c\",\"type\":\"SaveTool\"},{\"attributes\":{\"active_drag\":\"auto\",\"active_scroll\":\"auto\",\"active_tap\":\"auto\",\"tools\":[{\"id\":\"84013b8d-db49-459e-82ba-943512f193c0\",\"type\":\"PanTool\"},{\"id\":\"27fdfaec-73af-4996-8ce4-0a5e898e0f61\",\"type\":\"WheelZoomTool\"},{\"id\":\"b3583f2c-17e7-4282-8a02-5c6b06f73b75\",\"type\":\"BoxZoomTool\"},{\"id\":\"6e435642-8650-455f-8263-6f6641721b1c\",\"type\":\"SaveTool\"},{\"id\":\"956fb623-7958-44d4-a3e7-f53224972e9e\",\"type\":\"ResetTool\"},{\"id\":\"418e4f24-78ba-49d4-917b-83b4fee9ff0e\",\"type\":\"HelpTool\"}]},\"id\":\"3ceaa278-3892-4240-a456-baf6b586a63f\",\"type\":\"Toolbar\"},{\"attributes\":{\"callback\":null,\"column_names\":[\"left\",\"right\",\"top\"],\"data\":{\"left\":{\"__ndarray__\":\"MzMzMzMzNEAK16NwPUo0QOF6FK5HYTRAuB6F61F4NECPwvUoXI80QGZmZmZmpjRAPQrXo3C9NEAUrkfhetQ0QOtRuB6F6zRAwvUoXI8CNUCamZmZmRk1QHE9CtejMDVASOF6FK5HNUAfhetRuF41QPYoXI/CdTVAzczMzMyMNUCkcD0K16M1QHsUrkfhujVAUrgehevRNUApXI/C9eg1QA==\",\"dtype\":\"float64\",\"shape\":[20]},\"right\":{\"__ndarray__\":\"CtejcD1KNEDhehSuR2E0QLgehetReDRAj8L1KFyPNEBmZmZmZqY0QD0K16NwvTRAFK5H4XrUNEDrUbgehes0QML1KFyPAjVAmpmZmZkZNUBxPQrXozA1QEjhehSuRzVAH4XrUbheNUD2KFyPwnU1QM3MzMzMjDVApHA9CtejNUB7FK5H4bo1QFK4HoXr0TVAKVyPwvXoNUAAAAAAAAA2QA==\",\"dtype\":\"float64\",\"shape\":[20]},\"top\":{\"__ndarray__\":\"AAAAAAAAAAB6HMdxHMcBQCnHcRzHcew/t6qqqqqq+j8HAAAAAADwPynHcRzHcew/ehzHcRzH4T8px3Ecx3HcP3ocx3Ecx/E/7cVxHMdxvD8px3Ecx3HcP19VVVVVVdU/ehzHcRzH4T9fVVVVVVXVPynHcRzHccw/AAAAAAAAAAApx3Ecx3HMPynHcRzHcbw/AAAAAAAAAAAAAAAAAAAAAA==\",\"dtype\":\"float64\",\"shape\":[20]}}},\"id\":\"d5394059-331f-4036-ae28-3441b6e8d2a8\",\"type\":\"ColumnDataSource\"},{\"attributes\":{},\"id\":\"afd1e18e-2688-4dbd-9f68-9ef3a6a38766\",\"type\":\"BasicTicker\"},{\"attributes\":{\"below\":[{\"id\":\"c9e35d25-144f-40f4-9add-fa38141802cf\",\"type\":\"LinearAxis\"}],\"left\":[{\"id\":\"295f827f-52cf-4c91-885b-a9074e721429\",\"type\":\"LinearAxis\"}],\"plot_height\":400,\"plot_width\":400,\"renderers\":[{\"id\":\"c9e35d25-144f-40f4-9add-fa38141802cf\",\"type\":\"LinearAxis\"},{\"id\":\"4c291fd7-5eef-4c0e-94c9-e41acf3768e6\",\"type\":\"Grid\"},{\"id\":\"295f827f-52cf-4c91-885b-a9074e721429\",\"type\":\"LinearAxis\"},{\"id\":\"7457a8a6-afb4-4d2e-b7f0-50afbf3181af\",\"type\":\"Grid\"},{\"id\":\"420cc582-a5e4-4b02-9a3b-e209e89c18e8\",\"type\":\"BoxAnnotation\"},{\"id\":\"1c249e0f-2498-4580-926f-5376946bf176\",\"type\":\"GlyphRenderer\"}],\"title\":{\"id\":\"6efc4e3d-9ad5-416a-8a03-5eb88b303ef3\",\"type\":\"Title\"},\"tool_events\":{\"id\":\"121083f4-594e-4bd2-8360-63e046a54088\",\"type\":\"ToolEvents\"},\"toolbar\":{\"id\":\"a7e4a5a4-e374-47db-a40e-84907831ec71\",\"type\":\"Toolbar\"},\"x_range\":{\"id\":\"36756e86-a253-4c95-b05d-fa6bf2889806\",\"type\":\"DataRange1d\"},\"y_range\":{\"id\":\"bc261bc0-65ca-4d4b-af2b-49da3f51eedb\",\"type\":\"DataRange1d\"}},\"id\":\"8f0b9e1f-67d9-4298-9d98-c66b109d2c47\",\"subtype\":\"Figure\",\"type\":\"Plot\"},{\"attributes\":{\"plot\":{\"id\":\"8f0b9e1f-67d9-4298-9d98-c66b109d2c47\",\"subtype\":\"Figure\",\"type\":\"Plot\"},\"ticker\":{\"id\":\"afd1e18e-2688-4dbd-9f68-9ef3a6a38766\",\"type\":\"BasicTicker\"}},\"id\":\"4c291fd7-5eef-4c0e-94c9-e41acf3768e6\",\"type\":\"Grid\"},{\"attributes\":{\"formatter\":{\"id\":\"199fa3b8-404a-4917-9d1c-a40d4f115f4d\",\"type\":\"BasicTickFormatter\"},\"plot\":{\"id\":\"8f0b9e1f-67d9-4298-9d98-c66b109d2c47\",\"subtype\":\"Figure\",\"type\":\"Plot\"},\"ticker\":{\"id\":\"3397f610-1e18-4020-b1fc-ec72c1997f38\",\"type\":\"BasicTicker\"}},\"id\":\"295f827f-52cf-4c91-885b-a9074e721429\",\"type\":\"LinearAxis\"},{\"attributes\":{\"plot\":null,\"text\":\"H100 NHI\"},\"id\":\"6efc4e3d-9ad5-416a-8a03-5eb88b303ef3\",\"type\":\"Title\"},{\"attributes\":{\"bottom_units\":\"screen\",\"fill_alpha\":{\"value\":0.5},\"fill_color\":{\"value\":\"lightgrey\"},\"left_units\":\"screen\",\"level\":\"overlay\",\"line_alpha\":{\"value\":1.0},\"line_color\":{\"value\":\"black\"},\"line_dash\":[4,4],\"line_width\":{\"value\":2},\"plot\":null,\"render_mode\":\"css\",\"right_units\":\"screen\",\"top_units\":\"screen\"},\"id\":\"420cc582-a5e4-4b02-9a3b-e209e89c18e8\",\"type\":\"BoxAnnotation\"},{\"attributes\":{\"data_source\":{\"id\":\"ccd2d7a1-f78b-4d0a-a2f4-8a70df8e520d\",\"type\":\"ColumnDataSource\"},\"glyph\":{\"id\":\"369def01-8dd7-4485-b2f8-85d6fa4c3d2a\",\"type\":\"Quad\"},\"hover_glyph\":null,\"muted_glyph\":null,\"nonselection_glyph\":{\"id\":\"1df7f47b-6110-4e56-a073-41b6457f1e85\",\"type\":\"Quad\"},\"selection_glyph\":null},\"id\":\"7f8f0d2e-d70e-4d3e-b2dd-94132d937e8d\",\"type\":\"GlyphRenderer\"},{\"attributes\":{},\"id\":\"199fa3b8-404a-4917-9d1c-a40d4f115f4d\",\"type\":\"BasicTickFormatter\"},{\"attributes\":{\"plot\":{\"id\":\"903c5d78-9b8e-4d86-b164-3f6d6f980bce\",\"subtype\":\"Figure\",\"type\":\"Plot\"}},\"id\":\"84013b8d-db49-459e-82ba-943512f193c0\",\"type\":\"PanTool\"},{\"attributes\":{\"bottom_units\":\"screen\",\"fill_alpha\":{\"value\":0.5},\"fill_color\":{\"value\":\"lightgrey\"},\"left_units\":\"screen\",\"level\":\"overlay\",\"line_alpha\":{\"value\":1.0},\"line_color\":{\"value\":\"black\"},\"line_dash\":[4,4],\"line_width\":{\"value\":2},\"plot\":null,\"render_mode\":\"css\",\"right_units\":\"screen\",\"top_units\":\"screen\"},\"id\":\"96fd1f83-fed7-42e8-9f07-62e4f4291788\",\"type\":\"BoxAnnotation\"},{\"attributes\":{\"active_drag\":\"auto\",\"active_scroll\":\"auto\",\"active_tap\":\"auto\",\"tools\":[{\"id\":\"b0f9c8d9-f5d4-4b2c-8359-686c7393eae3\",\"type\":\"PanTool\"},{\"id\":\"8a91bcd5-e53a-4367-9155-4f6703cd1a0e\",\"type\":\"WheelZoomTool\"},{\"id\":\"6145fb5a-77bb-4bb1-a3ad-0bca908c616c\",\"type\":\"BoxZoomTool\"},{\"id\":\"5dc84917-42b9-4fbc-8147-4dbb28abadc6\",\"type\":\"SaveTool\"},{\"id\":\"2198378f-4658-4426-84fb-bbc2fb1f920b\",\"type\":\"ResetTool\"},{\"id\":\"177d664d-c76c-44c8-aa0d-0f92e8a0da17\",\"type\":\"HelpTool\"}]},\"id\":\"a7e4a5a4-e374-47db-a40e-84907831ec71\",\"type\":\"Toolbar\"},{\"attributes\":{\"bottom\":{\"value\":0},\"fill_alpha\":{\"value\":0.1},\"fill_color\":{\"value\":\"#1f77b4\"},\"left\":{\"field\":\"left\"},\"line_alpha\":{\"value\":0.1},\"line_color\":{\"value\":\"#1f77b4\"},\"right\":{\"field\":\"right\"},\"top\":{\"field\":\"top\"}},\"id\":\"4a0f6052-92dd-476b-85bb-eab90674a61e\",\"type\":\"Quad\"},{\"attributes\":{\"bottom\":{\"value\":0},\"fill_color\":{\"value\":\"red\"},\"left\":{\"field\":\"left\"},\"line_color\":{\"value\":\"#1f77b4\"},\"right\":{\"field\":\"right\"},\"top\":{\"field\":\"top\"}},\"id\":\"369def01-8dd7-4485-b2f8-85d6fa4c3d2a\",\"type\":\"Quad\"},{\"attributes\":{\"bottom\":{\"value\":0},\"fill_alpha\":{\"value\":0.1},\"fill_color\":{\"value\":\"#1f77b4\"},\"left\":{\"field\":\"left\"},\"line_alpha\":{\"value\":0.1},\"line_color\":{\"value\":\"#1f77b4\"},\"right\":{\"field\":\"right\"},\"top\":{\"field\":\"top\"}},\"id\":\"1df7f47b-6110-4e56-a073-41b6457f1e85\",\"type\":\"Quad\"},{\"attributes\":{},\"id\":\"9a2ed374-99c9-4c18-968b-0cac02d001f2\",\"type\":\"BasicTickFormatter\"},{\"attributes\":{\"dimension\":1,\"plot\":{\"id\":\"903c5d78-9b8e-4d86-b164-3f6d6f980bce\",\"subtype\":\"Figure\",\"type\":\"Plot\"},\"ticker\":{\"id\":\"a4d7bbb4-9720-4b7e-9bd0-5dcd8ec5818e\",\"type\":\"BasicTicker\"}},\"id\":\"5e5b9f53-b04e-4bfc-8a46-0fb012674e61\",\"type\":\"Grid\"},{\"attributes\":{},\"id\":\"a4d7bbb4-9720-4b7e-9bd0-5dcd8ec5818e\",\"type\":\"BasicTicker\"},{\"attributes\":{\"formatter\":{\"id\":\"176e7f7d-785f-439b-a68c-d8487c205d66\",\"type\":\"BasicTickFormatter\"},\"plot\":{\"id\":\"903c5d78-9b8e-4d86-b164-3f6d6f980bce\",\"subtype\":\"Figure\",\"type\":\"Plot\"},\"ticker\":{\"id\":\"a4d7bbb4-9720-4b7e-9bd0-5dcd8ec5818e\",\"type\":\"BasicTicker\"}},\"id\":\"8fb2989e-b9bb-4144-b1fc-92d9d681a1b9\",\"type\":\"LinearAxis\"},{\"attributes\":{\"callback\":null,\"column_names\":[\"left\",\"right\",\"top\"],\"data\":{\"left\":{\"__ndarray__\":\"mpmZmZmZ+T9SuB6F61H8PwrXo3A9Cv8/4noUrkfhAEA+CtejcD0CQJqZmZmZmQNA9ihcj8L1BEBSuB6F61EGQK5H4XoUrgdACtejcD0KCUBmZmZmZmYKQML1KFyPwgtAH4XrUbgeDUB7FK5H4XoOQNejcD0K1w9AmpmZmZmZEEBI4XoUrkcRQPYoXI/C9RFApHA9CtejEkBSuB6F61ETQA==\",\"dtype\":\"float64\",\"shape\":[20]},\"right\":{\"__ndarray__\":\"UrgehetR/D8K16NwPQr/P+J6FK5H4QBAPgrXo3A9AkCamZmZmZkDQPYoXI/C9QRAUrgehetRBkCuR+F6FK4HQArXo3A9CglAZmZmZmZmCkDC9Shcj8ILQB+F61G4Hg1AexSuR+F6DkDXo3A9CtcPQJqZmZmZmRBASOF6FK5HEUD2KFyPwvURQKRwPQrXoxJAUrgehetRE0AAAAAAAAAUQA==\",\"dtype\":\"float64\",\"shape\":[20]},\"top\":{\"__ndarray__\":\"xXM9ZP9rrj9baKaefwPTP01opp5/A+M/xXM9ZP9rzj/Fcz1k/2veP8VzPWT/a94/1BYui//Q1j9baKaefwPjP0zFtXd/nto/H5FiqL8c4T/Fcz1k/2vOP69zPWT/a64/xXM9ZP9rzj/UFi6L/9DGP01opp5/A9M/W2imnn8D0z/UFi6L/9DWPwAAAAAAAAAA1BYui//Qxj8AAAAAAAAAAA==\",\"dtype\":\"float64\",\"shape\":[20]}}},\"id\":\"ccd2d7a1-f78b-4d0a-a2f4-8a70df8e520d\",\"type\":\"ColumnDataSource\"},{\"attributes\":{\"plot\":{\"id\":\"903c5d78-9b8e-4d86-b164-3f6d6f980bce\",\"subtype\":\"Figure\",\"type\":\"Plot\"},\"ticker\":{\"id\":\"a2bb3b49-9f09-4776-a5df-8dba73c2fda7\",\"type\":\"BasicTicker\"}},\"id\":\"73e64345-7460-43a4-9644-64ae4af1c899\",\"type\":\"Grid\"},{\"attributes\":{},\"id\":\"a2bb3b49-9f09-4776-a5df-8dba73c2fda7\",\"type\":\"BasicTicker\"},{\"attributes\":{\"below\":[{\"id\":\"d18a4ccc-3fd0-4cb8-99cd-f1fa9fe660ed\",\"type\":\"LinearAxis\"}],\"left\":[{\"id\":\"8fb2989e-b9bb-4144-b1fc-92d9d681a1b9\",\"type\":\"LinearAxis\"}],\"plot_height\":400,\"plot_width\":400,\"renderers\":[{\"id\":\"d18a4ccc-3fd0-4cb8-99cd-f1fa9fe660ed\",\"type\":\"LinearAxis\"},{\"id\":\"73e64345-7460-43a4-9644-64ae4af1c899\",\"type\":\"Grid\"},{\"id\":\"8fb2989e-b9bb-4144-b1fc-92d9d681a1b9\",\"type\":\"LinearAxis\"},{\"id\":\"5e5b9f53-b04e-4bfc-8a46-0fb012674e61\",\"type\":\"Grid\"},{\"id\":\"96fd1f83-fed7-42e8-9f07-62e4f4291788\",\"type\":\"BoxAnnotation\"},{\"id\":\"7f8f0d2e-d70e-4d3e-b2dd-94132d937e8d\",\"type\":\"GlyphRenderer\"}],\"title\":{\"id\":\"085a3563-19ca-4d47-b8b6-7b724da353e5\",\"type\":\"Title\"},\"tool_events\":{\"id\":\"9a5cb9b4-de91-4af6-8efb-caee0798604a\",\"type\":\"ToolEvents\"},\"toolbar\":{\"id\":\"3ceaa278-3892-4240-a456-baf6b586a63f\",\"type\":\"Toolbar\"},\"x_range\":{\"id\":\"3ea8b70b-f4bd-49d1-aade-0d83b795bac8\",\"type\":\"DataRange1d\"},\"y_range\":{\"id\":\"de245bac-258b-4232-8bec-3088e9b60072\",\"type\":\"DataRange1d\"}},\"id\":\"903c5d78-9b8e-4d86-b164-3f6d6f980bce\",\"subtype\":\"Figure\",\"type\":\"Plot\"},{\"attributes\":{\"callback\":null},\"id\":\"de245bac-258b-4232-8bec-3088e9b60072\",\"type\":\"DataRange1d\"},{\"attributes\":{},\"id\":\"9a5cb9b4-de91-4af6-8efb-caee0798604a\",\"type\":\"ToolEvents\"},{\"attributes\":{\"plot\":null,\"text\":\"H100 z\"},\"id\":\"085a3563-19ca-4d47-b8b6-7b724da353e5\",\"type\":\"Title\"},{\"attributes\":{\"plot\":{\"id\":\"8f0b9e1f-67d9-4298-9d98-c66b109d2c47\",\"subtype\":\"Figure\",\"type\":\"Plot\"}},\"id\":\"177d664d-c76c-44c8-aa0d-0f92e8a0da17\",\"type\":\"HelpTool\"},{\"attributes\":{\"callback\":null},\"id\":\"3ea8b70b-f4bd-49d1-aade-0d83b795bac8\",\"type\":\"DataRange1d\"},{\"attributes\":{\"overlay\":{\"id\":\"420cc582-a5e4-4b02-9a3b-e209e89c18e8\",\"type\":\"BoxAnnotation\"},\"plot\":{\"id\":\"8f0b9e1f-67d9-4298-9d98-c66b109d2c47\",\"subtype\":\"Figure\",\"type\":\"Plot\"}},\"id\":\"6145fb5a-77bb-4bb1-a3ad-0bca908c616c\",\"type\":\"BoxZoomTool\"},{\"attributes\":{\"plot\":{\"id\":\"8f0b9e1f-67d9-4298-9d98-c66b109d2c47\",\"subtype\":\"Figure\",\"type\":\"Plot\"}},\"id\":\"8a91bcd5-e53a-4367-9155-4f6703cd1a0e\",\"type\":\"WheelZoomTool\"},{\"attributes\":{\"plot\":{\"id\":\"8f0b9e1f-67d9-4298-9d98-c66b109d2c47\",\"subtype\":\"Figure\",\"type\":\"Plot\"}},\"id\":\"2198378f-4658-4426-84fb-bbc2fb1f920b\",\"type\":\"ResetTool\"},{\"attributes\":{\"plot\":{\"id\":\"8f0b9e1f-67d9-4298-9d98-c66b109d2c47\",\"subtype\":\"Figure\",\"type\":\"Plot\"}},\"id\":\"b0f9c8d9-f5d4-4b2c-8359-686c7393eae3\",\"type\":\"PanTool\"},{\"attributes\":{\"axis_label\":\"z_DLA\",\"formatter\":{\"id\":\"9a2ed374-99c9-4c18-968b-0cac02d001f2\",\"type\":\"BasicTickFormatter\"},\"plot\":{\"id\":\"903c5d78-9b8e-4d86-b164-3f6d6f980bce\",\"subtype\":\"Figure\",\"type\":\"Plot\"},\"ticker\":{\"id\":\"a2bb3b49-9f09-4776-a5df-8dba73c2fda7\",\"type\":\"BasicTicker\"}},\"id\":\"d18a4ccc-3fd0-4cb8-99cd-f1fa9fe660ed\",\"type\":\"LinearAxis\"},{\"attributes\":{\"data_source\":{\"id\":\"d5394059-331f-4036-ae28-3441b6e8d2a8\",\"type\":\"ColumnDataSource\"},\"glyph\":{\"id\":\"136182dd-e39e-4f7b-9cbd-9d37b16cb03f\",\"type\":\"Quad\"},\"hover_glyph\":null,\"muted_glyph\":null,\"nonselection_glyph\":{\"id\":\"4a0f6052-92dd-476b-85bb-eab90674a61e\",\"type\":\"Quad\"},\"selection_glyph\":null},\"id\":\"1c249e0f-2498-4580-926f-5376946bf176\",\"type\":\"GlyphRenderer\"},{\"attributes\":{},\"id\":\"121083f4-594e-4bd2-8360-63e046a54088\",\"type\":\"ToolEvents\"},{\"attributes\":{},\"id\":\"3397f610-1e18-4020-b1fc-ec72c1997f38\",\"type\":\"BasicTicker\"},{\"attributes\":{\"dimension\":1,\"plot\":{\"id\":\"8f0b9e1f-67d9-4298-9d98-c66b109d2c47\",\"subtype\":\"Figure\",\"type\":\"Plot\"},\"ticker\":{\"id\":\"3397f610-1e18-4020-b1fc-ec72c1997f38\",\"type\":\"BasicTicker\"}},\"id\":\"7457a8a6-afb4-4d2e-b7f0-50afbf3181af\",\"type\":\"Grid\"},{\"attributes\":{\"callback\":null},\"id\":\"36756e86-a253-4c95-b05d-fa6bf2889806\",\"type\":\"DataRange1d\"}],\"root_ids\":[\"39e5c530-2517-4014-9d34-b88e209f5431\"]},\"title\":\"Bokeh Application\",\"version\":\"0.12.5\"}};\n",
       "            var render_items = [{\"docid\":\"7c3f50dd-81c1-4bcb-8a6e-0a7997ae6215\",\"elementid\":\"90d6391a-9384-41c0-b859-d46be3997a2a\",\"modelid\":\"39e5c530-2517-4014-9d34-b88e209f5431\"}];\n",
       "            \n",
       "            Bokeh.embed.embed_items(docs_json, render_items);\n",
       "          };\n",
       "          if (document.readyState != \"loading\") fn();\n",
       "          else document.addEventListener(\"DOMContentLoaded\", fn);\n",
       "        })();\n",
       "      },\n",
       "      function(Bokeh) {\n",
       "      }\n",
       "    ];\n",
       "  \n",
       "    function run_inline_js() {\n",
       "      \n",
       "      if ((window.Bokeh !== undefined) || (force === true)) {\n",
       "        for (var i = 0; i < inline_js.length; i++) {\n",
       "          inline_js[i](window.Bokeh);\n",
       "        }if (force === true) {\n",
       "          display_loaded();\n",
       "        }} else if (Date.now() < window._bokeh_timeout) {\n",
       "        setTimeout(run_inline_js, 100);\n",
       "      } else if (!window._bokeh_failed_load) {\n",
       "        console.log(\"Bokeh: BokehJS failed to load within specified timeout.\");\n",
       "        window._bokeh_failed_load = true;\n",
       "      } else if (force !== true) {\n",
       "        var cell = $(document.getElementById(\"90d6391a-9384-41c0-b859-d46be3997a2a\")).parents('.cell').data().cell;\n",
       "        cell.output_area.append_execute_result(NB_LOAD_WARNING)\n",
       "      }\n",
       "  \n",
       "    }\n",
       "  \n",
       "    if (window._bokeh_is_loading === 0) {\n",
       "      console.log(\"Bokeh: BokehJS loaded, going straight to plotting\");\n",
       "      run_inline_js();\n",
       "    } else {\n",
       "      load_libs(js_urls, function() {\n",
       "        console.log(\"Bokeh: BokehJS plotting callback run at\", now());\n",
       "        run_inline_js();\n",
       "      });\n",
       "    }\n",
       "  }(this));\n",
       "</script>"
      ]
     },
     "metadata": {},
     "output_type": "display_data"
    }
   ],
   "source": [
    "# NHI\n",
    "p_NHI = figure(plot_width=400, plot_height=400, title='H100 NHI')#,background_fill=\"#E8DDCB\")\n",
    "hist, edges = np.histogram(h100.NHI, range=(20.2, 22), density=True, bins=20)\n",
    "p_NHI.quad(top=hist, bottom=0, left=edges[:-1], right=edges[1:],fill_color='blue')\n",
    "p_NHI.xaxis.axis_label = 'N_HI'\n",
    "# z\n",
    "p_z = figure(plot_width=400, plot_height=400, title='H100 z')#,background_fill=\"#E8DDCB\")\n",
    "hist, edges = np.histogram(h100.zabs, range=(1.6, 5.0), density=True, bins=20)\n",
    "p_z.quad(top=hist, bottom=0, left=edges[:-1], right=edges[1:],fill_color='red')\n",
    "p_z.xaxis.axis_label = 'z_DLA'\n",
    "# Show\n",
    "show(row(p_NHI,p_z))"
   ]
  },
  {
   "cell_type": "markdown",
   "metadata": {},
   "source": [
    "----"
   ]
  },
  {
   "cell_type": "markdown",
   "metadata": {},
   "source": [
    "## SDSS DLAs (DR5) -- Prochaska & Wolfe 2009, ApJ, 696, 1543"
   ]
  },
  {
   "cell_type": "markdown",
   "metadata": {},
   "source": [
    "### Load"
   ]
  },
  {
   "cell_type": "code",
   "execution_count": 14,
   "metadata": {},
   "outputs": [
    {
     "name": "stdout",
     "output_type": "stream",
     "text": [
      "SDSS-DR5: Loading DLA file /home/xavier/local/Python/pyigm/pyigm/data/DLA/SDSS_DR5/dr5_alldla.fits.gz\n",
      "SDSS-DR5: Loading QSOs file /home/xavier/local/Python/pyigm/pyigm/data/DLA/SDSS_DR5/dr5_dlagz_s2n4.fits\n"
     ]
    },
    {
     "data": {
      "text/plain": [
       "<IGMSurvey: nsys=1182, type=DLA, ref=SDSS-DR5 (PW09), nsightlines=7482>"
      ]
     },
     "execution_count": 14,
     "metadata": {},
     "output_type": "execute_result"
    }
   ],
   "source": [
    "sdss = DLASurvey.load_SDSS_DR5(sample='all')\n",
    "sdss"
   ]
  },
  {
   "cell_type": "code",
   "execution_count": 15,
   "metadata": {},
   "outputs": [
    {
     "name": "stdout",
     "output_type": "stream",
     "text": [
      "SDSS-DR5: Loading DLA file /home/xavier/local/Python/pyigm/pyigm/data/DLA/SDSS_DR5/dr5_alldla.fits.gz\n",
      "SDSS-DR5: Loading QSOs file /home/xavier/local/Python/pyigm/pyigm/data/DLA/SDSS_DR5/dr5_dlagz_s2n4.fits\n",
      "SDSS-DR5: Performing stats\n"
     ]
    },
    {
     "name": "stderr",
     "output_type": "stream",
     "text": [
      "/home/xavier/local/Python/pyigm/pyigm/surveys/dlasurvey.py:988: UserWarning: Resetting mask to None.  Be careful here\n",
      "  warnings.warn(\"Resetting mask to None.  Be careful here\")\n"
     ]
    },
    {
     "name": "stdout",
     "output_type": "stream",
     "text": [
      "SDSS-DR5: Loaded\n"
     ]
    },
    {
     "data": {
      "text/plain": [
       "<IGMSurvey: nsys=737, type=DLA, ref=SDSS-DR5 (PW09), nsightlines=7482>"
      ]
     },
     "execution_count": 15,
     "metadata": {},
     "output_type": "execute_result"
    }
   ],
   "source": [
    "sdss_stat = DLASurvey.load_SDSS_DR5()\n",
    "sdss_stat"
   ]
  },
  {
   "cell_type": "code",
   "execution_count": 16,
   "metadata": {},
   "outputs": [
    {
     "data": {
      "text/html": [
       "&lt;QTable length=5&gt;\n",
       "<table id=\"table140493763074256\" class=\"table-striped table-bordered table-condensed\">\n",
       "<thead><tr><th>PLATE</th><th>FIB</th><th>RA</th><th>DEC</th><th>FLG_BAL</th><th>IQSO</th><th>MAG</th><th>S2N</th><th>Z_START</th><th>Z_END</th><th>ZEM</th><th>DX</th></tr></thead>\n",
       "<thead><tr><th></th><th></th><th>deg</th><th>deg</th><th></th><th></th><th></th><th></th><th></th><th></th><th></th><th></th></tr></thead>\n",
       "<thead><tr><th>int32</th><th>int32</th><th>float64</th><th>float64</th><th>int16</th><th>int32</th><th>float64</th><th>float64</th><th>float64</th><th>float64</th><th>float64</th><th>float64</th></tr></thead>\n",
       "<tr><td>266</td><td>5</td><td>146.93861</td><td>-0.68701194</td><td>1</td><td>0</td><td>19.341999054</td><td>4.94595003128</td><td>2.39664643878</td><td>2.74649000168</td><td>2.8287498951</td><td>1.17426266257</td></tr>\n",
       "<tr><td>266</td><td>92</td><td>146.22601</td><td>-0.72509875</td><td>0</td><td>4</td><td>19.0820007324</td><td>8.54980564117</td><td>2.20000004768</td><td>2.25759506226</td><td>2.29049992561</td><td>0.184012498912</td></tr>\n",
       "<tr><td>270</td><td>254</td><td>152.23239</td><td>-0.97123272</td><td>0</td><td>9</td><td>19.0230007172</td><td>7.49763822556</td><td>2.30636157714</td><td>3.0556242466</td><td>3.09659004211</td><td>2.56581152274</td></tr>\n",
       "<tr><td>271</td><td>391</td><td>154.14992</td><td>0.14750838</td><td>0</td><td>16</td><td>18.0650005341</td><td>18.982629776</td><td>2.20000004768</td><td>2.25551605225</td><td>2.28839993477</td><td>0.177634457341</td></tr>\n",
       "<tr><td>271</td><td>166</td><td>154.45375</td><td>-0.52347949</td><td>0</td><td>17</td><td>18.9650001526</td><td>10.8409719467</td><td>2.20000004768</td><td>2.25027894974</td><td>2.28310990334</td><td>0.158514320617</td></tr>\n",
       "</table>"
      ],
      "text/plain": [
       "<QTable length=5>\n",
       "PLATE  FIB      RA        DEC     ...     Z_END          ZEM            DX      \n",
       "               deg        deg     ...                                           \n",
       "int32 int32  float64    float64   ...    float64       float64       float64    \n",
       "----- ----- --------- ----------- ... ------------- ------------- --------------\n",
       "  266     5 146.93861 -0.68701194 ... 2.74649000168  2.8287498951  1.17426266257\n",
       "  266    92 146.22601 -0.72509875 ... 2.25759506226 2.29049992561 0.184012498912\n",
       "  270   254 152.23239 -0.97123272 ...  3.0556242466 3.09659004211  2.56581152274\n",
       "  271   391 154.14992  0.14750838 ... 2.25551605225 2.28839993477 0.177634457341\n",
       "  271   166 154.45375 -0.52347949 ... 2.25027894974 2.28310990334 0.158514320617"
      ]
     },
     "execution_count": 16,
     "metadata": {},
     "output_type": "execute_result"
    }
   ],
   "source": [
    "sdss_stat.sightlines[0:5]"
   ]
  },
  {
   "cell_type": "markdown",
   "metadata": {},
   "source": [
    "### $g(z)$"
   ]
  },
  {
   "cell_type": "code",
   "execution_count": null,
   "metadata": {
    "collapsed": true
   },
   "outputs": [],
   "source": [
    "zeval, gz = sdss_stat.calculate_gz()"
   ]
  },
  {
   "cell_type": "code",
   "execution_count": null,
   "metadata": {},
   "outputs": [],
   "source": [
    "plt.clf()\n",
    "plt.plot(zeval, gz)\n",
    "plt.xlabel('z')\n",
    "plt.ylabel('g(z)')\n",
    "plt.show()"
   ]
  },
  {
   "cell_type": "markdown",
   "metadata": {},
   "source": [
    "### Binned stats"
   ]
  },
  {
   "cell_type": "markdown",
   "metadata": {},
   "source": [
    "#### $\\ell(X)$"
   ]
  },
  {
   "cell_type": "code",
   "execution_count": null,
   "metadata": {
    "collapsed": true
   },
   "outputs": [],
   "source": [
    "lX, lX_lo, lX_hi= sdss_stat.binned_lox([2., 2.5, 3])"
   ]
  },
  {
   "cell_type": "code",
   "execution_count": null,
   "metadata": {},
   "outputs": [],
   "source": [
    "lX, lX_lo, lX_hi"
   ]
  },
  {
   "cell_type": "markdown",
   "metadata": {},
   "source": [
    "#### $\\rho_{\\rm HI}$"
   ]
  },
  {
   "cell_type": "code",
   "execution_count": null,
   "metadata": {
    "collapsed": true
   },
   "outputs": [],
   "source": [
    "rho, rho_lo, rho_hi = sdss_stat.binned_rhoHI([2., 2.5, 3.], (20.3,23.))"
   ]
  },
  {
   "cell_type": "code",
   "execution_count": null,
   "metadata": {},
   "outputs": [],
   "source": [
    "rho/1e8, rho_lo, rho_hi"
   ]
  },
  {
   "cell_type": "markdown",
   "metadata": {},
   "source": [
    "#### $f(N,X)$"
   ]
  },
  {
   "cell_type": "code",
   "execution_count": null,
   "metadata": {
    "collapsed": true
   },
   "outputs": [],
   "source": [
    "fN, fN_lo, fN_hi = sdss_stat.binned_fn([20.3, 20.5, 21., 21.5, 22.], [2, 2.5], log=True)"
   ]
  },
  {
   "cell_type": "code",
   "execution_count": null,
   "metadata": {},
   "outputs": [],
   "source": [
    "fN, fN_lo, fN_hi"
   ]
  },
  {
   "cell_type": "markdown",
   "metadata": {},
   "source": [
    "### Peroux03  (Peroux et al. 2003, MNRAS, 346, 1103)"
   ]
  },
  {
   "cell_type": "code",
   "execution_count": null,
   "metadata": {},
   "outputs": [],
   "source": [
    "p03_statdla = DLASurvey.load_P03()#sample='all')\n",
    "p03_statdla"
   ]
  },
  {
   "cell_type": "markdown",
   "metadata": {},
   "source": [
    "### Guimaraes et al. 2009"
   ]
  },
  {
   "cell_type": "code",
   "execution_count": null,
   "metadata": {},
   "outputs": [],
   "source": [
    "g09_statdla = DLASurvey.load_G09()#sample='all')\n",
    "g09_statdla"
   ]
  },
  {
   "cell_type": "code",
   "execution_count": null,
   "metadata": {
    "collapsed": true
   },
   "outputs": [],
   "source": [
    "zeval, gz = g09_statdla.calculate_gz()"
   ]
  },
  {
   "cell_type": "code",
   "execution_count": null,
   "metadata": {},
   "outputs": [],
   "source": [
    "plt.clf()\n",
    "plt.plot(zeval, gz)\n",
    "plt.xlabel('z')\n",
    "plt.ylabel('g(z)')\n",
    "plt.show()\n",
    "plt.close()"
   ]
  },
  {
   "cell_type": "markdown",
   "metadata": {},
   "source": [
    "## GGG (Crighton et al. 2015, MNRAS, 452, 217)"
   ]
  },
  {
   "cell_type": "code",
   "execution_count": null,
   "metadata": {},
   "outputs": [],
   "source": [
    "ggg = DLASurvey.load_GGG()"
   ]
  },
  {
   "cell_type": "code",
   "execution_count": null,
   "metadata": {},
   "outputs": [],
   "source": [
    "ggg"
   ]
  },
  {
   "cell_type": "markdown",
   "metadata": {},
   "source": [
    "### XQ-100 (Sanchez-Ramirez et al. 2016, MNRAS, 456, 4488)"
   ]
  },
  {
   "cell_type": "code",
   "execution_count": null,
   "metadata": {},
   "outputs": [],
   "source": [
    "xq100_statdla = DLASurvey.load_XQ100()\n",
    "xq100_statdla"
   ]
  },
  {
   "cell_type": "markdown",
   "metadata": {},
   "source": [
    "#### $g(z)$"
   ]
  },
  {
   "cell_type": "code",
   "execution_count": null,
   "metadata": {
    "collapsed": true
   },
   "outputs": [],
   "source": [
    "zeval, gz = xq100_statdla.calculate_gz()"
   ]
  },
  {
   "cell_type": "code",
   "execution_count": null,
   "metadata": {},
   "outputs": [],
   "source": [
    "plt.clf()\n",
    "plt.plot(zeval, gz)\n",
    "plt.xlabel('z')\n",
    "plt.ylabel('g(z)')\n",
    "plt.show()\n",
    "plt.close()"
   ]
  },
  {
   "cell_type": "markdown",
   "metadata": {},
   "source": [
    "## HST -- (Neeleman et al. 2016)"
   ]
  },
  {
   "cell_type": "code",
   "execution_count": null,
   "metadata": {},
   "outputs": [],
   "source": [
    "hst16 = DLASurvey.load_HST16()\n",
    "hst16"
   ]
  },
  {
   "cell_type": "code",
   "execution_count": null,
   "metadata": {},
   "outputs": [],
   "source": [
    "hst16_all = DLASurvey.load_HST16(sample='all')  # Includes MgII-selected DLAs\n",
    "hst16_all"
   ]
  },
  {
   "cell_type": "markdown",
   "metadata": {},
   "source": [
    "## Fitted quantities"
   ]
  },
  {
   "cell_type": "code",
   "execution_count": null,
   "metadata": {
    "collapsed": true
   },
   "outputs": [],
   "source": [
    "dlas = DLASurvey()"
   ]
  },
  {
   "cell_type": "code",
   "execution_count": null,
   "metadata": {},
   "outputs": [],
   "source": [
    "# f(N)\n",
    "dlas.fitted_fN(21.)  # This is not currently normalized"
   ]
  },
  {
   "cell_type": "code",
   "execution_count": null,
   "metadata": {},
   "outputs": [],
   "source": [
    "# l(z)\n",
    "dlas.fitted_lz(1.)"
   ]
  },
  {
   "cell_type": "code",
   "execution_count": null,
   "metadata": {
    "collapsed": true
   },
   "outputs": [],
   "source": []
  }
 ],
 "metadata": {
  "kernelspec": {
   "display_name": "Python 3",
   "language": "python",
   "name": "python3"
  },
  "language_info": {
   "codemirror_mode": {
    "name": "ipython",
    "version": 3
   },
   "file_extension": ".py",
   "mimetype": "text/x-python",
   "name": "python",
   "nbconvert_exporter": "python",
   "pygments_lexer": "ipython3",
   "version": "3.6.1"
  }
 },
 "nbformat": 4,
 "nbformat_minor": 1
}
