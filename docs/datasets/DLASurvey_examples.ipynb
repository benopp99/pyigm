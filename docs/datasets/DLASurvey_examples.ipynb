{
 "cells": [
  {
   "cell_type": "markdown",
   "metadata": {},
   "source": [
    "# Examples for the DLA Survey Class (v2.0)"
   ]
  },
  {
   "cell_type": "code",
   "execution_count": 1,
   "metadata": {
    "collapsed": true
   },
   "outputs": [],
   "source": [
    "%matplotlib notebook"
   ]
  },
  {
   "cell_type": "code",
   "execution_count": 2,
   "metadata": {},
   "outputs": [
    {
     "name": "stdout",
     "output_type": "stream",
     "text": [
      "read_sets: Using set file -- \n",
      "  /home/xavier/local/Python/linetools/linetools/lists/sets/llist_v1.2.ascii\n",
      "Loading abundances from Asplund2009\n",
      "Abundances are relative by number on a logarithmic scale with H=12\n"
     ]
    }
   ],
   "source": [
    "# imports\n",
    "import imp, os\n",
    "from imp import reload\n",
    "import numpy as np\n",
    "import pdb\n",
    "\n",
    "import datetime\n",
    "\n",
    "from pkg_resources import resource_filename\n",
    "\n",
    "from matplotlib import pyplot as plt\n",
    "\n",
    "from astropy.table import Table\n",
    "\n",
    "from linetools.isgm import utils as ltiu\n",
    "from linetools.lists.linelist import LineList\n",
    "\n",
    "from pyigm.surveys.dlasurvey import DLASurvey\n",
    "from pyigm.surveys import dlasurvey as dlasrv\n",
    "from pyigm.abssys.igmsys import AbsSubSystem"
   ]
  },
  {
   "cell_type": "code",
   "execution_count": 3,
   "metadata": {},
   "outputs": [
    {
     "name": "stdout",
     "output_type": "stream",
     "text": [
      "Loading abundances from Asplund2009\n",
      "Abundances are relative by number on a logarithmic scale with H=12\n"
     ]
    }
   ],
   "source": [
    "ism = LineList('ISM')"
   ]
  },
  {
   "cell_type": "markdown",
   "metadata": {},
   "source": [
    "## Instantiate"
   ]
  },
  {
   "cell_type": "code",
   "execution_count": 4,
   "metadata": {
    "collapsed": true
   },
   "outputs": [],
   "source": [
    "dlas = DLASurvey(ref='null')"
   ]
  },
  {
   "cell_type": "markdown",
   "metadata": {},
   "source": [
    "### H100  (Neeleman, M. et al. 2013, ApJ, 769, 54)"
   ]
  },
  {
   "cell_type": "code",
   "execution_count": 5,
   "metadata": {
    "scrolled": true
   },
   "outputs": [
    {
     "name": "stdout",
     "output_type": "stream",
     "text": [
      "2018-01-10 17:36:14.695075\n",
      "Loading abundances from Asplund2009\n",
      "Abundances are relative by number on a logarithmic scale with H=12\n",
      "H100: Loading summary file /home/xavier/local/Python/pyigm/pyigm/data/DLA/H100/H100_DLA.fits\n",
      "H100: Loading ions file /home/xavier/local/Python/pyigm/pyigm/data/DLA/H100/H100_DLA_ions.json\n",
      "H100: Loading systems.  This takes ~90s\n",
      "Loading systems from /home/xavier/local/Python/pyigm/pyigm/data/DLA/H100/H100_DLA_sys.tar.gz\n",
      "Skipping a likely folder: SYS\n",
      "Loading abundances from Asplund2009\n",
      "Abundances are relative by number on a logarithmic scale with H=12\n",
      "Starting the AbsSystem build.  Be patient..\n"
     ]
    },
    {
     "name": "stderr",
     "output_type": "stream",
     "text": [
      "/home/xavier/local/Python/linetools/linetools/spectralline.py:215: UserWarning: Redshift not input.  Setting to 0 for zLimits\n",
      "  warnings.warn(\"Redshift not input.  Setting to 0 for zLimits\")\n",
      "/home/xavier/local/Python/linetools/linetools/spectralline.py:119: UserWarning: Key mol not in your input dict\n",
      "  warnings.warn(\"Key {:s} not in your input dict\".format(key))\n"
     ]
    },
    {
     "name": "stdout",
     "output_type": "stream",
     "text": [
      "Done!\n",
      "Building the data Table from the internal dict\n",
      "Filling the _ionN tables...\n",
      "All done!!\n",
      "2018-01-10 17:36:28.275363\n"
     ]
    }
   ],
   "source": [
    "reload(dlasrv)\n",
    "print(datetime.datetime.now())\n",
    "h100 = dlasrv.DLASurvey.load_H100()\n",
    "print(datetime.datetime.now())\n",
    "#h100"
   ]
  },
  {
   "cell_type": "code",
   "execution_count": 6,
   "metadata": {},
   "outputs": [
    {
     "data": {
      "text/plain": [
       "'DLA'"
      ]
     },
     "execution_count": 6,
     "metadata": {},
     "output_type": "execute_result"
    }
   ],
   "source": [
    "h100.abs_type"
   ]
  },
  {
   "cell_type": "markdown",
   "metadata": {},
   "source": [
    "#### Metallicity"
   ]
  },
  {
   "cell_type": "code",
   "execution_count": 7,
   "metadata": {},
   "outputs": [
    {
     "data": {
      "text/plain": [
       "array([-1.99, -1.56, -1.2 , -1.68, -1.72, -0.24, -0.64, -1.82, -2.66,\n",
       "       -1.6 , -1.8 , -2.07, -0.83, -1.96, -1.15, -0.61, -0.89, -0.67,\n",
       "       -1.25, -1.68, -1.33, -0.79, -0.38, -1.27, -2.56, -1.88, -1.38,\n",
       "       -2.27, -2.28, -1.11, -1.11, -1.31, -1.75, -0.99, -0.71, -2.54,\n",
       "       -1.83, -2.35, -1.51, -1.68, -2.27, -1.  , -1.9 , -2.38, -1.37,\n",
       "       -1.39, -1.74, -1.39, -1.97, -1.53, -1.65, -1.5 , -1.69, -1.41,\n",
       "       -1.31, -1.83, -1.39, -1.68, -1.49, -0.64, -2.52, -0.47, -0.94,\n",
       "       -1.01, -1.75, -1.54, -0.82, -2.01, -1.08, -1.46, -1.94, -0.75,\n",
       "       -0.27, -1.81, -1.64, -1.54, -0.94, -1.42, -1.65, -1.6 , -2.17,\n",
       "       -0.82, -0.55, -1.54, -0.74, -1.45, -2.25, -1.92, -2.24, -1.69,\n",
       "       -0.7 , -0.72, -0.61, -1.43, -1.08, -0.88, -1.43, -1.49, -1.7 , -1.34])"
      ]
     },
     "execution_count": 7,
     "metadata": {},
     "output_type": "execute_result"
    }
   ],
   "source": [
    "h100.ZH"
   ]
  },
  {
   "cell_type": "markdown",
   "metadata": {},
   "source": [
    "## Simple Attributes"
   ]
  },
  {
   "cell_type": "code",
   "execution_count": 8,
   "metadata": {},
   "outputs": [
    {
     "data": {
      "text/plain": [
       "100"
      ]
     },
     "execution_count": 8,
     "metadata": {},
     "output_type": "execute_result"
    }
   ],
   "source": [
    "h100.nsys"
   ]
  },
  {
   "cell_type": "code",
   "execution_count": 9,
   "metadata": {},
   "outputs": [
    {
     "data": {
      "text/plain": [
       "array([ 20.7 ,  21.1 ,  21.26,  21.41,  21.3 ,  20.38,  20.85,  20.52,\n",
       "        20.3 ,  20.35])"
      ]
     },
     "execution_count": 9,
     "metadata": {},
     "output_type": "execute_result"
    }
   ],
   "source": [
    "h100.NHI[0:10]"
   ]
  },
  {
   "cell_type": "code",
   "execution_count": 10,
   "metadata": {},
   "outputs": [
    {
     "data": {
      "text/plain": [
       "array(['J105122.46+310749.3_z4.139', 'J092914.49+282529.1_z3.263',\n",
       "       'J020346.53+113440.4_z3.387', 'J000322.909-260316.83_z3.390',\n",
       "       'J025518.62+004847.94_z3.915'],\n",
       "      dtype='<U28')"
      ]
     },
     "execution_count": 10,
     "metadata": {},
     "output_type": "execute_result"
    }
   ],
   "source": [
    "h100.name[0:5]"
   ]
  },
  {
   "cell_type": "markdown",
   "metadata": {},
   "source": [
    "## Column Densities"
   ]
  },
  {
   "cell_type": "code",
   "execution_count": null,
   "metadata": {},
   "outputs": [
    {
     "data": {
      "text/html": [
       "&lt;Table length=11&gt;\n",
       "<table id=\"table140390152474808\" class=\"table-striped table-bordered table-condensed\">\n",
       "<thead><tr><th>RA</th><th>DEC</th><th>comp_name</th><th>z_comp</th><th>Z</th><th>ion</th><th>Ej</th><th>vmin</th><th>vmax</th><th>ion_name</th><th>flag_N</th><th>logN</th><th>sig_logN</th><th>b</th><th>sig_b</th><th>vel</th><th>sig_vel</th><th>comment</th><th>reliability</th></tr></thead>\n",
       "<thead><tr><th>deg</th><th>deg</th><th></th><th></th><th></th><th></th><th>1 / cm</th><th>km / s</th><th>km / s</th><th></th><th></th><th></th><th></th><th>km / s</th><th>km / s</th><th>km / s</th><th>km / s</th><th></th><th></th></tr></thead>\n",
       "<thead><tr><th>float64</th><th>float64</th><th>str14</th><th>float64</th><th>int64</th><th>int64</th><th>float64</th><th>float64</th><th>float64</th><th>str4</th><th>int64</th><th>float64</th><th>float64</th><th>float64</th><th>float64</th><th>float64</th><th>float64</th><th>str1</th><th>str4</th></tr></thead>\n",
       "<tr><td>162.843583333</td><td>31.1303611111</td><td>AlII_z4.13920</td><td>4.1392</td><td>13</td><td>2</td><td>0.0</td><td>-120.0</td><td>200.0</td><td>AlII</td><td>2</td><td>12.646</td><td>0.024</td><td>0.0</td><td>0.0</td><td>0.0</td><td>0.0</td><td></td><td>none</td></tr>\n",
       "<tr><td>162.843583333</td><td>31.1303611111</td><td>CII*_z4.13920</td><td>4.1392</td><td>6</td><td>2</td><td>63.42</td><td>-100.0</td><td>170.0</td><td>CII</td><td>3</td><td>13.0142</td><td>0.1448</td><td>0.0</td><td>0.0</td><td>0.0</td><td>0.0</td><td></td><td>none</td></tr>\n",
       "<tr><td>162.843583333</td><td>31.1303611111</td><td>CII_z4.13920</td><td>4.1392</td><td>6</td><td>2</td><td>0.0</td><td>-140.0</td><td>170.0</td><td>CII</td><td>2</td><td>14.767</td><td>0.076</td><td>0.0</td><td>0.0</td><td>0.0</td><td>0.0</td><td></td><td>none</td></tr>\n",
       "<tr><td>162.843583333</td><td>31.1303611111</td><td>CIV_z4.13920</td><td>4.1392</td><td>6</td><td>4</td><td>0.0</td><td>-200.0</td><td>200.0</td><td>CIV</td><td>1</td><td>13.976</td><td>0.012</td><td>0.0</td><td>0.0</td><td>0.0</td><td>0.0</td><td></td><td>none</td></tr>\n",
       "<tr><td>162.843583333</td><td>31.1303611111</td><td>CI_z4.13920</td><td>4.1392</td><td>6</td><td>1</td><td>0.0</td><td>-140.0</td><td>170.0</td><td>CI</td><td>3</td><td>12.875</td><td>0.0</td><td>0.0</td><td>0.0</td><td>0.0</td><td>0.0</td><td></td><td>none</td></tr>\n",
       "<tr><td>162.843583333</td><td>31.1303611111</td><td>FeII_z4.13920</td><td>4.1392</td><td>26</td><td>2</td><td>0.0</td><td>-140.0</td><td>170.0</td><td>FeII</td><td>1</td><td>13.949</td><td>0.033</td><td>0.0</td><td>0.0</td><td>0.0</td><td>0.0</td><td></td><td>none</td></tr>\n",
       "<tr><td>162.843583333</td><td>31.1303611111</td><td>OI_z4.13920</td><td>4.1392</td><td>8</td><td>1</td><td>0.0</td><td>-140.0</td><td>170.0</td><td>OI</td><td>2</td><td>15.044</td><td>0.282</td><td>0.0</td><td>0.0</td><td>0.0</td><td>0.0</td><td></td><td>none</td></tr>\n",
       "<tr><td>162.843583333</td><td>31.1303611111</td><td>SII_z4.13920</td><td>4.1392</td><td>16</td><td>2</td><td>0.0</td><td>-140.0</td><td>100.0</td><td>SII</td><td>1</td><td>13.858</td><td>0.077</td><td>0.0</td><td>0.0</td><td>0.0</td><td>0.0</td><td></td><td>none</td></tr>\n",
       "<tr><td>162.843583333</td><td>31.1303611111</td><td>SiII*_z4.13920</td><td>4.1392</td><td>14</td><td>2</td><td>287.24</td><td>-20.0</td><td>20.0000000001</td><td>SiII</td><td>0</td><td>0.0</td><td>0.0</td><td>0.0</td><td>0.0</td><td>0.0</td><td>0.0</td><td></td><td>none</td></tr>\n",
       "<tr><td>162.843583333</td><td>31.1303611111</td><td>SiII_z4.13920</td><td>4.1392</td><td>14</td><td>2</td><td>0.0</td><td>-140.0</td><td>170.0</td><td>SiII</td><td>1</td><td>14.206</td><td>0.016</td><td>0.0</td><td>0.0</td><td>0.0</td><td>0.0</td><td></td><td>none</td></tr>\n",
       "<tr><td>162.843583333</td><td>31.1303611111</td><td>SiIV_z4.13920</td><td>4.1392</td><td>14</td><td>4</td><td>0.0</td><td>-200.0</td><td>200.0</td><td>SiIV</td><td>1</td><td>13.742</td><td>0.009</td><td>0.0</td><td>0.0</td><td>0.0</td><td>0.0</td><td></td><td>none</td></tr>\n",
       "</table>"
      ],
      "text/plain": [
       "<Table length=11>\n",
       "      RA           DEC        comp_name    ... sig_vel comment reliability\n",
       "     deg           deg                     ...  km / s                    \n",
       "   float64       float64        str14      ... float64   str1      str4   \n",
       "------------- ------------- -------------- ... ------- ------- -----------\n",
       "162.843583333 31.1303611111  AlII_z4.13920 ...     0.0                none\n",
       "162.843583333 31.1303611111  CII*_z4.13920 ...     0.0                none\n",
       "162.843583333 31.1303611111   CII_z4.13920 ...     0.0                none\n",
       "162.843583333 31.1303611111   CIV_z4.13920 ...     0.0                none\n",
       "162.843583333 31.1303611111    CI_z4.13920 ...     0.0                none\n",
       "162.843583333 31.1303611111  FeII_z4.13920 ...     0.0                none\n",
       "162.843583333 31.1303611111    OI_z4.13920 ...     0.0                none\n",
       "162.843583333 31.1303611111   SII_z4.13920 ...     0.0                none\n",
       "162.843583333 31.1303611111 SiII*_z4.13920 ...     0.0                none\n",
       "162.843583333 31.1303611111  SiII_z4.13920 ...     0.0                none\n",
       "162.843583333 31.1303611111  SiIV_z4.13920 ...     0.0                none"
      ]
     },
     "execution_count": 11,
     "metadata": {},
     "output_type": "execute_result"
    }
   ],
   "source": [
    "h100._abs_sys[0]._ionN"
   ]
  },
  {
   "cell_type": "code",
   "execution_count": null,
   "metadata": {},
   "outputs": [
    {
     "name": "stdout",
     "output_type": "stream",
     "text": [
      "> /home/xavier/local/Python/pyigm/pyigm/surveys/igmsurvey.py(494)ions()\n",
      "-> tbl.mask = names == 'MASK_ME'\n",
      "(Pdb) tbl\n",
      "<Table masked=True length=100>\n",
      "      RA            DEC       ... reliability         abssys_name         \n",
      "     deg            deg       ...                                         \n",
      "   float64        float64     ...     str4               str28            \n",
      "-------------- -------------- ... ----------- ----------------------------\n",
      " 162.843583333  31.1303611111 ...        none   J105122.46+310749.3_z4.139\n",
      "    142.310375       28.42475 ...        none   J092914.49+282529.1_z3.263\n",
      "     30.943875  11.5778888889 ...        none   J020346.53+113440.4_z3.387\n",
      "0.845454166667     -26.054675 ...        none J000322.909-260316.83_z3.390\n",
      " 43.8275833333 0.813316666667 ...        none  J025518.62+004847.94_z3.915\n",
      " 31.2316666667  36.8216666667 ...        none      J020455.6+364918_z2.463\n",
      "    180.165875  40.2655833333 ...        none   J120039.81+401556.1_z3.220\n",
      " 339.972458333 -5.87243888889 ...        none  J223953.39-055220.78_z4.080\n",
      " 180.532416667  32.5941111111 ...        none   J120207.78+323538.8_z5.065\n",
      "           ...            ... ...         ...                          ...\n",
      " 269.443291667  75.6544472222 ...        none  J175746.39+753916.01_z2.625\n",
      "0.458333333333 -1.99453888889 ...        none     J000150-015940.34_z2.095\n",
      " 34.7389166667  8.29104166667 ...        none  J021857.34+081727.75_z2.293\n",
      " 28.1436333333  33.8425638889 ...        none J015234.472+335033.23_z2.141\n",
      " 149.435291667       33.13985 ...        none  J095744.47+330823.46_z3.280\n",
      " 43.8275833333 0.813316666667 ...        none  J025518.62+004847.94_z3.253\n",
      " 184.385583333  33.0939972222 ...        none  J121732.54+330538.39_z1.999\n",
      "     235.47275        31.8915 ...        none   J154153.46+315329.4_z2.443\n",
      " 241.892583333        16.0715 ...        none   J160734.22+160417.4_z4.474\n",
      " 203.399083333  16.8177861111 ...        none  J133335.78+164904.03_z1.776\n",
      "(Pdb) names.size\n",
      "100\n",
      "(Pdb) tmp2 = names == 'MASK_ME\"\n",
      "*** SyntaxError: EOL while scanning string literal\n",
      "(Pdb) tmp2 = names == 'MASK_ME'\n",
      "(Pdb) tmp2.size\n",
      "100\n",
      "(Pdb) tbl.mask\n",
      "<Table length=100>\n",
      "  RA   DEC  comp_name z_comp   Z   ... sig_vel comment reliability abssys_name\n",
      " bool  bool    bool    bool   bool ...   bool    bool      bool        bool   \n",
      "----- ----- --------- ------ ----- ... ------- ------- ----------- -----------\n",
      "False False     False  False False ...   False   False       False       False\n",
      "False False     False  False False ...   False   False       False       False\n",
      "False False     False  False False ...   False   False       False       False\n",
      "False False     False  False False ...   False   False       False       False\n",
      "False False     False  False False ...   False   False       False       False\n",
      "False False     False  False False ...   False   False       False       False\n",
      "False False     False  False False ...   False   False       False       False\n",
      "False False     False  False False ...   False   False       False       False\n",
      "False False     False  False False ...   False   False       False       False\n",
      "False False     False  False False ...   False   False       False       False\n",
      "  ...   ...       ...    ...   ... ...     ...     ...         ...         ...\n",
      "False False     False  False False ...   False   False       False       False\n",
      "False False     False  False False ...   False   False       False       False\n",
      "False False     False  False False ...   False   False       False       False\n",
      "False False     False  False False ...   False   False       False       False\n",
      "False False     False  False False ...   False   False       False       False\n",
      "False False     False  False False ...   False   False       False       False\n",
      "False False     False  False False ...   False   False       False       False\n",
      "False False     False  False False ...   False   False       False       False\n",
      "False False     False  False False ...   False   False       False       False\n",
      "False False     False  False False ...   False   False       False       False\n",
      "(Pdb) tbl.keys()\n",
      "['RA', 'DEC', 'comp_name', 'z_comp', 'Z', 'ion', 'Ej', 'vmin', 'vmax', 'ion_name', 'flag_N', 'logN', 'sig_logN', 'b', 'sig_b', 'vel', 'sig_vel', 'comment', 'reliability', 'abssys_name']\n"
     ]
    }
   ],
   "source": [
    "SiII_clms = h100.ions((14,2))\n",
    "SiII_clms[0:5]"
   ]
  },
  {
   "cell_type": "code",
   "execution_count": null,
   "metadata": {},
   "outputs": [],
   "source": [
    "gdSiII = SiII_clms['flag_N']>0\n",
    "np.sum(gdSiII)"
   ]
  },
  {
   "cell_type": "code",
   "execution_count": null,
   "metadata": {},
   "outputs": [],
   "source": [
    "h100.name[~gdSiII]"
   ]
  },
  {
   "cell_type": "markdown",
   "metadata": {},
   "source": [
    "## Simple Plots"
   ]
  },
  {
   "cell_type": "code",
   "execution_count": null,
   "metadata": {
    "collapsed": true
   },
   "outputs": [],
   "source": [
    "# NHI\n",
    "p_NHI = figure(plot_width=400, plot_height=400, title='H100 NHI')#,background_fill=\"#E8DDCB\")\n",
    "hist, edges = np.histogram(h100.NHI, range=(20.2, 22), density=True, bins=20)\n",
    "p_NHI.quad(top=hist, bottom=0, left=edges[:-1], right=edges[1:],fill_color='blue')\n",
    "p_NHI.xaxis.axis_label = 'N_HI'\n",
    "# z\n",
    "p_z = figure(plot_width=400, plot_height=400, title='H100 z')#,background_fill=\"#E8DDCB\")\n",
    "hist, edges = np.histogram(h100.zabs, range=(1.6, 5.0), density=True, bins=20)\n",
    "p_z.quad(top=hist, bottom=0, left=edges[:-1], right=edges[1:],fill_color='red')\n",
    "p_z.xaxis.axis_label = 'z_DLA'\n",
    "# Show\n",
    "show(row(p_NHI,p_z))"
   ]
  },
  {
   "cell_type": "markdown",
   "metadata": {},
   "source": [
    "----"
   ]
  },
  {
   "cell_type": "markdown",
   "metadata": {},
   "source": [
    "## SDSS DLAs (DR5) -- Prochaska & Wolfe 2009, ApJ, 696, 1543"
   ]
  },
  {
   "cell_type": "markdown",
   "metadata": {},
   "source": [
    "### Load"
   ]
  },
  {
   "cell_type": "code",
   "execution_count": null,
   "metadata": {
    "collapsed": true
   },
   "outputs": [],
   "source": [
    "sdss = DLASurvey.load_SDSS_DR5(sample='all')\n",
    "sdss"
   ]
  },
  {
   "cell_type": "code",
   "execution_count": null,
   "metadata": {
    "collapsed": true
   },
   "outputs": [],
   "source": [
    "sdss_stat = DLASurvey.load_SDSS_DR5()\n",
    "sdss_stat"
   ]
  },
  {
   "cell_type": "code",
   "execution_count": null,
   "metadata": {
    "collapsed": true
   },
   "outputs": [],
   "source": [
    "sdss_stat.sightlines[0:5]"
   ]
  },
  {
   "cell_type": "markdown",
   "metadata": {},
   "source": [
    "### $g(z)$"
   ]
  },
  {
   "cell_type": "code",
   "execution_count": null,
   "metadata": {
    "collapsed": true
   },
   "outputs": [],
   "source": [
    "zeval, gz = sdss_stat.calculate_gz()"
   ]
  },
  {
   "cell_type": "code",
   "execution_count": null,
   "metadata": {
    "collapsed": true
   },
   "outputs": [],
   "source": [
    "plt.clf()\n",
    "plt.plot(zeval, gz)\n",
    "plt.xlabel('z')\n",
    "plt.ylabel('g(z)')\n",
    "plt.show()"
   ]
  },
  {
   "cell_type": "markdown",
   "metadata": {},
   "source": [
    "### Binned stats"
   ]
  },
  {
   "cell_type": "markdown",
   "metadata": {},
   "source": [
    "#### $\\ell(X)$"
   ]
  },
  {
   "cell_type": "code",
   "execution_count": null,
   "metadata": {
    "collapsed": true
   },
   "outputs": [],
   "source": [
    "lX, lX_lo, lX_hi= sdss_stat.binned_lox([2., 2.5, 3])"
   ]
  },
  {
   "cell_type": "code",
   "execution_count": null,
   "metadata": {
    "collapsed": true
   },
   "outputs": [],
   "source": [
    "lX, lX_lo, lX_hi"
   ]
  },
  {
   "cell_type": "markdown",
   "metadata": {},
   "source": [
    "#### $\\rho_{\\rm HI}$"
   ]
  },
  {
   "cell_type": "code",
   "execution_count": null,
   "metadata": {
    "collapsed": true
   },
   "outputs": [],
   "source": [
    "rho, rho_lo, rho_hi = sdss_stat.binned_rhoHI([2., 2.5, 3.], (20.3,23.))"
   ]
  },
  {
   "cell_type": "code",
   "execution_count": null,
   "metadata": {
    "collapsed": true
   },
   "outputs": [],
   "source": [
    "rho/1e8, rho_lo, rho_hi"
   ]
  },
  {
   "cell_type": "markdown",
   "metadata": {},
   "source": [
    "#### $f(N,X)$"
   ]
  },
  {
   "cell_type": "code",
   "execution_count": null,
   "metadata": {
    "collapsed": true
   },
   "outputs": [],
   "source": [
    "fN, fN_lo, fN_hi = sdss_stat.binned_fn([20.3, 20.5, 21., 21.5, 22.], [2, 2.5], log=True)"
   ]
  },
  {
   "cell_type": "code",
   "execution_count": null,
   "metadata": {
    "collapsed": true
   },
   "outputs": [],
   "source": [
    "fN, fN_lo, fN_hi"
   ]
  },
  {
   "cell_type": "markdown",
   "metadata": {},
   "source": [
    "### Peroux03  (Peroux et al. 2003, MNRAS, 346, 1103)"
   ]
  },
  {
   "cell_type": "code",
   "execution_count": null,
   "metadata": {
    "collapsed": true
   },
   "outputs": [],
   "source": [
    "p03_statdla = DLASurvey.load_P03()#sample='all')\n",
    "p03_statdla"
   ]
  },
  {
   "cell_type": "markdown",
   "metadata": {},
   "source": [
    "### Guimaraes et al. 2009"
   ]
  },
  {
   "cell_type": "code",
   "execution_count": null,
   "metadata": {
    "collapsed": true
   },
   "outputs": [],
   "source": [
    "g09_statdla = DLASurvey.load_G09()#sample='all')\n",
    "g09_statdla"
   ]
  },
  {
   "cell_type": "code",
   "execution_count": null,
   "metadata": {
    "collapsed": true
   },
   "outputs": [],
   "source": [
    "zeval, gz = g09_statdla.calculate_gz()"
   ]
  },
  {
   "cell_type": "code",
   "execution_count": null,
   "metadata": {
    "collapsed": true
   },
   "outputs": [],
   "source": [
    "plt.clf()\n",
    "plt.plot(zeval, gz)\n",
    "plt.xlabel('z')\n",
    "plt.ylabel('g(z)')\n",
    "plt.show()\n",
    "plt.close()"
   ]
  },
  {
   "cell_type": "markdown",
   "metadata": {},
   "source": [
    "## GGG (Crighton et al. 2015, MNRAS, 452, 217)"
   ]
  },
  {
   "cell_type": "code",
   "execution_count": null,
   "metadata": {
    "collapsed": true
   },
   "outputs": [],
   "source": [
    "ggg = DLASurvey.load_GGG()"
   ]
  },
  {
   "cell_type": "code",
   "execution_count": null,
   "metadata": {
    "collapsed": true
   },
   "outputs": [],
   "source": [
    "ggg"
   ]
  },
  {
   "cell_type": "markdown",
   "metadata": {},
   "source": [
    "### XQ-100 (Sanchez-Ramirez et al. 2016, MNRAS, 456, 4488)"
   ]
  },
  {
   "cell_type": "code",
   "execution_count": null,
   "metadata": {
    "collapsed": true
   },
   "outputs": [],
   "source": [
    "xq100_statdla = DLASurvey.load_XQ100()\n",
    "xq100_statdla"
   ]
  },
  {
   "cell_type": "markdown",
   "metadata": {},
   "source": [
    "#### $g(z)$"
   ]
  },
  {
   "cell_type": "code",
   "execution_count": null,
   "metadata": {
    "collapsed": true
   },
   "outputs": [],
   "source": [
    "zeval, gz = xq100_statdla.calculate_gz()"
   ]
  },
  {
   "cell_type": "code",
   "execution_count": null,
   "metadata": {
    "collapsed": true
   },
   "outputs": [],
   "source": [
    "plt.clf()\n",
    "plt.plot(zeval, gz)\n",
    "plt.xlabel('z')\n",
    "plt.ylabel('g(z)')\n",
    "plt.show()\n",
    "plt.close()"
   ]
  },
  {
   "cell_type": "markdown",
   "metadata": {},
   "source": [
    "## HST -- (Neeleman et al. 2016)"
   ]
  },
  {
   "cell_type": "code",
   "execution_count": null,
   "metadata": {
    "collapsed": true
   },
   "outputs": [],
   "source": [
    "hst16 = DLASurvey.load_HST16()\n",
    "hst16"
   ]
  },
  {
   "cell_type": "code",
   "execution_count": null,
   "metadata": {
    "collapsed": true
   },
   "outputs": [],
   "source": [
    "hst16_all = DLASurvey.load_HST16(sample='all')  # Includes MgII-selected DLAs\n",
    "hst16_all"
   ]
  },
  {
   "cell_type": "markdown",
   "metadata": {},
   "source": [
    "## Fitted quantities"
   ]
  },
  {
   "cell_type": "code",
   "execution_count": null,
   "metadata": {
    "collapsed": true
   },
   "outputs": [],
   "source": [
    "dlas = DLASurvey()"
   ]
  },
  {
   "cell_type": "code",
   "execution_count": null,
   "metadata": {
    "collapsed": true
   },
   "outputs": [],
   "source": [
    "# f(N)\n",
    "dlas.fitted_fN(21.)  # This is not currently normalized"
   ]
  },
  {
   "cell_type": "code",
   "execution_count": null,
   "metadata": {
    "collapsed": true
   },
   "outputs": [],
   "source": [
    "# l(z)\n",
    "dlas.fitted_lz(1.)"
   ]
  },
  {
   "cell_type": "markdown",
   "metadata": {
    "collapsed": true
   },
   "source": [
    "----"
   ]
  },
  {
   "cell_type": "markdown",
   "metadata": {},
   "source": [
    "## Testing"
   ]
  },
  {
   "cell_type": "code",
   "execution_count": null,
   "metadata": {
    "collapsed": true
   },
   "outputs": [],
   "source": [
    "tmp = [1,232,3,4]"
   ]
  },
  {
   "cell_type": "code",
   "execution_count": null,
   "metadata": {},
   "outputs": [],
   "source": [
    "tmp.index(5)"
   ]
  },
  {
   "cell_type": "code",
   "execution_count": null,
   "metadata": {
    "collapsed": true
   },
   "outputs": [],
   "source": [
    "from collections import OrderedDict"
   ]
  },
  {
   "cell_type": "code",
   "execution_count": null,
   "metadata": {
    "collapsed": true
   },
   "outputs": [],
   "source": [
    "tmp = OrderedDict()\n",
    "tmp['a'] = dict(d=4, e=5)\n",
    "tmp['c'] = 3"
   ]
  },
  {
   "cell_type": "code",
   "execution_count": null,
   "metadata": {},
   "outputs": [],
   "source": [
    "list(tmp)[0]"
   ]
  },
  {
   "cell_type": "code",
   "execution_count": null,
   "metadata": {},
   "outputs": [],
   "source": [
    "next(iter(tmp.items()))[1].keys()"
   ]
  },
  {
   "cell_type": "code",
   "execution_count": null,
   "metadata": {
    "collapsed": true
   },
   "outputs": [],
   "source": []
  }
 ],
 "metadata": {
  "kernelspec": {
   "display_name": "Python 3",
   "language": "python",
   "name": "python3"
  },
  "language_info": {
   "codemirror_mode": {
    "name": "ipython",
    "version": 3
   },
   "file_extension": ".py",
   "mimetype": "text/x-python",
   "name": "python",
   "nbconvert_exporter": "python",
   "pygments_lexer": "ipython3",
   "version": "3.6.3"
  }
 },
 "nbformat": 4,
 "nbformat_minor": 1
}
