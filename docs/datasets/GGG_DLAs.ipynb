{
 "cells": [
  {
   "cell_type": "markdown",
   "metadata": {},
   "source": [
    "# Damped Ly$\\alpha$ Systems in the Giant Gemini GMOS (GGG) Survey"
   ]
  },
  {
   "cell_type": "code",
   "execution_count": 1,
   "metadata": {
    "collapsed": true
   },
   "outputs": [],
   "source": [
    "# imports\n",
    "from imp import reload\n",
    "import pyigm\n",
    "\n",
    "from astropy.table import Table\n",
    "\n",
    "from pyigm.surveys import dlasurvey as dlasrvy"
   ]
  },
  {
   "cell_type": "markdown",
   "metadata": {},
   "source": [
    "## Load"
   ]
  },
  {
   "cell_type": "code",
   "execution_count": 2,
   "metadata": {
    "collapsed": false
   },
   "outputs": [
    {
     "data": {
      "text/plain": [
       "'/home/xavier/local/Python/pyigm/pyigm'"
      ]
     },
     "execution_count": 2,
     "metadata": {},
     "output_type": "execute_result"
    }
   ],
   "source": [
    "path = pyigm.__path__[0]\n",
    "path"
   ]
  },
  {
   "cell_type": "markdown",
   "metadata": {},
   "source": [
    "### DLAs"
   ]
  },
  {
   "cell_type": "code",
   "execution_count": 3,
   "metadata": {
    "collapsed": true
   },
   "outputs": [],
   "source": [
    "dlas = Table.read(path+'/data/DLA/GGG/GGG_DLA.dat', format='ascii')"
   ]
  },
  {
   "cell_type": "code",
   "execution_count": 4,
   "metadata": {
    "collapsed": false
   },
   "outputs": [
    {
     "data": {
      "text/html": [
       "&lt;Table length=5&gt;\n",
       "<table id=\"table140068403436400\" class=\"table-striped table-bordered table-condensed\">\n",
       "<thead><tr><th>Name</th><th>RA</th><th>DEC</th><th>ZEM</th><th>ZABS</th><th>NHI</th></tr></thead>\n",
       "<thead><tr><th>str23</th><th>float64</th><th>float64</th><th>float64</th><th>float64</th><th>float64</th></tr></thead>\n",
       "<tr><td>SDSSJ004054.65-091526.8</td><td>10.227708</td><td>-9.2574444</td><td>4.98</td><td>4.7395</td><td>20.3</td></tr>\n",
       "<tr><td>SDSSJ012509.42-104300.8</td><td>21.28925</td><td>-10.716889</td><td>4.498</td><td>4.1888</td><td>20.6</td></tr>\n",
       "<tr><td>SDSSJ023137.65-072854.4</td><td>37.906875</td><td>-7.4817778</td><td>5.42</td><td>4.8836</td><td>20.5</td></tr>\n",
       "<tr><td>SDSSJ075907.57+180054.7</td><td>119.78154</td><td>18.015194</td><td>4.82</td><td>4.6576</td><td>20.75</td></tr>\n",
       "<tr><td>SDSSJ080023.01+305101.1</td><td>120.09588</td><td>30.850306</td><td>4.676</td><td>4.0985</td><td>21.05</td></tr>\n",
       "</table>"
      ],
      "text/plain": [
       "<Table length=5>\n",
       "          Name              RA       DEC       ZEM     ZABS    NHI  \n",
       "         str23           float64   float64   float64 float64 float64\n",
       "----------------------- --------- ---------- ------- ------- -------\n",
       "SDSSJ004054.65-091526.8 10.227708 -9.2574444    4.98  4.7395    20.3\n",
       "SDSSJ012509.42-104300.8  21.28925 -10.716889   4.498  4.1888    20.6\n",
       "SDSSJ023137.65-072854.4 37.906875 -7.4817778    5.42  4.8836    20.5\n",
       "SDSSJ075907.57+180054.7 119.78154  18.015194    4.82  4.6576   20.75\n",
       "SDSSJ080023.01+305101.1 120.09588  30.850306   4.676  4.0985   21.05"
      ]
     },
     "execution_count": 4,
     "metadata": {},
     "output_type": "execute_result"
    }
   ],
   "source": [
    "dlas[0:5]"
   ]
  },
  {
   "cell_type": "markdown",
   "metadata": {},
   "source": [
    "### QSOs"
   ]
  },
  {
   "cell_type": "code",
   "execution_count": 5,
   "metadata": {
    "collapsed": true
   },
   "outputs": [],
   "source": [
    "qsos = Table.read(path+'/data/DLA/GGG/GGG_QSO.dat', format='ascii')"
   ]
  },
  {
   "cell_type": "code",
   "execution_count": 6,
   "metadata": {
    "collapsed": false
   },
   "outputs": [
    {
     "data": {
      "text/html": [
       "&lt;Table length=5&gt;\n",
       "<table id=\"table140068403437352\" class=\"table-striped table-bordered table-condensed\">\n",
       "<thead><tr><th>Name</th><th>RA</th><th>DEC</th><th>Z_START</th><th>Z_END</th><th>ZEM</th></tr></thead>\n",
       "<thead><tr><th>str23</th><th>float64</th><th>float64</th><th>float64</th><th>float64</th><th>float64</th></tr></thead>\n",
       "<tr><td>SDSSJ001115.23+144601.8</td><td>2.8134583</td><td>14.767167</td><td>4.037</td><td>4.87</td><td>4.97</td></tr>\n",
       "<tr><td>SDSSJ004054.65-091526.8</td><td>10.227708</td><td>-9.2574444</td><td>4.046</td><td>4.88</td><td>4.98</td></tr>\n",
       "<tr><td>SDSSJ010619.24+004823.3</td><td>16.580167</td><td>0.8064722</td><td>3.598</td><td>4.358</td><td>4.449</td></tr>\n",
       "<tr><td>SDSSJ012509.42-104300.8</td><td>21.28925</td><td>-10.716889</td><td>3.639</td><td>4.406</td><td>4.498</td></tr>\n",
       "<tr><td>SDSSJ021043.16-001818.4</td><td>32.679833</td><td>-0.3051111</td><td>3.868</td><td>4.674</td><td>4.77</td></tr>\n",
       "</table>"
      ],
      "text/plain": [
       "<Table length=5>\n",
       "          Name              RA       DEC     Z_START  Z_END    ZEM  \n",
       "         str23           float64   float64   float64 float64 float64\n",
       "----------------------- --------- ---------- ------- ------- -------\n",
       "SDSSJ001115.23+144601.8 2.8134583  14.767167   4.037    4.87    4.97\n",
       "SDSSJ004054.65-091526.8 10.227708 -9.2574444   4.046    4.88    4.98\n",
       "SDSSJ010619.24+004823.3 16.580167  0.8064722   3.598   4.358   4.449\n",
       "SDSSJ012509.42-104300.8  21.28925 -10.716889   3.639   4.406   4.498\n",
       "SDSSJ021043.16-001818.4 32.679833 -0.3051111   3.868   4.674    4.77"
      ]
     },
     "execution_count": 6,
     "metadata": {},
     "output_type": "execute_result"
    }
   ],
   "source": [
    "qsos[0:5]"
   ]
  },
  {
   "cell_type": "markdown",
   "metadata": {},
   "source": [
    "## Survey"
   ]
  },
  {
   "cell_type": "code",
   "execution_count": 9,
   "metadata": {
    "collapsed": false
   },
   "outputs": [
    {
     "name": "stdout",
     "output_type": "stream",
     "text": [
      "Loading QSOs file /home/xavier/local/Python/pyigm/pyigm/data/DLA/GGG/GGG_QSO.dat\n",
      "Loaded\n"
     ]
    },
    {
     "name": "stderr",
     "output_type": "stream",
     "text": [
      "/home/xavier/local/Python/pyigm/pyigm/surveys/dlasurvey.py:865: UserWarning: Resetting mask to None.  Be careful here\n",
      "  if DLAs.mask is not None:\n"
     ]
    }
   ],
   "source": [
    "reload(dlasrvy)\n",
    "ggg_stat = dlasrvy.DLASurvey.load_GGG()"
   ]
  },
  {
   "cell_type": "code",
   "execution_count": 10,
   "metadata": {
    "collapsed": false
   },
   "outputs": [
    {
     "data": {
      "text/plain": [
       "<IGMSurvey: nsys=49, type=DLA, ref=GGG, nsightlines=163>"
      ]
     },
     "execution_count": 10,
     "metadata": {},
     "output_type": "execute_result"
    }
   ],
   "source": [
    "ggg_stat"
   ]
  },
  {
   "cell_type": "code",
   "execution_count": null,
   "metadata": {
    "collapsed": true
   },
   "outputs": [],
   "source": []
  }
 ],
 "metadata": {
  "kernelspec": {
   "display_name": "Python 3",
   "language": "python",
   "name": "python3"
  },
  "language_info": {
   "codemirror_mode": {
    "name": "ipython",
    "version": 3
   },
   "file_extension": ".py",
   "mimetype": "text/x-python",
   "name": "python",
   "nbconvert_exporter": "python",
   "pygments_lexer": "ipython3",
   "version": "3.6.0"
  }
 },
 "nbformat": 4,
 "nbformat_minor": 2
}
