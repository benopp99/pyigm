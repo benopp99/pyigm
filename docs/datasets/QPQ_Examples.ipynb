{
 "cells": [
  {
   "cell_type": "code",
   "execution_count": 2,
   "metadata": {
    "collapsed": true
   },
   "outputs": [],
   "source": [
    "from pyigm.cgm import qpq as qpq"
   ]
  },
  {
   "cell_type": "markdown",
   "metadata": {},
   "source": [
    "#### Load full tables"
   ]
  },
  {
   "cell_type": "code",
   "execution_count": 3,
   "metadata": {
    "scrolled": true
   },
   "outputs": [
    {
     "data": {
      "text/html": [
       "&lt;Table length=5&gt;\n",
       "<table id=\"table139724054868544\" class=\"table-striped table-bordered table-condensed\">\n",
       "<thead><tr><th>DATE</th><th>QPQ_SAVFIL</th><th>QSO</th><th>RAD</th><th>DECD</th><th>QSO_BG</th><th>RAD_BG</th><th>DECD_BG</th><th>ORIG_Z_FG</th><th>Z_FG</th><th>Z_FSIG</th><th>Z_BG</th><th>R_PHYS</th><th>FLG_BOSS</th><th>LYA_INSTR</th><th>LYA_FIL</th><th>INFLG_LYAFIL</th><th>S2N_LYA</th><th>FLG_OTHICK</th><th>Z_LYA</th><th>EWLYA</th><th>SIG_EWLYA</th><th>FLG_EWLYA</th><th>VEW [5]</th><th>VEWLYA [5]</th><th>SIG_VEWLYA [5]</th><th>AVGFLYA [5]</th><th>DELTFLYA [5]</th><th>Z_NHI</th><th>NHI</th><th>SIG_NHI [2]</th><th>FLG_NHI</th><th>FLG_METAL_EW [100]</th><th>FLG_METAL_EYE [100]</th><th>METAL_WREST [100]</th><th>RAW_METAL_EW [100]</th><th>METAL_EW [100]</th><th>METAL_SIGEW [100]</th><th>METAL_S2N [100]</th><th>METAL_VCEN [100]</th><th>L_912</th><th>G_UV</th><th>L_BOL</th></tr></thead>\n",
       "<thead><tr><th>str24</th><th>str85</th><th>str14</th><th>float64</th><th>float64</th><th>str14</th><th>float64</th><th>float64</th><th>float32</th><th>float64</th><th>float64</th><th>float64</th><th>float32</th><th>int16</th><th>str9</th><th>str47</th><th>int16</th><th>float32</th><th>int16</th><th>float64</th><th>float32</th><th>float32</th><th>int16</th><th>float32</th><th>float32</th><th>float32</th><th>float32</th><th>float32</th><th>float32</th><th>float32</th><th>float32</th><th>int16</th><th>int16</th><th>int16</th><th>float64</th><th>float32</th><th>float32</th><th>float32</th><th>float32</th><th>float32</th><th>float32</th><th>float32</th><th>float32</th></tr></thead>\n",
       "<tr><td>Fri Oct  3 05:05:57 2014</td><td>~/Dropbox/QSOPairs/QPQ-CGM_v5_4_45/QPQ-CGM_00.000-01.000_Sun-Jan-27-18:18:57-2013.sav</td><td>SDSSJ0002-0529</td><td>0.549036804392</td><td>-5.48569053094</td><td>SDSSJ0002-0530</td><td>0.569453216712</td><td>-5.50211784133</td><td>2.81702</td><td>2.81900429726</td><td>520.99987793</td><td>3.14737582207</td><td>768.469</td><td>0</td><td>SDSS</td><td>/data/MAGE_redux/SDSSJ091046.68+041448.3_F.fits</td><td>11</td><td>41.4537</td><td>0</td><td>2.81604441579</td><td>1.28383</td><td>0.0473478</td><td>2</td><td>150.0 .. 0.0</td><td>0.471749 .. 0.0</td><td>0.0251098 .. 0.0</td><td>0.0 .. 0.0</td><td>1.0 .. 0.0</td><td>2.81604</td><td>18.0</td><td>0.2 .. 0.2</td><td>3</td><td>0 .. 0</td><td>0 .. 0</td><td>1302.16845703 .. 0.0</td><td>0.0 .. 0.0</td><td>0.0 .. 0.0</td><td>0.0 .. 0.0</td><td>0.0 .. 0.0</td><td>0.0 .. 0.0</td><td>30.4563</td><td>64.5017</td><td>46.4887</td></tr>\n",
       "<tr><td>Fri Oct  3 05:05:57 2014</td><td>~/Dropbox/QSOPairs/QPQ-CGM_v5_4_45/QPQ-CGM_00.000-01.000_Sun-Jan-27-18:18:57-2013.sav</td><td>BOSSJ0004+0057</td><td>1.11012513262</td><td>0.950996855971</td><td>BOSSJ0004+0056</td><td>1.13652291883</td><td>0.936806821982</td><td>2.81289</td><td>2.8122522831</td><td>792.381164551</td><td>2.92031121254</td><td>881.583</td><td>0</td><td>BOSS</td><td>/data/MAGE_redux/SDSSJ091046.68+041448.3_F.fits</td><td>11</td><td>16.8973</td><td>0</td><td>2.80680317624</td><td>1.32959</td><td>0.112202</td><td>2</td><td>150.0 .. 0.0</td><td>0.696013 .. 0.0</td><td>0.0690574 .. 0.0</td><td>0.0 .. 0.0</td><td>1.0 .. 0.0</td><td>0.0</td><td>0.0</td><td>0.0 .. 0.0</td><td>0</td><td>0 .. 0</td><td>0 .. 0</td><td>1302.16845703 .. 0.0</td><td>0.0 .. 0.0</td><td>0.0 .. 0.0</td><td>0.0 .. 0.0</td><td>0.0 .. 0.0</td><td>0.0 .. 0.0</td><td>29.9643</td><td>16.5225</td><td>45.9986</td></tr>\n",
       "<tr><td>Fri Oct  3 05:05:57 2014</td><td>~/Dropbox/QSOPairs/QPQ-CGM_v5_4_45/QPQ-CGM_00.000-01.000_Sun-Jan-27-18:18:57-2013.sav</td><td>BOSSJ0005+0009</td><td>1.40121860984</td><td>0.156329561992</td><td>BOSSJ0005+0008</td><td>1.38051996658</td><td>0.144140811122</td><td>2.51026</td><td>2.52242875099</td><td>272.638763428</td><td>2.84809565544</td><td>725.418</td><td>0</td><td>BOSS</td><td>/data/MAGE_redux/SDSSJ091046.68+041448.3_F.fits</td><td>11</td><td>10.0251</td><td>0</td><td>2.52615262886</td><td>1.58448</td><td>0.188919</td><td>2</td><td>150.0 .. 0.0</td><td>0.333744 .. 0.0</td><td>0.108811 .. 0.0</td><td>0.0 .. 0.0</td><td>1.0 .. 0.0</td><td>2.52615</td><td>19.0</td><td>0.2 .. 0.2</td><td>3</td><td>0 .. 0</td><td>0 .. 0</td><td>1302.16845703 .. 0.0</td><td>0.0 .. 0.0</td><td>0.0 .. 0.0</td><td>0.0 .. 0.0</td><td>0.0 .. 0.0</td><td>0.0 .. 0.0</td><td>30.3787</td><td>56.7816</td><td>46.422</td></tr>\n",
       "<tr><td>Fri Oct  3 05:05:57 2014</td><td>~/Dropbox/QSOPairs/QPQ-CGM_v5_4_45/QPQ-CGM_00.000-01.000_Sun-Jan-27-18:18:57-2013.sav</td><td>BOSSJ0006-0015</td><td>1.62467440014</td><td>-0.26642346234</td><td>BOSSJ0006-0014</td><td>1.63896726468</td><td>-0.248139604912</td><td>2.32605</td><td>2.33272147179</td><td>794.259338379</td><td>2.88233208656</td><td>710.853</td><td>0</td><td>BOSS</td><td>/data/MAGE_redux/SDSSJ091046.68+041448.3_F.fits</td><td>11</td><td>10.6389</td><td>0</td><td>2.33316091821</td><td>1.62653</td><td>0.211154</td><td>2</td><td>150.0 .. 0.0</td><td>0.917008 .. 0.0</td><td>0.112283 .. 0.0</td><td>0.0 .. 0.0</td><td>1.0 .. 0.0</td><td>2.33316</td><td>19.0</td><td>0.2 .. 0.2</td><td>3</td><td>0 .. 0</td><td>0 .. 0</td><td>1302.16845703 .. 0.0</td><td>0.0 .. 0.0</td><td>0.0 .. 0.0</td><td>0.0 .. 0.0</td><td>0.0 .. 0.0</td><td>0.0 .. 0.0</td><td>29.7934</td><td>15.801</td><td>45.8501</td></tr>\n",
       "<tr><td>Fri Oct  3 05:05:57 2014</td><td>~/Dropbox/QSOPairs/QPQ-CGM_v5_4_45/QPQ-CGM_00.000-01.000_Sun-Jan-27-18:18:57-2013.sav</td><td>BOSSJ0008-0053</td><td>2.16381849394</td><td>-0.893553829661</td><td>BOSSJ0008-0051</td><td>2.15959322072</td><td>-0.865777342977</td><td>2.62297</td><td>2.62711811066</td><td>520.99987793</td><td>2.886708498</td><td>840.546</td><td>0</td><td>BOSS</td><td>/data/MAGE_redux/SDSSJ091046.68+041448.3_F.fits</td><td>11</td><td>23.3958</td><td>0</td><td>2.63379239856</td><td>1.54812</td><td>0.0765337</td><td>2</td><td>150.0 .. 0.0</td><td>0.577356 .. 0.0</td><td>0.0426637 .. 0.0</td><td>0.0 .. 0.0</td><td>1.0 .. 0.0</td><td>2.63379</td><td>18.8</td><td>0.2 .. 0.2</td><td>3</td><td>0 .. 0</td><td>0 .. 0</td><td>1302.16845703 .. 0.0</td><td>0.0 .. 0.0</td><td>0.0 .. 0.0</td><td>0.0 .. 0.0</td><td>0.0 .. 0.0</td><td>0.0 .. 0.0</td><td>30.6965</td><td>89.3295</td><td>46.7132</td></tr>\n",
       "</table>"
      ],
      "text/plain": [
       "<Table length=5>\n",
       "          DATE           ...  L_BOL \n",
       "         str24           ... float32\n",
       "------------------------ ... -------\n",
       "Fri Oct  3 05:05:57 2014 ... 46.4887\n",
       "Fri Oct  3 05:05:57 2014 ... 45.9986\n",
       "Fri Oct  3 05:05:57 2014 ...  46.422\n",
       "Fri Oct  3 05:05:57 2014 ... 45.8501\n",
       "Fri Oct  3 05:05:57 2014 ... 46.7132"
      ]
     },
     "execution_count": 3,
     "metadata": {},
     "output_type": "execute_result"
    }
   ],
   "source": [
    "i = 7 # 6,7,8\n",
    "qpq.load_qpq(i)[0:5]"
   ]
  },
  {
   "cell_type": "markdown",
   "metadata": {},
   "source": [
    "#### Load tables with transition EW, etc for QPQ 6, 7, 8"
   ]
  },
  {
   "cell_type": "code",
   "execution_count": 4,
   "metadata": {
    "scrolled": true
   },
   "outputs": [
    {
     "data": {
      "text/html": [
       "&lt;Table length=5&gt;\n",
       "<table id=\"table139723884934200\" class=\"table-striped table-bordered table-condensed\">\n",
       "<thead><tr><th>QSO</th><th>R_PHYS</th><th>z</th><th>QSO_BG</th><th>flag_EW</th><th>EW</th><th>sig_EW</th><th>flag_NHI</th><th>NHI</th><th>sig_NHI [2]</th></tr></thead>\n",
       "<thead><tr><th>str14</th><th>float32</th><th>float64</th><th>str14</th><th>int16</th><th>float32</th><th>float32</th><th>int16</th><th>float32</th><th>float32</th></tr></thead>\n",
       "<tr><td>SDSSJ0002-0529</td><td>768.469</td><td>2.81900429726</td><td>SDSSJ0002-0530</td><td>2</td><td>1.28383</td><td>0.0473478</td><td>3</td><td>18.0</td><td>0.2 .. 0.2</td></tr>\n",
       "<tr><td>BOSSJ0004+0057</td><td>881.583</td><td>2.8122522831</td><td>BOSSJ0004+0056</td><td>2</td><td>1.32959</td><td>0.112202</td><td>0</td><td>0.0</td><td>0.0 .. 0.0</td></tr>\n",
       "<tr><td>BOSSJ0005+0009</td><td>725.418</td><td>2.52242875099</td><td>BOSSJ0005+0008</td><td>2</td><td>1.58448</td><td>0.188919</td><td>3</td><td>19.0</td><td>0.2 .. 0.2</td></tr>\n",
       "<tr><td>BOSSJ0005-0312</td><td>533.147</td><td>2.54684138298</td><td>BOSSJ0005-0311</td><td>-1</td><td>0.0</td><td>0.0</td><td>0</td><td>0.0</td><td>0.0 .. 0.0</td></tr>\n",
       "<tr><td>BOSSJ0006-0015</td><td>710.853</td><td>2.33272147179</td><td>BOSSJ0006-0014</td><td>2</td><td>1.62653</td><td>0.211154</td><td>3</td><td>19.0</td><td>0.2 .. 0.2</td></tr>\n",
       "</table>"
      ],
      "text/plain": [
       "<Table length=5>\n",
       "     QSO        R_PHYS       z       ... flag_NHI   NHI   sig_NHI [2]\n",
       "    str14      float32    float64    ...  int16   float32   float32  \n",
       "-------------- ------- ------------- ... -------- ------- -----------\n",
       "SDSSJ0002-0529 768.469 2.81900429726 ...        3    18.0  0.2 .. 0.2\n",
       "BOSSJ0004+0057 881.583  2.8122522831 ...        0     0.0  0.0 .. 0.0\n",
       "BOSSJ0005+0009 725.418 2.52242875099 ...        3    19.0  0.2 .. 0.2\n",
       "BOSSJ0005-0312 533.147 2.54684138298 ...        0     0.0  0.0 .. 0.0\n",
       "BOSSJ0006-0015 710.853 2.33272147179 ...        3    19.0  0.2 .. 0.2"
      ]
     },
     "execution_count": 4,
     "metadata": {},
     "output_type": "execute_result"
    }
   ],
   "source": [
    "qpq.qpq6tab('HI 1215')[0:5]"
   ]
  },
  {
   "cell_type": "code",
   "execution_count": 5,
   "metadata": {
    "scrolled": true
   },
   "outputs": [
    {
     "data": {
      "text/html": [
       "&lt;Table length=5&gt;\n",
       "<table id=\"table139723884959168\" class=\"table-striped table-bordered table-condensed\">\n",
       "<thead><tr><th>QSO</th><th>R_PHYS</th><th>z</th><th>QSO_BG</th><th>flag_EW</th><th>WREST</th><th>EW_RAW</th><th>EW</th><th>sig_EW</th><th>S2N</th><th>VCEN</th><th>flag_EYE</th></tr></thead>\n",
       "<thead><tr><th>str14</th><th>float32</th><th>float64</th><th>str14</th><th>int16</th><th>float64</th><th>float32</th><th>float32</th><th>float32</th><th>float32</th><th>float32</th><th>int16</th></tr></thead>\n",
       "<tr><td>SDSSJ0002-0529</td><td>768.469</td><td>2.81900429726</td><td>SDSSJ0002-0530</td><td>0</td><td>2803.531</td><td>0.0</td><td>0.0</td><td>0.0</td><td>0.0</td><td>0.0</td><td>0</td></tr>\n",
       "<tr><td>BOSSJ0004+0057</td><td>881.583</td><td>2.8122522831</td><td>BOSSJ0004+0056</td><td>0</td><td>2803.531</td><td>0.0</td><td>0.0</td><td>0.0</td><td>0.0</td><td>0.0</td><td>0</td></tr>\n",
       "<tr><td>BOSSJ0005+0009</td><td>725.418</td><td>2.52242875099</td><td>BOSSJ0005+0008</td><td>0</td><td>2803.531</td><td>0.0</td><td>0.0</td><td>0.0</td><td>0.0</td><td>0.0</td><td>0</td></tr>\n",
       "<tr><td>BOSSJ0006-0015</td><td>710.853</td><td>2.33272147179</td><td>BOSSJ0006-0014</td><td>0</td><td>2803.531</td><td>0.0</td><td>0.0</td><td>0.0</td><td>0.0</td><td>0.0</td><td>0</td></tr>\n",
       "<tr><td>BOSSJ0008-0053</td><td>840.546</td><td>2.62711811066</td><td>BOSSJ0008-0051</td><td>0</td><td>2803.531</td><td>0.0</td><td>0.0</td><td>0.0</td><td>0.0</td><td>0.0</td><td>0</td></tr>\n",
       "</table>"
      ],
      "text/plain": [
       "<Table length=5>\n",
       "     QSO        R_PHYS       z           QSO_BG     ...   S2N     VCEN  flag_EYE\n",
       "    str14      float32    float64        str14      ... float32 float32  int16  \n",
       "-------------- ------- ------------- -------------- ... ------- ------- --------\n",
       "SDSSJ0002-0529 768.469 2.81900429726 SDSSJ0002-0530 ...     0.0     0.0        0\n",
       "BOSSJ0004+0057 881.583  2.8122522831 BOSSJ0004+0056 ...     0.0     0.0        0\n",
       "BOSSJ0005+0009 725.418 2.52242875099 BOSSJ0005+0008 ...     0.0     0.0        0\n",
       "BOSSJ0006-0015 710.853 2.33272147179 BOSSJ0006-0014 ...     0.0     0.0        0\n",
       "BOSSJ0008-0053 840.546 2.62711811066 BOSSJ0008-0051 ...     0.0     0.0        0"
      ]
     },
     "execution_count": 5,
     "metadata": {},
     "output_type": "execute_result"
    }
   ],
   "source": [
    "qpq.qpq7tab('MgII 2803')[0:5]"
   ]
  },
  {
   "cell_type": "code",
   "execution_count": 6,
   "metadata": {
    "scrolled": true
   },
   "outputs": [
    {
     "name": "stdout",
     "output_type": "stream",
     "text": [
      "Loading data for 101 of 427 QSOs\n"
     ]
    },
    {
     "data": {
      "text/html": [
       "&lt;Table length=5&gt;\n",
       "<table id=\"table139723885117904\" class=\"table-striped table-bordered table-condensed\">\n",
       "<thead><tr><th>QSO</th><th>R_PHYS</th><th>z</th><th>QSO_BG</th><th>flag_EW</th><th>WREST</th><th>EW_RAW</th><th>EW</th><th>sig_EW</th><th>S2N</th><th>VCEN</th><th>flag_EYE</th></tr></thead>\n",
       "<thead><tr><th>str14</th><th>float32</th><th>float64</th><th>str14</th><th>int16</th><th>float64</th><th>float32</th><th>float32</th><th>float32</th><th>float32</th><th>float32</th><th>int16</th></tr></thead>\n",
       "<tr><td>BOSSJ0031+0034</td><td>528.545</td><td>2.23281335831</td><td>BOSSJ0031+0033</td><td>3</td><td>2803.531</td><td>0.348245</td><td>0.348245</td><td>0.358908</td><td>0.0</td><td>705.36</td><td>128</td></tr>\n",
       "<tr><td>SDSSJ0034-1050</td><td>66.7004</td><td>1.83644855022</td><td>APOJ0034-1049</td><td>3</td><td>2803.531</td><td>0.193317</td><td>0.193317</td><td>0.205158</td><td>0.0</td><td>-534.205</td><td>128</td></tr>\n",
       "<tr><td>BOSSJ0101+0317</td><td>912.002</td><td>2.27184867859</td><td>BOSSJ0101+0318</td><td>3</td><td>2803.531</td><td>0.467354</td><td>0.467354</td><td>0.368541</td><td>0.0</td><td>372.361</td><td>128</td></tr>\n",
       "<tr><td>BOSSJ0108+0001</td><td>486.148</td><td>2.41694712639</td><td>BOSSJ0109+0001</td><td>3</td><td>2803.531</td><td>0.203227</td><td>0.203227</td><td>0.340774</td><td>0.0</td><td>977.234</td><td>128</td></tr>\n",
       "<tr><td>APOJ0111+1404</td><td>749.202</td><td>2.0018863678</td><td>APOJ0111+1404</td><td>1</td><td>2803.531</td><td>0.392257</td><td>0.392257</td><td>0.115724</td><td>0.0</td><td>1023.66</td><td>128</td></tr>\n",
       "</table>"
      ],
      "text/plain": [
       "<Table length=5>\n",
       "     QSO        R_PHYS       z       ...   S2N     VCEN   flag_EYE\n",
       "    str14      float32    float64    ... float32 float32   int16  \n",
       "-------------- ------- ------------- ... ------- -------- --------\n",
       "BOSSJ0031+0034 528.545 2.23281335831 ...     0.0   705.36      128\n",
       "SDSSJ0034-1050 66.7004 1.83644855022 ...     0.0 -534.205      128\n",
       "BOSSJ0101+0317 912.002 2.27184867859 ...     0.0  372.361      128\n",
       "BOSSJ0108+0001 486.148 2.41694712639 ...     0.0  977.234      128\n",
       "APOJ0111+1404  749.202  2.0018863678 ...     0.0  1023.66      128"
      ]
     },
     "execution_count": 6,
     "metadata": {},
     "output_type": "execute_result"
    }
   ],
   "source": [
    "qpq.qpq7tab('MgII 2803',non0=True)[0:5] # non-zero EWs only"
   ]
  },
  {
   "cell_type": "code",
   "execution_count": 7,
   "metadata": {
    "scrolled": true
   },
   "outputs": [
    {
     "data": {
      "text/html": [
       "&lt;Table length=5&gt;\n",
       "<table id=\"table139723885028968\" class=\"table-striped table-bordered table-condensed\">\n",
       "<thead><tr><th>Pair</th><th>subsys</th><th>MgIIcol</th><th>MgIIcolerr</th></tr></thead>\n",
       "<thead><tr><th>str10</th><th>str1</th><th>str5</th><th>str5</th></tr></thead>\n",
       "<tr><td>J1420+1603</td><td>A</td><td>12.61</td><td>uplim</td></tr>\n",
       "<tr><td>J1420+1603</td><td>B</td><td>13.24</td><td>lolim</td></tr>\n",
       "<tr><td>J1420+1603</td><td>C</td><td>13.51</td><td>lolim</td></tr>\n",
       "<tr><td>J1420+1603</td><td>D</td><td>13.97</td><td>lolim</td></tr>\n",
       "<tr><td>J1420+1603</td><td>E</td><td>13.70</td><td>lolim</td></tr>\n",
       "</table>"
      ],
      "text/plain": [
       "<Table length=5>\n",
       "   Pair    subsys MgIIcol MgIIcolerr\n",
       "  str10     str1    str5     str5   \n",
       "---------- ------ ------- ----------\n",
       "J1420+1603      A   12.61      uplim\n",
       "J1420+1603      B   13.24      lolim\n",
       "J1420+1603      C   13.51      lolim\n",
       "J1420+1603      D   13.97      lolim\n",
       "J1420+1603      E   13.70      lolim"
      ]
     },
     "execution_count": 7,
     "metadata": {},
     "output_type": "execute_result"
    }
   ],
   "source": [
    "qpq.qpq8tab('MgII')[24:29]"
   ]
  },
  {
   "cell_type": "code",
   "execution_count": 8,
   "metadata": {
    "scrolled": true
   },
   "outputs": [
    {
     "data": {
      "text/html": [
       "&lt;Table length=5&gt;\n",
       "<table id=\"table139723885027568\" class=\"table-striped table-bordered table-condensed\">\n",
       "<thead><tr><th>Pair</th><th>subsys</th><th>2803EW</th><th>2803EWerr</th></tr></thead>\n",
       "<thead><tr><th>str10</th><th>str1</th><th>str5</th><th>str5</th></tr></thead>\n",
       "<tr><td>J1420+1603</td><td>A</td><td>/</td><td>/</td></tr>\n",
       "<tr><td>J1420+1603</td><td>B</td><td>/</td><td>/</td></tr>\n",
       "<tr><td>J1420+1603</td><td>C</td><td>0.525</td><td>0.046</td></tr>\n",
       "<tr><td>J1420+1603</td><td>D</td><td>1.149</td><td>0.026</td></tr>\n",
       "<tr><td>J1420+1603</td><td>E</td><td>0.727</td><td>0.026</td></tr>\n",
       "</table>"
      ],
      "text/plain": [
       "<Table length=5>\n",
       "   Pair    subsys 2803EW 2803EWerr\n",
       "  str10     str1   str5     str5  \n",
       "---------- ------ ------ ---------\n",
       "J1420+1603      A      /         /\n",
       "J1420+1603      B      /         /\n",
       "J1420+1603      C  0.525     0.046\n",
       "J1420+1603      D  1.149     0.026\n",
       "J1420+1603      E  0.727     0.026"
      ]
     },
     "execution_count": 8,
     "metadata": {},
     "output_type": "execute_result"
    }
   ],
   "source": [
    "qpq.qpq8tab('2803')[24:29]"
   ]
  },
  {
   "cell_type": "code",
   "execution_count": 9,
   "metadata": {
    "scrolled": true
   },
   "outputs": [
    {
     "data": {
      "text/html": [
       "&lt;Table length=5&gt;\n",
       "<table id=\"table139723880160112\" class=\"table-striped table-bordered table-condensed\">\n",
       "<thead><tr><th>Pair</th><th>subsys</th><th>logU</th><th>MH</th></tr></thead>\n",
       "<thead><tr><th>str10</th><th>str1</th><th>str4</th><th>str4</th></tr></thead>\n",
       "<tr><td>J0225+0048</td><td>A</td><td>-1.8</td><td>-1.5</td></tr>\n",
       "<tr><td>J0225+0048</td><td>B</td><td>-2.3</td><td>N/A</td></tr>\n",
       "<tr><td>J0225+0048</td><td>C</td><td>-2.2</td><td>N/A</td></tr>\n",
       "<tr><td>J0341+0000</td><td>A</td><td>/</td><td>-1.5</td></tr>\n",
       "<tr><td>J0409-0411</td><td>A</td><td>/</td><td>-1.5</td></tr>\n",
       "</table>"
      ],
      "text/plain": [
       "<Table length=5>\n",
       "   Pair    subsys logU  MH \n",
       "  str10     str1  str4 str4\n",
       "---------- ------ ---- ----\n",
       "J0225+0048      A -1.8 -1.5\n",
       "J0225+0048      B -2.3  N/A\n",
       "J0225+0048      C -2.2  N/A\n",
       "J0341+0000      A    / -1.5\n",
       "J0409-0411      A    / -1.5"
      ]
     },
     "execution_count": 9,
     "metadata": {},
     "output_type": "execute_result"
    }
   ],
   "source": [
    "qpq.load_qpq(8)['Pair','subsys','logU','MH'][0:5]"
   ]
  },
  {
   "cell_type": "code",
   "execution_count": null,
   "metadata": {
    "collapsed": true
   },
   "outputs": [],
   "source": []
  }
 ],
 "metadata": {
  "kernelspec": {
   "display_name": "Python 3",
   "language": "python",
   "name": "python3"
  },
  "language_info": {
   "codemirror_mode": {
    "name": "ipython",
    "version": 3
   },
   "file_extension": ".py",
   "mimetype": "text/x-python",
   "name": "python",
   "nbconvert_exporter": "python",
   "pygments_lexer": "ipython3",
   "version": "3.6.3"
  }
 },
 "nbformat": 4,
 "nbformat_minor": 2
}
