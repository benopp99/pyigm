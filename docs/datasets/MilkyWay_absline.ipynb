{
 "cells": [
  {
   "cell_type": "markdown",
   "metadata": {},
   "source": [
    "# Absorption-line Datasets for the Milky Way"
   ]
  },
  {
   "cell_type": "code",
   "execution_count": 1,
   "metadata": {
    "collapsed": true
   },
   "outputs": [],
   "source": [
    "# imports\n",
    "import numpy as np\n",
    "from imp import reload\n",
    "import imp\n",
    "\n",
    "from astropy.table import Table\n",
    "from linetools.lists.linelist import LineList\n",
    "\n",
    "import pyigm\n",
    "from pyigm.cgm import galaxy as py_mw"
   ]
  },
  {
   "cell_type": "markdown",
   "metadata": {},
   "source": [
    "## Init"
   ]
  },
  {
   "cell_type": "code",
   "execution_count": 2,
   "metadata": {
    "collapsed": false
   },
   "outputs": [
    {
     "name": "stdout",
     "output_type": "stream",
     "text": [
      "linetools.lists.parse: Reading linelist --- \n",
      "   /media/xavier/ExtraDrive1/Python/linetools/linetools/data/lines/morton03_table2.fits.gz\n",
      "linetools.lists.parse: Reading linelist --- \n",
      "   /media/xavier/ExtraDrive1/Python/linetools/linetools/data/lines/morton00_table2.fits.gz\n"
     ]
    },
    {
     "name": "stderr",
     "output_type": "stream",
     "text": [
      "WARNING: UnitsWarning: The unit 'Angstrom' has been deprecated in the FITS standard. Suggested: 10**-1 nm. [astropy.units.format.utils]\n"
     ]
    },
    {
     "name": "stdout",
     "output_type": "stream",
     "text": [
      "linetools.lists.parse: Reading linelist --- \n",
      "   /media/xavier/ExtraDrive1/Python/linetools/linetools/data/lines/verner96_tab1.fits.gz\n",
      "linetools.lists.parse: Reading linelist --- \n",
      "   /media/xavier/ExtraDrive1/Python/linetools/linetools/data/lines/verner94_tab6.fits\n"
     ]
    },
    {
     "name": "stderr",
     "output_type": "stream",
     "text": [
      "WARNING: UnitsWarning: '0.1nm' did not parse as fits unit: Numeric factor not supported by FITS [astropy.units.core]\n",
      "/media/xavier/ExtraDrive1/Python/linetools/linetools/abund/ions.py:40: UserWarning: This method will be DEPRECATED.  Use ion_to_name\n",
      "  warnings.warn(\"This method will be DEPRECATED.  Use ion_to_name\")\n"
     ]
    },
    {
     "name": "stdout",
     "output_type": "stream",
     "text": [
      "linetools.lists.parse: Reading linelist --- \n",
      "   /media/xavier/ExtraDrive1/Python/linetools/linetools/data/lines/EUV_lines.ascii\n",
      "read_sets: Using set file -- \n",
      "  /media/xavier/ExtraDrive1/Python/linetools/linetools/lists/sets/llist_v1.1.ascii\n"
     ]
    },
    {
     "name": "stderr",
     "output_type": "stream",
     "text": [
      "/home/xavier/anaconda3/lib/python3.6/site-packages/astropy/table/column.py:1096: MaskedArrayFutureWarning: setting an item on a masked array which has a shared mask will not copy the mask and also change the original mask array in the future.\n",
      "Check the NumPy 1.11 release notes for more information.\n",
      "  ma.MaskedArray.__setitem__(self, index, value)\n",
      "/media/xavier/ExtraDrive1/Python/linetools/linetools/lists/linelist.py:305: UserWarning: WARNING: Multiple lines with wrest=9.72\n",
      "  warnings.warn(wmsg)\n",
      "/media/xavier/ExtraDrive1/Python/linetools/linetools/lists/linelist.py:307: UserWarning: Taking the first entry. Maybe use higher precision.\n",
      "  'Taking the first entry. Maybe use higher precision.')\n",
      "/media/xavier/ExtraDrive1/Python/linetools/linetools/lists/linelist.py:305: UserWarning: WARNING: Multiple lines with wrest=9.91\n",
      "  warnings.warn(wmsg)\n",
      "/media/xavier/ExtraDrive1/Python/linetools/linetools/lists/linelist.py:305: UserWarning: WARNING: Multiple lines with wrest=10.06\n",
      "  warnings.warn(wmsg)\n",
      "/media/xavier/ExtraDrive1/Python/linetools/linetools/lists/linelist.py:305: UserWarning: WARNING: Multiple lines with wrest=10.37\n",
      "  warnings.warn(wmsg)\n",
      "/media/xavier/ExtraDrive1/Python/linetools/linetools/lists/linelist.py:394: RuntimeWarning: divide by zero encountered in log10\n",
      "  self._data['log(w*f)'] = np.log10(qm_strength)\n"
     ]
    },
    {
     "name": "stdout",
     "output_type": "stream",
     "text": [
      "Loading abundances from Asplund2009\n",
      "Abundances are relative by number on a logarithmic scale with H=12\n",
      "Loading Fang+15 for OVII\n"
     ]
    },
    {
     "name": "stderr",
     "output_type": "stream",
     "text": [
      "/media/xavier/ExtraDrive1/Python/linetools/linetools/analysis/linelimits.py:165: UserWarning: Redshift=0.  If this is unexpected, set _z and reset limits\n",
      "  warnings.warn(\"Redshift=0.  If this is unexpected, set _z and reset limits\")\n",
      "/media/xavier/ExtraDrive1/Python/pyigm/pyigm/cgm/cgm.py:142: UserWarning: cgm.CGMAbsSys: Using WMAP9 cosmology\n",
      "  warnings.warn('cgm.CGMAbsSys: Using WMAP9 cosmology')\n",
      "/media/xavier/ExtraDrive1/Python/linetools/linetools/isgm/abscomponent.py:524: UserWarning: Absline <AbsLine: OVII 21, z=0.0000 wrest=21.6019 Angstrom, f=0.696> has flag=0.  Hopefully you expected that\n",
      "  warnings.warn(\"Absline {} has flag=0.  Hopefully you expected that\".format(str(aline)))\n"
     ]
    },
    {
     "name": "stdout",
     "output_type": "stream",
     "text": [
      "Loading Savage+03 for OVI\n"
     ]
    },
    {
     "name": "stderr",
     "output_type": "stream",
     "text": [
      "WARNING: UnitsWarning: '[cm-2]' did not parse as fits unit: Invalid character at col 0 [astropy.units.core]\n"
     ]
    }
   ],
   "source": [
    "reload(py_mw)\n",
    "mwcgm = py_mw.GalaxyCGM()"
   ]
  },
  {
   "cell_type": "markdown",
   "metadata": {},
   "source": [
    "## Fang+15 (OVII)"
   ]
  },
  {
   "cell_type": "markdown",
   "metadata": {},
   "source": [
    "### Table"
   ]
  },
  {
   "cell_type": "code",
   "execution_count": 3,
   "metadata": {
    "collapsed": false
   },
   "outputs": [
    {
     "data": {
      "text/html": [
       "&lt;Table masked=True length=10&gt;\n",
       "<table id=\"table140217697212456\" class=\"table-striped table-bordered table-condensed\">\n",
       "<thead><tr><th>Name</th><th>Type</th><th>GLON</th><th>GLAT</th><th>z</th><th>NH</th><th>Exp</th><th>CPRE</th><th>logNO</th><th>E_logNO</th><th>e_logNO</th><th>b</th><th>E_b</th><th>e_b</th><th>Vel</th><th>E_Vel</th><th>e_Vel</th><th>l_EW1</th><th>EW1</th><th>e_EW1</th><th>S/N1</th><th>C/dof</th><th>EW2</th><th>e_EW2</th><th>S/N2</th><th>Note</th></tr></thead>\n",
       "<thead><tr><th></th><th></th><th>deg</th><th>deg</th><th></th><th>1e+20 / cm2</th><th>ks</th><th></th><th>[cm-2]</th><th>[cm-2]</th><th>[cm-2]</th><th>km / s</th><th>km / s</th><th>km / s</th><th>km / s</th><th>km / s</th><th>km / s</th><th></th><th>1e-13 m</th><th>1e-13 m</th><th></th><th></th><th>1e-13 m</th><th>1e-13 m</th><th></th><th></th></tr></thead>\n",
       "<thead><tr><th>str15</th><th>int64</th><th>float64</th><th>float64</th><th>float64</th><th>float64</th><th>int64</th><th>int64</th><th>float64</th><th>float64</th><th>float64</th><th>int64</th><th>int64</th><th>int64</th><th>int64</th><th>int64</th><th>int64</th><th>str1</th><th>float64</th><th>float64</th><th>float64</th><th>str9</th><th>float64</th><th>float64</th><th>float64</th><th>str5</th></tr></thead>\n",
       "<tr><td>H 1426+428</td><td>1</td><td>77.487</td><td>64.899</td><td>0.1291</td><td>1.36</td><td>312</td><td>277</td><td>16.3</td><td>1.84</td><td>0.83</td><td>75</td><td>224</td><td>55</td><td>120</td><td>0</td><td>227</td><td>--</td><td>17.02</td><td>4.56</td><td>3.7</td><td>166/211</td><td>15.33</td><td>4.9</td><td>3.1</td><td>5</td></tr>\n",
       "<tr><td>MR 2251-178</td><td>2</td><td>46.197</td><td>-61.325</td><td>0.064</td><td>2.71</td><td>393</td><td>250</td><td>15.69</td><td>2.23</td><td>0.69</td><td>202</td><td>97</td><td>182</td><td>-120</td><td>240</td><td>0</td><td>--</td><td>12.64</td><td>4.69</td><td>2.7</td><td>148/138</td><td>11.04</td><td>5.47</td><td>2.0</td><td>5</td></tr>\n",
       "<tr><td>Mkn 335</td><td>2</td><td>108.763</td><td>-41.424</td><td>0.0258</td><td>3.99</td><td>412</td><td>227</td><td>15.9</td><td>2.3</td><td>0.31</td><td>300</td><td>0</td><td>280</td><td>-81</td><td>201</td><td>39</td><td>--</td><td>18.91</td><td>4.87</td><td>3.9</td><td>274/274</td><td>17.8</td><td>4.96</td><td>3.6</td><td>*</td></tr>\n",
       "<tr><td>Mkn 501</td><td>1</td><td>63.6</td><td>38.859</td><td>0.0337</td><td>1.74</td><td>171</td><td>212</td><td>16.75</td><td>1.62</td><td>0.98</td><td>86</td><td>213</td><td>66</td><td>68</td><td>52</td><td>188</td><td>--</td><td>24.0</td><td>5.77</td><td>4.2</td><td>156/141</td><td>22.91</td><td>5.18</td><td>4.4</td><td>8</td></tr>\n",
       "<tr><td>ESO 141-55</td><td>2</td><td>338.183</td><td>-26.711</td><td>0.0371</td><td>5.14</td><td>232</td><td>190</td><td>15.92</td><td>2.43</td><td>0.33</td><td>300</td><td>0</td><td>280</td><td>-120</td><td>223</td><td>0</td><td>--</td><td>21.13</td><td>5.65</td><td>3.7</td><td>116/136</td><td>17.62</td><td>5.72</td><td>3.1</td><td>9</td></tr>\n",
       "<tr><td>NGC 7469</td><td>2</td><td>83.099</td><td>-45.467</td><td>0.0163</td><td>4.96</td><td>163</td><td>140</td><td>15.88</td><td>2.42</td><td>0.49</td><td>300</td><td>0</td><td>280</td><td>-120</td><td>240</td><td>0</td><td>--</td><td>18.14</td><td>6.23</td><td>2.9</td><td>88/87</td><td>16.02</td><td>6.62</td><td>2.4</td><td>5</td></tr>\n",
       "<tr><td>NGC 3783</td><td>2</td><td>287.456</td><td>22.947</td><td>0.0097</td><td>9.1</td><td>304</td><td>137</td><td>16.0</td><td>2.46</td><td>0.37</td><td>300</td><td>0</td><td>280</td><td>120</td><td>0</td><td>240</td><td>--</td><td>23.3</td><td>6.65</td><td>3.5</td><td>147/103</td><td>19.82</td><td>6.61</td><td>3.0</td><td>10</td></tr>\n",
       "<tr><td>Mkn 279</td><td>2</td><td>115.042</td><td>46.865</td><td>0.0305</td><td>1.82</td><td>173</td><td>134</td><td>17.65</td><td>0.62</td><td>2.65</td><td>20</td><td>280</td><td>0</td><td>120</td><td>0</td><td>240</td><td>--</td><td>15.98</td><td>7.28</td><td>2.2</td><td>101/99</td><td>13.62</td><td>8.02</td><td>1.7</td><td>11</td></tr>\n",
       "<tr><td>NGC 5548</td><td>2</td><td>31.96</td><td>70.496</td><td>0.0172</td><td>1.83</td><td>146</td><td>119</td><td>--</td><td>--</td><td>--</td><td>--</td><td>--</td><td>--</td><td>--</td><td>--</td><td>--</td><td>&lt;</td><td>9.0</td><td>--</td><td>--</td><td>--</td><td>--</td><td>--</td><td>--</td><td>--</td></tr>\n",
       "<tr><td>H 2356-309</td><td>1</td><td>12.839</td><td>-78.035</td><td>0.1654</td><td>1.33</td><td>242</td><td>119</td><td>15.97</td><td>2.11</td><td>0.97</td><td>44</td><td>255</td><td>24</td><td>29</td><td>91</td><td>149</td><td>--</td><td>9.17</td><td>9.18</td><td>1.0</td><td>77/79</td><td>9.2</td><td>7.4</td><td>1.2</td><td>12</td></tr>\n",
       "</table>"
      ],
      "text/plain": [
       "<Table masked=True length=10>\n",
       "    Name     Type   GLON    GLAT     z    ...   EW2    e_EW2    S/N2  Note\n",
       "                    deg     deg           ... 1e-13 m 1e-13 m             \n",
       "   str15    int64 float64 float64 float64 ... float64 float64 float64 str5\n",
       "----------- ----- ------- ------- ------- ... ------- ------- ------- ----\n",
       " H 1426+428     1  77.487  64.899  0.1291 ...   15.33     4.9     3.1    5\n",
       "MR 2251-178     2  46.197 -61.325   0.064 ...   11.04    5.47     2.0    5\n",
       "    Mkn 335     2 108.763 -41.424  0.0258 ...    17.8    4.96     3.6    *\n",
       "    Mkn 501     1    63.6  38.859  0.0337 ...   22.91    5.18     4.4    8\n",
       " ESO 141-55     2 338.183 -26.711  0.0371 ...   17.62    5.72     3.1    9\n",
       "   NGC 7469     2  83.099 -45.467  0.0163 ...   16.02    6.62     2.4    5\n",
       "   NGC 3783     2 287.456  22.947  0.0097 ...   19.82    6.61     3.0   10\n",
       "    Mkn 279     2 115.042  46.865  0.0305 ...   13.62    8.02     1.7   11\n",
       "   NGC 5548     2   31.96  70.496  0.0172 ...      --      --      --   --\n",
       " H 2356-309     1  12.839 -78.035  0.1654 ...     9.2     7.4     1.2   12"
      ]
     },
     "execution_count": 3,
     "metadata": {},
     "output_type": "execute_result"
    }
   ],
   "source": [
    "mwcgm.fang15[10:20]"
   ]
  },
  {
   "cell_type": "markdown",
   "metadata": {},
   "source": [
    "### OVII System"
   ]
  },
  {
   "cell_type": "code",
   "execution_count": 4,
   "metadata": {
    "collapsed": false
   },
   "outputs": [
    {
     "data": {
      "text/plain": [
       "(8, 7)"
      ]
     },
     "execution_count": 4,
     "metadata": {},
     "output_type": "execute_result"
    }
   ],
   "source": [
    "mwcgm.abs.cgm_abs[0]._components[0].Zion"
   ]
  },
  {
   "cell_type": "markdown",
   "metadata": {
    "collapsed": true
   },
   "source": [
    "### OVII Systems"
   ]
  },
  {
   "cell_type": "code",
   "execution_count": 5,
   "metadata": {
    "collapsed": false
   },
   "outputs": [],
   "source": [
    "ovii_tbl = mwcgm.abs.ion_tbl((8,7))"
   ]
  },
  {
   "cell_type": "code",
   "execution_count": 6,
   "metadata": {
    "collapsed": false
   },
   "outputs": [
    {
     "data": {
      "text/html": [
       "&lt;Table length=127&gt;\n",
       "<table id=\"table140218666123896\" class=\"table-striped table-bordered table-condensed\">\n",
       "<thead><tr><th>name</th><th>Z</th><th>ion</th><th>A</th><th>Ej</th><th>z</th><th>vmin</th><th>vmax</th><th>flag_N</th><th>logN</th><th>sig_logN</th><th>cgm_name</th></tr></thead>\n",
       "<thead><tr><th></th><th></th><th></th><th></th><th>1 / cm</th><th></th><th>km / s</th><th>km / s</th><th></th><th></th><th></th><th></th></tr></thead>\n",
       "<thead><tr><th>str32</th><th>int64</th><th>int64</th><th>int64</th><th>float64</th><th>float64</th><th>float64</th><th>float64</th><th>int64</th><th>float64</th><th>object</th><th>str21</th></tr></thead>\n",
       "<tr><td>Mkn 421_z0</td><td>8</td><td>7</td><td>0</td><td>0.0</td><td>7.67197418956e-05</td><td>-265.001764419</td><td>310.998235581</td><td>1</td><td>16.15</td><td>[ 0.34  0.91]</td><td>J1104+3812_230_413884</td></tr>\n",
       "<tr><td>PKS 2155-304_z0</td><td>8</td><td>7</td><td>0</td><td>0.0</td><td>5.17024347557e-05</td><td>-582.500801346</td><td>613.499198654</td><td>1</td><td>16.15</td><td>[ 0.39  1.48]</td><td>J2158-3013_133_195569</td></tr>\n",
       "<tr><td>3C 273_z0</td><td>8</td><td>7</td><td>0</td><td>0.0</td><td>0.000236830507591</td><td>-527.016810985</td><td>668.983189015</td><td>1</td><td>16.52</td><td>[ 0.47  1.48]</td><td>J1229+0203_63_293433</td></tr>\n",
       "<tr><td>Ark 564_z0</td><td>8</td><td>7</td><td>0</td><td>0.0</td><td>4.00276914238e-05</td><td>-586.000480313</td><td>609.999519687</td><td>1</td><td>16.38</td><td>[ 0.85  1.29]</td><td>J2242+2943_176_330956</td></tr>\n",
       "<tr><td>Mkn 509_z0</td><td>8</td><td>7</td><td>0</td><td>0.0</td><td>8.33910237995e-05</td><td>-573.002084602</td><td>622.997915398</td><td>1</td><td>17.83</td><td>[ 1.73  0.6 ]</td><td>J2044-1043_146_163511</td></tr>\n",
       "<tr><td>NGC 4051_z0</td><td>8</td><td>7</td><td>0</td><td>0.0</td><td>0.000400276914238</td><td>-572.0</td><td>572.0</td><td>1</td><td>17.11</td><td>[ 0.7   1.15]</td><td>J1203+4431_214_385037</td></tr>\n",
       "<tr><td>PKS 0558-504_z0</td><td>8</td><td>7</td><td>0</td><td>0.0</td><td>-0.000196802816167</td><td>-657.011613652</td><td>538.988386348</td><td>1</td><td>16.95</td><td>[ 1.75  0.7 ]</td><td>J0559-5026_189_361995</td></tr>\n",
       "<tr><td>MCG -6-30-15_z0</td><td>8</td><td>7</td><td>0</td><td>0.0</td><td>0.000400276914238</td><td>-598.0</td><td>598.0</td><td>1</td><td>16.57</td><td>[ 0.42  1.96]</td><td>J1335-3417_153_189395</td></tr>\n",
       "<tr><td>Mkn 766_z0</td><td>8</td><td>7</td><td>0</td><td>0.0</td><td>0.000400276914238</td><td>-598.0</td><td>598.0</td><td>1</td><td>15.82</td><td>[ 0.82  1.53]</td><td>J1218+2948_261_351343</td></tr>\n",
       "<tr><td>...</td><td>...</td><td>...</td><td>...</td><td>...</td><td>...</td><td>...</td><td>...</td><td>...</td><td>...</td><td>...</td><td>...</td></tr>\n",
       "<tr><td>ESO 572-G34_z0</td><td>0</td><td>0</td><td>0</td><td>0.0</td><td>0.0</td><td>0.0</td><td>0.0</td><td>0</td><td>0.0</td><td>0</td><td>J1158-1901_165_281231</td></tr>\n",
       "<tr><td>NGC 4649_z0</td><td>0</td><td>0</td><td>0</td><td>0.0</td><td>0.0</td><td>0.0</td><td>0.0</td><td>0</td><td>0.0</td><td>0</td><td>J1243+1133_38_299610</td></tr>\n",
       "<tr><td>Tol 1247-232_z0</td><td>0</td><td>0</td><td>0</td><td>0.0</td><td>0.0</td><td>0.0</td><td>0.0</td><td>0</td><td>0.0</td><td>0</td><td>J1250-2333_151_235303</td></tr>\n",
       "<tr><td>PG 1302-102_z0</td><td>0</td><td>0</td><td>0</td><td>0.0</td><td>0.0</td><td>0.0</td><td>0.0</td><td>0</td><td>0.0</td><td>0</td><td>J1305-1033_127_243009</td></tr>\n",
       "<tr><td>PG 1307+085_z0</td><td>0</td><td>0</td><td>0</td><td>0.0</td><td>0.0</td><td>0.0</td><td>0.0</td><td>0</td><td>0.0</td><td>0</td><td>J1309+0819_78_273839</td></tr>\n",
       "<tr><td>HE 1326-0516_z0</td><td>0</td><td>0</td><td>0</td><td>0.0</td><td>0.0</td><td>0.0</td><td>0.0</td><td>0</td><td>0.0</td><td>0</td><td>J1329-0531_118_232780</td></tr>\n",
       "<tr><td>Mrk 1383_z0</td><td>0</td><td>0</td><td>0</td><td>0.0</td><td>0.0</td><td>0.0</td><td>0.0</td><td>0</td><td>0.0</td><td>0</td><td>J1429+0117_128_200978</td></tr>\n",
       "<tr><td>Tol 1924-416_z0</td><td>0</td><td>0</td><td>0</td><td>0.0</td><td>0.0</td><td>0.0</td><td>0.0</td><td>0</td><td>0.0</td><td>0</td><td>J1927-4134_149_87398</td></tr>\n",
       "<tr><td>&lt;LMC&gt;_z0</td><td>0</td><td>0</td><td>0</td><td>0.0</td><td>0.0</td><td>0.0</td><td>0.0</td><td>0</td><td>0.0</td><td>0</td><td>J0523-6945_178_292416</td></tr>\n",
       "<tr><td>&lt;SMC&gt;_z0</td><td>0</td><td>0</td><td>0</td><td>0.0</td><td>0.0</td><td>0.0</td><td>0.0</td><td>0</td><td>0.0</td><td>0</td><td>J0052-7248_167_241901</td></tr>\n",
       "</table>"
      ],
      "text/plain": [
       "<Table length=127>\n",
       "      name        Z    ion  ...   logN     sig_logN          cgm_name      \n",
       "                            ...                                            \n",
       "     str32      int64 int64 ... float64     object            str21        \n",
       "--------------- ----- ----- ... ------- ------------- ---------------------\n",
       "     Mkn 421_z0     8     7 ...   16.15 [ 0.34  0.91] J1104+3812_230_413884\n",
       "PKS 2155-304_z0     8     7 ...   16.15 [ 0.39  1.48] J2158-3013_133_195569\n",
       "      3C 273_z0     8     7 ...   16.52 [ 0.47  1.48]  J1229+0203_63_293433\n",
       "     Ark 564_z0     8     7 ...   16.38 [ 0.85  1.29] J2242+2943_176_330956\n",
       "     Mkn 509_z0     8     7 ...   17.83 [ 1.73  0.6 ] J2044-1043_146_163511\n",
       "    NGC 4051_z0     8     7 ...   17.11 [ 0.7   1.15] J1203+4431_214_385037\n",
       "PKS 0558-504_z0     8     7 ...   16.95 [ 1.75  0.7 ] J0559-5026_189_361995\n",
       "MCG -6-30-15_z0     8     7 ...   16.57 [ 0.42  1.96] J1335-3417_153_189395\n",
       "     Mkn 766_z0     8     7 ...   15.82 [ 0.82  1.53] J1218+2948_261_351343\n",
       "            ...   ...   ... ...     ...           ...                   ...\n",
       " ESO 572-G34_z0     0     0 ...     0.0             0 J1158-1901_165_281231\n",
       "    NGC 4649_z0     0     0 ...     0.0             0  J1243+1133_38_299610\n",
       "Tol 1247-232_z0     0     0 ...     0.0             0 J1250-2333_151_235303\n",
       " PG 1302-102_z0     0     0 ...     0.0             0 J1305-1033_127_243009\n",
       " PG 1307+085_z0     0     0 ...     0.0             0  J1309+0819_78_273839\n",
       "HE 1326-0516_z0     0     0 ...     0.0             0 J1329-0531_118_232780\n",
       "    Mrk 1383_z0     0     0 ...     0.0             0 J1429+0117_128_200978\n",
       "Tol 1924-416_z0     0     0 ...     0.0             0  J1927-4134_149_87398\n",
       "       <LMC>_z0     0     0 ...     0.0             0 J0523-6945_178_292416\n",
       "       <SMC>_z0     0     0 ...     0.0             0 J0052-7248_167_241901"
      ]
     },
     "execution_count": 6,
     "metadata": {},
     "output_type": "execute_result"
    }
   ],
   "source": [
    "ovii_tbl"
   ]
  },
  {
   "cell_type": "markdown",
   "metadata": {},
   "source": [
    "## OVI"
   ]
  },
  {
   "cell_type": "markdown",
   "metadata": {},
   "source": [
    "### Savage+03"
   ]
  },
  {
   "cell_type": "code",
   "execution_count": 7,
   "metadata": {
    "collapsed": false
   },
   "outputs": [
    {
     "name": "stderr",
     "output_type": "stream",
     "text": [
      "WARNING: UnitsWarning: '[cm-2]' did not parse as fits unit: Invalid character at col 0 [astropy.units.core]\n"
     ]
    }
   ],
   "source": [
    "savage_ovi = Table.read(pyigm.__path__[0]+'/data/CGM/Galaxy/savage03_table2.fits')"
   ]
  },
  {
   "cell_type": "code",
   "execution_count": 8,
   "metadata": {
    "collapsed": false
   },
   "outputs": [
    {
     "data": {
      "text/html": [
       "&lt;Table masked=True length=30&gt;\n",
       "<table id=\"table140217698476216\" class=\"table-striped table-bordered table-condensed\">\n",
       "<thead><tr><th>Name</th><th>n_Name</th><th>RV</th><th>z</th><th>Q</th><th>V-</th><th>u_V-</th><th>V_</th><th>u_V_</th><th>__v_exp</th><th>__v_obs</th><th>e__v_obs</th><th>b</th><th>u_b</th><th>e_b</th><th>l_logN_OVI_</th><th>logN_OVI_</th><th>n_logN_OVI_</th><th>e_sc</th><th>n_sc</th><th>e_sys</th><th>l_logNsin_b_</th><th>logNsin_b_</th><th>_RA</th><th>_DE</th></tr></thead>\n",
       "<thead><tr><th></th><th></th><th>km / s</th><th></th><th></th><th>km / s</th><th></th><th>km / s</th><th></th><th>km / s</th><th>km / s</th><th>km / s</th><th>km / s</th><th></th><th>km / s</th><th></th><th>[cm-2]</th><th></th><th></th><th></th><th></th><th></th><th>[cm-2]</th><th>deg</th><th>deg</th></tr></thead>\n",
       "<thead><tr><th>str14</th><th>str1</th><th>int16</th><th>float32</th><th>uint8</th><th>int16</th><th>str1</th><th>int16</th><th>str1</th><th>int16</th><th>int16</th><th>int16</th><th>int16</th><th>str1</th><th>int16</th><th>str1</th><th>float32</th><th>str1</th><th>float32</th><th>str1</th><th>float32</th><th>str1</th><th>float32</th><th>float64</th><th>float64</th></tr></thead>\n",
       "<tr><td>PG 1352+183</td><td></td><td>0</td><td>0.1519</td><td>1</td><td>-80</td><td></td><td>100</td><td></td><td>1</td><td>14</td><td>10</td><td>59</td><td></td><td>6</td><td></td><td>14.39</td><td></td><td>0.11</td><td></td><td>0.02</td><td></td><td>14.37</td><td>208.649708333</td><td>18.0883611111</td></tr>\n",
       "<tr><td>PKS 2155-304</td><td></td><td>0</td><td>0.116</td><td>4</td><td>-85</td><td>:</td><td>120</td><td></td><td>14</td><td>24</td><td>10</td><td>67</td><td>:</td><td>3</td><td></td><td>14.34</td><td></td><td>0.01</td><td></td><td>0.03</td><td></td><td>14.24</td><td>329.716937778</td><td>-30.2255883333</td></tr>\n",
       "<tr><td>PG 1404+226</td><td></td><td>0</td><td>0.098</td><td>1</td><td>-95</td><td></td><td>75</td><td></td><td>3</td><td>-16</td><td>10</td><td>59</td><td></td><td>5</td><td></td><td>14.33</td><td></td><td>0.12</td><td></td><td>0.03</td><td></td><td>14.31</td><td>211.591166667</td><td>22.3961666667</td></tr>\n",
       "<tr><td>NGC 5548</td><td></td><td>5149</td><td>nan</td><td>2</td><td>-120</td><td></td><td>60</td><td></td><td>4</td><td>-32</td><td>10</td><td>59</td><td></td><td>4</td><td></td><td>14.5</td><td></td><td>0.05</td><td></td><td>0.02</td><td></td><td>14.47</td><td>214.498541667</td><td>25.1370555556</td></tr>\n",
       "<tr><td>PG 1402+261</td><td></td><td>0</td><td>0.164</td><td>2</td><td>-120</td><td></td><td>115</td><td></td><td>3</td><td>-11</td><td>10</td><td>73</td><td></td><td>4</td><td></td><td>14.53</td><td></td><td>0.05</td><td></td><td>0.02</td><td></td><td>14.51</td><td>211.317541667</td><td>25.9261388889</td></tr>\n",
       "<tr><td>Mrk 509</td><td></td><td>0</td><td>0.0343</td><td>4</td><td>-100</td><td></td><td>115</td><td></td><td>38</td><td>21</td><td>10</td><td>64</td><td></td><td>3</td><td></td><td>14.66</td><td></td><td>0.01</td><td></td><td>0.02</td><td></td><td>14.36</td><td>311.040666667</td><td>-10.7235277778</td></tr>\n",
       "<tr><td>vZ 1128</td><td></td><td>0</td><td>nan</td><td>4</td><td>-130</td><td></td><td>80</td><td></td><td>2</td><td>-25</td><td>10</td><td>54</td><td></td><td>3</td><td></td><td>14.48</td><td></td><td>0.01</td><td></td><td>0.02</td><td></td><td>14.47</td><td>205.569458333</td><td>28.4330277778</td></tr>\n",
       "<tr><td>MRC 2251-178</td><td></td><td>0</td><td>0.066</td><td>3</td><td>-65</td><td></td><td>70</td><td></td><td>10</td><td>-1</td><td>11</td><td>51</td><td></td><td>4</td><td></td><td>14.1</td><td></td><td>0.07</td><td></td><td>0.1</td><td></td><td>14.04</td><td>343.510416667</td><td>-17.6019444444</td></tr>\n",
       "<tr><td>PHL 1811</td><td></td><td>0</td><td>0.1919</td><td>3</td><td>-65</td><td></td><td>100</td><td></td><td>22</td><td>24</td><td>10</td><td>53</td><td></td><td>3</td><td></td><td>14.45</td><td></td><td>0.04</td><td></td><td>0.03</td><td></td><td>14.3</td><td>328.756175</td><td>-9.37351666667</td></tr>\n",
       "<tr><td>...</td><td>...</td><td>...</td><td>...</td><td>...</td><td>...</td><td>...</td><td>...</td><td>...</td><td>...</td><td>...</td><td>...</td><td>...</td><td>...</td><td>...</td><td>...</td><td>...</td><td>...</td><td>...</td><td>...</td><td>...</td><td>...</td><td>...</td><td>...</td><td>...</td></tr>\n",
       "<tr><td>PG 1411+442</td><td></td><td>0</td><td>0.0895</td><td>2</td><td>-95</td><td></td><td>90</td><td></td><td>0</td><td>-5</td><td>10</td><td>58</td><td></td><td>4</td><td></td><td>14.57</td><td></td><td>0.05</td><td></td><td>0.03</td><td></td><td>14.53</td><td>213.451416667</td><td>44.0039166667</td></tr>\n",
       "<tr><td>PG 1626+554</td><td></td><td>0</td><td>0.1329</td><td>2</td><td>-65</td><td>:</td><td>85</td><td>:</td><td>-7</td><td>7</td><td>10</td><td>47</td><td>:</td><td>4</td><td></td><td>14.25</td><td></td><td>0.09</td><td></td><td>0.08</td><td></td><td>14.08</td><td>246.983708333</td><td>55.3754722222</td></tr>\n",
       "<tr><td>PG 1415+451</td><td></td><td>0</td><td>0.1139</td><td>1</td><td>-80</td><td></td><td>100</td><td></td><td>0</td><td>13</td><td>11</td><td>52</td><td></td><td>5</td><td></td><td>14.32</td><td></td><td>0.1</td><td></td><td>0.04</td><td></td><td>14.28</td><td>214.253375</td><td>44.9351111111</td></tr>\n",
       "<tr><td>Mrk 487</td><td></td><td>665</td><td>nan</td><td>2</td><td>-55</td><td></td><td>120</td><td></td><td>-6</td><td>24</td><td>11</td><td>73</td><td></td><td>4</td><td></td><td>14.25</td><td></td><td>0.11</td><td></td><td>0.04</td><td></td><td>14.13</td><td>234.267458333</td><td>55.2634166667</td></tr>\n",
       "<tr><td>NGC 7714</td><td></td><td>2798</td><td>nan</td><td>2</td><td>-60</td><td></td><td>45</td><td></td><td>-3</td><td>-2</td><td>10</td><td>35</td><td></td><td>2</td><td></td><td>13.85</td><td></td><td>0.14</td><td></td><td>0.05</td><td></td><td>13.77</td><td>354.0595</td><td>2.15494444444</td></tr>\n",
       "<tr><td>Mrk 290</td><td></td><td>0</td><td>0.0295</td><td>1</td><td>-70</td><td>:</td><td>165</td><td></td><td>-8</td><td>24</td><td>15</td><td>91</td><td>:</td><td>10</td><td></td><td>14.21</td><td></td><td>0.12</td><td></td><td>0.05</td><td></td><td>14.08</td><td>233.968166667</td><td>57.9025555556</td></tr>\n",
       "<tr><td>PG 2349-014</td><td></td><td>0</td><td>0.174</td><td>1</td><td>-70</td><td>:</td><td>70</td><td>:</td><td>-3</td><td>0</td><td>0</td><td>0</td><td></td><td>0</td><td>&lt;</td><td>13.97</td><td></td><td>nan</td><td></td><td>nan</td><td>&lt;</td><td>13.91</td><td>357.983875</td><td>-1.15372222222</td></tr>\n",
       "<tr><td>UGC 12163</td><td></td><td>0</td><td>0.0246</td><td>2</td><td>-100</td><td></td><td>100</td><td></td><td>-32</td><td>1</td><td>12</td><td>81</td><td></td><td>7</td><td></td><td>14.0</td><td></td><td>0.12</td><td></td><td>0.06</td><td></td><td>13.63</td><td>340.664458333</td><td>29.725</td></tr>\n",
       "<tr><td>H1821+643</td><td></td><td>0</td><td>0.2844</td><td>4</td><td>-160</td><td></td><td>115</td><td></td><td>-30</td><td>-46</td><td>10</td><td>89</td><td></td><td>3</td><td></td><td>14.48</td><td></td><td>0.02</td><td></td><td>0.02</td><td></td><td>14.14</td><td>275.48875</td><td>64.3433333333</td></tr>\n",
       "<tr><td>Mrk 876</td><td></td><td>0</td><td>0.1289</td><td>4</td><td>-100</td><td>:</td><td>85</td><td></td><td>-18</td><td>-12</td><td>11</td><td>64</td><td>:</td><td>6</td><td></td><td>14.43</td><td></td><td>0.02</td><td></td><td>0.05</td><td></td><td>14.24</td><td>243.488333333</td><td>65.7194444444</td></tr>\n",
       "</table>"
      ],
      "text/plain": [
       "<Table masked=True length=30>\n",
       "    Name     n_Name   RV      z    ... logNsin_b_      _RA           _DE      \n",
       "                    km / s         ...   [cm-2]        deg           deg      \n",
       "   str14      str1  int16  float32 ...  float32      float64       float64    \n",
       "------------ ------ ------ ------- ... ---------- ------------- --------------\n",
       " PG 1352+183             0  0.1519 ...      14.37 208.649708333  18.0883611111\n",
       "PKS 2155-304             0   0.116 ...      14.24 329.716937778 -30.2255883333\n",
       " PG 1404+226             0   0.098 ...      14.31 211.591166667  22.3961666667\n",
       "    NGC 5548          5149     nan ...      14.47 214.498541667  25.1370555556\n",
       " PG 1402+261             0   0.164 ...      14.51 211.317541667  25.9261388889\n",
       "     Mrk 509             0  0.0343 ...      14.36 311.040666667 -10.7235277778\n",
       "     vZ 1128             0     nan ...      14.47 205.569458333  28.4330277778\n",
       "MRC 2251-178             0   0.066 ...      14.04 343.510416667 -17.6019444444\n",
       "    PHL 1811             0  0.1919 ...       14.3    328.756175 -9.37351666667\n",
       "         ...    ...    ...     ... ...        ...           ...            ...\n",
       " PG 1411+442             0  0.0895 ...      14.53 213.451416667  44.0039166667\n",
       " PG 1626+554             0  0.1329 ...      14.08 246.983708333  55.3754722222\n",
       " PG 1415+451             0  0.1139 ...      14.28    214.253375  44.9351111111\n",
       "     Mrk 487           665     nan ...      14.13 234.267458333  55.2634166667\n",
       "    NGC 7714          2798     nan ...      13.77      354.0595  2.15494444444\n",
       "     Mrk 290             0  0.0295 ...      14.08 233.968166667  57.9025555556\n",
       " PG 2349-014             0   0.174 ...      13.91    357.983875 -1.15372222222\n",
       "   UGC 12163             0  0.0246 ...      13.63 340.664458333         29.725\n",
       "   H1821+643             0  0.2844 ...      14.14     275.48875  64.3433333333\n",
       "     Mrk 876             0  0.1289 ...      14.24 243.488333333  65.7194444444"
      ]
     },
     "execution_count": 8,
     "metadata": {},
     "output_type": "execute_result"
    }
   ],
   "source": [
    "savage_ovi[0:30]"
   ]
  },
  {
   "cell_type": "code",
   "execution_count": 12,
   "metadata": {
    "collapsed": false
   },
   "outputs": [
    {
     "data": {
      "text/plain": [
       "14.78"
      ]
     },
     "execution_count": 12,
     "metadata": {},
     "output_type": "execute_result"
    }
   ],
   "source": [
    "np.max(savage_ovi['logN_OVI_'])"
   ]
  },
  {
   "cell_type": "markdown",
   "metadata": {},
   "source": [
    "### Wakker+03 -- Not being read into GalaxyCGM"
   ]
  },
  {
   "cell_type": "code",
   "execution_count": 10,
   "metadata": {
    "collapsed": false
   },
   "outputs": [
    {
     "name": "stderr",
     "output_type": "stream",
     "text": [
      "WARNING: UnitsWarning: '10-16W/m2/nm' contains multiple slashes, which is discouraged by the FITS standard [astropy.units.format.generic]\n"
     ]
    }
   ],
   "source": [
    "wakker_ovi = Table.read(pyigm.__path__[0]+'/data/CGM/Galaxy/wakker03_table2.fits')"
   ]
  },
  {
   "cell_type": "code",
   "execution_count": 11,
   "metadata": {
    "collapsed": false
   },
   "outputs": [
    {
     "data": {
      "text/html": [
       "&lt;Table masked=True length=242&gt;\n",
       "<table id=\"table140217697143216\" class=\"table-striped table-bordered table-condensed\">\n",
       "<thead><tr><th>Rank</th><th>Name</th><th>Chan</th><th>Exp</th><th>f_Exp</th><th>Flux</th><th>RMS</th><th>S_N</th><th>S_NF</th><th>Bin</th><th>Q</th><th>Order</th><th>Shape</th><th>IGM</th><th>GHGrp</th><th>TGrp</th><th>JMax</th><th>H2</th><th>f_LoV-MW</th><th>LoV-MW</th><th>UpV-MW</th><th>f_UpV-MW</th><th>EW-MW</th><th>e_EW-MW</th><th>e_ew-mw_lc</th><th>f_EW-MW</th><th>HVC</th><th>f_LoV-HVC</th><th>LoV-HVC</th><th>UpV-HVC</th><th>f_UpV-HVC</th><th>EW-HVC</th><th>e_EW-HVC</th><th>e_ew-hvc_lc</th></tr></thead>\n",
       "<thead><tr><th></th><th></th><th></th><th>ks</th><th></th><th>1e-16 W / (m2 nm)</th><th>1e-16 W / (m2 nm)</th><th></th><th></th><th></th><th></th><th></th><th></th><th></th><th></th><th></th><th></th><th></th><th></th><th>km / s</th><th>km / s</th><th></th><th>1e-13 m</th><th>1e-13 m</th><th>1e-13 m</th><th></th><th></th><th></th><th>km / s</th><th>km / s</th><th></th><th>1e-13 m</th><th>1e-13 m</th><th>1e-13 m</th></tr></thead>\n",
       "<thead><tr><th>int16</th><th>str16</th><th>str4</th><th>float32</th><th>str1</th><th>float32</th><th>float32</th><th>float32</th><th>float32</th><th>int16</th><th>uint8</th><th>str3</th><th>str12</th><th>str11</th><th>str7</th><th>str8</th><th>str2</th><th>str1</th><th>str1</th><th>int16</th><th>int16</th><th>str1</th><th>int16</th><th>int16</th><th>int16</th><th>str1</th><th>str3</th><th>str1</th><th>int16</th><th>int16</th><th>str1</th><th>int16</th><th>int16</th><th>int16</th></tr></thead>\n",
       "<tr><td>1</td><td>3C249.1</td><td>f2+1</td><td>25.2</td><td></td><td>1.6</td><td>0.28</td><td>6.0</td><td>6.0</td><td>10</td><td>2</td><td>1,1</td><td>Flat</td><td>GrpNoIGM</td><td></td><td>12,42</td><td>4</td><td>n</td><td></td><td>-75</td><td>65</td><td></td><td>195</td><td>26</td><td>31</td><td></td><td></td><td></td><td>0</td><td>0</td><td></td><td>0</td><td>0</td><td>0</td></tr>\n",
       "<tr><td>2</td><td>3C273.0</td><td>1+0</td><td>42.5</td><td></td><td>28.5</td><td>1.03</td><td>27.7</td><td>19.3</td><td>5</td><td>4</td><td>1,1</td><td>Flat</td><td>GrpLyb</td><td>106</td><td>11</td><td>4</td><td>y</td><td></td><td>-110</td><td>105</td><td></td><td>381</td><td>7</td><td>26</td><td></td><td>EPn</td><td></td><td>105</td><td>160</td><td></td><td>17</td><td>5</td><td>28</td></tr>\n",
       "<tr><td>2</td><td>3C273.0</td><td>1+0</td><td>42.5</td><td></td><td>28.5</td><td>1.03</td><td>27.7</td><td>19.3</td><td>5</td><td>4</td><td>1,1</td><td>Flat</td><td>GrpLyb</td><td>106</td><td>11</td><td>4</td><td>y</td><td></td><td>-110</td><td>105</td><td></td><td>381</td><td>7</td><td>26</td><td></td><td>EPn</td><td></td><td>160</td><td>260</td><td></td><td>38</td><td>6</td><td>10</td></tr>\n",
       "<tr><td>3</td><td>3C382.0</td><td>1+1</td><td>16.9</td><td></td><td>1.6</td><td>0.36</td><td>4.4</td><td>5.2</td><td>15</td><td>1</td><td>1,1</td><td>Flat</td><td>NoGrpLyb??</td><td></td><td></td><td>3</td><td>n</td><td></td><td>-130</td><td>110</td><td></td><td>340</td><td>51</td><td>27</td><td></td><td>OA</td><td></td><td>-130</td><td>-50</td><td></td><td>127</td><td>25</td><td>26</td></tr>\n",
       "<tr><td>4</td><td>ESO141-G55</td><td>1+1</td><td>60.3</td><td></td><td>5.2</td><td>0.36</td><td>14.6</td><td>10.3</td><td>5</td><td>4</td><td>1,1</td><td>Flat</td><td>GrpNoIGM</td><td></td><td>19,61</td><td>4</td><td>y</td><td></td><td>-100</td><td>85</td><td></td><td>266</td><td>11</td><td>16</td><td></td><td>Oth</td><td></td><td>140</td><td>225</td><td></td><td>32</td><td>9</td><td>15</td></tr>\n",
       "<tr><td>5</td><td>ESO265-G23</td><td>1+1</td><td>10.3</td><td></td><td>1.4</td><td>0.45</td><td>3.2</td><td>4.0</td><td>15</td><td>1</td><td>4,x</td><td>Wavy</td><td>GrpNoIGM</td><td></td><td>31</td><td>3</td><td>n</td><td></td><td>-20</td><td>100</td><td></td><td>187</td><td>44</td><td>34</td><td></td><td>EPn</td><td></td><td>200</td><td>310</td><td></td><td>218</td><td>36</td><td>51</td></tr>\n",
       "<tr><td>6</td><td>ESO350-IG38</td><td>1+1</td><td>24.3</td><td>d</td><td>5.2</td><td>0.58</td><td>9.0</td><td>9.0</td><td>10</td><td>0</td><td>1,x</td><td>Flat</td><td>GrpNoIGM</td><td></td><td>14,61</td><td>-</td><td>n</td><td></td><td>0</td><td>0</td><td></td><td>0</td><td>0</td><td>0</td><td></td><td></td><td></td><td>0</td><td>0</td><td></td><td>0</td><td>0</td><td>0</td></tr>\n",
       "<tr><td>7</td><td>ESO572-G34</td><td>1+1</td><td>37.7</td><td></td><td>3.9</td><td>0.32</td><td>12.3</td><td>8.9</td><td>5</td><td>3</td><td>5,2</td><td>Lyb[7.5]</td><td>IntrLyb</td><td></td><td>22</td><td>-</td><td>n</td><td></td><td>-100</td><td>100</td><td>x</td><td>269</td><td>21</td><td>51</td><td></td><td>EPn</td><td>x</td><td>100</td><td>275</td><td></td><td>266</td><td>16</td><td>61</td></tr>\n",
       "<tr><td>8</td><td>Fairall9</td><td>f1+0</td><td>34.8</td><td></td><td>1.5</td><td>0.28</td><td>5.6</td><td>7.2</td><td>15</td><td>2</td><td>5,2</td><td>Wavy</td><td>NoGrp</td><td></td><td></td><td>2</td><td>n</td><td></td><td>-110</td><td>100</td><td>]</td><td>220</td><td>35</td><td>31</td><td></td><td>MS</td><td>[</td><td>100</td><td>275</td><td></td><td>214</td><td>29</td><td>45</td></tr>\n",
       "<tr><td>...</td><td>...</td><td>...</td><td>...</td><td>...</td><td>...</td><td>...</td><td>...</td><td>...</td><td>...</td><td>...</td><td>...</td><td>...</td><td>...</td><td>...</td><td>...</td><td>...</td><td>...</td><td>...</td><td>...</td><td>...</td><td>...</td><td>...</td><td>...</td><td>...</td><td>...</td><td>...</td><td>...</td><td>...</td><td>...</td><td>...</td><td>...</td><td>...</td><td>...</td></tr>\n",
       "<tr><td>208</td><td>RX J0049.5+1128</td><td>1+0</td><td>12.0</td><td></td><td>0.1</td><td>0.2</td><td>0.5</td><td>0.7</td><td>20</td><td>0</td><td>X,x</td><td>Zero</td><td>NoGrp</td><td></td><td></td><td></td><td></td><td></td><td>0</td><td>0</td><td></td><td>0</td><td>0</td><td>0</td><td></td><td></td><td></td><td>0</td><td>0</td><td></td><td>0</td><td>0</td><td>0</td></tr>\n",
       "<tr><td>209</td><td>RX J0757.0+5832</td><td>1+0</td><td>10.7</td><td></td><td>0.47</td><td>0.29</td><td>1.6</td><td>2.3</td><td>20</td><td>0</td><td>X,x</td><td>Zero</td><td>Grp</td><td></td><td>13</td><td></td><td></td><td></td><td>0</td><td>0</td><td></td><td>0</td><td>0</td><td>0</td><td></td><td></td><td></td><td>0</td><td>0</td><td></td><td>0</td><td>0</td><td>0</td></tr>\n",
       "<tr><td>210</td><td>RX J1058.5+5628</td><td>1+0</td><td>11.7</td><td></td><td>0.65</td><td>0.36</td><td>1.8</td><td>2.5</td><td>20</td><td>0</td><td>1,x</td><td>Flat</td><td>Grp</td><td>94</td><td>12,13</td><td></td><td></td><td></td><td>0</td><td>0</td><td></td><td>0</td><td>0</td><td>0</td><td></td><td></td><td></td><td>0</td><td>0</td><td></td><td>0</td><td>0</td><td>0</td></tr>\n",
       "<tr><td>211</td><td>RX J1138.8+5742</td><td>1+0</td><td>10.4</td><td></td><td>0.41</td><td>0.29</td><td>1.4</td><td>1.9</td><td>20</td><td>0</td><td>X,x</td><td>Zero</td><td>Grp</td><td>94</td><td>12</td><td></td><td></td><td></td><td>0</td><td>0</td><td></td><td>0</td><td>0</td><td>0</td><td></td><td></td><td></td><td>0</td><td>0</td><td></td><td>0</td><td>0</td><td>0</td></tr>\n",
       "<tr><td>212</td><td>RX J1233.4+0931</td><td>1+0</td><td>12.6</td><td></td><td>0.43</td><td>0.25</td><td>1.7</td><td>2.5</td><td>20</td><td>0</td><td>X,x</td><td>Zero</td><td>Grp</td><td>106</td><td>11</td><td></td><td></td><td></td><td>0</td><td>0</td><td></td><td>0</td><td>0</td><td>0</td><td></td><td></td><td></td><td>0</td><td>0</td><td></td><td>0</td><td>0</td><td>0</td></tr>\n",
       "<tr><td>213</td><td>RX J1306.3+3917</td><td>2+0</td><td>19.3</td><td></td><td>0.29</td><td>0.22</td><td>1.3</td><td>1.6</td><td>20</td><td>0</td><td>X,x</td><td>Zero</td><td>Grp</td><td>115</td><td>14,43</td><td></td><td></td><td></td><td>0</td><td>0</td><td></td><td>0</td><td>0</td><td>0</td><td></td><td></td><td></td><td>0</td><td>0</td><td></td><td>0</td><td>0</td><td>0</td></tr>\n",
       "<tr><td>214</td><td>RX J1323.9+5739</td><td>1+0</td><td>10.9</td><td></td><td>0.22</td><td>0.25</td><td>0.9</td><td>1.2</td><td>20</td><td>0</td><td>X,x</td><td>Zero</td><td>Grp</td><td></td><td>14,42</td><td></td><td></td><td></td><td>0</td><td>0</td><td></td><td>0</td><td>0</td><td>0</td><td></td><td></td><td></td><td>0</td><td>0</td><td></td><td>0</td><td>0</td><td>0</td></tr>\n",
       "<tr><td>215</td><td>Ton236</td><td>1+0</td><td>4.7</td><td></td><td>1.4</td><td>0.63</td><td>2.4</td><td>3.5</td><td>20</td><td>0</td><td>1,x</td><td>Flat</td><td>NoGrp</td><td></td><td></td><td></td><td></td><td></td><td>0</td><td>0</td><td></td><td>0</td><td>0</td><td>0</td><td></td><td></td><td></td><td>0</td><td>0</td><td></td><td>0</td><td>0</td><td>0</td></tr>\n",
       "<tr><td>216</td><td>Ton1480</td><td>1+0</td><td>29.3</td><td></td><td>0.66</td><td>0.23</td><td>2.9</td><td>4.1</td><td>20</td><td>0</td><td>1,x</td><td>Flat</td><td>Grp</td><td>94</td><td>14</td><td></td><td></td><td></td><td>0</td><td>0</td><td></td><td>0</td><td>0</td><td>0</td><td></td><td></td><td></td><td>0</td><td>0</td><td></td><td>0</td><td>0</td><td>0</td></tr>\n",
       "<tr><td>217</td><td>UGC4305</td><td>1+0</td><td>11.9</td><td></td><td>1.0</td><td>0.42</td><td>2.6</td><td>3.4</td><td>20</td><td>0</td><td>4,x</td><td>Wavy</td><td>GrpNoIGM</td><td></td><td>14</td><td></td><td></td><td></td><td>0</td><td>0</td><td></td><td>0</td><td>0</td><td>0</td><td></td><td></td><td></td><td>0</td><td>0</td><td></td><td>0</td><td>0</td><td>0</td></tr>\n",
       "</table>"
      ],
      "text/plain": [
       "<Table masked=True length=242>\n",
       " Rank       Name      Chan   Exp   ... f_UpV-HVC  EW-HVC e_EW-HVC e_ew-hvc_lc\n",
       "                              ks   ...           1e-13 m 1e-13 m    1e-13 m  \n",
       "int16      str16      str4 float32 ...    str1    int16   int16      int16   \n",
       "----- --------------- ---- ------- ... --------- ------- -------- -----------\n",
       "    1         3C249.1 f2+1    25.2 ...                 0        0           0\n",
       "    2         3C273.0 1+0     42.5 ...                17        5          28\n",
       "    2         3C273.0 1+0     42.5 ...                38        6          10\n",
       "    3         3C382.0 1+1     16.9 ...               127       25          26\n",
       "    4      ESO141-G55 1+1     60.3 ...                32        9          15\n",
       "    5      ESO265-G23 1+1     10.3 ...               218       36          51\n",
       "    6     ESO350-IG38 1+1     24.3 ...                 0        0           0\n",
       "    7      ESO572-G34 1+1     37.7 ...               266       16          61\n",
       "    8        Fairall9 f1+0    34.8 ...               214       29          45\n",
       "  ...             ...  ...     ... ...       ...     ...      ...         ...\n",
       "  208 RX J0049.5+1128 1+0     12.0 ...                 0        0           0\n",
       "  209 RX J0757.0+5832 1+0     10.7 ...                 0        0           0\n",
       "  210 RX J1058.5+5628 1+0     11.7 ...                 0        0           0\n",
       "  211 RX J1138.8+5742 1+0     10.4 ...                 0        0           0\n",
       "  212 RX J1233.4+0931 1+0     12.6 ...                 0        0           0\n",
       "  213 RX J1306.3+3917 2+0     19.3 ...                 0        0           0\n",
       "  214 RX J1323.9+5739 1+0     10.9 ...                 0        0           0\n",
       "  215          Ton236 1+0      4.7 ...                 0        0           0\n",
       "  216         Ton1480 1+0     29.3 ...                 0        0           0\n",
       "  217         UGC4305 1+0     11.9 ...                 0        0           0"
      ]
     },
     "execution_count": 11,
     "metadata": {},
     "output_type": "execute_result"
    }
   ],
   "source": [
    "wakker_ovi"
   ]
  },
  {
   "cell_type": "code",
   "execution_count": 13,
   "metadata": {
    "collapsed": true
   },
   "outputs": [],
   "source": [
    "tmp = np.array(['s']*10)"
   ]
  },
  {
   "cell_type": "code",
   "execution_count": 14,
   "metadata": {
    "collapsed": false
   },
   "outputs": [
    {
     "data": {
      "text/plain": [
       "array(['s', 's', 's', 's', 's', 's', 's', 's', 's', 's'], \n",
       "      dtype='<U1')"
      ]
     },
     "execution_count": 14,
     "metadata": {},
     "output_type": "execute_result"
    }
   ],
   "source": [
    "tmp"
   ]
  },
  {
   "cell_type": "code",
   "execution_count": 15,
   "metadata": {
    "collapsed": false
   },
   "outputs": [
    {
     "data": {
      "text/plain": [
       "10"
      ]
     },
     "execution_count": 15,
     "metadata": {},
     "output_type": "execute_result"
    }
   ],
   "source": [
    "tmp.size"
   ]
  },
  {
   "cell_type": "code",
   "execution_count": null,
   "metadata": {
    "collapsed": true
   },
   "outputs": [],
   "source": []
  }
 ],
 "metadata": {
  "kernelspec": {
   "display_name": "Python 3",
   "language": "python",
   "name": "python3"
  },
  "language_info": {
   "codemirror_mode": {
    "name": "ipython",
    "version": 3
   },
   "file_extension": ".py",
   "mimetype": "text/x-python",
   "name": "python",
   "nbconvert_exporter": "python",
   "pygments_lexer": "ipython3",
   "version": "3.6.0"
  }
 },
 "nbformat": 4,
 "nbformat_minor": 2
}
