{
 "cells": [
  {
   "cell_type": "markdown",
   "metadata": {},
   "source": [
    "# Ingesting Prochaska+11 CGM dataset [v1.1]"
   ]
  },
  {
   "cell_type": "code",
   "execution_count": 1,
   "metadata": {
    "collapsed": true
   },
   "outputs": [],
   "source": [
    "# imports\n",
    "from pkg_resources import resource_filename\n",
    "\n",
    "from astropy.table import Table\n",
    "from astropy.coordinates import SkyCoord\n",
    "from astropy import units as u\n",
    "\n",
    "import pyigm\n",
    "from pyigm.cgm.cgmsurvey import CGMAbsSurvey"
   ]
  },
  {
   "cell_type": "markdown",
   "metadata": {},
   "source": [
    "## Summary"
   ]
  },
  {
   "cell_type": "code",
   "execution_count": 2,
   "metadata": {
    "collapsed": true
   },
   "outputs": [],
   "source": [
    "ovi_file = resource_filename('pyigm', '/data/CGM/P11/lowovidat.fits')"
   ]
  },
  {
   "cell_type": "code",
   "execution_count": 3,
   "metadata": {
    "collapsed": true
   },
   "outputs": [],
   "source": [
    "ovidat = Table.read(ovi_file)"
   ]
  },
  {
   "cell_type": "code",
   "execution_count": 4,
   "metadata": {},
   "outputs": [
    {
     "data": {
      "text/html": [
       "&lt;Table length=3&gt;\n",
       "<table id=\"table140590909348216\" class=\"table-striped table-bordered table-condensed\">\n",
       "<thead><tr><th>QSO</th><th>QSO_RA</th><th>QSO_DEC</th><th>QSO_ZEM</th><th>QSO_VMAG</th><th>QSO_UV</th><th>FLG_GAL</th><th>GAL_FIL</th><th>R_LIMIT</th><th>N_GAL [4]</th><th>COMPLETE [2,4]</th><th>FLG_FUSE</th><th>FUSE_EXP</th><th>FUSE_SNR</th><th>FLG_STIS</th><th>STIS_COMM [4]</th><th>FLG_GHRS</th><th>GHRS_COMM [4]</th></tr></thead>\n",
       "<thead><tr><th>str15</th><th>str15</th><th>str15</th><th>float32</th><th>float32</th><th>float32</th><th>int16</th><th>str58</th><th>float32</th><th>int32</th><th>int32</th><th>int16</th><th>float32</th><th>float32</th><th>int16</th><th>str60</th><th>int16</th><th>str60</th></tr></thead>\n",
       "<tr><td>Q0026+1259</td><td>00:29:13.8</td><td>+13:16:04</td><td>0.142</td><td>14.78</td><td>20.0</td><td>1</td><td>/u/xavier/LCO/OVI/FUSE/data/Q0026+1259/Q0026+1259_gal.fits</td><td>20.0</td><td>131 .. 47</td><td>22 .. 85</td><td>1</td><td>20000.0</td><td>7.0</td><td>0</td><td>..</td><td>1</td><td>G270M 5222s                                                  ..</td></tr>\n",
       "<tr><td>TONS180</td><td>00:57:20.0</td><td>-22:22:56</td><td>0.06198</td><td>16.6</td><td>30.0</td><td>1</td><td>/u/xavier/LCO/OVI/FUSE/data/TONS180/TONS180_gal.fits</td><td>19.7</td><td>110 .. 4</td><td>15 .. 92</td><td>1</td><td>132453.0</td><td>15.0</td><td>2</td><td>G140M 7000s 15.                                              ..</td><td>0</td><td>..</td></tr>\n",
       "<tr><td>TONS210</td><td>01:21:51.5</td><td>-28:20:57</td><td>0.116</td><td>14.7</td><td>70.0</td><td>1</td><td>/u/xavier/LCO/OVI/FUSE/data/TONS210/TONS210_gal.fits</td><td>20.0</td><td>71 .. 5</td><td>6 .. 87</td><td>1</td><td>56500.0</td><td>20.0</td><td>2</td><td>E140M 22000s                                                 ..</td><td>0</td><td>..</td></tr>\n",
       "</table>"
      ],
      "text/plain": [
       "<Table length=3>\n",
       "      QSO       ...\n",
       "     str15      ...\n",
       "--------------- ...\n",
       "Q0026+1259      ...\n",
       "TONS180         ...\n",
       "TONS210         ..."
      ]
     },
     "execution_count": 4,
     "metadata": {},
     "output_type": "execute_result"
    }
   ],
   "source": [
    "ovidat[0:3]"
   ]
  },
  {
   "cell_type": "code",
   "execution_count": 5,
   "metadata": {},
   "outputs": [],
   "source": [
    "qso_radec = SkyCoord(ra=ovidat['QSO_RA'], dec=ovidat['QSO_DEC'], unit=(u.hourangle, u.deg))"
   ]
  },
  {
   "cell_type": "markdown",
   "metadata": {},
   "source": [
    "## Dwarfs"
   ]
  },
  {
   "cell_type": "code",
   "execution_count": 6,
   "metadata": {
    "collapsed": true
   },
   "outputs": [],
   "source": [
    "cgm_dwarf_file = resource_filename('pyigm','/data/CGM/P11/dwarf_galabs_strct.fits')"
   ]
  },
  {
   "cell_type": "code",
   "execution_count": 7,
   "metadata": {
    "collapsed": true
   },
   "outputs": [],
   "source": [
    "cgm_dwarfs = Table.read(cgm_dwarf_file)"
   ]
  },
  {
   "cell_type": "code",
   "execution_count": 8,
   "metadata": {},
   "outputs": [
    {
     "data": {
      "text/html": [
       "&lt;Table length=3&gt;\n",
       "<table id=\"table140590909026712\" class=\"table-striped table-bordered table-condensed\">\n",
       "<thead><tr><th>FIELD</th><th>ID</th><th>OBJ_ID</th><th>FLG_ANLY</th><th>FLG_SURVEY</th><th>OBJ_TYPE</th><th>MAG [10]</th><th>MAGERR [10]</th><th>FILTER [10]</th><th>IMG_FIL [10]</th><th>XYPIX [2]</th><th>RA</th><th>DEC</th><th>AREA</th><th>STARGAL</th><th>GAL_TYPE</th><th>GAL_COEFF [10]</th><th>Z</th><th>VCIRC</th><th>FSPEC_FIL [10]</th><th>DRA</th><th>DDEC</th></tr></thead>\n",
       "<thead><tr><th>str11</th><th>int32</th><th>str1</th><th>int16</th><th>int16</th><th>int16</th><th>float32</th><th>float32</th><th>str1</th><th>str27</th><th>float32</th><th>float64</th><th>float64</th><th>float32</th><th>float32</th><th>str5</th><th>float32</th><th>float64</th><th>float32</th><th>str29</th><th>float64</th><th>float64</th></tr></thead>\n",
       "<tr><td>Q0026+1259</td><td>1303</td><td>a</td><td>7</td><td>1</td><td>0</td><td>19.733 .. 0.0</td><td>0.125 .. 9.99</td><td>B ..</td><td>Images/Q0026+1259XB.fits    ..</td><td>1014.76 .. 1034.29</td><td>7.28886499155</td><td>13.2746021629</td><td>10.43</td><td>0.18</td><td>Late</td><td>0.331349 .. 0.0</td><td>0.0329451337457</td><td>0.0</td><td>..</td><td>45.6990947951</td><td>0.0191390593786</td></tr>\n",
       "<tr><td>TONS180</td><td>2295</td><td>a</td><td>7</td><td>1</td><td>0</td><td>18.923 .. 1.0</td><td>0.088 .. 0.05</td><td>B ..</td><td>Images/TONS180XB.fits       ..</td><td>1318.89 .. 607.18</td><td>14.2667432785</td><td>-22.44755991</td><td>10.92</td><td>0.19</td><td>Late</td><td>-0.0115093 .. 0.0</td><td>0.0233643911779</td><td>0.0</td><td>..</td><td>154.07390626</td><td>0.0207054292147</td></tr>\n",
       "<tr><td>PKS0405-123</td><td>90033</td><td>a</td><td>7</td><td>1</td><td>0</td><td>0.0 .. 0.44</td><td>0.0 .. 0.06</td><td>..</td><td>..</td><td>61.9512 .. -12.1839</td><td>61.9512481689</td><td>-12.1838884354</td><td>0.0</td><td>0.0</td><td>Late</td><td>0.0 .. 0.0</td><td>0.167</td><td>1.0</td><td>..</td><td>97.7760719383</td><td>0.0877822129587</td></tr>\n",
       "</table>"
      ],
      "text/plain": [
       "<Table length=3>\n",
       "   FIELD      ID  OBJ_ID ...      DRA            DDEC     \n",
       "   str11    int32  str1  ...    float64        float64    \n",
       "----------- ----- ------ ... ------------- ---------------\n",
       "Q0026+1259   1303      a ... 45.6990947951 0.0191390593786\n",
       "TONS180      2295      a ...  154.07390626 0.0207054292147\n",
       "PKS0405-123 90033      a ... 97.7760719383 0.0877822129587"
      ]
     },
     "execution_count": 8,
     "metadata": {},
     "output_type": "execute_result"
    }
   ],
   "source": [
    "cgm_dwarfs[0:3]"
   ]
  },
  {
   "cell_type": "markdown",
   "metadata": {},
   "source": [
    "### Funny columns -- Renaming"
   ]
  },
  {
   "cell_type": "code",
   "execution_count": 9,
   "metadata": {},
   "outputs": [],
   "source": [
    "cgm_dwarfs.rename_column('DRA', 'rho(kpc)')\n",
    "cgm_dwarfs.rename_column('DDEC', 'L(L*)')"
   ]
  },
  {
   "cell_type": "markdown",
   "metadata": {},
   "source": [
    "#### MAG has HI\n",
    "    2 == Ref\n",
    "    3 == z\n",
    "    4 == Lya EW\n",
    "    5 == sigEW Lya\n",
    "    8 == NHI\n",
    "    9 == sigNHI"
   ]
  },
  {
   "cell_type": "code",
   "execution_count": 10,
   "metadata": {},
   "outputs": [
    {
     "data": {
      "text/plain": [
       "'TONS180    '"
      ]
     },
     "execution_count": 10,
     "metadata": {},
     "output_type": "execute_result"
    }
   ],
   "source": [
    "cgm_dwarfs[1]['FIELD']"
   ]
  },
  {
   "cell_type": "code",
   "execution_count": 11,
   "metadata": {},
   "outputs": [
    {
     "data": {
      "text/plain": [
       "array([  1.89230003e+01,   1.80701466e+01,   5.00000000e+00,\n",
       "         2.34109219e-02,   2.22000000e+02,   2.90000000e+01,\n",
       "         5.60000000e+01,   4.00000000e+00,   1.38000002e+01,\n",
       "         1.00000000e+00], dtype=float32)"
      ]
     },
     "execution_count": 11,
     "metadata": {},
     "output_type": "execute_result"
    }
   ],
   "source": [
    "cgm_dwarfs[1]['MAG']"
   ]
  },
  {
   "cell_type": "code",
   "execution_count": 12,
   "metadata": {},
   "outputs": [
    {
     "data": {
      "text/plain": [
       "222.0"
      ]
     },
     "execution_count": 12,
     "metadata": {},
     "output_type": "execute_result"
    }
   ],
   "source": [
    "Lya_EW = cgm_dwarfs[1]['MAG'][4]\n",
    "Lya_EW"
   ]
  },
  {
   "cell_type": "markdown",
   "metadata": {},
   "source": [
    "#### MAGERR has OVI\n",
    "    2 == Ref\n",
    "    3 == z\n",
    "    4 == EW 1031\n",
    "    5 == sigEW 1031\n",
    "    8 == NOVI    \n",
    "    9 == sigNOVI"
   ]
  },
  {
   "cell_type": "code",
   "execution_count": 13,
   "metadata": {},
   "outputs": [
    {
     "data": {
      "text/plain": [
       "array([  8.79999995e-02,   6.49999976e-02,   4.00000000e+00,\n",
       "         2.33999994e-02,   4.30000000e+01,   1.50000000e+01,\n",
       "         3.00000000e+01,   0.00000000e+00,   1.34799995e+01,\n",
       "         5.00000007e-02], dtype=float32)"
      ]
     },
     "execution_count": 13,
     "metadata": {},
     "output_type": "execute_result"
    }
   ],
   "source": [
    "cgm_dwarfs[1]['MAGERR']"
   ]
  },
  {
   "cell_type": "markdown",
   "metadata": {},
   "source": [
    "#### Refs"
   ]
  },
  {
   "cell_type": "code",
   "execution_count": 14,
   "metadata": {
    "collapsed": true
   },
   "outputs": [],
   "source": [
    "refdict = {1: 'tripp08', 2: 'tc08a', 3: 'ds08', 4: 'dsr+06', 5: 'pss04', 6: 'cm09', 9: 'p+11'}"
   ]
  },
  {
   "cell_type": "markdown",
   "metadata": {},
   "source": [
    "## Ingest\n",
    "    python ingest_lit.py"
   ]
  },
  {
   "cell_type": "markdown",
   "metadata": {},
   "source": [
    "## Read"
   ]
  },
  {
   "cell_type": "code",
   "execution_count": 15,
   "metadata": {},
   "outputs": [],
   "source": [
    "p11_tarfile = resource_filename('pyigm','/data/CGM/P11/P11_sys.tar')"
   ]
  },
  {
   "cell_type": "code",
   "execution_count": 29,
   "metadata": {},
   "outputs": [
    {
     "name": "stderr",
     "output_type": "stream",
     "text": [
      "/home/xavier/local/Python/linetools/linetools/lists/linelist.py:402: RuntimeWarning: divide by zero encountered in log10\n",
      "  self._extra_table['log(w*f)'] = np.log10(qm_strength)\n",
      "/home/xavier/local/Python/linetools/linetools/spectralline.py:214: UserWarning: Redshift not input.  Setting to 0 for zLimits\n",
      "  warnings.warn(\"Redshift not input.  Setting to 0 for zLimits\")\n"
     ]
    },
    {
     "name": "stdout",
     "output_type": "stream",
     "text": [
      "Loading abundances from Asplund2009\n",
      "Abundances are relative by number on a logarithmic scale with H=12\n",
      "Skipping a likely folder: CGM_JSON\n"
     ]
    }
   ],
   "source": [
    "p11 = CGMAbsSurvey.from_tarball(p11_tarfile, chk_lowz=False, chk_z=False)"
   ]
  },
  {
   "cell_type": "code",
   "execution_count": 30,
   "metadata": {},
   "outputs": [
    {
     "data": {
      "text/plain": [
       "<CGM_Survey:  nsys=54, ref=>\n",
       "<IGMSystem: IGMSystem 00:29:13.8019 13:16:04.0065, zabs=0.0329451, Z/H=0, NHI=0>\n",
       "<IGMSystem: IGMSystem 00:29:13.8019 13:16:04.0065, zabs=0.039311, Z/H=0, NHI=0>\n",
       "<IGMSystem: IGMSystem 00:57:20.0009 -22:22:55.9961, zabs=0.0233644, Z/H=0, NHI=13.8>\n",
       "<IGMSystem: IGMSystem 00:57:20.0009 -22:22:55.9961, zabs=0.045619, Z/H=0, NHI=13.8>\n",
       "<IGMSystem: IGMSystem 03:11:55.1958 -76:51:51.0087, zabs=0.202643, Z/H=0, NHI=15.14>\n",
       "<IGMSystem: IGMSystem 03:11:55.1958 -76:51:51.0087, zabs=0.0593531, Z/H=0, NHI=13.53>\n",
       "<IGMSystem: IGMSystem 04:07:48.4013 -12:11:37.0133, zabs=0.0964516, Z/H=0, NHI=14.64>\n",
       "<IGMSystem: IGMSystem 04:07:48.4013 -12:11:37.0133, zabs=0.297609, Z/H=0, NHI=13.85>\n",
       "<IGMSystem: IGMSystem 04:07:48.4013 -12:11:37.0133, zabs=0.352, Z/H=0, NHI=14.04>\n",
       "<IGMSystem: IGMSystem 04:07:48.4013 -12:11:37.0133, zabs=0.153212, Z/H=0, NHI=13.46>\n",
       "<IGMSystem: IGMSystem 04:07:48.4013 -12:11:37.0133, zabs=0.203022, Z/H=0, NHI=13>\n",
       "<IGMSystem: IGMSystem 04:07:48.4013 -12:11:37.0133, zabs=0.36124, Z/H=0, NHI=15.14>\n",
       "<IGMSystem: IGMSystem 04:07:48.4013 -12:11:37.0133, zabs=0.167, Z/H=0, NHI=15.47>\n",
       "<IGMSystem: IGMSystem 04:07:48.4013 -12:11:37.0133, zabs=0.167043, Z/H=0, NHI=15.47>\n",
       "<IGMSystem: IGMSystem 10:07:26.1013 12:48:55.9826, zabs=0.0296659, Z/H=0, NHI=0>\n",
       "<IGMSystem: IGMSystem 10:07:26.1013 12:48:55.9826, zabs=0.0092207, Z/H=0, NHI=13.9>\n",
       "<IGMSystem: IGMSystem 10:31:54.3018 -14:16:51.0159, zabs=0.0508329, Z/H=0, NHI=14>\n",
       "<IGMSystem: IGMSystem 11:19:08.7011 21:19:17.9875, zabs=0.165951, Z/H=0, NHI=14.43>\n",
       "<IGMSystem: IGMSystem 11:19:08.7011 21:19:17.9875, zabs=0.0600208, Z/H=0, NHI=13.64>\n",
       "<IGMSystem: IGMSystem 11:19:08.7011 21:19:17.9875, zabs=0.0593876, Z/H=0, NHI=13.64>\n",
       "<IGMSystem: IGMSystem 11:19:08.7011 21:19:17.9875, zabs=0.13829, Z/H=0, NHI=14.35>\n",
       "<IGMSystem: IGMSystem 12:14:17.7012 14:03:12.9922, zabs=0.06438, Z/H=0, NHI=15.73>\n",
       "<IGMSystem: IGMSystem 12:14:17.7012 14:03:12.9922, zabs=0.0646084, Z/H=0, NHI=15.73>\n",
       "<IGMSystem: IGMSystem 12:14:17.7012 14:03:12.9922, zabs=0.0519877, Z/H=0, NHI=15.67>\n",
       "<IGMSystem: IGMSystem 12:14:17.7012 14:03:12.9922, zabs=0.0511341, Z/H=0, NHI=15.67>\n",
       "<IGMSystem: IGMSystem 12:19:20.9014 06:38:37.9926, zabs=0.124102, Z/H=0, NHI=14.78>\n",
       "<IGMSystem: IGMSystem 12:19:20.9014 06:38:37.9926, zabs=0.0131789, Z/H=0, NHI=13.94>\n",
       "<IGMSystem: IGMSystem 12:19:20.9014 06:38:37.9926, zabs=0.00666757, Z/H=0, NHI=19.3>\n",
       "<IGMSystem: IGMSystem 12:19:20.9014 06:38:37.9926, zabs=0.0080957, Z/H=0, NHI=13.1>\n",
       "<IGMSystem: IGMSystem 12:29:06.7015 02:03:08.9935, zabs=0.00620912, Z/H=0, NHI=15.38>\n",
       "<IGMSystem: IGMSystem 12:33:25.8013 09:31:22.9939, zabs=0.0118122, Z/H=0, NHI=0>\n",
       "<IGMSystem: IGMSystem 12:33:25.8013 09:31:22.9939, zabs=0.125431, Z/H=0, NHI=0>\n",
       "<IGMSystem: IGMSystem 12:33:25.8013 09:31:22.9939, zabs=0.0905207, Z/H=0, NHI=0>\n",
       "<IGMSystem: IGMSystem 12:33:25.8013 09:31:22.9939, zabs=0.206801, Z/H=0, NHI=0>\n",
       "<IGMSystem: IGMSystem 13:05:33.0018 -10:33:19.0031, zabs=0.191709, Z/H=0, NHI=15.01>\n",
       "<IGMSystem: IGMSystem 13:05:33.0018 -10:33:19.0031, zabs=0.0935802, Z/H=0, NHI=15.35>\n",
       "<IGMSystem: IGMSystem 13:05:33.0018 -10:33:19.0031, zabs=0.0425621, Z/H=0, NHI=14.83>\n",
       "<IGMSystem: IGMSystem 13:05:33.0018 -10:33:19.0031, zabs=0.145303, Z/H=0, NHI=15.29>\n",
       "<IGMSystem: IGMSystem 13:09:47.0013 08:19:48.9973, zabs=0.127621, Z/H=0, NHI=0>\n",
       "<IGMSystem: IGMSystem 13:09:47.0013 08:19:48.9973, zabs=0.0337313, Z/H=0, NHI=0>\n",
       "<IGMSystem: IGMSystem 14:29:06.4015 01:17:06.0048, zabs=0.0299413, Z/H=0, NHI=13.1>\n",
       "<IGMSystem: IGMSystem 14:29:06.4015 01:17:06.0048, zabs=0.0281113, Z/H=0, NHI=13.67>\n",
       "<IGMSystem: IGMSystem 15:55:43.0013 11:11:24.0123, zabs=0.0150682, Z/H=0, NHI=0>\n",
       "<IGMSystem: IGMSystem 15:55:43.0013 11:11:24.0123, zabs=0.0395311, Z/H=0, NHI=0>\n",
       "<IGMSystem: IGMSystem 15:55:43.0013 11:11:24.0123, zabs=0.0420751, Z/H=0, NHI=0>\n",
       "<IGMSystem: IGMSystem 15:55:43.0013 11:11:24.0123, zabs=0.0416811, Z/H=0, NHI=0>\n",
       "<IGMSystem: IGMSystem 21:55:01.5014 -09:22:24.9819, zabs=0.13262, Z/H=0, NHI=14.3>\n",
       "<IGMSystem: IGMSystem 21:55:01.5014 -09:22:24.9819, zabs=0.0503651, Z/H=0, NHI=14.08>\n",
       "<IGMSystem: IGMSystem 21:55:01.5014 -09:22:24.9819, zabs=0.155532, Z/H=0, NHI=13.06>\n",
       "<IGMSystem: IGMSystem 21:55:01.5014 -09:22:24.9819, zabs=0.0807993, Z/H=0, NHI=15.11>\n",
       "<IGMSystem: IGMSystem 21:55:01.5014 -09:22:24.9819, zabs=0.0788036, Z/H=0, NHI=14.29>\n",
       "<IGMSystem: IGMSystem 21:55:01.5014 -09:22:24.9819, zabs=0.0809754, Z/H=0, NHI=15.11>\n",
       "<IGMSystem: IGMSystem 21:55:01.5014 -09:22:24.9819, zabs=0.0516533, Z/H=0, NHI=14.08>\n",
       "<IGMSystem: IGMSystem 21:58:51.801 -30:13:29.9821, zabs=0.0169383, Z/H=0, NHI=13.56>"
      ]
     },
     "execution_count": 30,
     "metadata": {},
     "output_type": "execute_result"
    }
   ],
   "source": [
    "p11"
   ]
  },
  {
   "cell_type": "code",
   "execution_count": 31,
   "metadata": {},
   "outputs": [
    {
     "data": {
      "text/latex": [
       "$[46.32007,~231.08717,~153.91919,~281.05024,~34.785816,~241.08236,~271.56657,~263.85542,~170.30404,~193.11905,~277.85574,~228.92416,~101.21597,~122.3351,~181.21741,~78.670472,~306.79467,~159.32049,~133.01256,~221.58367,~137.97841,~151.94839,~72.602911,~182.7867,~138.10197,~94.401827,~106.07147,~92.907301,~37.14687,~85.547486,~41.258645,~260.27253,~120.93128,~243.45857,~225.98147,~69.865838,~227.78876,~88.463791,~99.493909,~274.85217,~162.60742,~309.02131,~176.70156,~282.59707,~293.98086,~184.38542,~228.32783,~305.40178,~266.93147,~292.71387,~236.98361,~35.061178,~271.77462,~108.99879] \\; \\mathrm{kpc}$"
      ],
      "text/plain": [
       "<Quantity [  46.32007042, 231.08717107, 153.91919088, 281.05023842,\n",
       "             34.78581646, 241.08235808, 271.56656557, 263.85542101,\n",
       "            170.30403727, 193.11905036, 277.85573984, 228.92416305,\n",
       "            101.21597012, 122.33510368, 181.21741485,  78.67047199,\n",
       "            306.79467169, 159.32049028, 133.01256117, 221.58366503,\n",
       "            137.97841172, 151.94838708,  72.60291124, 182.78669925,\n",
       "            138.10197377,  94.40182666, 106.07146536,  92.90730056,\n",
       "             37.14686961,  85.54748551,  41.25864481, 260.27253479,\n",
       "            120.93128195, 243.45856691, 225.98146589,  69.86583806,\n",
       "            227.78876094,  88.46379097,  99.49390855, 274.8521744 ,\n",
       "            162.60742332, 309.02130732, 176.70156002, 282.59706888,\n",
       "            293.98085988, 184.38541882, 228.32783121, 305.40178171,\n",
       "            266.93146969, 292.71386558, 236.98360734,  35.06117805,\n",
       "            271.77462491, 108.99879108] kpc>"
      ]
     },
     "execution_count": 31,
     "metadata": {},
     "output_type": "execute_result"
    }
   ],
   "source": [
    "p11.rho"
   ]
  },
  {
   "cell_type": "code",
   "execution_count": 32,
   "metadata": {},
   "outputs": [
    {
     "data": {
      "text/plain": [
       "array([  0.        ,   0.        ,  13.80000019,  13.80000019,\n",
       "        15.14000034,  13.52999973,  14.64000034,  13.85000038,\n",
       "        14.03999996,  13.46000004,  13.        ,  15.14000034,\n",
       "        15.47000027,  15.47000027,   0.        ,  13.89999962,\n",
       "        14.        ,  14.43000031,  13.64000034,  13.64000034,\n",
       "        14.35000038,  15.72999954,  15.72999954,  15.67000008,\n",
       "        15.67000008,  14.77999973,  13.93999958,  19.29999924,\n",
       "        13.10000038,  15.38000011,   0.        ,   0.        ,\n",
       "         0.        ,   0.        ,  15.01000023,  15.35000038,\n",
       "        14.82999992,  15.28999996,   0.        ,   0.        ,\n",
       "        13.10000038,  13.67000008,   0.        ,   0.        ,\n",
       "         0.        ,   0.        ,  14.30000019,  14.07999992,\n",
       "        13.06000042,  15.10999966,  14.28999996,  15.10999966,\n",
       "        14.07999992,  13.56000042])"
      ]
     },
     "execution_count": 32,
     "metadata": {},
     "output_type": "execute_result"
    }
   ],
   "source": [
    "p11.NHI"
   ]
  },
  {
   "cell_type": "markdown",
   "metadata": {
    "collapsed": true
   },
   "source": [
    "## Lya EW"
   ]
  },
  {
   "cell_type": "code",
   "execution_count": 33,
   "metadata": {},
   "outputs": [
    {
     "data": {
      "text/plain": [
       "[<AbsComponent: 00:57:20 -22:22:56, Name=OVI_z0.02340, Zion=(8,6), Ej=0 1 / cm, z=0.0234, vlim=-400 km / s,400 km / s, logN=13.48, sig_logN=0.05000000074505806, flag_N=1>,\n",
       " <AbsComponent: 00:57:20 -22:22:56, Name=HI_z0.02341, Zion=(1,1), Ej=0 1 / cm, z=0.0234109, vlim=-400 km / s,400 km / s, logN=13.8, sig_logN=1.0, flag_N=1>]"
      ]
     },
     "execution_count": 33,
     "metadata": {},
     "output_type": "execute_result"
    }
   ],
   "source": [
    "p11.cgm_abs[2].igm_sys._components\n",
    "#print(icgm.igm_sys)\n",
    "#icgm.igm_sys._components"
   ]
  },
  {
   "cell_type": "code",
   "execution_count": 35,
   "metadata": {},
   "outputs": [
    {
     "data": {
      "text/plain": [
       "[<AbsLine: HI 1215, z=0.0234 wrest=1215.6700 Angstrom, f=0.4164>]"
      ]
     },
     "execution_count": 35,
     "metadata": {},
     "output_type": "execute_result"
    }
   ],
   "source": [
    "p11.cgm_abs[2].igm_sys._components[1]._abslines"
   ]
  },
  {
   "cell_type": "code",
   "execution_count": 37,
   "metadata": {},
   "outputs": [
    {
     "data": {
      "text/plain": [
       "{'EW': <Quantity 0.222 Angstrom>,\n",
       " 'N': <Quantity 0.0 1 / cm2>,\n",
       " 'Ref': 5,\n",
       " 'b': <Quantity 0.0 km / s>,\n",
       " 'coord': <SkyCoord (ICRS): (ra, dec) in deg\n",
       "     ( 0.,  0.)>,\n",
       " 'flag_EW': 1,\n",
       " 'flag_N': 0,\n",
       " 'logN': 0.0,\n",
       " 'sig_EW': <Quantity 0.029 Angstrom>,\n",
       " 'sig_N': <Quantity 0.0 1 / cm2>,\n",
       " 'sig_b': <Quantity 0.0 km / s>,\n",
       " 'sig_logN': 0.0,\n",
       " 'sig_v': <Quantity 0.0 km / s>,\n",
       " 'sig_z': 0.0,\n",
       " 'v': <Quantity 0.0 km / s>}"
      ]
     },
     "execution_count": 37,
     "metadata": {},
     "output_type": "execute_result"
    }
   ],
   "source": [
    "Lya = p11.cgm_abs[2].igm_sys._components[1]._abslines[0]\n",
    "Lya.attrib"
   ]
  },
  {
   "cell_type": "markdown",
   "metadata": {},
   "source": [
    "### Table"
   ]
  },
  {
   "cell_type": "code",
   "execution_count": 38,
   "metadata": {
    "collapsed": true
   },
   "outputs": [],
   "source": [
    "Lya_tbl = p11.ion_tbl((1,1))"
   ]
  },
  {
   "cell_type": "code",
   "execution_count": 39,
   "metadata": {},
   "outputs": [
    {
     "data": {
      "text/html": [
       "&lt;Table length=44&gt;\n",
       "<table id=\"table140590894081584\" class=\"table-striped table-bordered table-condensed\">\n",
       "<thead><tr><th>name</th><th>Z</th><th>ion</th><th>A</th><th>Ej</th><th>z</th><th>vmin</th><th>vmax</th><th>flag_N</th><th>logN</th><th>sig_logN</th><th>cgm_name</th><th>rho_impact</th></tr></thead>\n",
       "<thead><tr><th></th><th></th><th></th><th></th><th>1 / cm</th><th></th><th>km / s</th><th>km / s</th><th></th><th></th><th></th><th></th><th>kpc</th></tr></thead>\n",
       "<thead><tr><th>str32</th><th>int64</th><th>int64</th><th>int64</th><th>float64</th><th>float64</th><th>float64</th><th>float64</th><th>int64</th><th>float64</th><th>float64</th><th>str18</th><th>float64</th></tr></thead>\n",
       "<tr><td>J002913.8+131604_z0.033</td><td>0</td><td>0</td><td>0</td><td>0.0</td><td>0.0</td><td>0.0</td><td>0.0</td><td>0</td><td>0.0</td><td>0.0</td><td>J0029+1316_291_70</td><td>46.3200704229</td></tr>\n",
       "<tr><td>J002913.8+131604_z0.039</td><td>0</td><td>0</td><td>0</td><td>0.0</td><td>0.0</td><td>0.0</td><td>0.0</td><td>0</td><td>0.0</td><td>0.0</td><td>J0029+1316_4_294</td><td>231.08717107</td></tr>\n",
       "<tr><td>J005720-222256_z0.023</td><td>1</td><td>1</td><td>0</td><td>0.0</td><td>0.0234054606408</td><td>-398.400194945</td><td>401.599805055</td><td>1</td><td>13.8000001907</td><td>1.0</td><td>J0057-2222_223_323</td><td>153.919190876</td></tr>\n",
       "<tr><td>J005720-222256_z0.046</td><td>1</td><td>1</td><td>0</td><td>0.0</td><td>0.0456186737865</td><td>-394.646203256</td><td>405.353796744</td><td>1</td><td>13.8000001907</td><td>1.0</td><td>J0057-2222_329_310</td><td>281.050238424</td></tr>\n",
       "<tr><td>J031155.2-765151_z0.203</td><td>1</td><td>1</td><td>0</td><td>0.0</td><td>0.202704995871</td><td>-388.782692027</td><td>411.217307973</td><td>1</td><td>15.1400003433</td><td>0.164999991655</td><td>J0311-7651_117_10</td><td>34.7858164592</td></tr>\n",
       "<tr><td>J031155.2-765151_z0.059</td><td>1</td><td>1</td><td>0</td><td>0.0</td><td>0.0594599992037</td><td>-400.0</td><td>400.0</td><td>1</td><td>13.529999733</td><td>0.0299999993294</td><td>J0311-7651_174_208</td><td>241.082358081</td></tr>\n",
       "<tr><td>J040748.4-121137_z0.096</td><td>1</td><td>1</td><td>0</td><td>0.0</td><td>0.0965700000525</td><td>-400.0</td><td>400.0</td><td>1</td><td>14.6400003433</td><td>0.114999994636</td><td>J0407-1211_109_150</td><td>271.566565575</td></tr>\n",
       "<tr><td>J040748.4-121137_z0.298</td><td>1</td><td>1</td><td>0</td><td>0.0</td><td>0.297625005245</td><td>-394.223250089</td><td>405.776749911</td><td>1</td><td>13.8500003815</td><td>0.125</td><td>J0407-1211_145_59</td><td>263.855421013</td></tr>\n",
       "<tr><td>J040748.4-121137_z0.352</td><td>1</td><td>1</td><td>0</td><td>0.0</td><td>0.350919991732</td><td>-400.0</td><td>400.0</td><td>1</td><td>14.0399999619</td><td>0.0799999982119</td><td>J0407-1211_180_34</td><td>170.304037272</td></tr>\n",
       "<tr><td>...</td><td>...</td><td>...</td><td>...</td><td>...</td><td>...</td><td>...</td><td>...</td><td>...</td><td>...</td><td>...</td><td>...</td><td>...</td></tr>\n",
       "<tr><td>J142906.4+011706_z0.030</td><td>1</td><td>1</td><td>0</td><td>0.0</td><td>0.0298800198361</td><td>-405.81597101</td><td>394.18402899</td><td>1</td><td>13.1000003815</td><td>1.0</td><td>J1429+0117_206_269</td><td>162.607423321</td></tr>\n",
       "<tr><td>J142906.4+011706_z0.028</td><td>1</td><td>1</td><td>0</td><td>0.0</td><td>0.0282600000501</td><td>-411.662215422</td><td>388.337784578</td><td>1</td><td>13.6700000763</td><td>0.209999993443</td><td>J1429+0117_85_542</td><td>309.02130732</td></tr>\n",
       "<tr><td>J215501.5-092225_z0.133</td><td>1</td><td>1</td><td>0</td><td>0.0</td><td>0.132400006056</td><td>-400.0</td><td>400.0</td><td>2</td><td>14.3000001907</td><td>9.98999977112</td><td>J2155-0922_129_96</td><td>228.327831205</td></tr>\n",
       "<tr><td>J215501.5-092225_z0.050</td><td>1</td><td>1</td><td>0</td><td>0.0</td><td>0.0507849995047</td><td>-204.566993908</td><td>595.433006092</td><td>1</td><td>14.0799999237</td><td>0.204999998212</td><td>J2155-0922_193_307</td><td>305.401781705</td></tr>\n",
       "<tr><td>J215501.5-092225_z0.156</td><td>1</td><td>1</td><td>0</td><td>0.0</td><td>0.154870003462</td><td>-400.0</td><td>400.0</td><td>1</td><td>13.0600004196</td><td>0.0900000035763</td><td>J2155-0922_1_98</td><td>266.931469687</td></tr>\n",
       "<tr><td>J215501.5-092225_z0.081</td><td>1</td><td>1</td><td>0</td><td>0.0</td><td>0.0807499997318</td><td>-386.131149822</td><td>413.868850178</td><td>1</td><td>15.1099996567</td><td>0.129999995232</td><td>J2155-0922_226_190</td><td>292.713865581</td></tr>\n",
       "<tr><td>J215501.5-092225_z0.079</td><td>1</td><td>1</td><td>0</td><td>0.0</td><td>0.0776500031352</td><td>-400.0</td><td>400.0</td><td>2</td><td>14.2899999619</td><td>9.98999977112</td><td>J2155-0922_267_157</td><td>236.983607342</td></tr>\n",
       "<tr><td>J215501.5-092225_z0.081</td><td>1</td><td>1</td><td>0</td><td>0.0</td><td>0.0807499997318</td><td>-386.131149822</td><td>413.868850178</td><td>1</td><td>15.1099996567</td><td>0.129999995232</td><td>J2155-0922_271_23</td><td>35.0611780509</td></tr>\n",
       "<tr><td>J215501.5-092225_z0.052</td><td>1</td><td>1</td><td>0</td><td>0.0</td><td>0.0514349993318</td><td>-390.020281486</td><td>409.979718514</td><td>1</td><td>14.0799999237</td><td>0.204999998212</td><td>J2155-0922_344_267</td><td>271.774624906</td></tr>\n",
       "<tr><td>J215851.8-301330_z0.017</td><td>1</td><td>1</td><td>0</td><td>0.0</td><td>0.0168549995869</td><td>-354.302397261</td><td>445.697602739</td><td>1</td><td>13.5600004196</td><td>0.019999999553</td><td>J2158-3013_298_313</td><td>108.998791085</td></tr>\n",
       "</table>"
      ],
      "text/plain": [
       "<Table length=44>\n",
       "          name            Z    ion  ...      cgm_name        rho_impact \n",
       "                                    ...                         kpc     \n",
       "         str32          int64 int64 ...       str18           float64   \n",
       "----------------------- ----- ----- ... ------------------ -------------\n",
       "J002913.8+131604_z0.033     0     0 ...  J0029+1316_291_70 46.3200704229\n",
       "J002913.8+131604_z0.039     0     0 ...   J0029+1316_4_294  231.08717107\n",
       "  J005720-222256_z0.023     1     1 ... J0057-2222_223_323 153.919190876\n",
       "  J005720-222256_z0.046     1     1 ... J0057-2222_329_310 281.050238424\n",
       "J031155.2-765151_z0.203     1     1 ...  J0311-7651_117_10 34.7858164592\n",
       "J031155.2-765151_z0.059     1     1 ... J0311-7651_174_208 241.082358081\n",
       "J040748.4-121137_z0.096     1     1 ... J0407-1211_109_150 271.566565575\n",
       "J040748.4-121137_z0.298     1     1 ...  J0407-1211_145_59 263.855421013\n",
       "J040748.4-121137_z0.352     1     1 ...  J0407-1211_180_34 170.304037272\n",
       "                    ...   ...   ... ...                ...           ...\n",
       "J142906.4+011706_z0.030     1     1 ... J1429+0117_206_269 162.607423321\n",
       "J142906.4+011706_z0.028     1     1 ...  J1429+0117_85_542  309.02130732\n",
       "J215501.5-092225_z0.133     1     1 ...  J2155-0922_129_96 228.327831205\n",
       "J215501.5-092225_z0.050     1     1 ... J2155-0922_193_307 305.401781705\n",
       "J215501.5-092225_z0.156     1     1 ...    J2155-0922_1_98 266.931469687\n",
       "J215501.5-092225_z0.081     1     1 ... J2155-0922_226_190 292.713865581\n",
       "J215501.5-092225_z0.079     1     1 ... J2155-0922_267_157 236.983607342\n",
       "J215501.5-092225_z0.081     1     1 ...  J2155-0922_271_23 35.0611780509\n",
       "J215501.5-092225_z0.052     1     1 ... J2155-0922_344_267 271.774624906\n",
       "J215851.8-301330_z0.017     1     1 ... J2158-3013_298_313 108.998791085"
      ]
     },
     "execution_count": 39,
     "metadata": {},
     "output_type": "execute_result"
    }
   ],
   "source": [
    "Lya_tbl"
   ]
  },
  {
   "cell_type": "code",
   "execution_count": null,
   "metadata": {
    "collapsed": true
   },
   "outputs": [],
   "source": []
  }
 ],
 "metadata": {
  "kernelspec": {
   "display_name": "Python 3",
   "language": "python",
   "name": "python3"
  },
  "language_info": {
   "codemirror_mode": {
    "name": "ipython",
    "version": 3
   },
   "file_extension": ".py",
   "mimetype": "text/x-python",
   "name": "python",
   "nbconvert_exporter": "python",
   "pygments_lexer": "ipython3",
   "version": "3.6.1"
  }
 },
 "nbformat": 4,
 "nbformat_minor": 1
}
