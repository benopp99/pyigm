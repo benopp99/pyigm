{
 "cells": [
  {
   "cell_type": "markdown",
   "metadata": {},
   "source": [
    "# Ingest Richter17 measurements on the Galactic CGM"
   ]
  },
  {
   "cell_type": "code",
   "execution_count": 1,
   "metadata": {
    "collapsed": true
   },
   "outputs": [],
   "source": [
    "# inputs\n",
    "import numpy as np\n",
    "from pkg_resources import resource_filename \n",
    "\n",
    "from astropy.table import Table, Column\n",
    "from astropy import units as u\n",
    "\n",
    "from pyigm.cgm.galaxy import GalaxyCGM"
   ]
  },
  {
   "cell_type": "markdown",
   "metadata": {},
   "source": [
    "## Load"
   ]
  },
  {
   "cell_type": "code",
   "execution_count": 2,
   "metadata": {},
   "outputs": [
    {
     "data": {
      "text/html": [
       "&lt;Table length=5&gt;\n",
       "<table id=\"table140522529793584\" class=\"table-striped table-bordered table-condensed\">\n",
       "<thead><tr><th>_RAJ2000</th><th>_DEJ2000</th><th>No</th><th>Name</th><th>GLON</th><th>GLAT</th><th>SimbadName</th><th>_RA_icrs</th><th>_DE_icrs</th></tr></thead>\n",
       "<thead><tr><th>deg</th><th>deg</th><th></th><th></th><th>deg</th><th>deg</th><th></th><th>deg</th><th>deg</th></tr></thead>\n",
       "<thead><tr><th>float64</th><th>float64</th><th>int16</th><th>str27</th><th>float32</th><th>float32</th><th>str25</th><th>float64</th><th>float64</th></tr></thead>\n",
       "<tr><td>217.453519368</td><td>6.73937425763</td><td>1</td><td>J142947.03+064334.9</td><td>356.3</td><td>59.0</td><td>SDSS J142947.00+064334.9</td><td>217.453519444</td><td>6.73937416667</td></tr>\n",
       "<tr><td>328.757903569</td><td>-44.2154474778</td><td>2</td><td>RXJ2154.1-4414</td><td>355.2</td><td>-50.9</td><td>RXJ2154.1-4414</td><td>328.757903611</td><td>-44.2154475</td></tr>\n",
       "<tr><td>217.399553408</td><td>3.34851508545</td><td>3</td><td>2MASS-J14294076+0321257</td><td>351.8</td><td>56.6</td><td>2MASS J14294076+0321257</td><td>217.399553333</td><td>3.348515</td></tr>\n",
       "<tr><td>302.357782545</td><td>-48.8089363491</td><td>4</td><td>PKS2005-489</td><td>350.4</td><td>-32.6</td><td>PKS2005-489</td><td>302.3577825</td><td>-48.8089363889</td></tr>\n",
       "<tr><td>219.426089729</td><td>-1.77408846911</td><td>5</td><td>LBQS-1435-0134</td><td>348.7</td><td>51.4</td><td>LBQS 1435-0134</td><td>219.426089722</td><td>-1.77408833333</td></tr>\n",
       "</table>"
      ],
      "text/plain": [
       "<Table length=5>\n",
       "   _RAJ2000      _DEJ2000      No  ...    _RA_icrs      _DE_icrs   \n",
       "     deg           deg             ...      deg           deg      \n",
       "   float64       float64     int16 ...    float64       float64    \n",
       "------------- -------------- ----- ... ------------- --------------\n",
       "217.453519368  6.73937425763     1 ... 217.453519444  6.73937416667\n",
       "328.757903569 -44.2154474778     2 ... 328.757903611    -44.2154475\n",
       "217.399553408  3.34851508545     3 ... 217.399553333       3.348515\n",
       "302.357782545 -48.8089363491     4 ...   302.3577825 -48.8089363889\n",
       "219.426089729 -1.77408846911     5 ... 219.426089722 -1.77408833333"
      ]
     },
     "execution_count": 2,
     "metadata": {},
     "output_type": "execute_result"
    }
   ],
   "source": [
    "r17_a1_file = resource_filename('pyigm', '/data/CGM/Galaxy/richter17_A1.fits')\n",
    "r17_a1 = Table.read(r17_a1_file)\n",
    "r17_a1[0:5]"
   ]
  },
  {
   "cell_type": "code",
   "execution_count": 3,
   "metadata": {},
   "outputs": [
    {
     "data": {
      "text/html": [
       "&lt;Table masked=True length=20&gt;\n",
       "<table id=\"table140522526851144\" class=\"table-striped table-bordered table-condensed\">\n",
       "<thead><tr><th>No</th><th>Name</th><th>Ion</th><th>lambda0</th><th>S_N</th><th>vmin</th><th>vmax</th><th>Flag</th><th>W</th><th>e_W</th><th>l_logN</th><th>logN</th><th>e_logN</th></tr></thead>\n",
       "<thead><tr><th></th><th></th><th></th><th>0.1nm</th><th></th><th>km / s</th><th>km / s</th><th></th><th>0.1pm</th><th>0.1pm</th><th></th><th>[cm/2]</th><th>[cm/2]</th></tr></thead>\n",
       "<thead><tr><th>int16</th><th>str27</th><th>str5</th><th>float32</th><th>int16</th><th>int16</th><th>int16</th><th>str1</th><th>int16</th><th>int16</th><th>str1</th><th>float32</th><th>float32</th></tr></thead>\n",
       "<tr><td>1</td><td>J142947.03+064334.9</td><td>CII</td><td>1334.5</td><td>6</td><td>-155</td><td>-100</td><td></td><td>145</td><td>27</td><td>&gt;</td><td>14.03</td><td>nan</td></tr>\n",
       "<tr><td>2</td><td>J142947.03+064334.9</td><td>CIV</td><td>1548.2</td><td>6</td><td>-165</td><td>-99</td><td></td><td>123</td><td>35</td><td></td><td>13.77</td><td>0.13</td></tr>\n",
       "<tr><td>3</td><td>J142947.03+064334.9</td><td>CIV</td><td>1550.8</td><td>6</td><td>-131</td><td>-100</td><td></td><td>42</td><td>22</td><td></td><td>13.55</td><td>0.16</td></tr>\n",
       "<tr><td>4</td><td>J142947.03+064334.9</td><td>SiII</td><td>1190.4</td><td>5</td><td>-133</td><td>-103</td><td></td><td>50</td><td>19</td><td></td><td>13.17</td><td>0.2</td></tr>\n",
       "<tr><td>5</td><td>J142947.03+064334.9</td><td>SiII</td><td>1193.3</td><td>5</td><td>-149</td><td>-100</td><td></td><td>94</td><td>26</td><td>&gt;</td><td>13.32</td><td>nan</td></tr>\n",
       "<tr><td>6</td><td>J142947.03+064334.9</td><td>SiII</td><td>1260.4</td><td>6</td><td>-155</td><td>-100</td><td></td><td>124</td><td>23</td><td>&gt;</td><td>13.15</td><td>nan</td></tr>\n",
       "<tr><td>7</td><td>J142947.03+064334.9</td><td>SiII</td><td>1526.7</td><td>5</td><td>-142</td><td>-99</td><td></td><td>59</td><td>32</td><td></td><td>13.64</td><td>0.26</td></tr>\n",
       "<tr><td>8</td><td>J142947.03+064334.9</td><td>SiIII</td><td>1206.5</td><td>4</td><td>-167</td><td>-99</td><td></td><td>122</td><td>39</td><td>&gt;</td><td>12.81</td><td>nan</td></tr>\n",
       "<tr><td>9</td><td>PKS2005-489</td><td>CII</td><td>1334.5</td><td>24</td><td>101</td><td>202</td><td></td><td>125</td><td>11</td><td></td><td>13.89</td><td>0.06</td></tr>\n",
       "<tr><td>10</td><td>PKS2005-489</td><td>CIV</td><td>1548.2</td><td>18</td><td>101</td><td>167</td><td></td><td>91</td><td>13</td><td></td><td>13.5</td><td>0.1</td></tr>\n",
       "<tr><td>11</td><td>PKS2005-489</td><td>SiII</td><td>1193.3</td><td>25</td><td>101</td><td>187</td><td></td><td>68</td><td>9</td><td></td><td>13.11</td><td>0.08</td></tr>\n",
       "<tr><td>12</td><td>PKS2005-489</td><td>SiII</td><td>1260.4</td><td>34</td><td>99</td><td>206</td><td></td><td>123</td><td>8</td><td></td><td>13.07</td><td>0.04</td></tr>\n",
       "<tr><td>13</td><td>PKS2005-489</td><td>SiIII</td><td>1206.5</td><td>25</td><td>101</td><td>203</td><td></td><td>143</td><td>9</td><td></td><td>13.0</td><td>0.06</td></tr>\n",
       "<tr><td>14</td><td>LBQS-1435-0134</td><td>CII</td><td>1334.5</td><td>31</td><td>-136</td><td>-100</td><td></td><td>57</td><td>4</td><td></td><td>13.59</td><td>0.07</td></tr>\n",
       "<tr><td>15</td><td>LBQS-1435-0134</td><td>CIV</td><td>1548.2</td><td>35</td><td>-183</td><td>-100</td><td></td><td>118</td><td>8</td><td></td><td>13.58</td><td>0.05</td></tr>\n",
       "<tr><td>16</td><td>LBQS-1435-0134</td><td>SiII</td><td>1190.4</td><td>32</td><td>-121</td><td>-100</td><td></td><td>0</td><td>0</td><td></td><td>nan</td><td>nan</td></tr>\n",
       "<tr><td>17</td><td>LBQS-1435-0134</td><td>SiII</td><td>1260.4</td><td>39</td><td>-156</td><td>-100</td><td></td><td>59</td><td>4</td><td></td><td>12.75</td><td>0.05</td></tr>\n",
       "<tr><td>18</td><td>LBQS-1435-0134</td><td>SiIII</td><td>1206.5</td><td>35</td><td>-180</td><td>-100</td><td></td><td>49</td><td>6</td><td></td><td>12.44</td><td>0.07</td></tr>\n",
       "<tr><td>19</td><td>RBS1892</td><td>CII</td><td>1334.5</td><td>22</td><td>-114</td><td>-100</td><td>t</td><td>13</td><td>3</td><td></td><td>12.9</td><td>0.23</td></tr>\n",
       "<tr><td>20</td><td>RBS1892</td><td>CIV</td><td>1548.2</td><td>17</td><td>-141</td><td>-102</td><td>t</td><td>37</td><td>10</td><td></td><td>13.04</td><td>0.19</td></tr>\n",
       "</table>"
      ],
      "text/plain": [
       "<Table masked=True length=20>\n",
       "  No          Name         Ion  lambda0  S_N  ...  e_W  l_logN   logN   e_logN\n",
       "                                 0.1nm        ... 0.1pm         [cm/2]  [cm/2]\n",
       "int16        str27         str5 float32 int16 ... int16  str1  float32 float32\n",
       "----- ------------------- ----- ------- ----- ... ----- ------ ------- -------\n",
       "    1 J142947.03+064334.9 CII    1334.5     6 ...    27      >   14.03     nan\n",
       "    2 J142947.03+064334.9 CIV    1548.2     6 ...    35          13.77    0.13\n",
       "    3 J142947.03+064334.9 CIV    1550.8     6 ...    22          13.55    0.16\n",
       "    4 J142947.03+064334.9 SiII   1190.4     5 ...    19          13.17     0.2\n",
       "    5 J142947.03+064334.9 SiII   1193.3     5 ...    26      >   13.32     nan\n",
       "    6 J142947.03+064334.9 SiII   1260.4     6 ...    23      >   13.15     nan\n",
       "    7 J142947.03+064334.9 SiII   1526.7     5 ...    32          13.64    0.26\n",
       "    8 J142947.03+064334.9 SiIII  1206.5     4 ...    39      >   12.81     nan\n",
       "    9         PKS2005-489 CII    1334.5    24 ...    11          13.89    0.06\n",
       "   10         PKS2005-489 CIV    1548.2    18 ...    13           13.5     0.1\n",
       "   11         PKS2005-489 SiII   1193.3    25 ...     9          13.11    0.08\n",
       "   12         PKS2005-489 SiII   1260.4    34 ...     8          13.07    0.04\n",
       "   13         PKS2005-489 SiIII  1206.5    25 ...     9           13.0    0.06\n",
       "   14      LBQS-1435-0134 CII    1334.5    31 ...     4          13.59    0.07\n",
       "   15      LBQS-1435-0134 CIV    1548.2    35 ...     8          13.58    0.05\n",
       "   16      LBQS-1435-0134 SiII   1190.4    32 ...     0            nan     nan\n",
       "   17      LBQS-1435-0134 SiII   1260.4    39 ...     4          12.75    0.05\n",
       "   18      LBQS-1435-0134 SiIII  1206.5    35 ...     6          12.44    0.07\n",
       "   19             RBS1892 CII    1334.5    22 ...     3           12.9    0.23\n",
       "   20             RBS1892 CIV    1548.2    17 ...    10          13.04    0.19"
      ]
     },
     "execution_count": 3,
     "metadata": {},
     "output_type": "execute_result"
    }
   ],
   "source": [
    "r17_a2_file = resource_filename('pyigm', '/data/CGM/Galaxy/richter17_A2.fits')\n",
    "r17_a2 = Table.read(r17_a2_file)\n",
    "r17_a2[0:20]"
   ]
  },
  {
   "cell_type": "code",
   "execution_count": 4,
   "metadata": {},
   "outputs": [
    {
     "data": {
      "text/html": [
       "&lt;MaskedColumn name=&apos;Ion&apos; dtype=&apos;str5&apos; length=4&gt;\n",
       "<table>\n",
       "<tr><td>CII</td></tr>\n",
       "<tr><td>CIV</td></tr>\n",
       "<tr><td>SiII</td></tr>\n",
       "<tr><td>SiIII</td></tr>\n",
       "</table>"
      ],
      "text/plain": [
       "<MaskedColumn name='Ion' dtype='str5' length=4>\n",
       "CII  \n",
       "CIV  \n",
       "SiII \n",
       "SiIII"
      ]
     },
     "execution_count": 4,
     "metadata": {},
     "output_type": "execute_result"
    }
   ],
   "source": [
    "np.unique(r17_a2['Ion'])"
   ]
  },
  {
   "cell_type": "markdown",
   "metadata": {},
   "source": [
    "## Sync"
   ]
  },
  {
   "cell_type": "code",
   "execution_count": 5,
   "metadata": {
    "collapsed": true
   },
   "outputs": [],
   "source": [
    "ra = np.zeros((len(r17_a2)))\n",
    "dec = np.zeros((len(r17_a2)))"
   ]
  },
  {
   "cell_type": "code",
   "execution_count": 6,
   "metadata": {
    "collapsed": true
   },
   "outputs": [],
   "source": [
    "for row in r17_a1:\n",
    "    idx = np.where(r17_a2['Name'] == row['Name'])[0]\n",
    "    # Fill\n",
    "    ra[idx] = row['_RAJ2000']\n",
    "    dec[idx] = row['_DEJ2000']"
   ]
  },
  {
   "cell_type": "code",
   "execution_count": 7,
   "metadata": {
    "collapsed": true
   },
   "outputs": [],
   "source": [
    "r17_a2.add_column(Column(ra, name='RA'))\n",
    "r17_a2.add_column(Column(dec, name='DEC'))"
   ]
  },
  {
   "cell_type": "code",
   "execution_count": 8,
   "metadata": {},
   "outputs": [
    {
     "data": {
      "text/html": [
       "&lt;Table masked=True length=1049&gt;\n",
       "<table id=\"table140522526817192\" class=\"table-striped table-bordered table-condensed\">\n",
       "<thead><tr><th>No</th><th>Name</th><th>Ion</th><th>lambda0</th><th>S_N</th><th>vmin</th><th>vmax</th><th>Flag</th><th>W</th><th>e_W</th><th>l_logN</th><th>logN</th><th>e_logN</th><th>RA</th><th>DEC</th></tr></thead>\n",
       "<thead><tr><th></th><th></th><th></th><th>0.1nm</th><th></th><th>km / s</th><th>km / s</th><th></th><th>0.1pm</th><th>0.1pm</th><th></th><th>[cm/2]</th><th>[cm/2]</th><th></th><th></th></tr></thead>\n",
       "<thead><tr><th>int16</th><th>str27</th><th>str5</th><th>float32</th><th>int16</th><th>int16</th><th>int16</th><th>str1</th><th>int16</th><th>int16</th><th>str1</th><th>float32</th><th>float32</th><th>float64</th><th>float64</th></tr></thead>\n",
       "<tr><td>1</td><td>J142947.03+064334.9</td><td>CII</td><td>1334.5</td><td>6</td><td>-155</td><td>-100</td><td></td><td>145</td><td>27</td><td>&gt;</td><td>14.03</td><td>nan</td><td>217.453519368</td><td>6.73937425763</td></tr>\n",
       "<tr><td>2</td><td>J142947.03+064334.9</td><td>CIV</td><td>1548.2</td><td>6</td><td>-165</td><td>-99</td><td></td><td>123</td><td>35</td><td></td><td>13.77</td><td>0.13</td><td>217.453519368</td><td>6.73937425763</td></tr>\n",
       "<tr><td>3</td><td>J142947.03+064334.9</td><td>CIV</td><td>1550.8</td><td>6</td><td>-131</td><td>-100</td><td></td><td>42</td><td>22</td><td></td><td>13.55</td><td>0.16</td><td>217.453519368</td><td>6.73937425763</td></tr>\n",
       "<tr><td>4</td><td>J142947.03+064334.9</td><td>SiII</td><td>1190.4</td><td>5</td><td>-133</td><td>-103</td><td></td><td>50</td><td>19</td><td></td><td>13.17</td><td>0.2</td><td>217.453519368</td><td>6.73937425763</td></tr>\n",
       "<tr><td>5</td><td>J142947.03+064334.9</td><td>SiII</td><td>1193.3</td><td>5</td><td>-149</td><td>-100</td><td></td><td>94</td><td>26</td><td>&gt;</td><td>13.32</td><td>nan</td><td>217.453519368</td><td>6.73937425763</td></tr>\n",
       "<tr><td>6</td><td>J142947.03+064334.9</td><td>SiII</td><td>1260.4</td><td>6</td><td>-155</td><td>-100</td><td></td><td>124</td><td>23</td><td>&gt;</td><td>13.15</td><td>nan</td><td>217.453519368</td><td>6.73937425763</td></tr>\n",
       "<tr><td>7</td><td>J142947.03+064334.9</td><td>SiII</td><td>1526.7</td><td>5</td><td>-142</td><td>-99</td><td></td><td>59</td><td>32</td><td></td><td>13.64</td><td>0.26</td><td>217.453519368</td><td>6.73937425763</td></tr>\n",
       "<tr><td>8</td><td>J142947.03+064334.9</td><td>SiIII</td><td>1206.5</td><td>4</td><td>-167</td><td>-99</td><td></td><td>122</td><td>39</td><td>&gt;</td><td>12.81</td><td>nan</td><td>217.453519368</td><td>6.73937425763</td></tr>\n",
       "<tr><td>9</td><td>PKS2005-489</td><td>CII</td><td>1334.5</td><td>24</td><td>101</td><td>202</td><td></td><td>125</td><td>11</td><td></td><td>13.89</td><td>0.06</td><td>302.357782545</td><td>-48.8089363491</td></tr>\n",
       "<tr><td>...</td><td>...</td><td>...</td><td>...</td><td>...</td><td>...</td><td>...</td><td>...</td><td>...</td><td>...</td><td>...</td><td>...</td><td>...</td><td>...</td><td>...</td></tr>\n",
       "<tr><td>1040</td><td>J141612.96+122340.5</td><td>CIV</td><td>1550.8</td><td>8</td><td>-132</td><td>-100</td><td></td><td>35</td><td>12</td><td></td><td>13.44</td><td>0.25</td><td>214.028646871</td><td>12.4048435587</td></tr>\n",
       "<tr><td>1041</td><td>J141612.96+122340.5</td><td>SiII</td><td>1190.4</td><td>6</td><td>-153</td><td>-100</td><td></td><td>64</td><td>15</td><td></td><td>13.45</td><td>0.22</td><td>214.028646871</td><td>12.4048435587</td></tr>\n",
       "<tr><td>1042</td><td>J141612.96+122340.5</td><td>SiII</td><td>1193.3</td><td>6</td><td>-145</td><td>-101</td><td></td><td>42</td><td>14</td><td></td><td>12.79</td><td>0.27</td><td>214.028646871</td><td>12.4048435587</td></tr>\n",
       "<tr><td>1043</td><td>J141612.96+122340.5</td><td>SiII</td><td>1260.4</td><td>7</td><td>-150</td><td>-97</td><td></td><td>84</td><td>21</td><td></td><td>12.91</td><td>0.21</td><td>214.028646871</td><td>12.4048435587</td></tr>\n",
       "<tr><td>1044</td><td>J141612.96+122340.5</td><td>SiII</td><td>1526.7</td><td>8</td><td>-151</td><td>-99</td><td></td><td>80</td><td>23</td><td></td><td>13.59</td><td>0.23</td><td>214.028646871</td><td>12.4048435587</td></tr>\n",
       "<tr><td>1045</td><td>J141612.96+122340.5</td><td>SiIII</td><td>1206.5</td><td>8</td><td>-163</td><td>-101</td><td></td><td>81</td><td>20</td><td></td><td>12.8</td><td>0.16</td><td>214.028646871</td><td>12.4048435587</td></tr>\n",
       "<tr><td>1046</td><td>SDSSJ134246.89+184443.6</td><td>CII</td><td>1334.5</td><td>11</td><td>-126</td><td>-101</td><td></td><td>15</td><td>7</td><td></td><td>13.07</td><td>0.32</td><td>205.708862732</td><td>18.7216341833</td></tr>\n",
       "<tr><td>1047</td><td>SDSSJ134246.89+184443.6</td><td>CIV</td><td>1548.2</td><td>12</td><td>-118</td><td>-99</td><td></td><td>23</td><td>9</td><td></td><td>12.86</td><td>0.35</td><td>205.708862732</td><td>18.7216341833</td></tr>\n",
       "<tr><td>1048</td><td>SDSSJ134246.89+184443.6</td><td>SiII</td><td>1260.4</td><td>11</td><td>-126</td><td>-100</td><td></td><td>26</td><td>9</td><td></td><td>12.39</td><td>0.26</td><td>205.708862732</td><td>18.7216341833</td></tr>\n",
       "<tr><td>1049</td><td>SDSSJ134246.89+184443.6</td><td>SiIII</td><td>1206.5</td><td>9</td><td>-140</td><td>-100</td><td></td><td>33</td><td>11</td><td></td><td>12.32</td><td>0.27</td><td>205.708862732</td><td>18.7216341833</td></tr>\n",
       "</table>"
      ],
      "text/plain": [
       "<Table masked=True length=1049>\n",
       "  No            Name           Ion  ...  e_logN       RA           DEC      \n",
       "                                    ...  [cm/2]                             \n",
       "int16          str27           str5 ... float32    float64       float64    \n",
       "----- ----------------------- ----- ... ------- ------------- --------------\n",
       "    1     J142947.03+064334.9 CII   ...     nan 217.453519368  6.73937425763\n",
       "    2     J142947.03+064334.9 CIV   ...    0.13 217.453519368  6.73937425763\n",
       "    3     J142947.03+064334.9 CIV   ...    0.16 217.453519368  6.73937425763\n",
       "    4     J142947.03+064334.9 SiII  ...     0.2 217.453519368  6.73937425763\n",
       "    5     J142947.03+064334.9 SiII  ...     nan 217.453519368  6.73937425763\n",
       "    6     J142947.03+064334.9 SiII  ...     nan 217.453519368  6.73937425763\n",
       "    7     J142947.03+064334.9 SiII  ...    0.26 217.453519368  6.73937425763\n",
       "    8     J142947.03+064334.9 SiIII ...     nan 217.453519368  6.73937425763\n",
       "    9             PKS2005-489 CII   ...    0.06 302.357782545 -48.8089363491\n",
       "  ...                     ...   ... ...     ...           ...            ...\n",
       " 1040     J141612.96+122340.5 CIV   ...    0.25 214.028646871  12.4048435587\n",
       " 1041     J141612.96+122340.5 SiII  ...    0.22 214.028646871  12.4048435587\n",
       " 1042     J141612.96+122340.5 SiII  ...    0.27 214.028646871  12.4048435587\n",
       " 1043     J141612.96+122340.5 SiII  ...    0.21 214.028646871  12.4048435587\n",
       " 1044     J141612.96+122340.5 SiII  ...    0.23 214.028646871  12.4048435587\n",
       " 1045     J141612.96+122340.5 SiIII ...    0.16 214.028646871  12.4048435587\n",
       " 1046 SDSSJ134246.89+184443.6 CII   ...    0.32 205.708862732  18.7216341833\n",
       " 1047 SDSSJ134246.89+184443.6 CIV   ...    0.35 205.708862732  18.7216341833\n",
       " 1048 SDSSJ134246.89+184443.6 SiII  ...    0.26 205.708862732  18.7216341833\n",
       " 1049 SDSSJ134246.89+184443.6 SiIII ...    0.27 205.708862732  18.7216341833"
      ]
     },
     "execution_count": 8,
     "metadata": {},
     "output_type": "execute_result"
    }
   ],
   "source": [
    "r17_a2"
   ]
  },
  {
   "cell_type": "markdown",
   "metadata": {},
   "source": [
    "## Now in pyigm"
   ]
  },
  {
   "cell_type": "code",
   "execution_count": 9,
   "metadata": {},
   "outputs": [
    {
     "name": "stderr",
     "output_type": "stream",
     "text": [
      "/home/xavier/local/Python/pyigm/pyigm/cgm/cgm.py:55: UserWarning: cgm.CGMAbsSys: Using Planck15 cosmology\n",
      "  warnings.warn('cgm.CGMAbsSys: Using Planck15 cosmology')\n"
     ]
    },
    {
     "name": "stdout",
     "output_type": "stream",
     "text": [
      "Loading data.  This takes ~20s to build it all...\n",
      "read_sets: Using set file -- \n",
      "  /home/xavier/local/Python/linetools/linetools/lists/sets/llist_v1.2.ascii\n",
      "Loading abundances from Asplund2009\n",
      "Abundances are relative by number on a logarithmic scale with H=12\n",
      "Loading Richter+17 for CII, CIV, SiII, SiIII\n"
     ]
    },
    {
     "name": "stderr",
     "output_type": "stream",
     "text": [
      "/home/xavier/local/Python/linetools/linetools/isgm/abscomponent.py:731: UserWarning: Absline <AbsLine: SiII 1193, z=0.0000 wrest=1193.2897 Angstrom, f=0.582> has flag=0.  Hopefully you expected that\n",
      "  warnings.warn(\"Absline {} has flag=0.  Hopefully you expected that\".format(str(aline)))\n"
     ]
    },
    {
     "name": "stdout",
     "output_type": "stream",
     "text": [
      "read_sets: Using set file -- \n",
      "  /home/xavier/local/Python/linetools/linetools/lists/sets/llist_v1.2.ascii\n"
     ]
    },
    {
     "name": "stderr",
     "output_type": "stream",
     "text": [
      "/home/xavier/local/Python/linetools/linetools/lists/linelist.py:309: UserWarning: WARNING: Multiple lines with wrest=9.72\n",
      "  warnings.warn(wmsg)\n",
      "/home/xavier/local/Python/linetools/linetools/lists/linelist.py:311: UserWarning: Taking the first entry. Maybe use higher precision.\n",
      "  'Taking the first entry. Maybe use higher precision.')\n",
      "/home/xavier/local/Python/linetools/linetools/lists/linelist.py:309: UserWarning: WARNING: Multiple lines with wrest=9.91\n",
      "  warnings.warn(wmsg)\n",
      "/home/xavier/local/Python/linetools/linetools/lists/linelist.py:311: UserWarning: Taking the first entry. Maybe use higher precision.\n",
      "  'Taking the first entry. Maybe use higher precision.')\n",
      "/home/xavier/local/Python/linetools/linetools/lists/linelist.py:309: UserWarning: WARNING: Multiple lines with wrest=10.06\n",
      "  warnings.warn(wmsg)\n",
      "/home/xavier/local/Python/linetools/linetools/lists/linelist.py:311: UserWarning: Taking the first entry. Maybe use higher precision.\n",
      "  'Taking the first entry. Maybe use higher precision.')\n",
      "/home/xavier/local/Python/linetools/linetools/lists/linelist.py:309: UserWarning: WARNING: Multiple lines with wrest=10.37\n",
      "  warnings.warn(wmsg)\n",
      "/home/xavier/local/Python/linetools/linetools/lists/linelist.py:311: UserWarning: Taking the first entry. Maybe use higher precision.\n",
      "  'Taking the first entry. Maybe use higher precision.')\n"
     ]
    },
    {
     "name": "stdout",
     "output_type": "stream",
     "text": [
      "Loading abundances from Asplund2009\n",
      "Abundances are relative by number on a logarithmic scale with H=12\n",
      "Loading Fang+15 for OVII\n"
     ]
    },
    {
     "name": "stderr",
     "output_type": "stream",
     "text": [
      "/home/xavier/local/Python/linetools/linetools/isgm/abscomponent.py:731: UserWarning: Absline <AbsLine: OVII 21, z=0.0000 wrest=21.6019 Angstrom, f=0.696> has flag=0.  Hopefully you expected that\n",
      "  warnings.warn(\"Absline {} has flag=0.  Hopefully you expected that\".format(str(aline)))\n"
     ]
    },
    {
     "name": "stdout",
     "output_type": "stream",
     "text": [
      "Loading Savage+03 for OVI\n"
     ]
    }
   ],
   "source": [
    "mwcgm = GalaxyCGM()"
   ]
  },
  {
   "cell_type": "markdown",
   "metadata": {},
   "source": [
    "### Ions"
   ]
  },
  {
   "cell_type": "code",
   "execution_count": 10,
   "metadata": {},
   "outputs": [
    {
     "data": {
      "text/html": [
       "&lt;Table masked=True length=20&gt;\n",
       "<table id=\"table140522500131248\" class=\"table-striped table-bordered table-condensed\">\n",
       "<thead><tr><th>abssys_name</th><th>b_gal</th><th>l_gal</th><th>comp_name</th><th>Z</th><th>ion</th><th>Ej</th><th>vmin</th><th>vmax</th><th>ion_name</th><th>flag_N</th><th>logN</th><th>sig_logN [2]</th><th>comment</th><th>reliability</th><th>z_sys</th><th>cgm_name</th><th>rho_impact</th></tr></thead>\n",
       "<thead><tr><th></th><th>deg</th><th>deg</th><th></th><th></th><th></th><th>1 / cm</th><th>km / s</th><th>km / s</th><th></th><th></th><th></th><th></th><th></th><th></th><th></th><th></th><th>kpc</th></tr></thead>\n",
       "<thead><tr><th>str27</th><th>float64</th><th>float64</th><th>str14</th><th>int64</th><th>int64</th><th>float64</th><th>float64</th><th>float64</th><th>str5</th><th>int64</th><th>float64</th><th>float64</th><th>str1</th><th>str4</th><th>float64</th><th>str21</th><th>float64</th></tr></thead>\n",
       "<tr><td>J142947.03+064334.9_z0</td><td>58.9999971028</td><td>356.300009712</td><td>SiII_z0.00000</td><td>14</td><td>2</td><td>0.0</td><td>-155.0</td><td>-99.0</td><td>SiII</td><td>1</td><td>13.2208159797</td><td>0.172163497629 .. 0.172163497629</td><td></td><td>none</td><td>0.0</td><td>J1429+0644_127_212658</td><td>6.86249122085</td></tr>\n",
       "<tr><td>PKS2005-489_z0</td><td>-32.6000028074</td><td>350.400007884</td><td>SiII_z0.00000</td><td>14</td><td>2</td><td>0.0</td><td>99.0</td><td>206.0</td><td>SiII</td><td>1</td><td>13.0771533121</td><td>0.0358000395833 .. 0.0358000395833</td><td></td><td>none</td><td>0.0</td><td>J2009-4848_149_121802</td><td>4.45430301029</td></tr>\n",
       "<tr><td>LBQS-1435-0134_z0</td><td>51.3999972229</td><td>348.700009891</td><td>SiII_z0.00000</td><td>14</td><td>2</td><td>0.0</td><td>-156.0</td><td>-100.0</td><td>SiII</td><td>1</td><td>12.75</td><td>0.0500000007451 .. --</td><td></td><td>none</td><td>0.0</td><td>J1437-0146_132_188213</td><td>6.32818941815</td></tr>\n",
       "<tr><td>RBS1892_z0</td><td>-58.400002721</td><td>345.900006538</td><td>SiII_z0.00000</td><td>14</td><td>2</td><td>0.0</td><td>-115.0</td><td>-100.0</td><td>SiII</td><td>1</td><td>12.0799999237</td><td>0.209999993443 .. 0.209999993443</td><td></td><td>none</td><td>0.0</td><td>J2245-4651_142_214042</td><td>6.88991625141</td></tr>\n",
       "<tr><td>QSO-B1435-0645_z0</td><td>47.1999973217</td><td>344.000009945</td><td>SiII_z0.00000</td><td>14</td><td>2</td><td>0.0</td><td>-137.0</td><td>-100.0</td><td>SiII</td><td>1</td><td>12.7110845167</td><td>0.100507984112 .. --</td><td></td><td>none</td><td>0.0</td><td>J1438-0658_134_177202</td><td>6.05802874288</td></tr>\n",
       "<tr><td>--</td><td>--</td><td>--</td><td>--</td><td>--</td><td>--</td><td>--</td><td>--</td><td>--</td><td>--</td><td>0</td><td>--</td><td>0.172163497629 .. --</td><td>--</td><td>--</td><td>--</td><td>J1406+0156_121_218546</td><td>6.97705066476</td></tr>\n",
       "<tr><td>SDSS-J135726.27+043541.4_z0</td><td>62.4999973985</td><td>340.800011333</td><td>SiII_z0.00000</td><td>14</td><td>2</td><td>0.0</td><td>-145.0</td><td>-101.0</td><td>SiII</td><td>1</td><td>12.9099998474</td><td>0.0900000035763 .. 0.0900000035763</td><td></td><td>none</td><td>0.0</td><td>J1357+0435_115_230929</td><td>7.19932312597</td></tr>\n",
       "<tr><td>IRAS-F22456-5125_z0</td><td>-56.6000025406</td><td>338.500006155</td><td>SiII_z0.00000</td><td>14</td><td>2</td><td>0.0</td><td>100.0</td><td>157.0</td><td>SiII</td><td>1</td><td>12.2299995422</td><td>0.0799999982119 .. --</td><td></td><td>none</td><td>0.0</td><td>J2248-5111_147_213088</td><td>6.87103966991</td></tr>\n",
       "<tr><td>HE2347-4342_z0</td><td>-69.6000024705</td><td>336.000004028</td><td>SiII_z0.00000</td><td>14</td><td>2</td><td>0.0</td><td>99.0</td><td>167.0</td><td>SiII</td><td>1</td><td>12.7983449548</td><td>0.0458025208137 .. 0.0458025208137</td><td></td><td>none</td><td>0.0</td><td>J2350-4325_141_257154</td><td>7.58355386721</td></tr>\n",
       "<tr><td>--</td><td>--</td><td>--</td><td>--</td><td>--</td><td>--</td><td>--</td><td>--</td><td>--</td><td>--</td><td>0</td><td>--</td><td>0.172163497629 .. 0.172163497629</td><td>--</td><td>--</td><td>--</td><td>J1342+0507_107_243388</td><td>7.39678867578</td></tr>\n",
       "<tr><td>1H-2129-624_z0</td><td>-42.5000023174</td><td>331.100006806</td><td>SiII_z0.00000</td><td>14</td><td>2</td><td>0.0</td><td>99.0</td><td>254.0</td><td>SiII</td><td>1</td><td>12.0306699245</td><td>0.0833665212963 .. 0.0833665212963</td><td></td><td>none</td><td>0.0</td><td>J2136-6226_154_179279</td><td>6.11035142494</td></tr>\n",
       "<tr><td>--</td><td>--</td><td>--</td><td>--</td><td>--</td><td>--</td><td>--</td><td>--</td><td>--</td><td>--</td><td>0</td><td>--</td><td>0.172163497629 .. 0.172163497629</td><td>--</td><td>--</td><td>--</td><td>J1315+1525_77_283600</td><td>7.84703482209</td></tr>\n",
       "<tr><td>SDSSJ134251.60-005345.3_z0</td><td>59.3999977592</td><td>328.800011857</td><td>SiII_z0.00000</td><td>14</td><td>2</td><td>0.0</td><td>-149.0</td><td>-100.0</td><td>SiII</td><td>1</td><td>13.2033118352</td><td>0.174667438974 .. 0.174667438974</td><td></td><td>none</td><td>0.0</td><td>J1342-0052_115_231078</td><td>7.201835228</td></tr>\n",
       "<tr><td>HARO11_z0</td><td>-82.8000022174</td><td>328.09999272</td><td>SiII_z0.00000</td><td>14</td><td>2</td><td>0.0</td><td>-273.0</td><td>190.0</td><td>SiII</td><td>1</td><td>13.1535951342</td><td>0.0369538722817 .. 0.0369538722817</td><td></td><td>none</td><td>0.0</td><td>J0036-3335_137_302011</td><td>7.954583562</td></tr>\n",
       "<tr><td>RXS-J00057-5007_z0</td><td>-65.4000019413</td><td>320.700003578</td><td>SiII_z0.00000</td><td>14</td><td>2</td><td>0.0</td><td>91.0</td><td>190.0</td><td>SiII</td><td>1</td><td>13.29335058</td><td>0.0416493608809 .. 0.0416493608809</td><td></td><td>none</td><td>0.0</td><td>J0005-5007_153_256349</td><td>7.57355046076</td></tr>\n",
       "<tr><td>--</td><td>--</td><td>--</td><td>--</td><td>--</td><td>--</td><td>--</td><td>--</td><td>--</td><td>--</td><td>0</td><td>--</td><td>0.172163497629 .. 0.172163497629</td><td>--</td><td>--</td><td>--</td><td>J1309+0819_78_273810</td><td>7.7643306176</td></tr>\n",
       "<tr><td>VV2006-J130524.3+035731_z0</td><td>66.5999984371</td><td>311.7000144</td><td>SiII_z0.00000</td><td>14</td><td>2</td><td>0.0</td><td>-174.0</td><td>-99.0</td><td>SiII</td><td>1</td><td>12.8018725091</td><td>0.11165562435 .. 0.11165562435</td><td></td><td>none</td><td>0.0</td><td>J1305+0357_85_268851</td><td>7.71575444915</td></tr>\n",
       "<tr><td>VV2006-J125124.6+055420_z0</td><td>68.7999988443</td><td>302.900015619</td><td>SiII_z0.00000</td><td>14</td><td>2</td><td>0.0</td><td>-159.0</td><td>-99.0</td><td>SiII</td><td>1</td><td>13.4300003052</td><td>0.209999993443 .. 0.209999993443</td><td></td><td>none</td><td>0.0</td><td>J1251+0555_66_283219</td><td>7.84415030429</td></tr>\n",
       "<tr><td>RBS144_z0</td><td>-65.8000009906</td><td>299.500002264</td><td>SiII_z0.00000</td><td>14</td><td>2</td><td>0.0</td><td>100.0</td><td>218.0</td><td>SiII</td><td>2</td><td>13.6899995804</td><td>99.99 .. 99.99</td><td></td><td>none</td><td>0.0</td><td>J0100-5116_166_282076</td><td>7.83532207266</td></tr>\n",
       "<tr><td>HB89-0202-765_z0</td><td>-40.0000008907</td><td>297.500006137</td><td>SiII_z0.00000</td><td>14</td><td>2</td><td>0.0</td><td>100.0</td><td>334.0</td><td>SiII</td><td>2</td><td>14.5799999237</td><td>99.99 .. 99.99</td><td></td><td>none</td><td>0.0</td><td>J0203-7621_169_249426</td><td>7.48281077532</td></tr>\n",
       "</table>"
      ],
      "text/plain": [
       "<Table masked=True length=20>\n",
       "        abssys_name             b_gal      ...   rho_impact \n",
       "                                 deg       ...      kpc     \n",
       "           str27               float64     ...    float64   \n",
       "--------------------------- -------------- ... -------------\n",
       "     J142947.03+064334.9_z0  58.9999971028 ... 6.86249122085\n",
       "             PKS2005-489_z0 -32.6000028074 ... 4.45430301029\n",
       "          LBQS-1435-0134_z0  51.3999972229 ... 6.32818941815\n",
       "                 RBS1892_z0  -58.400002721 ... 6.88991625141\n",
       "          QSO-B1435-0645_z0  47.1999973217 ... 6.05802874288\n",
       "                         --             -- ... 6.97705066476\n",
       "SDSS-J135726.27+043541.4_z0  62.4999973985 ... 7.19932312597\n",
       "        IRAS-F22456-5125_z0 -56.6000025406 ... 6.87103966991\n",
       "             HE2347-4342_z0 -69.6000024705 ... 7.58355386721\n",
       "                         --             -- ... 7.39678867578\n",
       "             1H-2129-624_z0 -42.5000023174 ... 6.11035142494\n",
       "                         --             -- ... 7.84703482209\n",
       " SDSSJ134251.60-005345.3_z0  59.3999977592 ...   7.201835228\n",
       "                  HARO11_z0 -82.8000022174 ...   7.954583562\n",
       "         RXS-J00057-5007_z0 -65.4000019413 ... 7.57355046076\n",
       "                         --             -- ...  7.7643306176\n",
       " VV2006-J130524.3+035731_z0  66.5999984371 ... 7.71575444915\n",
       " VV2006-J125124.6+055420_z0  68.7999988443 ... 7.84415030429\n",
       "                  RBS144_z0 -65.8000009906 ... 7.83532207266\n",
       "           HB89-0202-765_z0 -40.0000008907 ... 7.48281077532"
      ]
     },
     "execution_count": 10,
     "metadata": {},
     "output_type": "execute_result"
    }
   ],
   "source": [
    "SiII_tbl = mwcgm.abs.ion_tbl((14,2))\n",
    "SiII_tbl[0:20]"
   ]
  },
  {
   "cell_type": "markdown",
   "metadata": {},
   "source": [
    "----"
   ]
  },
  {
   "cell_type": "code",
   "execution_count": null,
   "metadata": {
    "collapsed": true
   },
   "outputs": [],
   "source": []
  }
 ],
 "metadata": {
  "kernelspec": {
   "display_name": "Python 3",
   "language": "python",
   "name": "python3"
  },
  "language_info": {
   "codemirror_mode": {
    "name": "ipython",
    "version": 3
   },
   "file_extension": ".py",
   "mimetype": "text/x-python",
   "name": "python",
   "nbconvert_exporter": "python",
   "pygments_lexer": "ipython3",
   "version": "3.6.3"
  }
 },
 "nbformat": 4,
 "nbformat_minor": 2
}
