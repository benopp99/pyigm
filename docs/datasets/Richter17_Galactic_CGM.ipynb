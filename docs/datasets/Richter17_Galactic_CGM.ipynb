{
 "cells": [
  {
   "cell_type": "markdown",
   "metadata": {},
   "source": [
    "# Ingest Richter17 measurements on the Galactic CGM"
   ]
  },
  {
   "cell_type": "code",
   "execution_count": 1,
   "metadata": {
    "collapsed": true
   },
   "outputs": [],
   "source": [
    "# inputs\n",
    "import numpy as np\n",
    "from pkg_resources import resource_filename \n",
    "\n",
    "from astropy.table import Table, Column\n",
    "from astropy import units as u\n",
    "\n",
    "from pyigm.cgm.galaxy import GalaxyCGM"
   ]
  },
  {
   "cell_type": "markdown",
   "metadata": {},
   "source": [
    "## Load"
   ]
  },
  {
   "cell_type": "code",
   "execution_count": 2,
   "metadata": {},
   "outputs": [
    {
     "data": {
      "text/html": [
       "&lt;Table length=5&gt;\n",
       "<table id=\"table139684086940504\" class=\"table-striped table-bordered table-condensed\">\n",
       "<thead><tr><th>_RAJ2000</th><th>_DEJ2000</th><th>No</th><th>Name</th><th>GLON</th><th>GLAT</th><th>SimbadName</th><th>_RA_icrs</th><th>_DE_icrs</th></tr></thead>\n",
       "<thead><tr><th>deg</th><th>deg</th><th></th><th></th><th>deg</th><th>deg</th><th></th><th>deg</th><th>deg</th></tr></thead>\n",
       "<thead><tr><th>float64</th><th>float64</th><th>int16</th><th>str27</th><th>float32</th><th>float32</th><th>str25</th><th>float64</th><th>float64</th></tr></thead>\n",
       "<tr><td>217.453519368</td><td>6.73937425763</td><td>1</td><td>J142947.03+064334.9</td><td>356.3</td><td>59.0</td><td>SDSS J142947.00+064334.9</td><td>217.453519444</td><td>6.73937416667</td></tr>\n",
       "<tr><td>328.757903569</td><td>-44.2154474778</td><td>2</td><td>RXJ2154.1-4414</td><td>355.2</td><td>-50.9</td><td>RXJ2154.1-4414</td><td>328.757903611</td><td>-44.2154475</td></tr>\n",
       "<tr><td>217.399553408</td><td>3.34851508545</td><td>3</td><td>2MASS-J14294076+0321257</td><td>351.8</td><td>56.6</td><td>2MASS J14294076+0321257</td><td>217.399553333</td><td>3.348515</td></tr>\n",
       "<tr><td>302.357782545</td><td>-48.8089363491</td><td>4</td><td>PKS2005-489</td><td>350.4</td><td>-32.6</td><td>PKS2005-489</td><td>302.3577825</td><td>-48.8089363889</td></tr>\n",
       "<tr><td>219.426089729</td><td>-1.77408846911</td><td>5</td><td>LBQS-1435-0134</td><td>348.7</td><td>51.4</td><td>LBQS 1435-0134</td><td>219.426089722</td><td>-1.77408833333</td></tr>\n",
       "</table>"
      ],
      "text/plain": [
       "<Table length=5>\n",
       "   _RAJ2000      _DEJ2000      No  ...    _RA_icrs      _DE_icrs   \n",
       "     deg           deg             ...      deg           deg      \n",
       "   float64       float64     int16 ...    float64       float64    \n",
       "------------- -------------- ----- ... ------------- --------------\n",
       "217.453519368  6.73937425763     1 ... 217.453519444  6.73937416667\n",
       "328.757903569 -44.2154474778     2 ... 328.757903611    -44.2154475\n",
       "217.399553408  3.34851508545     3 ... 217.399553333       3.348515\n",
       "302.357782545 -48.8089363491     4 ...   302.3577825 -48.8089363889\n",
       "219.426089729 -1.77408846911     5 ... 219.426089722 -1.77408833333"
      ]
     },
     "execution_count": 2,
     "metadata": {},
     "output_type": "execute_result"
    }
   ],
   "source": [
    "r17_a1_file = resource_filename('pyigm', '/data/CGM/Galaxy/richter17_A1.fits')\n",
    "r17_a1 = Table.read(r17_a1_file)\n",
    "r17_a1[0:5]"
   ]
  },
  {
   "cell_type": "code",
   "execution_count": 12,
   "metadata": {},
   "outputs": [
    {
     "data": {
      "text/html": [
       "&lt;Table masked=True length=20&gt;\n",
       "<table id=\"table139683128108256\" class=\"table-striped table-bordered table-condensed\">\n",
       "<thead><tr><th>No</th><th>Name</th><th>Ion</th><th>lambda0</th><th>S_N</th><th>vmin</th><th>vmax</th><th>Flag</th><th>W</th><th>e_W</th><th>l_logN</th><th>logN</th><th>e_logN</th></tr></thead>\n",
       "<thead><tr><th></th><th></th><th></th><th>0.1nm</th><th></th><th>km / s</th><th>km / s</th><th></th><th>0.1pm</th><th>0.1pm</th><th></th><th>[cm/2]</th><th>[cm/2]</th></tr></thead>\n",
       "<thead><tr><th>int16</th><th>str27</th><th>str5</th><th>float32</th><th>int16</th><th>int16</th><th>int16</th><th>str1</th><th>int16</th><th>int16</th><th>str1</th><th>float32</th><th>float32</th></tr></thead>\n",
       "<tr><td>1</td><td>J142947.03+064334.9</td><td>CII</td><td>1334.5</td><td>6</td><td>-155</td><td>-100</td><td></td><td>145</td><td>27</td><td>&gt;</td><td>14.03</td><td>nan</td></tr>\n",
       "<tr><td>2</td><td>J142947.03+064334.9</td><td>CIV</td><td>1548.2</td><td>6</td><td>-165</td><td>-99</td><td></td><td>123</td><td>35</td><td></td><td>13.77</td><td>0.13</td></tr>\n",
       "<tr><td>3</td><td>J142947.03+064334.9</td><td>CIV</td><td>1550.8</td><td>6</td><td>-131</td><td>-100</td><td></td><td>42</td><td>22</td><td></td><td>13.55</td><td>0.16</td></tr>\n",
       "<tr><td>4</td><td>J142947.03+064334.9</td><td>SiII</td><td>1190.4</td><td>5</td><td>-133</td><td>-103</td><td></td><td>50</td><td>19</td><td></td><td>13.17</td><td>0.2</td></tr>\n",
       "<tr><td>5</td><td>J142947.03+064334.9</td><td>SiII</td><td>1193.3</td><td>5</td><td>-149</td><td>-100</td><td></td><td>94</td><td>26</td><td>&gt;</td><td>13.32</td><td>nan</td></tr>\n",
       "<tr><td>6</td><td>J142947.03+064334.9</td><td>SiII</td><td>1260.4</td><td>6</td><td>-155</td><td>-100</td><td></td><td>124</td><td>23</td><td>&gt;</td><td>13.15</td><td>nan</td></tr>\n",
       "<tr><td>7</td><td>J142947.03+064334.9</td><td>SiII</td><td>1526.7</td><td>5</td><td>-142</td><td>-99</td><td></td><td>59</td><td>32</td><td></td><td>13.64</td><td>0.26</td></tr>\n",
       "<tr><td>8</td><td>J142947.03+064334.9</td><td>SiIII</td><td>1206.5</td><td>4</td><td>-167</td><td>-99</td><td></td><td>122</td><td>39</td><td>&gt;</td><td>12.81</td><td>nan</td></tr>\n",
       "<tr><td>9</td><td>PKS2005-489</td><td>CII</td><td>1334.5</td><td>24</td><td>101</td><td>202</td><td></td><td>125</td><td>11</td><td></td><td>13.89</td><td>0.06</td></tr>\n",
       "<tr><td>10</td><td>PKS2005-489</td><td>CIV</td><td>1548.2</td><td>18</td><td>101</td><td>167</td><td></td><td>91</td><td>13</td><td></td><td>13.5</td><td>0.1</td></tr>\n",
       "<tr><td>11</td><td>PKS2005-489</td><td>SiII</td><td>1193.3</td><td>25</td><td>101</td><td>187</td><td></td><td>68</td><td>9</td><td></td><td>13.11</td><td>0.08</td></tr>\n",
       "<tr><td>12</td><td>PKS2005-489</td><td>SiII</td><td>1260.4</td><td>34</td><td>99</td><td>206</td><td></td><td>123</td><td>8</td><td></td><td>13.07</td><td>0.04</td></tr>\n",
       "<tr><td>13</td><td>PKS2005-489</td><td>SiIII</td><td>1206.5</td><td>25</td><td>101</td><td>203</td><td></td><td>143</td><td>9</td><td></td><td>13.0</td><td>0.06</td></tr>\n",
       "<tr><td>14</td><td>LBQS-1435-0134</td><td>CII</td><td>1334.5</td><td>31</td><td>-136</td><td>-100</td><td></td><td>57</td><td>4</td><td></td><td>13.59</td><td>0.07</td></tr>\n",
       "<tr><td>15</td><td>LBQS-1435-0134</td><td>CIV</td><td>1548.2</td><td>35</td><td>-183</td><td>-100</td><td></td><td>118</td><td>8</td><td></td><td>13.58</td><td>0.05</td></tr>\n",
       "<tr><td>16</td><td>LBQS-1435-0134</td><td>SiII</td><td>1190.4</td><td>32</td><td>-121</td><td>-100</td><td></td><td>0</td><td>0</td><td></td><td>nan</td><td>nan</td></tr>\n",
       "<tr><td>17</td><td>LBQS-1435-0134</td><td>SiII</td><td>1260.4</td><td>39</td><td>-156</td><td>-100</td><td></td><td>59</td><td>4</td><td></td><td>12.75</td><td>0.05</td></tr>\n",
       "<tr><td>18</td><td>LBQS-1435-0134</td><td>SiIII</td><td>1206.5</td><td>35</td><td>-180</td><td>-100</td><td></td><td>49</td><td>6</td><td></td><td>12.44</td><td>0.07</td></tr>\n",
       "<tr><td>19</td><td>RBS1892</td><td>CII</td><td>1334.5</td><td>22</td><td>-114</td><td>-100</td><td>t</td><td>13</td><td>3</td><td></td><td>12.9</td><td>0.23</td></tr>\n",
       "<tr><td>20</td><td>RBS1892</td><td>CIV</td><td>1548.2</td><td>17</td><td>-141</td><td>-102</td><td>t</td><td>37</td><td>10</td><td></td><td>13.04</td><td>0.19</td></tr>\n",
       "</table>"
      ],
      "text/plain": [
       "<Table masked=True length=20>\n",
       "  No          Name         Ion  lambda0  S_N  ...  e_W  l_logN   logN   e_logN\n",
       "                                 0.1nm        ... 0.1pm         [cm/2]  [cm/2]\n",
       "int16        str27         str5 float32 int16 ... int16  str1  float32 float32\n",
       "----- ------------------- ----- ------- ----- ... ----- ------ ------- -------\n",
       "    1 J142947.03+064334.9 CII    1334.5     6 ...    27      >   14.03     nan\n",
       "    2 J142947.03+064334.9 CIV    1548.2     6 ...    35          13.77    0.13\n",
       "    3 J142947.03+064334.9 CIV    1550.8     6 ...    22          13.55    0.16\n",
       "    4 J142947.03+064334.9 SiII   1190.4     5 ...    19          13.17     0.2\n",
       "    5 J142947.03+064334.9 SiII   1193.3     5 ...    26      >   13.32     nan\n",
       "    6 J142947.03+064334.9 SiII   1260.4     6 ...    23      >   13.15     nan\n",
       "    7 J142947.03+064334.9 SiII   1526.7     5 ...    32          13.64    0.26\n",
       "    8 J142947.03+064334.9 SiIII  1206.5     4 ...    39      >   12.81     nan\n",
       "    9         PKS2005-489 CII    1334.5    24 ...    11          13.89    0.06\n",
       "   10         PKS2005-489 CIV    1548.2    18 ...    13           13.5     0.1\n",
       "   11         PKS2005-489 SiII   1193.3    25 ...     9          13.11    0.08\n",
       "   12         PKS2005-489 SiII   1260.4    34 ...     8          13.07    0.04\n",
       "   13         PKS2005-489 SiIII  1206.5    25 ...     9           13.0    0.06\n",
       "   14      LBQS-1435-0134 CII    1334.5    31 ...     4          13.59    0.07\n",
       "   15      LBQS-1435-0134 CIV    1548.2    35 ...     8          13.58    0.05\n",
       "   16      LBQS-1435-0134 SiII   1190.4    32 ...     0            nan     nan\n",
       "   17      LBQS-1435-0134 SiII   1260.4    39 ...     4          12.75    0.05\n",
       "   18      LBQS-1435-0134 SiIII  1206.5    35 ...     6          12.44    0.07\n",
       "   19             RBS1892 CII    1334.5    22 ...     3           12.9    0.23\n",
       "   20             RBS1892 CIV    1548.2    17 ...    10          13.04    0.19"
      ]
     },
     "execution_count": 12,
     "metadata": {},
     "output_type": "execute_result"
    }
   ],
   "source": [
    "r17_a2_file = resource_filename('pyigm', '/data/CGM/Galaxy/richter17_A2.fits')\n",
    "r17_a2 = Table.read(r17_a2_file)\n",
    "r17_a2[0:20]"
   ]
  },
  {
   "cell_type": "code",
   "execution_count": 4,
   "metadata": {},
   "outputs": [
    {
     "data": {
      "text/html": [
       "&lt;MaskedColumn name=&apos;Ion&apos; dtype=&apos;str5&apos; length=4&gt;\n",
       "<table>\n",
       "<tr><td>CII</td></tr>\n",
       "<tr><td>CIV</td></tr>\n",
       "<tr><td>SiII</td></tr>\n",
       "<tr><td>SiIII</td></tr>\n",
       "</table>"
      ],
      "text/plain": [
       "<MaskedColumn name='Ion' dtype='str5' length=4>\n",
       "CII  \n",
       "CIV  \n",
       "SiII \n",
       "SiIII"
      ]
     },
     "execution_count": 4,
     "metadata": {},
     "output_type": "execute_result"
    }
   ],
   "source": [
    "np.unique(r17_a2['Ion'])"
   ]
  },
  {
   "cell_type": "markdown",
   "metadata": {},
   "source": [
    "## Sync"
   ]
  },
  {
   "cell_type": "code",
   "execution_count": 5,
   "metadata": {
    "collapsed": true
   },
   "outputs": [],
   "source": [
    "ra = np.zeros((len(r17_a2)))\n",
    "dec = np.zeros((len(r17_a2)))"
   ]
  },
  {
   "cell_type": "code",
   "execution_count": 6,
   "metadata": {
    "collapsed": true
   },
   "outputs": [],
   "source": [
    "for row in r17_a1:\n",
    "    idx = np.where(r17_a2['Name'] == row['Name'])[0]\n",
    "    # Fill\n",
    "    ra[idx] = row['_RAJ2000']\n",
    "    dec[idx] = row['_DEJ2000']"
   ]
  },
  {
   "cell_type": "code",
   "execution_count": 7,
   "metadata": {
    "collapsed": true
   },
   "outputs": [],
   "source": [
    "r17_a2.add_column(Column(ra, name='RA'))\n",
    "r17_a2.add_column(Column(dec, name='DEC'))"
   ]
  },
  {
   "cell_type": "code",
   "execution_count": 8,
   "metadata": {},
   "outputs": [
    {
     "data": {
      "text/html": [
       "&lt;Table masked=True length=1049&gt;\n",
       "<table id=\"table139683141443144\" class=\"table-striped table-bordered table-condensed\">\n",
       "<thead><tr><th>No</th><th>Name</th><th>Ion</th><th>lambda0</th><th>S_N</th><th>vmin</th><th>vmax</th><th>Flag</th><th>W</th><th>e_W</th><th>l_logN</th><th>logN</th><th>e_logN</th><th>RA</th><th>DEC</th></tr></thead>\n",
       "<thead><tr><th></th><th></th><th></th><th>0.1nm</th><th></th><th>km / s</th><th>km / s</th><th></th><th>0.1pm</th><th>0.1pm</th><th></th><th>[cm/2]</th><th>[cm/2]</th><th></th><th></th></tr></thead>\n",
       "<thead><tr><th>int16</th><th>str27</th><th>str5</th><th>float32</th><th>int16</th><th>int16</th><th>int16</th><th>str1</th><th>int16</th><th>int16</th><th>str1</th><th>float32</th><th>float32</th><th>float64</th><th>float64</th></tr></thead>\n",
       "<tr><td>1</td><td>J142947.03+064334.9</td><td>CII</td><td>1334.5</td><td>6</td><td>-155</td><td>-100</td><td></td><td>145</td><td>27</td><td>&gt;</td><td>14.03</td><td>nan</td><td>217.453519368</td><td>6.73937425763</td></tr>\n",
       "<tr><td>2</td><td>J142947.03+064334.9</td><td>CIV</td><td>1548.2</td><td>6</td><td>-165</td><td>-99</td><td></td><td>123</td><td>35</td><td></td><td>13.77</td><td>0.13</td><td>217.453519368</td><td>6.73937425763</td></tr>\n",
       "<tr><td>3</td><td>J142947.03+064334.9</td><td>CIV</td><td>1550.8</td><td>6</td><td>-131</td><td>-100</td><td></td><td>42</td><td>22</td><td></td><td>13.55</td><td>0.16</td><td>217.453519368</td><td>6.73937425763</td></tr>\n",
       "<tr><td>4</td><td>J142947.03+064334.9</td><td>SiII</td><td>1190.4</td><td>5</td><td>-133</td><td>-103</td><td></td><td>50</td><td>19</td><td></td><td>13.17</td><td>0.2</td><td>217.453519368</td><td>6.73937425763</td></tr>\n",
       "<tr><td>5</td><td>J142947.03+064334.9</td><td>SiII</td><td>1193.3</td><td>5</td><td>-149</td><td>-100</td><td></td><td>94</td><td>26</td><td>&gt;</td><td>13.32</td><td>nan</td><td>217.453519368</td><td>6.73937425763</td></tr>\n",
       "<tr><td>6</td><td>J142947.03+064334.9</td><td>SiII</td><td>1260.4</td><td>6</td><td>-155</td><td>-100</td><td></td><td>124</td><td>23</td><td>&gt;</td><td>13.15</td><td>nan</td><td>217.453519368</td><td>6.73937425763</td></tr>\n",
       "<tr><td>7</td><td>J142947.03+064334.9</td><td>SiII</td><td>1526.7</td><td>5</td><td>-142</td><td>-99</td><td></td><td>59</td><td>32</td><td></td><td>13.64</td><td>0.26</td><td>217.453519368</td><td>6.73937425763</td></tr>\n",
       "<tr><td>8</td><td>J142947.03+064334.9</td><td>SiIII</td><td>1206.5</td><td>4</td><td>-167</td><td>-99</td><td></td><td>122</td><td>39</td><td>&gt;</td><td>12.81</td><td>nan</td><td>217.453519368</td><td>6.73937425763</td></tr>\n",
       "<tr><td>9</td><td>PKS2005-489</td><td>CII</td><td>1334.5</td><td>24</td><td>101</td><td>202</td><td></td><td>125</td><td>11</td><td></td><td>13.89</td><td>0.06</td><td>302.357782545</td><td>-48.8089363491</td></tr>\n",
       "<tr><td>...</td><td>...</td><td>...</td><td>...</td><td>...</td><td>...</td><td>...</td><td>...</td><td>...</td><td>...</td><td>...</td><td>...</td><td>...</td><td>...</td><td>...</td></tr>\n",
       "<tr><td>1040</td><td>J141612.96+122340.5</td><td>CIV</td><td>1550.8</td><td>8</td><td>-132</td><td>-100</td><td></td><td>35</td><td>12</td><td></td><td>13.44</td><td>0.25</td><td>214.028646871</td><td>12.4048435587</td></tr>\n",
       "<tr><td>1041</td><td>J141612.96+122340.5</td><td>SiII</td><td>1190.4</td><td>6</td><td>-153</td><td>-100</td><td></td><td>64</td><td>15</td><td></td><td>13.45</td><td>0.22</td><td>214.028646871</td><td>12.4048435587</td></tr>\n",
       "<tr><td>1042</td><td>J141612.96+122340.5</td><td>SiII</td><td>1193.3</td><td>6</td><td>-145</td><td>-101</td><td></td><td>42</td><td>14</td><td></td><td>12.79</td><td>0.27</td><td>214.028646871</td><td>12.4048435587</td></tr>\n",
       "<tr><td>1043</td><td>J141612.96+122340.5</td><td>SiII</td><td>1260.4</td><td>7</td><td>-150</td><td>-97</td><td></td><td>84</td><td>21</td><td></td><td>12.91</td><td>0.21</td><td>214.028646871</td><td>12.4048435587</td></tr>\n",
       "<tr><td>1044</td><td>J141612.96+122340.5</td><td>SiII</td><td>1526.7</td><td>8</td><td>-151</td><td>-99</td><td></td><td>80</td><td>23</td><td></td><td>13.59</td><td>0.23</td><td>214.028646871</td><td>12.4048435587</td></tr>\n",
       "<tr><td>1045</td><td>J141612.96+122340.5</td><td>SiIII</td><td>1206.5</td><td>8</td><td>-163</td><td>-101</td><td></td><td>81</td><td>20</td><td></td><td>12.8</td><td>0.16</td><td>214.028646871</td><td>12.4048435587</td></tr>\n",
       "<tr><td>1046</td><td>SDSSJ134246.89+184443.6</td><td>CII</td><td>1334.5</td><td>11</td><td>-126</td><td>-101</td><td></td><td>15</td><td>7</td><td></td><td>13.07</td><td>0.32</td><td>205.708862732</td><td>18.7216341833</td></tr>\n",
       "<tr><td>1047</td><td>SDSSJ134246.89+184443.6</td><td>CIV</td><td>1548.2</td><td>12</td><td>-118</td><td>-99</td><td></td><td>23</td><td>9</td><td></td><td>12.86</td><td>0.35</td><td>205.708862732</td><td>18.7216341833</td></tr>\n",
       "<tr><td>1048</td><td>SDSSJ134246.89+184443.6</td><td>SiII</td><td>1260.4</td><td>11</td><td>-126</td><td>-100</td><td></td><td>26</td><td>9</td><td></td><td>12.39</td><td>0.26</td><td>205.708862732</td><td>18.7216341833</td></tr>\n",
       "<tr><td>1049</td><td>SDSSJ134246.89+184443.6</td><td>SiIII</td><td>1206.5</td><td>9</td><td>-140</td><td>-100</td><td></td><td>33</td><td>11</td><td></td><td>12.32</td><td>0.27</td><td>205.708862732</td><td>18.7216341833</td></tr>\n",
       "</table>"
      ],
      "text/plain": [
       "<Table masked=True length=1049>\n",
       "  No            Name           Ion  ...  e_logN       RA           DEC      \n",
       "                                    ...  [cm/2]                             \n",
       "int16          str27           str5 ... float32    float64       float64    \n",
       "----- ----------------------- ----- ... ------- ------------- --------------\n",
       "    1     J142947.03+064334.9 CII   ...     nan 217.453519368  6.73937425763\n",
       "    2     J142947.03+064334.9 CIV   ...    0.13 217.453519368  6.73937425763\n",
       "    3     J142947.03+064334.9 CIV   ...    0.16 217.453519368  6.73937425763\n",
       "    4     J142947.03+064334.9 SiII  ...     0.2 217.453519368  6.73937425763\n",
       "    5     J142947.03+064334.9 SiII  ...     nan 217.453519368  6.73937425763\n",
       "    6     J142947.03+064334.9 SiII  ...     nan 217.453519368  6.73937425763\n",
       "    7     J142947.03+064334.9 SiII  ...    0.26 217.453519368  6.73937425763\n",
       "    8     J142947.03+064334.9 SiIII ...     nan 217.453519368  6.73937425763\n",
       "    9             PKS2005-489 CII   ...    0.06 302.357782545 -48.8089363491\n",
       "  ...                     ...   ... ...     ...           ...            ...\n",
       " 1040     J141612.96+122340.5 CIV   ...    0.25 214.028646871  12.4048435587\n",
       " 1041     J141612.96+122340.5 SiII  ...    0.22 214.028646871  12.4048435587\n",
       " 1042     J141612.96+122340.5 SiII  ...    0.27 214.028646871  12.4048435587\n",
       " 1043     J141612.96+122340.5 SiII  ...    0.21 214.028646871  12.4048435587\n",
       " 1044     J141612.96+122340.5 SiII  ...    0.23 214.028646871  12.4048435587\n",
       " 1045     J141612.96+122340.5 SiIII ...    0.16 214.028646871  12.4048435587\n",
       " 1046 SDSSJ134246.89+184443.6 CII   ...    0.32 205.708862732  18.7216341833\n",
       " 1047 SDSSJ134246.89+184443.6 CIV   ...    0.35 205.708862732  18.7216341833\n",
       " 1048 SDSSJ134246.89+184443.6 SiII  ...    0.26 205.708862732  18.7216341833\n",
       " 1049 SDSSJ134246.89+184443.6 SiIII ...    0.27 205.708862732  18.7216341833"
      ]
     },
     "execution_count": 8,
     "metadata": {},
     "output_type": "execute_result"
    }
   ],
   "source": [
    "r17_a2"
   ]
  },
  {
   "cell_type": "markdown",
   "metadata": {},
   "source": [
    "## Now in pyigm"
   ]
  },
  {
   "cell_type": "code",
   "execution_count": 9,
   "metadata": {},
   "outputs": [
    {
     "name": "stderr",
     "output_type": "stream",
     "text": [
      "/home/xavier/local/Python/pyigm/pyigm/cgm/cgm.py:55: UserWarning: cgm.CGMAbsSys: Using Planck15 cosmology\n",
      "  warnings.warn('cgm.CGMAbsSys: Using Planck15 cosmology')\n"
     ]
    },
    {
     "name": "stdout",
     "output_type": "stream",
     "text": [
      "Loading data.  This takes ~20s to build it all...\n",
      "read_sets: Using set file -- \n",
      "  /home/xavier/local/Python/linetools/linetools/lists/sets/llist_v1.2.ascii\n",
      "Loading abundances from Asplund2009\n",
      "Abundances are relative by number on a logarithmic scale with H=12\n",
      "Loading Richter+17 for CII, CIV, SiII, SiIII\n",
      "read_sets: Using set file -- \n",
      "  /home/xavier/local/Python/linetools/linetools/lists/sets/llist_v1.2.ascii\n"
     ]
    },
    {
     "name": "stderr",
     "output_type": "stream",
     "text": [
      "/home/xavier/local/Python/linetools/linetools/lists/linelist.py:309: UserWarning: WARNING: Multiple lines with wrest=9.72\n",
      "  warnings.warn(wmsg)\n",
      "/home/xavier/local/Python/linetools/linetools/lists/linelist.py:311: UserWarning: Taking the first entry. Maybe use higher precision.\n",
      "  'Taking the first entry. Maybe use higher precision.')\n",
      "/home/xavier/local/Python/linetools/linetools/lists/linelist.py:309: UserWarning: WARNING: Multiple lines with wrest=9.91\n",
      "  warnings.warn(wmsg)\n",
      "/home/xavier/local/Python/linetools/linetools/lists/linelist.py:311: UserWarning: Taking the first entry. Maybe use higher precision.\n",
      "  'Taking the first entry. Maybe use higher precision.')\n",
      "/home/xavier/local/Python/linetools/linetools/lists/linelist.py:309: UserWarning: WARNING: Multiple lines with wrest=10.06\n",
      "  warnings.warn(wmsg)\n",
      "/home/xavier/local/Python/linetools/linetools/lists/linelist.py:311: UserWarning: Taking the first entry. Maybe use higher precision.\n",
      "  'Taking the first entry. Maybe use higher precision.')\n",
      "/home/xavier/local/Python/linetools/linetools/lists/linelist.py:309: UserWarning: WARNING: Multiple lines with wrest=10.37\n",
      "  warnings.warn(wmsg)\n",
      "/home/xavier/local/Python/linetools/linetools/lists/linelist.py:311: UserWarning: Taking the first entry. Maybe use higher precision.\n",
      "  'Taking the first entry. Maybe use higher precision.')\n"
     ]
    },
    {
     "name": "stdout",
     "output_type": "stream",
     "text": [
      "Loading abundances from Asplund2009\n",
      "Abundances are relative by number on a logarithmic scale with H=12\n",
      "Loading Fang+15 for OVII\n"
     ]
    },
    {
     "name": "stderr",
     "output_type": "stream",
     "text": [
      "/home/xavier/local/Python/linetools/linetools/isgm/abscomponent.py:731: UserWarning: Absline <AbsLine: OVII 21, z=0.0000 wrest=21.6019 Angstrom, f=0.696> has flag=0.  Hopefully you expected that\n",
      "  warnings.warn(\"Absline {} has flag=0.  Hopefully you expected that\".format(str(aline)))\n"
     ]
    },
    {
     "name": "stdout",
     "output_type": "stream",
     "text": [
      "Loading Savage+03 for OVI\n"
     ]
    }
   ],
   "source": [
    "mwcgm = GalaxyCGM()"
   ]
  },
  {
   "cell_type": "markdown",
   "metadata": {},
   "source": [
    "### Ions"
   ]
  },
  {
   "cell_type": "code",
   "execution_count": 10,
   "metadata": {},
   "outputs": [],
   "source": [
    "SiII_tbl = mwcgm.abs.ion_tbl((14,2))"
   ]
  },
  {
   "cell_type": "code",
   "execution_count": 13,
   "metadata": {},
   "outputs": [
    {
     "data": {
      "text/plain": [
       "True"
      ]
     },
     "execution_count": 13,
     "metadata": {},
     "output_type": "execute_result"
    }
   ],
   "source": [
    "np.any(np.isnan(SiII_tbl['logN']))"
   ]
  },
  {
   "cell_type": "markdown",
   "metadata": {},
   "source": [
    "----"
   ]
  },
  {
   "cell_type": "code",
   "execution_count": null,
   "metadata": {
    "collapsed": true
   },
   "outputs": [],
   "source": []
  }
 ],
 "metadata": {
  "kernelspec": {
   "display_name": "Python 3",
   "language": "python",
   "name": "python3"
  },
  "language_info": {
   "codemirror_mode": {
    "name": "ipython",
    "version": 3
   },
   "file_extension": ".py",
   "mimetype": "text/x-python",
   "name": "python",
   "nbconvert_exporter": "python",
   "pygments_lexer": "ipython3",
   "version": "3.6.3"
  }
 },
 "nbformat": 4,
 "nbformat_minor": 2
}
