{
 "cells": [
  {
   "cell_type": "markdown",
   "metadata": {},
   "source": [
    "# COS-Dwarfs Updates (v1.1)\n",
    "\n",
    "Version History:\n",
    "\n",
    "    v1.0 -- 07 Jul 2016 by JXP   [update f-values, convert to JSON]\n",
    "    v1.1 -- 09 July 2016 by JXP  [add Kinematic measures]"
   ]
  },
  {
   "cell_type": "code",
   "execution_count": 2,
   "metadata": {
    "collapsed": true
   },
   "outputs": [],
   "source": [
    "# imports\n",
    "from pyigm.cgm import cos_halos as pch"
   ]
  },
  {
   "cell_type": "markdown",
   "metadata": {},
   "source": [
    "## Updated FITS from Mega structure (9 July 2016)\n",
    "    unix> ls -l cosmetals_megastructure.sav*\n",
    "    -rw-r--r-- 1 xavier staff 159K Jul  7 07:01 cosmetals_megastructure.sav\n",
    "    IDL> mk_mega_fits"
   ]
  },
  {
   "cell_type": "markdown",
   "metadata": {},
   "source": [
    "## Read in Megastructure (from FITS files)\n",
    "\n",
    "This step will update the f-values (several lines were\n",
    "using the old Morton 1991 reference) and associated column densities.\n",
    "\n",
    "The synthesize_colm() method of AbsComponent is used for final columns.\n",
    "These match the original to within 10% in all cases."
   ]
  },
  {
   "cell_type": "code",
   "execution_count": 3,
   "metadata": {
    "collapsed": false
   },
   "outputs": [],
   "source": [
    "reload(pch)\n",
    "cos_dwarfs = pch.COSDwarfs()"
   ]
  },
  {
   "cell_type": "code",
   "execution_count": 4,
   "metadata": {
    "collapsed": false
   },
   "outputs": [
    {
     "name": "stderr",
     "output_type": "stream",
     "text": [
      "/Users/xavier/local/Python/pyigm/pyigm/cgm/cos_halos.py:264: UserWarning: This method will be DEPRECATED\n",
      "  warnings.warn(\"This method will be DEPRECATED\")\n",
      "/Users/xavier/local/Python/pyigm/pyigm/cgm/cgm.py:144: UserWarning: cgm.CGMAbsSys: Using WMAP9 cosmology\n",
      "  warnings.warn('cgm.CGMAbsSys: Using WMAP9 cosmology')\n",
      "WARNING: UnitsWarning: The unit 'Angstrom' has been deprecated in the FITS standard. Suggested: 10**-1 nm. [astropy.units.format.utils]\n",
      "WARNING:astropy:UnitsWarning: The unit 'Angstrom' has been deprecated in the FITS standard. Suggested: 10**-1 nm.\n"
     ]
    },
    {
     "name": "stdout",
     "output_type": "stream",
     "text": [
      "cos_halos: Reading /u/xavier/Dropbox/COS-Dwarfs/Targets/FITS/J0042-1037.358_9.fits\n",
      "Loading abundances from Asplund2009"
     ]
    },
    {
     "name": "stderr",
     "output_type": "stream",
     "text": [
      "/Users/xavier/local/Python/linetools/linetools/lists/linelist.py:369: RuntimeWarning: divide by zero encountered in log10\n",
      "  self._data['log(w*f)'] = np.log10(qm_strength)\n",
      "/Users/xavier/anaconda/lib/python2.7/site-packages/numpy/ma/core.py:827: RuntimeWarning: invalid value encountered in less_equal\n",
      "  return umath.less_equal(x, self.critical_value)\n",
      "/Users/xavier/anaconda/lib/python2.7/site-packages/astropy/table/column.py:1086: MaskedArrayFutureWarning: setting an item on a masked array which has a shared mask will not copy the mask and also change the original mask array in the future.\n",
      "Check the NumPy 1.11 release notes for more information.\n",
      "  ma.MaskedArray.__setitem__(self, index, value)\n"
     ]
    },
    {
     "name": "stdout",
     "output_type": "stream",
     "text": [
      "\n",
      "Abundances are relative by number on a logarithmic scale with H=12\n",
      "Skipping column contribution from 1134.98 as NG for a line; flg=0\n",
      "Skipping column contribution from 1143.23 as NG for a line; flg=0"
     ]
    },
    {
     "name": "stderr",
     "output_type": "stream",
     "text": [
      "/Users/xavier/local/Python/linetools/linetools/isgm/abscomponent.py:419: UserWarning: Absline <AbsLine: NI 1134c, wrest=1134.9803 Angstrom> has flag=0.  Hopefully you expected that\n",
      "  warnings.warn(\"Absline {} has flag=0.  Hopefully you expected that\".format(str(aline)))\n",
      "/Users/xavier/local/Python/linetools/linetools/isgm/abscomponent.py:419: UserWarning: Absline <AbsLine: FeII 1143, wrest=1143.2260 Angstrom> has flag=0.  Hopefully you expected that\n",
      "  warnings.warn(\"Absline {} has flag=0.  Hopefully you expected that\".format(str(aline)))\n"
     ]
    },
    {
     "name": "stdout",
     "output_type": "stream",
     "text": [
      "\n",
      "cos_halos: Reading /u/xavier/Dropbox/COS-Dwarfs/Targets/FITS/J0155-0857.329_403.fits\n",
      "Skipping column contribution from 1143.23 as NG for a line; flg=0\n",
      "Skipping column contribution from 1125.45 as NG for a line; flg=0\n",
      "cos_halos: Reading /u/xavier/Dropbox/COS-Dwarfs/Targets/FITS/J0212-0737.334_153.fits\n",
      "Skipping column contribution from 1143.23 as NG for a line; flg=0\n",
      "Skipping column contribution from 1125.45 as NG for a line; flg=0\n",
      "cos_halos: Reading /u/xavier/Dropbox/COS-Dwarfs/Targets/FITS/J0242-0759.84_223.fits\n",
      "Skipping column contribution from 1143.23 as NG for a line; flg=0\n",
      "Skipping column contribution from 1125.45 as NG for a line; flg=0\n",
      "cos_halos: Reading /u/xavier/Dropbox/COS-Dwarfs/Targets/FITS/J0310-0049.124_197.fits\n",
      "Skipping column contribution from 1125.45 as NG for a line; flg=0\n",
      "Skipping column contribution from 1143.23 as NG for a line; flg=0\n",
      "cos_halos: Reading /u/xavier/Dropbox/COS-Dwarfs/Targets/FITS/J0809+4619.257_269.fits"
     ]
    },
    {
     "name": "stderr",
     "output_type": "stream",
     "text": [
      "/Users/xavier/local/Python/linetools/linetools/isgm/abscomponent.py:419: UserWarning: Absline <AbsLine: FeII 1125, wrest=1125.4477 Angstrom> has flag=0.  Hopefully you expected that\n",
      "  warnings.warn(\"Absline {} has flag=0.  Hopefully you expected that\".format(str(aline)))\n",
      "/Users/xavier/local/Python/linetools/linetools/utils.py:97: UserWarning: Assuming your DEC is +\n",
      "  warnings.warn(\"Assuming your DEC is +\")\n"
     ]
    },
    {
     "name": "stdout",
     "output_type": "stream",
     "text": [
      "\n",
      "Skipping column contribution from 1125.45 as NG for a line; flg=0\n",
      "Skipping column contribution from 1143.23 as NG for a line; flg=0\n",
      "cos_halos: Reading /u/xavier/Dropbox/COS-Dwarfs/Targets/FITS/J0820+2334.260_17.fits\n",
      "Skipping column contribution from 1608.45 as NG for a line; flg=6"
     ]
    },
    {
     "name": "stderr",
     "output_type": "stream",
     "text": [
      "/Users/xavier/local/Python/linetools/linetools/isgm/abssystem.py:302: UserWarning: Input AbsComponent with Zion=(1, 1) does not match AbsSystem rules. Not appending\n",
      "  warnings.warn('Input AbsComponent with Zion={} does not match AbsSystem rules. Not appending'.format(abscomp.Zion))\n",
      "/Users/xavier/local/Python/linetools/linetools/isgm/abssystem.py:308: UserWarning: Failed velocity overlap\n",
      "  warnings.warn('Failed velocity overlap')\n",
      "/Users/xavier/local/Python/linetools/linetools/isgm/abscomponent.py:419: UserWarning: Absline <AbsLine: FeII 1608, wrest=1608.4511 Angstrom> has flag=0.  Hopefully you expected that\n",
      "  warnings.warn(\"Absline {} has flag=0.  Hopefully you expected that\".format(str(aline)))\n"
     ]
    },
    {
     "name": "stdout",
     "output_type": "stream",
     "text": [
      "\n",
      "cos_halos: Reading /u/xavier/Dropbox/COS-Dwarfs/Targets/FITS/J0826+0742.69_79.fits\n",
      "Skipping column contribution from 1125.45 as NG for a line; flg=0\n",
      "Skipping column contribution from 1143.23 as NG for a line; flg=0\n",
      "cos_halos: Reading /u/xavier/Dropbox/COS-Dwarfs/Targets/FITS/J0843+4117.94_177.fits\n",
      "Skipping column contribution from 1143.23 as NG for a line; flg=0\n",
      "Skipping column contribution from 1125.45 as NG for a line; flg=0\n",
      "cos_halos: Reading /u/xavier/Dropbox/COS-Dwarfs/Targets/FITS/J0912+2957.20_223.fits\n",
      "Skipping column contribution from 1670.79 as NG for a line; flg=13\n",
      "New colm for (13,2) and sys J0912+2957_20_223 is -12.6518 different from old\n",
      "Skipping column contribution from 1125.45 as NG for a line; flg=0\n",
      "Skipping column contribution from 1143.23 as NG for a line; flg=0\n",
      "cos_halos: Reading /u/xavier/Dropbox/COS-Dwarfs/Targets/FITS/J0925+4535.227_334.fits\n",
      "Skipping column contribution from 1125.45 as NG for a line; flg=0\n",
      "Skipping column contribution from 1143.23 as NG for a line; flg=0\n",
      "cos_halos: Reading /u/xavier/Dropbox/COS-Dwarfs/Targets/FITS/J0929+4644.172_157.fits\n",
      "Skipping column contribution from 1125.45 as NG for a line; flg=0\n",
      "Skipping column contribution from 1143.23 as NG for a line; flg=0\n",
      "cos_halos: Reading /u/xavier/Dropbox/COS-Dwarfs/Targets/FITS/J0946+4711.198_218.fits\n",
      "Skipping column contribution from 1134.98 as NG for a line; flg=13\n",
      "Skipping column contribution from 1193.29 as NG for a line; flg=13"
     ]
    },
    {
     "name": "stderr",
     "output_type": "stream",
     "text": [
      "/Users/xavier/local/Python/linetools/linetools/isgm/abscomponent.py:419: UserWarning: Absline <AbsLine: AlII 1670, wrest=1670.7886 Angstrom> has flag=0.  Hopefully you expected that\n",
      "  warnings.warn(\"Absline {} has flag=0.  Hopefully you expected that\".format(str(aline)))\n",
      "/Users/xavier/local/Python/linetools/linetools/isgm/abscomponent.py:419: UserWarning: Absline <AbsLine: SiII 1193, wrest=1193.2897 Angstrom> has flag=0.  Hopefully you expected that\n",
      "  warnings.warn(\"Absline {} has flag=0.  Hopefully you expected that\".format(str(aline)))\n"
     ]
    },
    {
     "name": "stdout",
     "output_type": "stream",
     "text": [
      "\n",
      "Skipping column contribution from 1125.45 as NG for a line; flg=0\n",
      "Skipping column contribution from 1143.23 as NG for a line; flg=0\n",
      "Skipping column contribution from 1608.45 as NG for a line; flg=13\n",
      "Skipping column contribution from 1122.53 as NG for a line; flg=13\n",
      "New colm for (26,3) and sys J0946+4711_198_218 is -14.4988 different from old\n",
      "cos_halos: Reading /u/xavier/Dropbox/COS-Dwarfs/Targets/FITS/J0947+1005.135_580.fits\n",
      "Skipping column contribution from 1125.45 as NG for a line; flg=0\n",
      "Skipping column contribution from 1143.23 as NG for a line; flg=0\n",
      "cos_halos: Reading /u/xavier/Dropbox/COS-Dwarfs/Targets/FITS/J0949+3902.234_105.fits\n",
      "Skipping column contribution from 1200.22 as NG for a line; flg=13"
     ]
    },
    {
     "name": "stderr",
     "output_type": "stream",
     "text": [
      "/Users/xavier/local/Python/linetools/linetools/isgm/abscomponent.py:419: UserWarning: Absline <AbsLine: FeIII 1122, wrest=1122.5240 Angstrom> has flag=0.  Hopefully you expected that\n",
      "  warnings.warn(\"Absline {} has flag=0.  Hopefully you expected that\".format(str(aline)))\n",
      "/Users/xavier/local/Python/linetools/linetools/isgm/abscomponent.py:419: UserWarning: Absline <AbsLine: NI 1200, wrest=1200.2233 Angstrom> has flag=0.  Hopefully you expected that\n",
      "  warnings.warn(\"Absline {} has flag=0.  Hopefully you expected that\".format(str(aline)))\n"
     ]
    },
    {
     "name": "stdout",
     "output_type": "stream",
     "text": [
      "\n",
      "Skipping column contribution from 1125.45 as NG for a line; flg=0\n",
      "Skipping column contribution from 1143.23 as NG for a line; flg=0\n",
      "cos_halos: Reading /u/xavier/Dropbox/COS-Dwarfs/Targets/FITS/J0959+0503.318_13.fits\n",
      "Skipping column contribution from 1125.45 as NG for a line; flg=0\n",
      "Skipping column contribution from 1143.23 as NG for a line; flg=0\n",
      "cos_halos: Reading /u/xavier/Dropbox/COS-Dwarfs/Targets/FITS/J1001+5944.87_608.fits\n",
      "cos_halos: Reading /u/xavier/Dropbox/COS-Dwarfs/Targets/FITS/J1022+0132.337_29.fits\n",
      "cos_halos: Reading /u/xavier/Dropbox/COS-Dwarfs/Targets/FITS/J1059+1441.316_200.fits\n",
      "Skipping column contribution from 1125.45 as NG for a line; flg=4\n",
      "Skipping column contribution from 1143.23 as NG for a line; flg=4\n",
      "Skipping column contribution from 1144.94 as NG for a line; flg=4"
     ]
    },
    {
     "name": "stderr",
     "output_type": "stream",
     "text": [
      "/Users/xavier/local/Python/pyigm/pyigm/cgm/cos_halos.py:216: RuntimeWarning: invalid value encountered in double_scalars\n",
      "  if np.abs(comp.logN - float(iont['CLM'][0])) > 0.15:\n",
      "/Users/xavier/local/Python/linetools/linetools/isgm/abscomponent.py:419: UserWarning: Absline <AbsLine: FeII 1144, wrest=1144.9379 Angstrom> has flag=0.  Hopefully you expected that\n",
      "  warnings.warn(\"Absline {} has flag=0.  Hopefully you expected that\".format(str(aline)))\n"
     ]
    },
    {
     "name": "stdout",
     "output_type": "stream",
     "text": [
      "\n",
      "cos_halos: Reading /u/xavier/Dropbox/COS-Dwarfs/Targets/FITS/J1059+2517.247_92.fits\n",
      "Skipping column contribution from 1125.45 as NG for a line; flg=0\n",
      "Skipping column contribution from 1143.23 as NG for a line; flg=0\n",
      "cos_halos: Reading /u/xavier/Dropbox/COS-Dwarfs/Targets/FITS/J1103+4141.13_58.fits\n",
      "Skipping column contribution from 1125.45 as NG for a line; flg=0\n",
      "cos_halos: Reading /u/xavier/Dropbox/COS-Dwarfs/Targets/FITS/J1104+3141.211_65.fits\n",
      "Skipping column contribution from 1125.45 as NG for a line; flg=4\n",
      "Skipping column contribution from 1143.23 as NG for a line; flg=0\n",
      "cos_halos: Reading /u/xavier/Dropbox/COS-Dwarfs/Targets/FITS/J1117+2634.114_210.fits\n",
      "Skipping column contribution from 1125.45 as NG for a line; flg=0\n",
      "Skipping column contribution from 1143.23 as NG for a line; flg=0\n",
      "cos_halos: Reading /u/xavier/Dropbox/COS-Dwarfs/Targets/FITS/J1121+0325.73_198.fits\n",
      "Skipping column contribution from 1143.23 as NG for a line; flg=0\n",
      "cos_halos: Reading /u/xavier/Dropbox/COS-Dwarfs/Targets/FITS/J1122+5755.259_309.fits\n",
      "Skipping column contribution from 1143.23 as NG for a line; flg=0\n",
      "cos_halos: Reading /u/xavier/Dropbox/COS-Dwarfs/Targets/FITS/J1134+2555.358_76.fits\n",
      "Skipping column contribution from 1143.23 as NG for a line; flg=0\n",
      "cos_halos: Reading /u/xavier/Dropbox/COS-Dwarfs/Targets/FITS/J1207+2624.285_98.fits\n",
      "Skipping column contribution from 1193.29 as NG for a line; flg=2\n",
      "Skipping column contribution from 1143.23 as NG for a line; flg=0\n",
      "cos_halos: Reading /u/xavier/Dropbox/COS-Dwarfs/Targets/FITS/J1210+3157.65_308.fits\n",
      "Skipping column contribution from 1143.23 as NG for a line; flg=0\n",
      "cos_halos: Reading /u/xavier/Dropbox/COS-Dwarfs/Targets/FITS/J1211+3657.312_196.fits\n",
      "Skipping column contribution from 1304.37 as NG for a line; flg=2\n",
      "Skipping column contribution from 1125.45 as NG for a line; flg=0\n",
      "Skipping column contribution from 1143.23 as NG for a line; flg=0\n",
      "cos_halos: Reading /u/xavier/Dropbox/COS-Dwarfs/Targets/FITS/J1236+2641.356_25.fits\n",
      "Skipping column contribution from 1125.45 as NG for a line; flg=0\n",
      "cos_halos: Reading /u/xavier/Dropbox/COS-Dwarfs/Targets/FITS/J1327+4435.122_131.fits\n",
      "Skipping column contribution from 1134.98 as NG for a line; flg=0\n",
      "Skipping column contribution from 1193.29 as NG for a line; flg=2\n",
      "Skipping column contribution from 1125.45 as NG for a line; flg=0\n",
      "Skipping column contribution from 1143.23 as NG for a line; flg=0\n",
      "Skipping column contribution from 1117.98 as NG for a line; flg=13"
     ]
    },
    {
     "name": "stderr",
     "output_type": "stream",
     "text": [
      "/Users/xavier/local/Python/linetools/linetools/isgm/abscomponent.py:419: UserWarning: Absline <AbsLine: SiII 1304, wrest=1304.3702 Angstrom> has flag=0.  Hopefully you expected that\n",
      "  warnings.warn(\"Absline {} has flag=0.  Hopefully you expected that\".format(str(aline)))\n",
      "/Users/xavier/local/Python/linetools/linetools/isgm/abscomponent.py:419: UserWarning: Absline <AbsLine: PV 1117, wrest=1117.9774 Angstrom> has flag=0.  Hopefully you expected that\n",
      "  warnings.warn(\"Absline {} has flag=0.  Hopefully you expected that\".format(str(aline)))\n"
     ]
    },
    {
     "name": "stdout",
     "output_type": "stream",
     "text": [
      "\n",
      "Skipping column contribution from 1128.01 as NG for a line; flg=13\n",
      "New colm for (15,5) and sys J1327+4435_122_131 is -13.7619 different from old\n",
      "cos_halos: Reading /u/xavier/Dropbox/COS-Dwarfs/Targets/FITS/J1330+3119.70_57.fits\n",
      "Skipping column contribution from 1125.45 as NG for a line; flg=0\n",
      "Skipping column contribution from 1143.23 as NG for a line; flg=0\n",
      "cos_halos: Reading /u/xavier/Dropbox/COS-Dwarfs/Targets/FITS/J1342+0505.210_241.fits\n",
      "Skipping column contribution from 1190.42 as NG for a line; flg=4"
     ]
    },
    {
     "name": "stderr",
     "output_type": "stream",
     "text": [
      "/Users/xavier/local/Python/linetools/linetools/isgm/abscomponent.py:419: UserWarning: Absline <AbsLine: PV 1128, wrest=1128.0078 Angstrom> has flag=0.  Hopefully you expected that\n",
      "  warnings.warn(\"Absline {} has flag=0.  Hopefully you expected that\".format(str(aline)))\n",
      "/Users/xavier/local/Python/linetools/linetools/isgm/abscomponent.py:419: UserWarning: Absline <AbsLine: SiII 1190, wrest=1190.4158 Angstrom> has flag=0.  Hopefully you expected that\n",
      "  warnings.warn(\"Absline {} has flag=0.  Hopefully you expected that\".format(str(aline)))\n"
     ]
    },
    {
     "name": "stdout",
     "output_type": "stream",
     "text": [
      "\n",
      "Skipping column contribution from 1125.45 as NG for a line; flg=0\n",
      "Skipping column contribution from 1143.23 as NG for a line; flg=0\n",
      "cos_halos: Reading /u/xavier/Dropbox/COS-Dwarfs/Targets/FITS/J1342+1844.160_190.fits\n",
      "Skipping column contribution from 1125.45 as NG for a line; flg=0\n",
      "Skipping column contribution from 1143.23 as NG for a line; flg=0\n",
      "cos_halos: Reading /u/xavier/Dropbox/COS-Dwarfs/Targets/FITS/J1342+3829.322_238.fits\n",
      "Skipping column contribution from 1125.45 as NG for a line; flg=0\n",
      "cos_halos: Reading /u/xavier/Dropbox/COS-Dwarfs/Targets/FITS/J1356+2515.182_159.fits\n",
      "Skipping column contribution from 1125.45 as NG for a line; flg=0\n",
      "Skipping column contribution from 1143.23 as NG for a line; flg=0\n",
      "cos_halos: Reading /u/xavier/Dropbox/COS-Dwarfs/Targets/FITS/J1357+1704.93_248.fits\n",
      "Skipping column contribution from 1125.45 as NG for a line; flg=0\n",
      "Skipping column contribution from 1143.23 as NG for a line; flg=0\n",
      "cos_halos: Reading /u/xavier/Dropbox/COS-Dwarfs/Targets/FITS/J1451+2709.184_526.fits\n",
      "Skipping column contribution from 1143.23 as NG for a line; flg=0\n",
      "cos_halos: Reading /u/xavier/Dropbox/COS-Dwarfs/Targets/FITS/J1521+0337.252_124.fits\n",
      "Skipping column contribution from 1125.45 as NG for a line; flg=0\n",
      "Skipping column contribution from 1143.23 as NG for a line; flg=0\n",
      "cos_halos: Reading /u/xavier/Dropbox/COS-Dwarfs/Targets/FITS/J1545+0936.285_81.fits\n",
      "cos_halos: Reading /u/xavier/Dropbox/COS-Dwarfs/Targets/FITS/J1616+4154.327_30.fits\n",
      "cos_halos: Reading /u/xavier/Dropbox/COS-Dwarfs/Targets/FITS/PG1049-005.316_78.fits\n",
      "Skipping column contribution from 1143.23 as NG for a line; flg=0\n",
      "cos_halos: Reading /u/xavier/Dropbox/COS-Dwarfs/Targets/FITS/PG1202+281.165_95.fits\n",
      "Skipping column contribution from 1125.45 as NG for a line; flg=0\n",
      "Skipping column contribution from 1143.23 as NG for a line; flg=0\n"
     ]
    },
    {
     "name": "stderr",
     "output_type": "stream",
     "text": [
      "/Users/xavier/local/Python/pyigm/pyigm/cgm/cos_halos.py:248: UserWarning: No HI measurement for <CGMAbsSys: J1545+0936_285_81 Galaxy RA/DEC=15:45:48.2+09:36:42.2, zgal=0.0552711, rho=88.2433 kpc>\n",
      "  warnings.warn(\"No HI measurement for {}\".format(self.cgm_abs[-1]))\n"
     ]
    }
   ],
   "source": [
    "cos_dwarfs.load_mega(skip_ions=False, chk_lowz=False)"
   ]
  },
  {
   "cell_type": "markdown",
   "metadata": {},
   "source": [
    "### Notes on 'failures' [Fixed with July 7 megastructure]\n",
    "\n",
    "    NV in J0212-0737.334_153.fits has vlim = [-650,-350]  (i.e. beyond -600 km/s)\n",
    "    HI in J0820+2334.260_17.fits has vlim = [ -50., 620.] km/s\n",
    "    J1545+0936_285_81 has no HI measurement"
   ]
  },
  {
   "cell_type": "markdown",
   "metadata": {},
   "source": [
    "### Write to a JSON tarball"
   ]
  },
  {
   "cell_type": "code",
   "execution_count": 5,
   "metadata": {
    "collapsed": false
   },
   "outputs": [
    {
     "data": {
      "text/plain": [
       "'/Users/xavier/Dropbox/COS-Halos-Data/'"
      ]
     },
     "execution_count": 5,
     "metadata": {},
     "output_type": "execute_result"
    }
   ],
   "source": [
    "cos_dwarfs.cdir# = '/Users/xavier/Dropbox/COS-Halos-Data'"
   ]
  },
  {
   "cell_type": "code",
   "execution_count": 6,
   "metadata": {
    "collapsed": false
   },
   "outputs": [],
   "source": [
    "tarfil = cos_dwarfs.cdir+'/cos-dwarfs_systems.v1.0.tar.gz'"
   ]
  },
  {
   "cell_type": "code",
   "execution_count": 7,
   "metadata": {
    "collapsed": false
   },
   "outputs": [
    {
     "name": "stdout",
     "output_type": "stream",
     "text": [
      "Wrote: /Users/xavier/Dropbox/COS-Halos-Data//cos-dwarfs_systems.v1.0.tar.gz\n"
     ]
    },
    {
     "name": "stderr",
     "output_type": "stream",
     "text": [
      "/Users/xavier/local/Python/pyigm/pyigm/cgm/cgmsurvey.py:74: UserWarning: Modify to write directly to tar file\n",
      "  warnings.warn(\"Modify to write directly to tar file\")\n"
     ]
    }
   ],
   "source": [
    "cos_dwarfs.write_survey(tarfil)"
   ]
  },
  {
   "cell_type": "markdown",
   "metadata": {},
   "source": [
    "----"
   ]
  },
  {
   "cell_type": "markdown",
   "metadata": {},
   "source": [
    "## Kinematics"
   ]
  },
  {
   "cell_type": "code",
   "execution_count": 1,
   "metadata": {
    "collapsed": true
   },
   "outputs": [],
   "source": [
    "from pyigm.cgm import cos_halos as pch"
   ]
  },
  {
   "cell_type": "code",
   "execution_count": 2,
   "metadata": {
    "collapsed": false
   },
   "outputs": [
    {
     "name": "stderr",
     "output_type": "stream",
     "text": [
      "WARNING: UnitsWarning: The unit 'Angstrom' has been deprecated in the FITS standard. Suggested: 10**-1 nm. [astropy.units.format.utils]\n",
      "WARNING:astropy:UnitsWarning: The unit 'Angstrom' has been deprecated in the FITS standard. Suggested: 10**-1 nm.\n",
      "/Users/xavier/local/Python/linetools/linetools/lists/linelist.py:370: RuntimeWarning: divide by zero encountered in log10\n",
      "  self._data['log(w*f)'] = np.log10(qm_strength)\n",
      "/Users/xavier/anaconda/lib/python2.7/site-packages/numpy/ma/core.py:827: RuntimeWarning: invalid value encountered in less_equal\n",
      "  return umath.less_equal(x, self.critical_value)\n",
      "/Users/xavier/anaconda/lib/python2.7/site-packages/astropy/table/column.py:1086: MaskedArrayFutureWarning: setting an item on a masked array which has a shared mask will not copy the mask and also change the original mask array in the future.\n",
      "Check the NumPy 1.11 release notes for more information.\n",
      "  ma.MaskedArray.__setitem__(self, index, value)\n"
     ]
    },
    {
     "name": "stdout",
     "output_type": "stream",
     "text": [
      "Loading abundances from Asplund2009\n",
      "Abundances are relative by number on a logarithmic scale with H=12\n",
      "Be patient, using /Users/xavier/Dropbox/COS-Halos-Data//cos-dwarfs_systems.v1.0.tar.gz to load COS-Halos\n",
      "Skipping a likely folder: CGM_JSON\n"
     ]
    }
   ],
   "source": [
    "reload(pch)\n",
    "cos_dwarfs_v10 = pch.COSDwarfs()\n",
    "cos_dwarfs_v10.load_sys(tfile=cos_dwarfs_v10.cdir+'/cos-dwarfs_systems.v1.0.tar.gz', chk_lowz=False)"
   ]
  },
  {
   "cell_type": "markdown",
   "metadata": {},
   "source": [
    "### Generate from Init file"
   ]
  },
  {
   "cell_type": "code",
   "execution_count": 3,
   "metadata": {
    "collapsed": false
   },
   "outputs": [
    {
     "data": {
      "text/plain": [
       "u'/Users/xavier/Dropbox/COS-Halos-Data//Kin/cosdwarfs_kin_driver.dat'"
      ]
     },
     "execution_count": 3,
     "metadata": {},
     "output_type": "execute_result"
    }
   ],
   "source": [
    "cos_dwarfs_v10.kin_init_file"
   ]
  },
  {
   "cell_type": "code",
   "execution_count": 4,
   "metadata": {
    "collapsed": false
   },
   "outputs": [
    {
     "name": "stderr",
     "output_type": "stream",
     "text": [
      "/Users/xavier/local/Python/pyigm/pyigm/cgm/cos_halos.py:443: UserWarning: load_kin: No kinematics for J0155-0857, 329_403\n",
      "  cgm_abs.gal_id))\n",
      "/Users/xavier/local/Python/pyigm/pyigm/cgm/cos_halos.py:443: UserWarning: load_kin: No kinematics for J0242-0759, 84_223\n",
      "  cgm_abs.gal_id))\n",
      "/Users/xavier/local/Python/pyigm/pyigm/cgm/cos_halos.py:443: UserWarning: load_kin: No kinematics for J0912+2957, 20_223\n",
      "  cgm_abs.gal_id))\n",
      "/Users/xavier/local/Python/pyigm/pyigm/cgm/cos_halos.py:443: UserWarning: load_kin: No kinematics for J1117+2634, 114_210\n",
      "  cgm_abs.gal_id))\n",
      "/Users/xavier/local/Python/pyigm/pyigm/cgm/cos_halos.py:443: UserWarning: load_kin: No kinematics for J1210+3157, 65_308\n",
      "  cgm_abs.gal_id))\n",
      "/Users/xavier/local/Python/pyigm/pyigm/cgm/cos_halos.py:443: UserWarning: load_kin: No kinematics for J1211+3657, 312_196\n",
      "  cgm_abs.gal_id))\n",
      "/Users/xavier/local/Python/pyigm/pyigm/cgm/cos_halos.py:443: UserWarning: load_kin: No kinematics for J1357+1704, 93_248\n",
      "  cgm_abs.gal_id))\n",
      "/Users/xavier/local/Python/pyigm/pyigm/cgm/cos_halos.py:443: UserWarning: load_kin: No kinematics for J1545+0936, 285_81\n",
      "  cgm_abs.gal_id))\n",
      "/Users/xavier/local/Python/pyigm/pyigm/cgm/cos_halos.py:443: UserWarning: load_kin: No kinematics for PG1049-005, 316_78\n",
      "  cgm_abs.gal_id))\n",
      "/Users/xavier/local/Python/pyigm/pyigm/cgm/cos_halos.py:443: UserWarning: load_kin: No kinematics for PG1202+281, 165_95\n",
      "  cgm_abs.gal_id))\n"
     ]
    }
   ],
   "source": [
    "cos_dwarfs_v10.load_abskin(flg=1)"
   ]
  },
  {
   "cell_type": "markdown",
   "metadata": {},
   "source": [
    "### Test writing"
   ]
  },
  {
   "cell_type": "code",
   "execution_count": null,
   "metadata": {
    "collapsed": true
   },
   "outputs": [],
   "source": [
    "cgm_sys = cos_dwarfs_v10.cgm_abs[0]"
   ]
  },
  {
   "cell_type": "code",
   "execution_count": null,
   "metadata": {
    "collapsed": false
   },
   "outputs": [],
   "source": [
    "tdict = cgm_sys.igm_sys.to_dict()"
   ]
  },
  {
   "cell_type": "code",
   "execution_count": null,
   "metadata": {
    "collapsed": false
   },
   "outputs": [],
   "source": [
    "tdict['kin']"
   ]
  },
  {
   "cell_type": "code",
   "execution_count": null,
   "metadata": {
    "collapsed": true
   },
   "outputs": [],
   "source": [
    "from linetools import utils as ltu"
   ]
  },
  {
   "cell_type": "code",
   "execution_count": null,
   "metadata": {
    "collapsed": true
   },
   "outputs": [],
   "source": [
    "jdict = ltu.jsonify(tdict)"
   ]
  },
  {
   "cell_type": "code",
   "execution_count": null,
   "metadata": {
    "collapsed": false
   },
   "outputs": [],
   "source": [
    "ltu.savejson('tmp2.json',jdict)"
   ]
  },
  {
   "cell_type": "markdown",
   "metadata": {},
   "source": [
    "### Write tarball"
   ]
  },
  {
   "cell_type": "code",
   "execution_count": 5,
   "metadata": {
    "collapsed": false
   },
   "outputs": [],
   "source": [
    "tarfil = cos_dwarfs_v10.cdir+'/cos-dwarfs_systems.v1.1.tar.gz'"
   ]
  },
  {
   "cell_type": "code",
   "execution_count": 6,
   "metadata": {
    "collapsed": false
   },
   "outputs": [
    {
     "name": "stdout",
     "output_type": "stream",
     "text": [
      "Wrote: /Users/xavier/Dropbox/COS-Halos-Data//cos-dwarfs_systems.v1.1.tar.gz\n"
     ]
    },
    {
     "name": "stderr",
     "output_type": "stream",
     "text": [
      "/Users/xavier/local/Python/pyigm/pyigm/cgm/cgmsurvey.py:74: UserWarning: Modify to write directly to tar file\n",
      "  warnings.warn(\"Modify to write directly to tar file\")\n"
     ]
    }
   ],
   "source": [
    "cos_dwarfs_v10.write_survey(tarfil)"
   ]
  },
  {
   "cell_type": "markdown",
   "metadata": {},
   "source": [
    "### Read test"
   ]
  },
  {
   "cell_type": "code",
   "execution_count": 3,
   "metadata": {
    "collapsed": false
   },
   "outputs": [
    {
     "name": "stderr",
     "output_type": "stream",
     "text": [
      "WARNING: UnitsWarning: The unit 'Angstrom' has been deprecated in the FITS standard. Suggested: 10**-1 nm. [astropy.units.format.utils]\n",
      "/Users/xavier/local/Python/linetools/linetools/lists/linelist.py:374: RuntimeWarning: divide by zero encountered in log10\n",
      "  self._data['log(w*f)'] = np.log10(qm_strength)\n",
      "/Users/xavier/anaconda/lib/python2.7/site-packages/numpy/ma/core.py:824: RuntimeWarning: invalid value encountered in less_equal\n",
      "  return umath.less_equal(x, self.critical_value)\n"
     ]
    },
    {
     "name": "stdout",
     "output_type": "stream",
     "text": [
      "Loading abundances from Asplund2009\n",
      "Abundances are relative by number on a logarithmic scale with H=12\n",
      "Be patient, using /Users/xavier/Dropbox/COS-Halos-Data//cos-dwarfs_systems.v1.1.tar.gz to load COS-Halos\n",
      "Skipping a likely folder: CGM_JSON\n"
     ]
    }
   ],
   "source": [
    "cos_dwarfs_v11 = pch.COSDwarfs()\n",
    "cos_dwarfs_v11.load_sys(tfile=cos_dwarfs_v11.cdir+'/cos-dwarfs_systems.v1.1.tar.gz', chk_lowz=False)"
   ]
  },
  {
   "cell_type": "code",
   "execution_count": 4,
   "metadata": {
    "collapsed": false
   },
   "outputs": [
    {
     "data": {
      "text/plain": [
       "{u'HI': {u'Dv': <Quantity 283.0 km / s>,\n",
       "  u'JF_fcover': <Quantity 250.47636450692096 km / s>,\n",
       "  u'X_fcover': 0.8837209302325582,\n",
       "  u'delta_v': <Quantity -56.11896619856533 km / s>,\n",
       "  u'fedg': 0.23797783280800872,\n",
       "  u'fmm': 0.1903822662465156,\n",
       "  u'v_peak': <Quantity -41.640092405809426 km / s>,\n",
       "  u'zero_pk': 0.9748900721315327},\n",
       " u'Metal': {u'Dv': <Quantity 105.0 km / s>,\n",
       "  u'JF_fcover': <Quantity 80.03280693372173 km / s>,\n",
       "  u'X_fcover': 0.8666666666666667,\n",
       "  u'delta_v': <Quantity -19.721296885405227 km / s>,\n",
       "  u'fedg': 0.28692603118750243,\n",
       "  u'fmm': 8.885167733838205e-13,\n",
       "  u'v_peak': <Quantity -36.57420053389729 km / s>,\n",
       "  u'zero_pk': 0.6823904494895773}}"
      ]
     },
     "execution_count": 4,
     "metadata": {},
     "output_type": "execute_result"
    }
   ],
   "source": [
    "cos_dwarfs_v11.cgm_abs[0].igm_sys.kin"
   ]
  },
  {
   "cell_type": "markdown",
   "metadata": {},
   "source": [
    "## Tests"
   ]
  },
  {
   "cell_type": "code",
   "execution_count": 5,
   "metadata": {
    "collapsed": false
   },
   "outputs": [
    {
     "data": {
      "text/plain": [
       "array([ 11.49805577,  11.17881628,  11.19026726,  11.17079078,\n",
       "        10.83881709,  11.18595909,  11.60629637,  11.57758644,\n",
       "        11.51339801,  11.64226876,  11.73424622,  10.85954009,\n",
       "        11.53099605,  11.19545824,  11.59781166,  11.72654345,\n",
       "        11.00166726,  11.23393558,  10.51364051,  11.70698573,\n",
       "        11.45278318,  11.59229037,  11.64737125,  11.82958932,\n",
       "        11.27063378,  11.56737504,  11.59096303,  11.38424995,\n",
       "        11.80555423,  11.4119666 ,  11.61279027,  11.46012042,\n",
       "        11.41695003,  11.422477  ,  11.32654169,  11.49675219,\n",
       "        11.3831578 ,  10.65930681,  11.46371208,  11.63897304,\n",
       "        11.31221765,  11.54482217,  11.75496851])"
      ]
     },
     "execution_count": 5,
     "metadata": {},
     "output_type": "execute_result"
    }
   ],
   "source": [
    "cos_dwarfs_v11.halo_mass"
   ]
  },
  {
   "cell_type": "code",
   "execution_count": 6,
   "metadata": {
    "collapsed": false
   },
   "outputs": [
    {
     "data": {
      "text/plain": [
       "array([ {u'HI': {u'fedg': 0.23797783280800872, u'X_fcover': 0.8837209302325582, u'JF_fcover': <Quantity 250.47636450692096 km / s>, u'delta_v': <Quantity -56.11896619856533 km / s>, u'fmm': 0.1903822662465156, u'Dv': <Quantity 283.0 km / s>, u'zero_pk': 0.9748900721315327, u'v_peak': <Quantity -41.640092405809426 km / s>}, u'Metal': {u'fedg': 0.28692603118750243, u'X_fcover': 0.8666666666666667, u'JF_fcover': <Quantity 80.03280693372173 km / s>, u'delta_v': <Quantity -19.721296885405227 km / s>, u'fmm': 8.885167733838205e-13, u'Dv': <Quantity 105.0 km / s>, u'zero_pk': 0.6823904494895773, u'v_peak': <Quantity -36.57420053389729 km / s>}},\n",
       "       {},\n",
       "       {u'HI': {u'fedg': 0.3343229016157737, u'X_fcover': 0.6842105263157895, u'JF_fcover': <Quantity 74.21731172502327 km / s>, u'delta_v': <Quantity -16.580453560137247 km / s>, u'fmm': 0.2228819344100919, u'Dv': <Quantity 130.0 km / s>, u'zero_pk': 1.0, u'v_peak': <Quantity -5.6939741575898415 km / s>}, u'Metal': {}},\n",
       "       {},\n",
       "       {u'HI': {u'fedg': 0.14220152952249604, u'X_fcover': 0.7333333333333333, u'JF_fcover': <Quantity 73.44847890536938 km / s>, u'delta_v': <Quantity -43.11052977689855 km / s>, u'fmm': 1.0818540782691903e-12, u'Dv': <Quantity 101.0 km / s>, u'zero_pk': 0.5190157491363979, u'v_peak': <Quantity -40.0185386977413 km / s>}, u'Metal': {}},\n",
       "       {u'HI': {u'fedg': 0.5000232448563461, u'X_fcover': 1.0, u'JF_fcover': <Quantity 92.42272694008012 km / s>, u'delta_v': <Quantity -12.08805374550917 km / s>, u'fmm': 0.20000929794162556, u'Dv': <Quantity 144.0 km / s>, u'zero_pk': 1.0, u'v_peak': <Quantity 10.806065261349204 km / s>}, u'Metal': {}},\n",
       "       {u'HI': {u'fedg': 0.3822994837276618, u'X_fcover': 0.4492753623188406, u'JF_fcover': <Quantity 155.91103690072063 km / s>, u'delta_v': <Quantity 348.74602738550647 km / s>, u'fmm': 0.3528918311330971, u'Dv': <Quantity 458.0 km / s>, u'zero_pk': 0.05300993254835688, u'v_peak': <Quantity 375.14718418781734 km / s>}, u'Metal': {}},\n",
       "       {u'HI': {u'fedg': 0.6009171057692356, u'X_fcover': 1.0, u'JF_fcover': <Quantity 190.61002817753783 km / s>, u'delta_v': <Quantity -15.049696304443225 km / s>, u'fmm': 0.040061140384737584, u'Dv': <Quantity 175.0 km / s>, u'zero_pk': 0.9843891612981052, u'v_peak': <Quantity -67.86950979087703 km / s>}, u'Metal': {u'fedg': 0.1197285486526364, u'X_fcover': 0.8076923076923077, u'JF_fcover': <Quantity 108.52798879392728 km / s>, u'delta_v': <Quantity -21.72874576267277 km / s>, u'fmm': 0.11972854865202925, u'Dv': <Quantity 177.0 km / s>, u'zero_pk': 1.0, u'v_peak': <Quantity -0.8406903134836671 km / s>}},\n",
       "       {u'HI': {u'fedg': 0.06687056187475425, u'X_fcover': 0.9375, u'JF_fcover': <Quantity 89.23608750522264 km / s>, u'delta_v': <Quantity 40.13497845710897 km / s>, u'fmm': 0.06687056187475425, u'Dv': <Quantity 107.0 km / s>, u'zero_pk': 0.8130584042957697, u'v_peak': <Quantity 35.09150760625266 km / s>}, u'Metal': {u'fedg': 1.002394937521591, u'X_fcover': 0.7037037037037037, u'JF_fcover': <Quantity 90.4269706893647 km / s>, u'delta_v': <Quantity 45.487906715040594 km / s>, u'fmm': 0.1542146057726428, u'Dv': <Quantity 187.0 km / s>, u'zero_pk': 0.7480254139619344, u'v_peak': <Quantity -36.377709296091616 km / s>}},\n",
       "       {},\n",
       "       {u'HI': {u'fedg': 0.33282963675425076, u'X_fcover': 0.631578947368421, u'JF_fcover': <Quantity 81.87400791894486 km / s>, u'delta_v': <Quantity -4.517294091067531 km / s>, u'fmm': 0.33282963675425076, u'Dv': <Quantity 131.0 km / s>, u'zero_pk': 1.0, u'v_peak': <Quantity -13.011478865266024 km / s>}, u'Metal': {}},\n",
       "       {u'HI': {u'fedg': 0.1995150049736521, u'X_fcover': 1.0, u'JF_fcover': <Quantity 104.72020917134697 km / s>, u'delta_v': <Quantity -33.62412599800483 km / s>, u'fmm': 0.06650500165855845, u'Dv': <Quantity 109.0 km / s>, u'zero_pk': 0.9584338522212361, u'v_peak': <Quantity -48.741696295472146 km / s>}, u'Metal': {u'fedg': 0.1425915615762488, u'X_fcover': 0.6818181818181818, u'JF_fcover': <Quantity 80.20901850645541 km / s>, u'delta_v': <Quantity -75.12828383395839 km / s>, u'fmm': 0.23765260262635848, u'Dv': <Quantity 139.0 km / s>, u'zero_pk': 0.3717730764556458, u'v_peak': <Quantity -75.82272634651214 km / s>}},\n",
       "       {u'HI': {u'fedg': 0.1795466810252423, u'X_fcover': 0.7, u'JF_fcover': <Quantity 193.37193754972822 km / s>, u'delta_v': <Quantity 6.751573333026577 km / s>, u'fmm': 0.28214478446779195, u'Dv': <Quantity 283.0 km / s>, u'zero_pk': 1.0, u'v_peak': <Quantity 4.426825029545628 km / s>}, u'Metal': {}},\n",
       "       {u'HI': {u'fedg': 0.3146391243701691, u'X_fcover': 0.7777777777777778, u'JF_fcover': <Quantity 146.8998472161215 km / s>, u'delta_v': <Quantity -115.64508094874914 km / s>, u'fmm': 0.14301778380450356, u'Dv': <Quantity 255.0 km / s>, u'zero_pk': 0.4606976723237149, u'v_peak': <Quantity -90.14752110582175 km / s>}, u'Metal': {}},\n",
       "       {u'HI': {u'fedg': 0.1300504926077398, u'X_fcover': 1.0, u'JF_fcover': <Quantity 163.23887128573122 km / s>, u'delta_v': <Quantity -25.371334810670326 km / s>, u'fmm': 0.0433501642030197, u'Dv': <Quantity 167.0 km / s>, u'zero_pk': 0.9946500944226349, u'v_peak': <Quantity -17.232716881708942 km / s>}, u'Metal': {u'fedg': 0.8206313681741847, u'X_fcover': 1.0, u'JF_fcover': <Quantity 64.36874328970856 km / s>, u'delta_v': <Quantity -33.633153715661045 km / s>, u'fmm': 0.27354378939139484, u'Dv': <Quantity 80.0 km / s>, u'zero_pk': 1.0, u'v_peak': <Quantity -7.381751325519281 km / s>}},\n",
       "       {u'HI': {u'fedg': 0.40736235955425776, u'X_fcover': 1.0, u'JF_fcover': <Quantity 182.0598863084568 km / s>, u'delta_v': <Quantity 33.36526485695491 km / s>, u'fmm': 0.03703294177771109, u'Dv': <Quantity 188.0 km / s>, u'zero_pk': 1.0, u'v_peak': <Quantity -11.208662515046344 km / s>}, u'Metal': {u'fedg': 0.25228261015659037, u'X_fcover': 0.8888888888888888, u'JF_fcover': <Quantity 41.606690053389066 km / s>, u'delta_v': <Quantity 70.22492108733117 km / s>, u'fmm': 0.5045652203139616, u'Dv': <Quantity 54.0 km / s>, u'zero_pk': 0.1733680502048126, u'v_peak': <Quantity 52.22718010099262 km / s>}},\n",
       "       {u'HI': {u'fedg': 0.3351068020919975, u'X_fcover': 0.7692307692307693, u'JF_fcover': <Quantity 63.981572689505654 km / s>, u'delta_v': <Quantity -74.72115267034283 km / s>, u'fmm': 0.16755340104631758, u'Dv': <Quantity 87.0 km / s>, u'zero_pk': 0.09820980265951547, u'v_peak': <Quantity -68.79765361209144 km / s>}, u'Metal': {}},\n",
       "       {u'HI': {u'fedg': 0.2495683447787055, u'X_fcover': 1.0, u'JF_fcover': <Quantity 78.04174459625409 km / s>, u'delta_v': <Quantity 3.0596614714051307 km / s>, u'fmm': 0.12478417238887828, u'Dv': <Quantity 110.0 km / s>, u'zero_pk': 1.0, u'v_peak': <Quantity -11.413820129102756 km / s>}, u'Metal': {}},\n",
       "       {u'HI': {u'fedg': 0.2735127835085961, u'X_fcover': 1.0, u'JF_fcover': <Quantity 78.0196651333828 km / s>, u'delta_v': <Quantity -7.565411547350291 km / s>, u'fmm': 0.09117092783527378, u'Dv': <Quantity 80.0 km / s>, u'zero_pk': 0.9975356550847515, u'v_peak': <Quantity -17.049563885282804 km / s>}, u'Metal': {}},\n",
       "       {u'HI': {u'fedg': 0.36320842575418233, u'X_fcover': 0.6521739130434783, u'JF_fcover': <Quantity 90.04231055831866 km / s>, u'delta_v': <Quantity -22.86561374445499 km / s>, u'fmm': 0.27240631931555037, u'Dv': <Quantity 159.0 km / s>, u'zero_pk': 1.0, u'v_peak': <Quantity -13.360058265983165 km / s>}, u'Metal': {}},\n",
       "       {u'HI': {u'fedg': 0.11185418504552125, u'X_fcover': 0.9, u'JF_fcover': <Quantity 59.57246330159349 km / s>, u'delta_v': <Quantity 372.3212424606891 km / s>, u'fmm': 0.3355625551399708, u'Dv': <Quantity 64.0 km / s>, u'zero_pk': 0.0, u'v_peak': <Quantity 366.2375645555259 km / s>}, u'Metal': {}},\n",
       "       {u'HI': {u'fedg': 0.1436693610895297, u'X_fcover': 1.0, u'JF_fcover': <Quantity 41.51575967293563 km / s>, u'delta_v': <Quantity 158.4258259606009 km / s>, u'fmm': 0.1436693610895297, u'Dv': <Quantity 49.0 km / s>, u'zero_pk': 0.0, u'v_peak': <Quantity 155.42004318210843 km / s>}, u'Metal': {}},\n",
       "       {},\n",
       "       {u'HI': {u'fedg': 0.4279709580862292, u'X_fcover': 0.896551724137931, u'JF_fcover': <Quantity 132.9473863205787 km / s>, u'delta_v': <Quantity 130.0334395829581 km / s>, u'fmm': 0.07132849301428078, u'Dv': <Quantity 202.0 km / s>, u'zero_pk': 0.3756401679610476, u'v_peak': <Quantity 79.56999377295818 km / s>}, u'Metal': {}},\n",
       "       {u'HI': {u'fedg': 0.5566628505331034, u'X_fcover': 0.8947368421052632, u'JF_fcover': <Quantity 137.5842858369799 km / s>, u'delta_v': <Quantity -58.673804806973315 km / s>, u'fmm': 0.1113325701066208, u'Dv': <Quantity 131.0 km / s>, u'zero_pk': 0.8907448728638375, u'v_peak': <Quantity -30.46226338068946 km / s>}, u'Metal': {}},\n",
       "       {u'HI': {u'fedg': 0.626440536291673, u'X_fcover': 0.9411764705882353, u'JF_fcover': <Quantity 111.23198326975184 km / s>, u'delta_v': <Quantity -56.82521790122755 km / s>, u'fmm': 9.531245188810046e-13, u'Dv': <Quantity 114.0 km / s>, u'zero_pk': 0.6444405167599149, u'v_peak': <Quantity -28.361167306193657 km / s>}, u'Metal': {}},\n",
       "       {u'HI': {u'fedg': 0.2214652942347777, u'X_fcover': 0.8947368421052632, u'JF_fcover': <Quantity 96.53005732967549 km / s>, u'delta_v': <Quantity 6.743844477354024 km / s>, u'fmm': 0.1107326471165464, u'Dv': <Quantity 127.0 km / s>, u'zero_pk': 1.0, u'v_peak': <Quantity -4.986101684901606 km / s>}, u'Metal': {}},\n",
       "       {}, {},\n",
       "       {u'HI': {u'fedg': 0.09076038885268631, u'X_fcover': 0.8695652173913043, u'JF_fcover': <Quantity 147.44254929580126 km / s>, u'delta_v': <Quantity 22.356510190187993 km / s>, u'fmm': 0.09076038885268631, u'Dv': <Quantity 153.0 km / s>, u'zero_pk': 0.9696887370262935, u'v_peak': <Quantity 22.79878371809002 km / s>}, u'Metal': {u'fedg': 0.1438522356906525, u'X_fcover': 1.0, u'JF_fcover': <Quantity 51.79181490891798 km / s>, u'delta_v': <Quantity 6.098697716933341 km / s>, u'fmm': 0.1438522356906525, u'Dv': <Quantity 54.0 km / s>, u'zero_pk': 1.0, u'v_peak': <Quantity 1.8296669278851128 km / s>}},\n",
       "       {u'HI': {u'fedg': 0.4724409900102189, u'X_fcover': 0.95, u'JF_fcover': <Quantity 134.81915159656688 km / s>, u'delta_v': <Quantity -2.5010693729979785 km / s>, u'fmm': 0.05249344333420256, u'Dv': <Quantity 134.0 km / s>, u'zero_pk': 0.9900763111264953, u'v_peak': <Quantity 23.726804677982916 km / s>}, u'Metal': {}},\n",
       "       {u'HI': {u'fedg': 0.0475175973666135, u'X_fcover': 0.9545454545454546, u'JF_fcover': <Quantity 148.65496869981908 km / s>, u'delta_v': <Quantity 2.965190422094032 km / s>, u'fmm': 0.0475175973666135, u'Dv': <Quantity 150.0 km / s>, u'zero_pk': 1.0, u'v_peak': <Quantity -5.787829225087143 km / s>}, u'Metal': {u'fedg': 0.6475405353846381, u'X_fcover': 0.7777777777777778, u'JF_fcover': <Quantity 68.3388668678588 km / s>, u'delta_v': <Quantity 2.6216809965238883 km / s>, u'fmm': 0.4120712497908756, u'Dv': <Quantity 122.0 km / s>, u'zero_pk': 0.25521315017071133, u'v_peak': <Quantity 32.01422814080163 km / s>}},\n",
       "       {u'HI': {u'fedg': 0.03995877575336016, u'X_fcover': 0.8846153846153846, u'JF_fcover': <Quantity 140.6602403577369 km / s>, u'delta_v': <Quantity -318.03178818041397 km / s>, u'fmm': 0.03995877575336016, u'Dv': <Quantity 180.0 km / s>, u'zero_pk': 0.0, u'v_peak': <Quantity -319.2873992090429 km / s>}, u'Metal': {}},\n",
       "       {u'HI': {u'fedg': 0.43046183336964156, u'X_fcover': 0.9333333333333333, u'JF_fcover': <Quantity 79.52407779859904 km / s>, u'delta_v': <Quantity 17.37371045315567 km / s>, u'fmm': 7.105427357601002e-17, u'Dv': <Quantity 100.0 km / s>, u'zero_pk': 0.6868545414834374, u'v_peak': <Quantity 36.69319732281662 km / s>}, u'Metal': {}},\n",
       "       {u'HI': {u'fedg': 0.29378029245734044, u'X_fcover': 0.7777777777777778, u'JF_fcover': <Quantity 96.96521728459929 km / s>, u'delta_v': <Quantity -17.691334224449573 km / s>, u'fmm': 0.17626817547458312, u'Dv': <Quantity 124.0 km / s>, u'zero_pk': 1.0, u'v_peak': <Quantity -12.401538231058892 km / s>}, u'Metal': {}},\n",
       "       {u'HI': {u'fedg': 0.7848574981295943, u'X_fcover': 0.6578947368421053, u'JF_fcover': <Quantity 144.57117026107926 km / s>, u'delta_v': <Quantity -164.46900589710728 km / s>, u'fmm': 0.40596077489477417, u'Dv': <Quantity 264.0 km / s>, u'zero_pk': 0.1141829298478134, u'v_peak': <Quantity -77.26510869931309 km / s>}, u'Metal': {}},\n",
       "       {},\n",
       "       {u'HI': {u'fedg': 0.14265345633424167, u'X_fcover': 0.7333333333333333, u'JF_fcover': <Quantity 71.02509377125409 km / s>, u'delta_v': <Quantity -43.90741399439926 km / s>, u'fmm': 0.14265345633424167, u'Dv': <Quantity 102.0 km / s>, u'zero_pk': 0.5027555807545732, u'v_peak': <Quantity -55.75841799568635 km / s>}, u'Metal': {}},\n",
       "       {u'HI': {u'fedg': 0.6464727091901075, u'X_fcover': 1.0, u'JF_fcover': <Quantity 125.7953321133063 km / s>, u'delta_v': <Quantity -48.83215276096374 km / s>, u'fmm': 0.17631073887035445, u'Dv': <Quantity 121.0 km / s>, u'zero_pk': 0.9831479383964155, u'v_peak': <Quantity -16.93811585148048 km / s>}, u'Metal': {}},\n",
       "       {},\n",
       "       {u'HI': {u'fedg': 0.19944580804825582, u'X_fcover': 1.0, u'JF_fcover': <Quantity 143.65692282852203 km / s>, u'delta_v': <Quantity 55.56711897500121 km / s>, u'fmm': 1.0605115459105973e-16, u'Dv': <Quantity 134.0 km / s>, u'zero_pk': 0.7683410231543717, u'v_peak': <Quantity 38.705843212194544 km / s>}, u'Metal': {u'fedg': 0.22950739074142976, u'X_fcover': 0.7857142857142857, u'JF_fcover': <Quantity 62.35516609874591 km / s>, u'delta_v': <Quantity 37.134614799000744 km / s>, u'fmm': 0.07650246357970096, u'Dv': <Quantity 88.0 km / s>, u'zero_pk': 0.4857655040278377, u'v_peak': <Quantity 42.082519602775754 km / s>}},\n",
       "       {}, {}], dtype=object)"
      ]
     },
     "execution_count": 6,
     "metadata": {},
     "output_type": "execute_result"
    }
   ],
   "source": [
    "cos_dwarfs_v11.kin"
   ]
  },
  {
   "cell_type": "code",
   "execution_count": null,
   "metadata": {
    "collapsed": true
   },
   "outputs": [],
   "source": []
  }
 ],
 "metadata": {
  "kernelspec": {
   "display_name": "Python 3",
   "language": "python",
   "name": "python3"
  },
  "language_info": {
   "codemirror_mode": {
    "name": "ipython",
    "version": 3
   },
   "file_extension": ".py",
   "mimetype": "text/x-python",
   "name": "python",
   "nbconvert_exporter": "python",
   "pygments_lexer": "ipython3",
   "version": "3.6.0"
  }
 },
 "nbformat": 4,
 "nbformat_minor": 0
}
