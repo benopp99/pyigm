{
 "cells": [
  {
   "cell_type": "markdown",
   "metadata": {},
   "source": [
    "# How to use the MCMC_output() class in pyigm.metallicity.MCMC_output"
   ]
  },
  {
   "cell_type": "code",
   "execution_count": 1,
   "metadata": {
    "collapsed": true
   },
   "outputs": [],
   "source": [
    "import numpy as np\n",
    "from matplotlib import pyplot as plt"
   ]
  },
  {
   "cell_type": "code",
   "execution_count": 2,
   "metadata": {},
   "outputs": [],
   "source": [
    "from pyigm.metallicity.MCMC_output import MCMC_output"
   ]
  },
  {
   "cell_type": "markdown",
   "metadata": {},
   "source": [
    "### Let's send a LIST of *.pkl/*.hd5 files of our MCMC output.\n",
    "### We can send a single filename (a string), if we wish, also."
   ]
  },
  {
   "cell_type": "markdown",
   "metadata": {},
   "source": [
    "First, read in the list of *.pkl/*.hd5 files (the *.list file is\n",
    "simply a list of the paths to those files).\n",
    "\n",
    "This will include the entire sample, regardless of its NHI.\n",
    "The class will only return the data for those within the specified NHI range.\n",
    "\n",
    "That way, if we already have, e.g., a list of \"all files we want to\n",
    "  include in a 'metallicity vs NHI' plot\" but want to grab the pLLSs\n",
    "  by themselves, we can still send it the whole list."
   ]
  },
  {
   "cell_type": "code",
   "execution_count": 3,
   "metadata": {
    "collapsed": true
   },
   "outputs": [],
   "source": [
    "##Read the list\n",
    "listfile_files = []\n",
    "with open('../Figures/plot-met_pdf-W17_MCMC.list', 'r') as infile:\n",
    "    for line in infile:\n",
    "        listfile_files.append(line.strip())"
   ]
  },
  {
   "cell_type": "markdown",
   "metadata": {},
   "source": [
    "### Now initialize the class"
   ]
  },
  {
   "cell_type": "code",
   "execution_count": 4,
   "metadata": {
    "collapsed": true
   },
   "outputs": [],
   "source": [
    "##Now initialize the class\n",
    "binsize=0.20\n",
    "base_hist = np.arange(-3.6, 1.0001, binsize)\n",
    "mcmc=MCMC_output(\n",
    "    NHItype = 'LLS',\n",
    "    binsize = binsize,\n",
    "    base_hist = base_hist,\n",
    "    smash = True,\n",
    "    ndraw = 10000\n",
    "    )"
   ]
  },
  {
   "cell_type": "code",
   "execution_count": 5,
   "metadata": {
    "collapsed": true
   },
   "outputs": [],
   "source": [
    "##Send it the file list. This could also have been\n",
    "##  done above, with `infiles = listfile_files` argument\n",
    "##  at class initialization, but I'm just showing you\n",
    "##  that it works either way.\n",
    "mcmc.infiles = listfile_files"
   ]
  },
  {
   "cell_type": "markdown",
   "metadata": {},
   "source": [
    "## Call the class"
   ]
  },
  {
   "cell_type": "code",
   "execution_count": 6,
   "metadata": {
    "collapsed": true
   },
   "outputs": [],
   "source": [
    "##Call the class\n",
    "LLS_walkers, LLS_nsys, LLS_limit_code = mcmc.get_walkers()\n",
    "LLS_MDF, LLS_cumul_frac, LLS_nsys, base_hist, bins = mcmc.get_pdf_cdf()"
   ]
  },
  {
   "cell_type": "code",
   "execution_count": 7,
   "metadata": {
    "collapsed": true
   },
   "outputs": [],
   "source": [
    "##We can now change the options if we want, e.g., a different\n",
    "##  NHI range.\n",
    "\n",
    "##First, we need to reset NHItype, since that overrides\n",
    "##  the NHIlow and NHIhigh\n",
    "mcmc.NHItype = None\n",
    "\n",
    "mcmc.NHIlow = 15.0\n",
    "mcmc.NHIhigh= 19.0"
   ]
  },
  {
   "cell_type": "code",
   "execution_count": 8,
   "metadata": {
    "collapsed": true
   },
   "outputs": [],
   "source": [
    "##Re-call the class and get different walkers\n",
    "pLLS_LLS_walkers, pLLS_LLS_nsys, pLLS_LLS_limit_code = mcmc.get_walkers()\n",
    "pLLS_LLS_MDF, pLLS_LLS_cumul_frac, pLLS_LLS_nsys, base_hist, bins = mcmc.get_pdf_cdf()"
   ]
  },
  {
   "cell_type": "markdown",
   "metadata": {},
   "source": [
    "### Let's make some example plots"
   ]
  },
  {
   "cell_type": "code",
   "execution_count": 9,
   "metadata": {},
   "outputs": [
    {
     "data": {
      "image/png": "[encoded data removed]",
      "text/plain": [
       "<matplotlib.figure.Figure at 0x10a1d0410>"
      ]
     },
     "metadata": {},
     "output_type": "display_data"
    }
   ],
   "source": [
    "plt.plot(bins, LLS_MDF, drawstyle='steps-mid')\n",
    "plt.show()"
   ]
  },
  {
   "cell_type": "code",
   "execution_count": 10,
   "metadata": {},
   "outputs": [
    {
     "data": {
      "image/png": "[encoded data removed]",
      "text/plain": [
       "<matplotlib.figure.Figure at 0x109213390>"
      ]
     },
     "metadata": {},
     "output_type": "display_data"
    }
   ],
   "source": [
    "plt.plot(bins, pLLS_LLS_cumul_frac)\n",
    "plt.show()"
   ]
  },
  {
   "cell_type": "code",
   "execution_count": null,
   "metadata": {
    "collapsed": true
   },
   "outputs": [],
   "source": []
  }
 ],
 "metadata": {
  "kernelspec": {
   "display_name": "Python 2",
   "language": "python",
   "name": "python2"
  },
  "language_info": {
   "codemirror_mode": {
    "name": "ipython",
    "version": 2
   },
   "file_extension": ".py",
   "mimetype": "text/x-python",
   "name": "python",
   "nbconvert_exporter": "python",
   "pygments_lexer": "ipython2",
   "version": "2.7.12"
  }
 },
 "nbformat": 4,
 "nbformat_minor": 2
}
