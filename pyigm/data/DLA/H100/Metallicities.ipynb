{
 "cells": [
  {
   "cell_type": "markdown",
   "metadata": {},
   "source": [
    "# Ingest Metallicity data"
   ]
  },
  {
   "cell_type": "code",
   "execution_count": 13,
   "metadata": {
    "collapsed": false
   },
   "outputs": [],
   "source": [
    "# imports\n",
    "from imp import reload\n",
    "import numpy as np\n",
    "from astropy.table import Table\n",
    "\n",
    "from pyigm.surveys import dlasurvey as pdlas\n",
    "#from astropy import table as atbl"
   ]
  },
  {
   "cell_type": "markdown",
   "metadata": {},
   "source": [
    "## Load ApJ Table"
   ]
  },
  {
   "cell_type": "code",
   "execution_count": 5,
   "metadata": {
    "collapsed": false
   },
   "outputs": [],
   "source": [
    "#reload(atbl)\n",
    "tbl2 = Table.read('H100_table2.dat', format='cds')"
   ]
  },
  {
   "cell_type": "code",
   "execution_count": 4,
   "metadata": {
    "collapsed": false
   },
   "outputs": [
    {
     "data": {
      "text/html": [
       "&lt;Table masked=True length=5&gt;\n",
       "<table id=\"table140710882240160\" class=\"table-striped table-bordered table-condensed\">\n",
       "<thead><tr><th>QSO</th><th>zabs</th><th>NHI</th><th>e_NHI</th><th>[M/H]</th><th>e_[M/H]</th><th>l_lc</th><th>lc</th><th>e_lc</th><th>ew</th><th>e_ew</th><th>dv</th><th>trans</th><th>Select</th><th>Ref</th></tr></thead>\n",
       "<thead><tr><th></th><th></th><th>[cm-2]</th><th>[cm-2]</th><th>[-]</th><th>[-]</th><th></th><th>[10-7Js-1H-1]</th><th>[10-7Js-1H-1]</th><th>[10-8m]</th><th>[10-8m]</th><th>km / s</th><th></th><th></th><th></th></tr></thead>\n",
       "<thead><tr><th>str11</th><th>float64</th><th>float64</th><th>float64</th><th>float64</th><th>float64</th><th>str1</th><th>float64</th><th>float64</th><th>float64</th><th>float64</th><th>int64</th><th>str10</th><th>str13</th><th>str12</th></tr></thead>\n",
       "<tr><td>Q1104-18</td><td>1.6613</td><td>20.8</td><td>0.1</td><td>-0.99</td><td>0.1</td><td>--</td><td>-26.87</td><td>0.11</td><td>--</td><td>--</td><td>50</td><td>Si II 1808</td><td>HI-selected</td><td>6</td></tr>\n",
       "<tr><td>Q1331+17</td><td>1.7763</td><td>21.14</td><td>0.08</td><td>-1.34</td><td>0.08</td><td>--</td><td>-26.6</td><td>0.09</td><td>0.499</td><td>0.001</td><td>72</td><td>Si II 1808</td><td>HI-selected</td><td>7,13,18,24</td></tr>\n",
       "<tr><td>Q0841+12</td><td>1.864</td><td>21.0</td><td>0.1</td><td>-1.46</td><td>0.1</td><td>--</td><td>--</td><td>--</td><td>--</td><td>--</td><td>30</td><td>Si II 1808</td><td>Serendipitous</td><td>20</td></tr>\n",
       "<tr><td>Q2230+02</td><td>1.8643</td><td>20.85</td><td>0.08</td><td>-0.71</td><td>0.09</td><td>--</td><td>--</td><td>--</td><td>1.5</td><td>0.018</td><td>172</td><td>Si II 1808</td><td>HI-selected</td><td>7,13</td></tr>\n",
       "<tr><td>Q1210+17</td><td>1.8917</td><td>20.6</td><td>0.1</td><td>-0.79</td><td>0.1</td><td>--</td><td>--</td><td>--</td><td>0.419</td><td>0.003</td><td>38</td><td>Si II 1808</td><td>HI-selected</td><td>13,19</td></tr>\n",
       "</table>"
      ],
      "text/plain": [
       "<Table masked=True length=5>\n",
       "  QSO      zabs    NHI    e_NHI  ...   dv     trans        Select       Ref    \n",
       "                  [cm-2]  [cm-2] ... km / s                                    \n",
       " str11   float64 float64 float64 ... int64    str10        str13       str12   \n",
       "-------- ------- ------- ------- ... ------ ---------- ------------- ----------\n",
       "Q1104-18  1.6613    20.8     0.1 ...     50 Si II 1808   HI-selected          6\n",
       "Q1331+17  1.7763   21.14    0.08 ...     72 Si II 1808   HI-selected 7,13,18,24\n",
       "Q0841+12   1.864    21.0     0.1 ...     30 Si II 1808 Serendipitous         20\n",
       "Q2230+02  1.8643   20.85    0.08 ...    172 Si II 1808   HI-selected       7,13\n",
       "Q1210+17  1.8917    20.6     0.1 ...     38 Si II 1808   HI-selected      13,19"
      ]
     },
     "execution_count": 4,
     "metadata": {},
     "output_type": "execute_result"
    }
   ],
   "source": [
    "tbl2[0:5]"
   ]
  },
  {
   "cell_type": "markdown",
   "metadata": {},
   "source": [
    "## Load Summary File"
   ]
  },
  {
   "cell_type": "code",
   "execution_count": 6,
   "metadata": {
    "collapsed": true
   },
   "outputs": [],
   "source": [
    "summ = Table.read('H100_DLA.fits')"
   ]
  },
  {
   "cell_type": "code",
   "execution_count": 7,
   "metadata": {
    "collapsed": false
   },
   "outputs": [
    {
     "data": {
      "text/html": [
       "&lt;Table length=5&gt;\n",
       "<table id=\"table140710882166992\" class=\"table-striped table-bordered table-condensed\">\n",
       "<thead><tr><th>Name</th><th>QSO</th><th>RA</th><th>DEC</th><th>Z_QSO</th><th>ZABS</th><th>logNHI</th><th>sig(logNHI) [2]</th></tr></thead>\n",
       "<thead><tr><th></th><th></th><th>deg</th><th>deg</th><th></th><th></th><th></th><th></th></tr></thead>\n",
       "<thead><tr><th>str31</th><th>str11</th><th>float64</th><th>float64</th><th>float64</th><th>float64</th><th>float64</th><th>float64</th></tr></thead>\n",
       "<tr><td>H100_J000150.00-015940.3_z2.095</td><td>Q2359-02</td><td>0.458333333333</td><td>-1.99453888889</td><td>2.8</td><td>2.09507</td><td>20.7</td><td>0.1 .. 0.0</td></tr>\n",
       "<tr><td>H100_J000150.00-015940.3_z2.154</td><td>Q2359-02</td><td>0.458333333333</td><td>-1.99453888889</td><td>2.8</td><td>2.153934</td><td>20.3</td><td>0.1 .. 0.0</td></tr>\n",
       "<tr><td>H100_J000322.91-260316.8_z3.390</td><td>Q0000-2619</td><td>0.845454166667</td><td>-26.054675</td><td>4.11</td><td>3.3901</td><td>21.41</td><td>0.08 .. 0.0</td></tr>\n",
       "<tr><td>H100_J002208.01-150538.8_z3.439</td><td>BR0019-15</td><td>5.533375</td><td>-15.0941055556</td><td>4.53</td><td>3.43886</td><td>20.92</td><td>0.1 .. 0.0</td></tr>\n",
       "<tr><td>H100_J004054.65-091526.7_z4.739</td><td>J0040-0915</td><td>10.2277083333</td><td>-9.25741666667</td><td>4.976</td><td>4.7394</td><td>20.3</td><td>0.15 .. 0.15</td></tr>\n",
       "</table>"
      ],
      "text/plain": [
       "<Table length=5>\n",
       "              Name                 QSO     ...  logNHI sig(logNHI) [2]\n",
       "                                           ...                        \n",
       "             str31                str11    ... float64     float64    \n",
       "------------------------------- ---------- ... ------- ---------------\n",
       "H100_J000150.00-015940.3_z2.095   Q2359-02 ...    20.7      0.1 .. 0.0\n",
       "H100_J000150.00-015940.3_z2.154   Q2359-02 ...    20.3      0.1 .. 0.0\n",
       "H100_J000322.91-260316.8_z3.390 Q0000-2619 ...   21.41     0.08 .. 0.0\n",
       "H100_J002208.01-150538.8_z3.439  BR0019-15 ...   20.92      0.1 .. 0.0\n",
       "H100_J004054.65-091526.7_z4.739 J0040-0915 ...    20.3    0.15 .. 0.15"
      ]
     },
     "execution_count": 7,
     "metadata": {},
     "output_type": "execute_result"
    }
   ],
   "source": [
    "summ[0:5]"
   ]
  },
  {
   "cell_type": "markdown",
   "metadata": {},
   "source": [
    "### Chk"
   ]
  },
  {
   "cell_type": "code",
   "execution_count": 12,
   "metadata": {
    "collapsed": false
   },
   "outputs": [],
   "source": [
    "for iqso in tbl2['QSO']:\n",
    "    mt = np.where(summ['QSO'] == iqso)[0]\n",
    "    #print(mt)\n",
    "    assert len(mt) > 0"
   ]
  },
  {
   "cell_type": "markdown",
   "metadata": {},
   "source": [
    "## Load"
   ]
  },
  {
   "cell_type": "code",
   "execution_count": 23,
   "metadata": {
    "collapsed": false
   },
   "outputs": [
    {
     "name": "stdout",
     "output_type": "stream",
     "text": [
      "H100: Loading summary file /home/xavier/local/Python/pyigm/pyigm/data/DLA/H100/H100_DLA.fits\n",
      "H100: Loading ions file /home/xavier/local/Python/pyigm/pyigm/data/DLA/H100/H100_DLA_ions.json\n",
      "H100: Loading systems.  This takes ~120s\n",
      "Loading systems from /home/xavier/local/Python/pyigm/pyigm/data/DLA/H100/H100_DLA_sys.tar.gz\n",
      "Skipping a likely folder: SYS\n"
     ]
    },
    {
     "name": "stderr",
     "output_type": "stream",
     "text": [
      "/home/xavier/local/Python/linetools/linetools/analysis/linelimits.py:165: UserWarning: Redshift=0.  If this is unexpected, set _z and reset limits\n",
      "  warnings.warn(\"Redshift=0.  If this is unexpected, set _z and reset limits\")\n"
     ]
    }
   ],
   "source": [
    "reload(pdlas)\n",
    "h100 = pdlas.DLASurvey.load_H100()"
   ]
  },
  {
   "cell_type": "code",
   "execution_count": 24,
   "metadata": {
    "collapsed": false
   },
   "outputs": [
    {
     "data": {
      "text/plain": [
       "<DLASystem: 00:01:50 -01:59:40.34, 2.09507, NHI=20.7, Z/H=-0.72>"
      ]
     },
     "execution_count": 24,
     "metadata": {},
     "output_type": "execute_result"
    }
   ],
   "source": [
    "h100._abs_sys[0]"
   ]
  },
  {
   "cell_type": "code",
   "execution_count": 25,
   "metadata": {
    "collapsed": false
   },
   "outputs": [
    {
     "data": {
      "text/plain": [
       "array([-0.72, -1.53, -1.68, -1.01, -1.39, -1.41, -1.43, -1.2 , -0.24,\n",
       "       -1.83, -2.54, -0.61, -0.88, -1.72, -1.49, -1.11, -1.39, -1.14,\n",
       "       -1.27, -0.27, -1.62, -2.28, -1.83, -2.07, -1.15, -1.68, -1.5 ,\n",
       "       -1.09, -1.46, -1.33, -0.82, -2.52, -0.67, -1.56, -1.69, -1.64,\n",
       "       -2.56, -1.51, -1.08, -1.45, -0.5 , -0.82, -1.97, -0.62, -1.99,\n",
       "       -1.88, -2.27, -1.6 , -1.68, -0.99, -1.74, -1.8 , -1.93, -1.6 ,\n",
       "       -1.35, -1.38, -0.64, -0.74, -2.38, -2.35, -2.66, -1.75, -1.  ,\n",
       "       -0.79, -1.43, -1.54, -1.39, -1.65, -1.54, -1.34, -1.67, -2.27,\n",
       "       -1.37, -1.31, -0.89, -1.91, -0.75, -1.42, -1.31, -0.94, -2.24,\n",
       "       -1.49, -1.7 , -1.65, -0.66, -1.81, -0.38, -2.25, -2.18, -0.71,\n",
       "       -0.61, -1.82, -1.68, -0.55, -1.96, -0.47, -1.69, -0.64, -1.92, -2.01])"
      ]
     },
     "execution_count": 25,
     "metadata": {},
     "output_type": "execute_result"
    }
   ],
   "source": [
    "h100.ZH"
   ]
  },
  {
   "cell_type": "code",
   "execution_count": null,
   "metadata": {
    "collapsed": true
   },
   "outputs": [],
   "source": []
  }
 ],
 "metadata": {
  "kernelspec": {
   "display_name": "Python 3",
   "language": "python",
   "name": "python3"
  },
  "language_info": {
   "codemirror_mode": {
    "name": "ipython",
    "version": 3
   },
   "file_extension": ".py",
   "mimetype": "text/x-python",
   "name": "python",
   "nbconvert_exporter": "python",
   "pygments_lexer": "ipython3",
   "version": "3.6.1"
  }
 },
 "nbformat": 4,
 "nbformat_minor": 2
}
